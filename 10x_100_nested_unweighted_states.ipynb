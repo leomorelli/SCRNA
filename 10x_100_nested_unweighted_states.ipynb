{
 "cells": [
  {
   "cell_type": "code",
   "execution_count": 1,
   "metadata": {},
   "outputs": [
    {
     "name": "stderr",
     "output_type": "stream",
     "text": [
      "/usr/lib/python3/dist-packages/graph_tool/draw/cairo_draw.py:39: RuntimeWarning: Error importing cairo. Graph drawing will not work.\n",
      "  warnings.warn(msg, RuntimeWarning)\n",
      "/usr/lib/python3/dist-packages/graph_tool/draw/cairo_draw.py:39: RuntimeWarning: Error importing cairo. Graph drawing will not work.\n",
      "  warnings.warn(msg, RuntimeWarning)\n",
      "/usr/lib/python3/dist-packages/graph_tool/draw/cairo_draw.py:39: RuntimeWarning: Error importing cairo. Graph drawing will not work.\n",
      "  warnings.warn(msg, RuntimeWarning)\n",
      "/usr/lib/python3/dist-packages/graph_tool/all.py:40: RuntimeWarning: Error importing draw module, proceeding nevertheless: /usr/lib/python3/dist-packages/cairo/_cairo.cpython-37m-x86_64-linux-gnu.so: undefined symbol: cairo_tee_surface_index\n",
      "  warnings.warn(msg, RuntimeWarning)\n"
     ]
    }
   ],
   "source": [
    "import pandas as pd\n",
    "import scanpy as sc\n",
    "import anndata\n",
    "import time\n",
    "import graph_tool.all as gt\n",
    "import pickle"
   ]
  },
  {
   "cell_type": "code",
   "execution_count": 2,
   "metadata": {},
   "outputs": [
    {
     "name": "stdout",
     "output_type": "stream",
     "text": [
      "Using matplotlib backend: TkAgg\n",
      "Populating the interactive namespace from numpy and matplotlib\n"
     ]
    }
   ],
   "source": [
    "%matplotlib inline\n",
    "%pylab"
   ]
  },
  {
   "cell_type": "code",
   "execution_count": 3,
   "metadata": {},
   "outputs": [
    {
     "name": "stderr",
     "output_type": "stream",
     "text": [
      "/home/morelli/anaconda3/envs/scnsbm/lib/python3.7/site-packages/ipykernel_launcher.py:5: FutureWarning: read_table is deprecated, use read_csv instead.\n",
      "  \"\"\"\n"
     ]
    }
   ],
   "source": [
    "import anndata\n",
    "adata=sc.read('adata_10x/adata_sc_10x.h5ad')\n",
    "sc.tl.rank_genes_groups(adata, 'leiden', method='t-test')\n",
    "df_significativo= pd.DataFrame(adata.uns['rank_genes_groups']['names']).head(20) #### df con i 20 geni significativi per gruppo\n",
    "cell_annotation= pd.read_table('../sc_mixology/data/csv/sc_10x_5cl.metadata.csv.gz', compression=\"gzip\", sep=\",\", index_col=0)\n",
    "adata.obs.loc[:, \"cell_line\"] = cell_annotation.loc[adata.obs_names, \"cell_line\"]"
   ]
  },
  {
   "cell_type": "code",
   "execution_count": 4,
   "metadata": {},
   "outputs": [],
   "source": [
    "g = pickle.load( open( \"adata_10x/10x_graph_g.pkl\", \"rb\" ) ) "
   ]
  },
  {
   "cell_type": "code",
   "execution_count": 5,
   "metadata": {},
   "outputs": [
    {
     "data": {
      "text/plain": [
       "29.540435314178467"
      ]
     },
     "execution_count": 5,
     "metadata": {},
     "output_type": "execute_result"
    }
   ],
   "source": [
    "a=time.time()\n",
    "state=gt.minimize_nested_blockmodel_dl(g, deg_corr=False)\n",
    "b=time.time()\n",
    "b-a"
   ]
  },
  {
   "cell_type": "code",
   "execution_count": 14,
   "metadata": {},
   "outputs": [
    {
     "data": {
      "text/plain": [
       "<BlockState object with 4 blocks (4 nonempty), for graph <Graph object, undirected, with 13 vertices and 34 edges at 0x7faaac025d68>, at 0x7faaac035a90>"
      ]
     },
     "execution_count": 14,
     "metadata": {},
     "output_type": "execute_result"
    }
   ],
   "source": [
    "state.get_levels()[2]"
   ]
  },
  {
   "cell_type": "code",
   "execution_count": 13,
   "metadata": {},
   "outputs": [
    {
     "data": {
      "text/html": [
       "<div>\n",
       "<style scoped>\n",
       "    .dataframe tbody tr th:only-of-type {\n",
       "        vertical-align: middle;\n",
       "    }\n",
       "\n",
       "    .dataframe tbody tr th {\n",
       "        vertical-align: top;\n",
       "    }\n",
       "\n",
       "    .dataframe thead th {\n",
       "        text-align: right;\n",
       "    }\n",
       "</style>\n",
       "<table border=\"1\" class=\"dataframe\">\n",
       "  <thead>\n",
       "    <tr style=\"text-align: right;\">\n",
       "      <th>cell_line</th>\n",
       "      <th>A549</th>\n",
       "      <th>H838</th>\n",
       "      <th>H1975</th>\n",
       "      <th>H2228</th>\n",
       "      <th>HCC827</th>\n",
       "    </tr>\n",
       "    <tr>\n",
       "      <th>NSBM_test</th>\n",
       "      <th></th>\n",
       "      <th></th>\n",
       "      <th></th>\n",
       "      <th></th>\n",
       "      <th></th>\n",
       "    </tr>\n",
       "  </thead>\n",
       "  <tbody>\n",
       "    <tr>\n",
       "      <th>0</th>\n",
       "      <td>62</td>\n",
       "      <td>0</td>\n",
       "      <td>4</td>\n",
       "      <td>1</td>\n",
       "      <td>188</td>\n",
       "    </tr>\n",
       "    <tr>\n",
       "      <th>1</th>\n",
       "      <td>0</td>\n",
       "      <td>0</td>\n",
       "      <td>127</td>\n",
       "      <td>0</td>\n",
       "      <td>0</td>\n",
       "    </tr>\n",
       "    <tr>\n",
       "      <th>2</th>\n",
       "      <td>0</td>\n",
       "      <td>176</td>\n",
       "      <td>7</td>\n",
       "      <td>0</td>\n",
       "      <td>0</td>\n",
       "    </tr>\n",
       "    <tr>\n",
       "      <th>3</th>\n",
       "      <td>0</td>\n",
       "      <td>0</td>\n",
       "      <td>0</td>\n",
       "      <td>295</td>\n",
       "      <td>0</td>\n",
       "    </tr>\n",
       "  </tbody>\n",
       "</table>\n",
       "</div>"
      ],
      "text/plain": [
       "cell_line  A549  H838  H1975  H2228  HCC827\n",
       "NSBM_test                                  \n",
       "0            62     0      4      1     188\n",
       "1             0     0    127      0       0\n",
       "2             0   176      7      0       0\n",
       "3             0     0      0    295       0"
      ]
     },
     "execution_count": 13,
     "metadata": {},
     "output_type": "execute_result"
    }
   ],
   "source": [
    "adata.obs.loc[:, 'NSBM_test'] = pd.Categorical(list(state.project_level(2).get_blocks()))\n",
    "sc.pl.umap(adata, color=[\"NSBM_test\", 'cell_line'], legend_loc='on data')\n",
    "pd.crosstab(adata.obs.NSBM_test, adata.obs.cell_line)"
   ]
  },
  {
   "cell_type": "code",
   "execution_count": 32,
   "metadata": {
    "scrolled": false
   },
   "outputs": [
    {
     "name": "stdout",
     "output_type": "stream",
     "text": [
      "127.40937662124634\n"
     ]
    },
    {
     "data": {
      "text/plain": [
       "<NestedBlockState object, with base <BlockState object with 65 blocks (63 nonempty), for graph <Graph object, undirected, with 860 vertices and 5976 edges at 0x7faab256cdd8>, at 0x7faaa5b490b8>, and 10 levels of sizes [(860, 63), (63, 15), (15, 7), (7, 6), (6, 5), (5, 4), (4, 3), (3, 3), (3, 2), (2, 2)] at 0x7faaa6b312e8>"
      ]
     },
     "execution_count": 32,
     "metadata": {},
     "output_type": "execute_result"
    }
   ],
   "source": [
    "bs = state.get_bs()                   \n",
    "bs += [np.zeros(1)] * (10 - len(bs))\n",
    "\n",
    "estate = state.copy(bs=bs, sampling=True)\n",
    "a=time.time()\n",
    "gt.mcmc_equilibrate(estate, epsilon=0, wait=1000,nbreaks=2,mcmc_args=dict(niter=10,beta=1,c=1))\n",
    "b=time.time()\n",
    "print(b-a)\n",
    "estate"
   ]
  },
  {
   "cell_type": "code",
   "execution_count": 40,
   "metadata": {},
   "outputs": [
    {
     "data": {
      "text/plain": [
       "[1, 5, 5, 1, 1, ..., 4, 4, 0, 4, 4]\n",
       "Length: 860\n",
       "Categories (5, int64): [0, 1, 3, 4, 5]"
      ]
     },
     "execution_count": 40,
     "metadata": {},
     "output_type": "execute_result"
    }
   ],
   "source": [
    "pd.Categorical(list(estate.project_level(4).get_blocks()))"
   ]
  },
  {
   "cell_type": "code",
   "execution_count": 36,
   "metadata": {},
   "outputs": [
    {
     "data": {
      "text/html": [
       "<div>\n",
       "<style scoped>\n",
       "    .dataframe tbody tr th:only-of-type {\n",
       "        vertical-align: middle;\n",
       "    }\n",
       "\n",
       "    .dataframe tbody tr th {\n",
       "        vertical-align: top;\n",
       "    }\n",
       "\n",
       "    .dataframe thead th {\n",
       "        text-align: right;\n",
       "    }\n",
       "</style>\n",
       "<table border=\"1\" class=\"dataframe\">\n",
       "  <thead>\n",
       "    <tr style=\"text-align: right;\">\n",
       "      <th>cell_line</th>\n",
       "      <th>A549</th>\n",
       "      <th>H838</th>\n",
       "      <th>H1975</th>\n",
       "      <th>H2228</th>\n",
       "      <th>HCC827</th>\n",
       "    </tr>\n",
       "    <tr>\n",
       "      <th>NSBM_test</th>\n",
       "      <th></th>\n",
       "      <th></th>\n",
       "      <th></th>\n",
       "      <th></th>\n",
       "      <th></th>\n",
       "    </tr>\n",
       "  </thead>\n",
       "  <tbody>\n",
       "    <tr>\n",
       "      <th>0</th>\n",
       "      <td>0</td>\n",
       "      <td>0</td>\n",
       "      <td>0</td>\n",
       "      <td>295</td>\n",
       "      <td>0</td>\n",
       "    </tr>\n",
       "    <tr>\n",
       "      <th>1</th>\n",
       "      <td>1</td>\n",
       "      <td>0</td>\n",
       "      <td>4</td>\n",
       "      <td>1</td>\n",
       "      <td>188</td>\n",
       "    </tr>\n",
       "    <tr>\n",
       "      <th>3</th>\n",
       "      <td>0</td>\n",
       "      <td>0</td>\n",
       "      <td>56</td>\n",
       "      <td>0</td>\n",
       "      <td>0</td>\n",
       "    </tr>\n",
       "    <tr>\n",
       "      <th>4</th>\n",
       "      <td>61</td>\n",
       "      <td>176</td>\n",
       "      <td>7</td>\n",
       "      <td>0</td>\n",
       "      <td>0</td>\n",
       "    </tr>\n",
       "    <tr>\n",
       "      <th>5</th>\n",
       "      <td>0</td>\n",
       "      <td>0</td>\n",
       "      <td>71</td>\n",
       "      <td>0</td>\n",
       "      <td>0</td>\n",
       "    </tr>\n",
       "  </tbody>\n",
       "</table>\n",
       "</div>"
      ],
      "text/plain": [
       "cell_line  A549  H838  H1975  H2228  HCC827\n",
       "NSBM_test                                  \n",
       "0             0     0      0    295       0\n",
       "1             1     0      4      1     188\n",
       "3             0     0     56      0       0\n",
       "4            61   176      7      0       0\n",
       "5             0     0     71      0       0"
      ]
     },
     "execution_count": 36,
     "metadata": {},
     "output_type": "execute_result"
    }
   ],
   "source": [
    "adata.obs.loc[:, 'NSBM_test'] = pd.Categorical(list(estate.project_level(4).get_blocks()))\n",
    "sc.pl.umap(adata, color=[\"NSBM_test\", 'cell_line'], legend_loc='on data')\n",
    "pd.crosstab(adata.obs.NSBM_test, adata.obs.cell_line)"
   ]
  },
  {
   "cell_type": "code",
   "execution_count": 67,
   "metadata": {
    "scrolled": true
   },
   "outputs": [
    {
     "name": "stdout",
     "output_type": "stream",
     "text": [
      "72.9628598690033\n"
     ]
    },
    {
     "data": {
      "text/plain": [
       "<NestedBlockState object, with base <BlockState object with 67 blocks (63 nonempty), for graph <Graph object, undirected, with 860 vertices and 5976 edges at 0x7faab256cdd8>, at 0x7faaa6ba62e8>, and 10 levels of sizes [(860, 63), (63, 15), (15, 7), (7, 4), (4, 3), (3, 3), (3, 3), (3, 3), (3, 3), (3, 2)] at 0x7faaa59fe748>"
      ]
     },
     "execution_count": 67,
     "metadata": {},
     "output_type": "execute_result"
    }
   ],
   "source": [
    "bs = estate.get_bs()                   \n",
    "bs += [np.zeros(1)] * (10 - len(bs))\n",
    "\n",
    "estate1 = estate.copy(bs=bs, sampling=True)\n",
    "a=time.time()\n",
    "gt.mcmc_equilibrate(estate1, epsilon=0, wait=1000,nbreaks=2,mcmc_args=dict(niter=10,beta=1,c=1))\n",
    "b=time.time()\n",
    "print(b-a)\n",
    "estate1"
   ]
  },
  {
   "cell_type": "code",
   "execution_count": 69,
   "metadata": {},
   "outputs": [
    {
     "data": {
      "text/html": [
       "<div>\n",
       "<style scoped>\n",
       "    .dataframe tbody tr th:only-of-type {\n",
       "        vertical-align: middle;\n",
       "    }\n",
       "\n",
       "    .dataframe tbody tr th {\n",
       "        vertical-align: top;\n",
       "    }\n",
       "\n",
       "    .dataframe thead th {\n",
       "        text-align: right;\n",
       "    }\n",
       "</style>\n",
       "<table border=\"1\" class=\"dataframe\">\n",
       "  <thead>\n",
       "    <tr style=\"text-align: right;\">\n",
       "      <th>cell_line</th>\n",
       "      <th>A549</th>\n",
       "      <th>H838</th>\n",
       "      <th>H1975</th>\n",
       "      <th>H2228</th>\n",
       "      <th>HCC827</th>\n",
       "    </tr>\n",
       "    <tr>\n",
       "      <th>NSBM_test</th>\n",
       "      <th></th>\n",
       "      <th></th>\n",
       "      <th></th>\n",
       "      <th></th>\n",
       "      <th></th>\n",
       "    </tr>\n",
       "  </thead>\n",
       "  <tbody>\n",
       "    <tr>\n",
       "      <th>3</th>\n",
       "      <td>61</td>\n",
       "      <td>0</td>\n",
       "      <td>71</td>\n",
       "      <td>0</td>\n",
       "      <td>0</td>\n",
       "    </tr>\n",
       "    <tr>\n",
       "      <th>5</th>\n",
       "      <td>0</td>\n",
       "      <td>176</td>\n",
       "      <td>7</td>\n",
       "      <td>295</td>\n",
       "      <td>0</td>\n",
       "    </tr>\n",
       "    <tr>\n",
       "      <th>7</th>\n",
       "      <td>0</td>\n",
       "      <td>0</td>\n",
       "      <td>56</td>\n",
       "      <td>0</td>\n",
       "      <td>0</td>\n",
       "    </tr>\n",
       "    <tr>\n",
       "      <th>9</th>\n",
       "      <td>1</td>\n",
       "      <td>0</td>\n",
       "      <td>4</td>\n",
       "      <td>1</td>\n",
       "      <td>188</td>\n",
       "    </tr>\n",
       "  </tbody>\n",
       "</table>\n",
       "</div>"
      ],
      "text/plain": [
       "cell_line  A549  H838  H1975  H2228  HCC827\n",
       "NSBM_test                                  \n",
       "3            61     0     71      0       0\n",
       "5             0   176      7    295       0\n",
       "7             0     0     56      0       0\n",
       "9             1     0      4      1     188"
      ]
     },
     "execution_count": 69,
     "metadata": {},
     "output_type": "execute_result"
    }
   ],
   "source": [
    "adata.obs.loc[:, 'NSBM_test'] = pd.Categorical(list(estate1.project_level(3).get_blocks()))\n",
    "sc.pl.umap(adata, color=[\"NSBM_test\", 'cell_line'], legend_loc='on data')\n",
    "pd.crosstab(adata.obs.NSBM_test, adata.obs.cell_line)"
   ]
  },
  {
   "cell_type": "code",
   "execution_count": null,
   "metadata": {},
   "outputs": [],
   "source": []
  },
  {
   "cell_type": "code",
   "execution_count": null,
   "metadata": {},
   "outputs": [],
   "source": []
  },
  {
   "cell_type": "code",
   "execution_count": null,
   "metadata": {},
   "outputs": [],
   "source": []
  },
  {
   "cell_type": "code",
   "execution_count": null,
   "metadata": {},
   "outputs": [],
   "source": []
  },
  {
   "cell_type": "code",
   "execution_count": 4,
   "metadata": {},
   "outputs": [],
   "source": [
    "states_100=[]\n",
    "for i in range (100):\n",
    "    i=gt.minimize_nested_blockmodel_dl(g, deg_corr=False)\n",
    "    states_100.append(i)"
   ]
  },
  {
   "cell_type": "code",
   "execution_count": 6,
   "metadata": {},
   "outputs": [],
   "source": [
    "pickle.dump(states_100, open('adata_10x/10x_100_states.pkl','wb'), 2)"
   ]
  },
  {
   "cell_type": "code",
   "execution_count": 4,
   "metadata": {},
   "outputs": [],
   "source": [
    "states_100=pickle.load(open('adata_10x/10x_100_states.pkl','rb'))"
   ]
  },
  {
   "cell_type": "code",
   "execution_count": 4,
   "metadata": {},
   "outputs": [
    {
     "data": {
      "text/plain": [
       "[<NestedBlockState object, with base <BlockState object with 67 blocks (67 nonempty), for graph <Graph object, undirected, with 860 vertices and 5976 edges at 0x7f728dfa48d0>, at 0x7f7272e5a390>, and 5 levels of sizes [(860, 67), (67, 14), (14, 5), (5, 2), (2, 1)] at 0x7f724888c110>,\n",
       " <NestedBlockState object, with base <BlockState object with 64 blocks (64 nonempty), for graph <Graph object, undirected, with 860 vertices and 5976 edges at 0x7f728dfa48d0>, at 0x7f7272df6510>, and 5 levels of sizes [(860, 64), (64, 14), (14, 4), (4, 2), (2, 1)] at 0x7f724888c550>,\n",
       " <NestedBlockState object, with base <BlockState object with 60 blocks (60 nonempty), for graph <Graph object, undirected, with 860 vertices and 5976 edges at 0x7f728dfa48d0>, at 0x7f7272dfef90>, and 5 levels of sizes [(860, 60), (60, 14), (14, 4), (4, 2), (2, 1)] at 0x7f7272df6d10>,\n",
       " <NestedBlockState object, with base <BlockState object with 70 blocks (70 nonempty), for graph <Graph object, undirected, with 860 vertices and 5976 edges at 0x7f728dfa48d0>, at 0x7f7272da90d0>, and 5 levels of sizes [(860, 70), (70, 16), (16, 5), (5, 2), (2, 1)] at 0x7f7272e12550>,\n",
       " <NestedBlockState object, with base <BlockState object with 72 blocks (72 nonempty), for graph <Graph object, undirected, with 860 vertices and 5976 edges at 0x7f728dfa48d0>, at 0x7f7272db3650>, and 5 levels of sizes [(860, 72), (72, 14), (14, 5), (5, 2), (2, 1)] at 0x7f7272da9d50>,\n",
       " <NestedBlockState object, with base <BlockState object with 46 blocks (46 nonempty), for graph <Graph object, undirected, with 860 vertices and 5976 edges at 0x7f728dfa48d0>, at 0x7f7272dda110>, and 5 levels of sizes [(860, 46), (46, 9), (9, 3), (3, 2), (2, 1)] at 0x7f7272dc4590>,\n",
       " <NestedBlockState object, with base <BlockState object with 74 blocks (74 nonempty), for graph <Graph object, undirected, with 860 vertices and 5976 edges at 0x7f728dfa48d0>, at 0x7f723c695f10>, and 5 levels of sizes [(860, 74), (74, 16), (16, 4), (4, 2), (2, 1)] at 0x7f7272ddad90>,\n",
       " <NestedBlockState object, with base <BlockState object with 69 blocks (69 nonempty), for graph <Graph object, undirected, with 860 vertices and 5976 edges at 0x7f728dfa48d0>, at 0x7f723c6b8350>, and 5 levels of sizes [(860, 69), (69, 15), (15, 5), (5, 2), (2, 1)] at 0x7f723c6a05d0>,\n",
       " <NestedBlockState object, with base <BlockState object with 59 blocks (59 nonempty), for graph <Graph object, undirected, with 860 vertices and 5976 edges at 0x7f728dfa48d0>, at 0x7f723c6c36d0>, and 5 levels of sizes [(860, 59), (59, 13), (13, 4), (4, 2), (2, 1)] at 0x7f723c6bc050>,\n",
       " <NestedBlockState object, with base <BlockState object with 57 blocks (57 nonempty), for graph <Graph object, undirected, with 860 vertices and 5976 edges at 0x7f728dfa48d0>, at 0x7f723c669410>, and 5 levels of sizes [(860, 57), (57, 12), (12, 4), (4, 2), (2, 1)] at 0x7f723c653610>,\n",
       " <NestedBlockState object, with base <BlockState object with 68 blocks (68 nonempty), for graph <Graph object, undirected, with 860 vertices and 5976 edges at 0x7f728dfa48d0>, at 0x7f723c676710>, and 5 levels of sizes [(860, 68), (68, 15), (15, 4), (4, 2), (2, 1)] at 0x7f723c66d050>,\n",
       " <NestedBlockState object, with base <BlockState object with 70 blocks (70 nonempty), for graph <Graph object, undirected, with 860 vertices and 5976 edges at 0x7f728dfa48d0>, at 0x7f723c61c450>, and 5 levels of sizes [(860, 70), (70, 16), (16, 5), (5, 2), (2, 1)] at 0x7f723c686650>,\n",
       " <NestedBlockState object, with base <BlockState object with 65 blocks (65 nonempty), for graph <Graph object, undirected, with 860 vertices and 5976 edges at 0x7f728dfa48d0>, at 0x7f723c627750>, and 5 levels of sizes [(860, 65), (65, 15), (15, 5), (5, 2), (2, 1)] at 0x7f723c621050>,\n",
       " <NestedBlockState object, with base <BlockState object with 55 blocks (55 nonempty), for graph <Graph object, undirected, with 860 vertices and 5976 edges at 0x7f728dfa48d0>, at 0x7f723c5ce490>, and 5 levels of sizes [(860, 55), (55, 12), (12, 4), (4, 2), (2, 1)] at 0x7f723c638690>,\n",
       " <NestedBlockState object, with base <BlockState object with 64 blocks (64 nonempty), for graph <Graph object, undirected, with 860 vertices and 5976 edges at 0x7f728dfa48d0>, at 0x7f723c5db790>, and 5 levels of sizes [(860, 64), (64, 14), (14, 5), (5, 2), (2, 1)] at 0x7f723c5d1090>,\n",
       " <NestedBlockState object, with base <BlockState object with 65 blocks (65 nonempty), for graph <Graph object, undirected, with 860 vertices and 5976 edges at 0x7f728dfa48d0>, at 0x7f723c5ff4d0>, and 5 levels of sizes [(860, 65), (65, 14), (14, 4), (4, 2), (2, 1)] at 0x7f723c5e96d0>,\n",
       " <NestedBlockState object, with base <BlockState object with 66 blocks (66 nonempty), for graph <Graph object, undirected, with 860 vertices and 5976 edges at 0x7f728dfa48d0>, at 0x7f723c58c7d0>, and 5 levels of sizes [(860, 66), (66, 16), (16, 5), (5, 2), (2, 1)] at 0x7f723c6020d0>,\n",
       " <NestedBlockState object, with base <BlockState object with 64 blocks (64 nonempty), for graph <Graph object, undirected, with 860 vertices and 5976 edges at 0x7f728dfa48d0>, at 0x7f723c5b2510>, and 5 levels of sizes [(860, 64), (64, 13), (13, 5), (5, 2), (2, 1)] at 0x7f723c59c710>,\n",
       " <NestedBlockState object, with base <BlockState object with 67 blocks (67 nonempty), for graph <Graph object, undirected, with 860 vertices and 5976 edges at 0x7f728dfa48d0>, at 0x7f723c5c0810>, and 5 levels of sizes [(860, 67), (67, 14), (14, 5), (5, 2), (2, 1)] at 0x7f723c5b6050>,\n",
       " <NestedBlockState object, with base <BlockState object with 60 blocks (60 nonempty), for graph <Graph object, undirected, with 860 vertices and 5976 edges at 0x7f728dfa48d0>, at 0x7f723c565550>, and 5 levels of sizes [(860, 60), (60, 13), (13, 4), (4, 2), (2, 1)] at 0x7f723c54e750>,\n",
       " <NestedBlockState object, with base <BlockState object with 65 blocks (65 nonempty), for graph <Graph object, undirected, with 860 vertices and 5976 edges at 0x7f728dfa48d0>, at 0x7f723c571850>, and 5 levels of sizes [(860, 65), (65, 14), (14, 4), (4, 2), (2, 1)] at 0x7f723c56a090>,\n",
       " <NestedBlockState object, with base <BlockState object with 66 blocks (66 nonempty), for graph <Graph object, undirected, with 860 vertices and 5976 edges at 0x7f728dfa48d0>, at 0x7f723c5188d0>, and 5 levels of sizes [(860, 66), (66, 16), (16, 5), (5, 2), (2, 1)] at 0x7f723c580790>,\n",
       " <NestedBlockState object, with base <BlockState object with 64 blocks (64 nonempty), for graph <Graph object, undirected, with 860 vertices and 5976 edges at 0x7f728dfa48d0>, at 0x7f723c526750>, and 5 levels of sizes [(860, 64), (64, 15), (15, 4), (4, 2), (2, 1)] at 0x7f723c518f10>,\n",
       " <NestedBlockState object, with base <BlockState object with 67 blocks (67 nonempty), for graph <Graph object, undirected, with 860 vertices and 5976 edges at 0x7f728dfa48d0>, at 0x7f723c4cc910>, and 5 levels of sizes [(860, 67), (67, 16), (16, 5), (5, 2), (2, 1)] at 0x7f723c5337d0>,\n",
       " <NestedBlockState object, with base <BlockState object with 64 blocks (64 nonempty), for graph <Graph object, undirected, with 860 vertices and 5976 edges at 0x7f728dfa48d0>, at 0x7f723c4d9790>, and 5 levels of sizes [(860, 64), (64, 15), (15, 4), (4, 2), (2, 1)] at 0x7f723c4ccf50>,\n",
       " <NestedBlockState object, with base <BlockState object with 53 blocks (53 nonempty), for graph <Graph object, undirected, with 860 vertices and 5976 edges at 0x7f728dfa48d0>, at 0x7f723c4f81d0>, and 5 levels of sizes [(860, 53), (53, 14), (14, 4), (4, 2), (2, 1)] at 0x7f723c4e5810>,\n",
       " <NestedBlockState object, with base <BlockState object with 58 blocks (58 nonempty), for graph <Graph object, undirected, with 860 vertices and 5976 edges at 0x7f728dfa48d0>, at 0x7f723c48b7d0>, and 5 levels of sizes [(860, 58), (58, 13), (13, 4), (4, 2), (2, 1)] at 0x7f723c4ff050>,\n",
       " <NestedBlockState object, with base <BlockState object with 68 blocks (68 nonempty), for graph <Graph object, undirected, with 860 vertices and 5976 edges at 0x7f728dfa48d0>, at 0x7f723c4b10d0>, and 6 levels of sizes [(860, 68), (68, 16), (16, 6), (6, 3), (3, 2), (2, 1)] at 0x7f723c497850>,\n",
       " <NestedBlockState object, with base <BlockState object with 66 blocks (66 nonempty), for graph <Graph object, undirected, with 860 vertices and 5976 edges at 0x7f728dfa48d0>, at 0x7f723c44b110>, and 5 levels of sizes [(860, 66), (66, 15), (15, 5), (5, 2), (2, 1)] at 0x7f723c4b1110>,\n",
       " <NestedBlockState object, with base <BlockState object with 65 blocks (65 nonempty), for graph <Graph object, undirected, with 860 vertices and 5976 edges at 0x7f728dfa48d0>, at 0x7f723c45cf10>, and 5 levels of sizes [(860, 65), (65, 12), (12, 4), (4, 2), (2, 1)] at 0x7f723c44bd90>,\n",
       " <NestedBlockState object, with base <BlockState object with 57 blocks (57 nonempty), for graph <Graph object, undirected, with 860 vertices and 5976 edges at 0x7f728dfa48d0>, at 0x7f723c47f350>, and 5 levels of sizes [(860, 57), (57, 15), (15, 5), (5, 2), (2, 1)] at 0x7f723c4685d0>,\n",
       " <NestedBlockState object, with base <BlockState object with 68 blocks (68 nonempty), for graph <Graph object, undirected, with 860 vertices and 5976 edges at 0x7f728dfa48d0>, at 0x7f723c40b6d0>, and 5 levels of sizes [(860, 68), (68, 18), (18, 5), (5, 2), (2, 1)] at 0x7f723c482050>,\n",
       " <NestedBlockState object, with base <BlockState object with 65 blocks (65 nonempty), for graph <Graph object, undirected, with 860 vertices and 5976 edges at 0x7f728dfa48d0>, at 0x7f723c430410>, and 5 levels of sizes [(860, 65), (65, 12), (12, 4), (4, 2), (2, 1)] at 0x7f723c41b610>,\n",
       " <NestedBlockState object, with base <BlockState object with 64 blocks (64 nonempty), for graph <Graph object, undirected, with 860 vertices and 5976 edges at 0x7f728dfa48d0>, at 0x7f723c43d710>, and 5 levels of sizes [(860, 64), (64, 16), (16, 5), (5, 2), (2, 1)] at 0x7f723c434050>,\n",
       " <NestedBlockState object, with base <BlockState object with 64 blocks (64 nonempty), for graph <Graph object, undirected, with 860 vertices and 5976 edges at 0x7f728dfa48d0>, at 0x7f723c3e0450>, and 5 levels of sizes [(860, 64), (64, 14), (14, 5), (5, 2), (2, 1)] at 0x7f723c3cb650>,\n",
       " <NestedBlockState object, with base <BlockState object with 52 blocks (52 nonempty), for graph <Graph object, undirected, with 860 vertices and 5976 edges at 0x7f728dfa48d0>, at 0x7f723c3ef750>, and 5 levels of sizes [(860, 52), (52, 13), (13, 4), (4, 2), (2, 1)] at 0x7f723c3e9050>,\n",
       " <NestedBlockState object, with base <BlockState object with 51 blocks (51 nonempty), for graph <Graph object, undirected, with 860 vertices and 5976 edges at 0x7f728dfa48d0>, at 0x7f723c397490>, and 5 levels of sizes [(860, 51), (51, 12), (12, 4), (4, 2), (2, 1)] at 0x7f723c400690>,\n",
       " <NestedBlockState object, with base <BlockState object with 54 blocks (54 nonempty), for graph <Graph object, undirected, with 860 vertices and 5976 edges at 0x7f728dfa48d0>, at 0x7f723c3a3790>, and 5 levels of sizes [(860, 54), (54, 12), (12, 3), (3, 2), (2, 1)] at 0x7f723c39b090>,\n",
       " <NestedBlockState object, with base <BlockState object with 55 blocks (55 nonempty), for graph <Graph object, undirected, with 860 vertices and 5976 edges at 0x7f728dfa48d0>, at 0x7f723c3494d0>, and 5 levels of sizes [(860, 55), (55, 14), (14, 5), (5, 2), (2, 1)] at 0x7f723c3b26d0>,\n",
       " <NestedBlockState object, with base <BlockState object with 61 blocks (61 nonempty), for graph <Graph object, undirected, with 860 vertices and 5976 edges at 0x7f728dfa48d0>, at 0x7f723c3547d0>, and 5 levels of sizes [(860, 61), (61, 13), (13, 4), (4, 2), (2, 1)] at 0x7f723c34c0d0>,\n",
       " <NestedBlockState object, with base <BlockState object with 64 blocks (64 nonempty), for graph <Graph object, undirected, with 860 vertices and 5976 edges at 0x7f728dfa48d0>, at 0x7f723c37c510>, and 5 levels of sizes [(860, 64), (64, 14), (14, 5), (5, 2), (2, 1)] at 0x7f723c363710>,\n",
       " <NestedBlockState object, with base <BlockState object with 55 blocks (55 nonempty), for graph <Graph object, undirected, with 860 vertices and 5976 edges at 0x7f728dfa48d0>, at 0x7f723c309810>, and 5 levels of sizes [(860, 55), (55, 11), (11, 4), (4, 2), (2, 1)] at 0x7f723c380050>,\n",
       " <NestedBlockState object, with base <BlockState object with 70 blocks (70 nonempty), for graph <Graph object, undirected, with 860 vertices and 5976 edges at 0x7f728dfa48d0>, at 0x7f723c32e550>, and 5 levels of sizes [(860, 70), (70, 14), (14, 5), (5, 2), (2, 1)] at 0x7f723c318750>,\n",
       " <NestedBlockState object, with base <BlockState object with 65 blocks (65 nonempty), for graph <Graph object, undirected, with 860 vertices and 5976 edges at 0x7f728dfa48d0>, at 0x7f723c33a850>, and 5 levels of sizes [(860, 65), (65, 13), (13, 4), (4, 2), (2, 1)] at 0x7f723c332090>,\n",
       " <NestedBlockState object, with base <BlockState object with 65 blocks (65 nonempty), for graph <Graph object, undirected, with 860 vertices and 5976 edges at 0x7f728dfa48d0>, at 0x7f723c2df8d0>, and 5 levels of sizes [(860, 65), (65, 14), (14, 5), (5, 2), (2, 1)] at 0x7f723c2cc790>,\n",
       " <NestedBlockState object, with base <BlockState object with 68 blocks (68 nonempty), for graph <Graph object, undirected, with 860 vertices and 5976 edges at 0x7f728dfa48d0>, at 0x7f723c2ef750>, and 5 levels of sizes [(860, 68), (68, 17), (17, 5), (5, 2), (2, 1)] at 0x7f723c2dff10>,\n",
       " <NestedBlockState object, with base <BlockState object with 58 blocks (58 nonempty), for graph <Graph object, undirected, with 860 vertices and 5976 edges at 0x7f728dfa48d0>, at 0x7f723c292910>, and 5 levels of sizes [(860, 58), (58, 14), (14, 4), (4, 2), (2, 1)] at 0x7f723c2fb7d0>,\n",
       " <NestedBlockState object, with base <BlockState object with 60 blocks (60 nonempty), for graph <Graph object, undirected, with 860 vertices and 5976 edges at 0x7f728dfa48d0>, at 0x7f723c2a2790>, and 5 levels of sizes [(860, 60), (60, 13), (13, 4), (4, 2), (2, 1)] at 0x7f723c292f50>,\n",
       " <NestedBlockState object, with base <BlockState object with 65 blocks (65 nonempty), for graph <Graph object, undirected, with 860 vertices and 5976 edges at 0x7f728dfa48d0>, at 0x7f723c2c1150>, and 5 levels of sizes [(860, 65), (65, 15), (15, 5), (5, 2), (2, 1)] at 0x7f723c2ae810>,\n",
       " <NestedBlockState object, with base <BlockState object with 68 blocks (68 nonempty), for graph <Graph object, undirected, with 860 vertices and 5976 edges at 0x7f728dfa48d0>, at 0x7f723c2537d0>, and 5 levels of sizes [(860, 68), (68, 14), (14, 5), (5, 2), (2, 1)] at 0x7f723c2c8050>,\n",
       " <NestedBlockState object, with base <BlockState object with 65 blocks (65 nonempty), for graph <Graph object, undirected, with 860 vertices and 5976 edges at 0x7f728dfa48d0>, at 0x7f723c273210>, and 5 levels of sizes [(860, 65), (65, 15), (15, 4), (4, 2), (2, 1)] at 0x7f723c260850>,\n",
       " <NestedBlockState object, with base <BlockState object with 70 blocks (70 nonempty), for graph <Graph object, undirected, with 860 vertices and 5976 edges at 0x7f728dfa48d0>, at 0x7f723c286f90>, and 5 levels of sizes [(860, 70), (70, 15), (15, 4), (4, 2), (2, 1)] at 0x7f723c27b090>,\n",
       " <NestedBlockState object, with base <BlockState object with 56 blocks (56 nonempty), for graph <Graph object, undirected, with 860 vertices and 5976 edges at 0x7f728dfa48d0>, at 0x7f723c225250>, and 5 levels of sizes [(860, 56), (56, 12), (12, 4), (4, 2), (2, 1)] at 0x7f723c210890>,\n",
       " <NestedBlockState object, with base <BlockState object with 73 blocks (73 nonempty), for graph <Graph object, undirected, with 860 vertices and 5976 edges at 0x7f728dfa48d0>, at 0x7f723c23a2d0>, and 5 levels of sizes [(860, 73), (73, 16), (16, 5), (5, 2), (2, 1)] at 0x7f723c22c0d0>,\n",
       " <NestedBlockState object, with base <BlockState object with 65 blocks (65 nonempty), for graph <Graph object, undirected, with 860 vertices and 5976 edges at 0x7f728dfa48d0>, at 0x7f723c1d8290>, and 5 levels of sizes [(860, 65), (65, 14), (14, 4), (4, 2), (2, 1)] at 0x7f723c2468d0>,\n",
       " <NestedBlockState object, with base <BlockState object with 64 blocks (64 nonempty), for graph <Graph object, undirected, with 860 vertices and 5976 edges at 0x7f728dfa48d0>, at 0x7f723c1ea9d0>, and 5 levels of sizes [(860, 64), (64, 14), (14, 5), (5, 2), (2, 1)] at 0x7f723c1e0110>,\n",
       " <NestedBlockState object, with base <BlockState object with 70 blocks (70 nonempty), for graph <Graph object, undirected, with 860 vertices and 5976 edges at 0x7f728dfa48d0>, at 0x7f723c1ff290>, and 5 levels of sizes [(860, 70), (70, 16), (16, 4), (4, 2), (2, 1)] at 0x7f723c1f7910>,\n",
       " <NestedBlockState object, with base <BlockState object with 68 blocks (68 nonempty), for graph <Graph object, undirected, with 860 vertices and 5976 edges at 0x7f728dfa48d0>, at 0x7f723c19da10>, and 5 levels of sizes [(860, 68), (68, 14), (14, 5), (5, 2), (2, 1)] at 0x7f723c192150>,\n",
       " <NestedBlockState object, with base <BlockState object with 66 blocks (66 nonempty), for graph <Graph object, undirected, with 860 vertices and 5976 edges at 0x7f728dfa48d0>, at 0x7f723c1bb2d0>, and 5 levels of sizes [(860, 66), (66, 15), (15, 4), (4, 2), (2, 1)] at 0x7f723c1ab950>,\n",
       " <NestedBlockState object, with base <BlockState object with 55 blocks (55 nonempty), for graph <Graph object, undirected, with 860 vertices and 5976 edges at 0x7f728dfa48d0>, at 0x7f723c150a50>, and 5 levels of sizes [(860, 55), (55, 13), (13, 4), (4, 2), (2, 1)] at 0x7f723c1c4190>,\n",
       " <NestedBlockState object, with base <BlockState object with 75 blocks (75 nonempty), for graph <Graph object, undirected, with 860 vertices and 5976 edges at 0x7f728dfa48d0>, at 0x7f723c170310>, and 5 levels of sizes [(860, 75), (75, 19), (19, 5), (5, 2), (2, 1)] at 0x7f723c15c990>,\n",
       " <NestedBlockState object, with base <BlockState object with 55 blocks (55 nonempty), for graph <Graph object, undirected, with 860 vertices and 5976 edges at 0x7f728dfa48d0>, at 0x7f723c181f90>, and 5 levels of sizes [(860, 55), (55, 14), (14, 4), (4, 2), (2, 1)] at 0x7f723c175090>,\n",
       " <NestedBlockState object, with base <BlockState object with 68 blocks (68 nonempty), for graph <Graph object, undirected, with 860 vertices and 5976 edges at 0x7f728dfa48d0>, at 0x7f723c120250>, and 5 levels of sizes [(860, 68), (68, 18), (18, 5), (5, 2), (2, 1)] at 0x7f723c10e890>,\n",
       " <NestedBlockState object, with base <BlockState object with 69 blocks (69 nonempty), for graph <Graph object, undirected, with 860 vertices and 5976 edges at 0x7f728dfa48d0>, at 0x7f723c1332d0>, and 5 levels of sizes [(860, 69), (69, 12), (12, 4), (4, 2), (2, 1)] at 0x7f723c1290d0>,\n",
       " <NestedBlockState object, with base <BlockState object with 59 blocks (59 nonempty), for graph <Graph object, undirected, with 860 vertices and 5976 edges at 0x7f728dfa48d0>, at 0x7f723c0d3290>, and 5 levels of sizes [(860, 59), (59, 13), (13, 4), (4, 2), (2, 1)] at 0x7f723c13f8d0>,\n",
       " <NestedBlockState object, with base <BlockState object with 67 blocks (67 nonempty), for graph <Graph object, undirected, with 860 vertices and 5976 edges at 0x7f728dfa48d0>, at 0x7f723c0e89d0>, and 5 levels of sizes [(860, 67), (67, 16), (16, 5), (5, 2), (2, 1)] at 0x7f723c0da110>,\n",
       " <NestedBlockState object, with base <BlockState object with 70 blocks (70 nonempty), for graph <Graph object, undirected, with 860 vertices and 5976 edges at 0x7f728dfa48d0>, at 0x7f723c105290>, and 5 levels of sizes [(860, 70), (70, 14), (14, 5), (5, 2), (2, 1)] at 0x7f723c0f3910>,\n",
       " <NestedBlockState object, with base <BlockState object with 67 blocks (67 nonempty), for graph <Graph object, undirected, with 860 vertices and 5976 edges at 0x7f728dfa48d0>, at 0x7f723c099a10>, and 5 levels of sizes [(860, 67), (67, 14), (14, 5), (5, 2), (2, 1)] at 0x7f723c08d150>,\n",
       " <NestedBlockState object, with base <BlockState object with 52 blocks (52 nonempty), for graph <Graph object, undirected, with 860 vertices and 5976 edges at 0x7f728dfa48d0>, at 0x7f723c0b82d0>, and 5 levels of sizes [(860, 52), (52, 12), (12, 4), (4, 2), (2, 1)] at 0x7f723c0a6950>,\n",
       " <NestedBlockState object, with base <BlockState object with 60 blocks (60 nonempty), for graph <Graph object, undirected, with 860 vertices and 5976 edges at 0x7f728dfa48d0>, at 0x7f723c049a50>, and 5 levels of sizes [(860, 60), (60, 12), (12, 4), (4, 2), (2, 1)] at 0x7f723c0c1190>,\n",
       " <NestedBlockState object, with base <BlockState object with 66 blocks (66 nonempty), for graph <Graph object, undirected, with 860 vertices and 5976 edges at 0x7f728dfa48d0>, at 0x7f723c06a310>, and 5 levels of sizes [(860, 66), (66, 14), (14, 5), (5, 2), (2, 1)] at 0x7f723c056990>,\n",
       " <NestedBlockState object, with base <BlockState object with 53 blocks (53 nonempty), for graph <Graph object, undirected, with 860 vertices and 5976 edges at 0x7f728dfa48d0>, at 0x7f723c082b10>, and 5 levels of sizes [(860, 53), (53, 11), (11, 4), (4, 2), (2, 1)] at 0x7f723c0731d0>,\n",
       " <NestedBlockState object, with base <BlockState object with 63 blocks (63 nonempty), for graph <Graph object, undirected, with 860 vertices and 5976 edges at 0x7f728dfa48d0>, at 0x7f723c01c350>, and 5 levels of sizes [(860, 63), (63, 14), (14, 5), (5, 2), (2, 1)] at 0x7f723c0099d0>,\n",
       " <NestedBlockState object, with base <BlockState object with 69 blocks (69 nonempty), for graph <Graph object, undirected, with 860 vertices and 5976 edges at 0x7f728dfa48d0>, at 0x7f723c034b50>, and 5 levels of sizes [(860, 69), (69, 16), (16, 5), (5, 2), (2, 1)] at 0x7f723c025210>,\n",
       " <NestedBlockState object, with base <BlockState object with 64 blocks (64 nonempty), for graph <Graph object, undirected, with 860 vertices and 5976 edges at 0x7f728dfa48d0>, at 0x7f7236fbf390>, and 5 levels of sizes [(860, 64), (64, 12), (12, 4), (4, 2), (2, 1)] at 0x7f723c03ca10>,\n",
       " <NestedBlockState object, with base <BlockState object with 68 blocks (68 nonempty), for graph <Graph object, undirected, with 860 vertices and 5976 edges at 0x7f728dfa48d0>, at 0x7f7236fd8b90>, and 5 levels of sizes [(860, 68), (68, 16), (16, 5), (5, 2), (2, 1)] at 0x7f7236fc8250>,\n",
       " <NestedBlockState object, with base <BlockState object with 70 blocks (70 nonempty), for graph <Graph object, undirected, with 860 vertices and 5976 edges at 0x7f728dfa48d0>, at 0x7f7236fea3d0>, and 5 levels of sizes [(860, 70), (70, 14), (14, 5), (5, 2), (2, 1)] at 0x7f7236fe1a50>,\n",
       " <NestedBlockState object, with base <BlockState object with 68 blocks (68 nonempty), for graph <Graph object, undirected, with 860 vertices and 5976 edges at 0x7f728dfa48d0>, at 0x7f7236f8ce90>, and 5 levels of sizes [(860, 68), (68, 14), (14, 5), (5, 2), (2, 1)] at 0x7f7236ffa290>,\n",
       " <NestedBlockState object, with base <BlockState object with 66 blocks (66 nonempty), for graph <Graph object, undirected, with 860 vertices and 5976 edges at 0x7f728dfa48d0>, at 0x7f7236fa7410>, and 5 levels of sizes [(860, 66), (66, 17), (17, 5), (5, 2), (2, 1)] at 0x7f7236f95a90>,\n",
       " <NestedBlockState object, with base <BlockState object with 65 blocks (65 nonempty), for graph <Graph object, undirected, with 860 vertices and 5976 edges at 0x7f728dfa48d0>, at 0x7f7236f472d0>, and 5 levels of sizes [(860, 65), (65, 13), (13, 4), (4, 2), (2, 1)] at 0x7f7236faf2d0>,\n",
       " <NestedBlockState object, with base <BlockState object with 55 blocks (55 nonempty), for graph <Graph object, undirected, with 860 vertices and 5976 edges at 0x7f728dfa48d0>, at 0x7f7236f5a450>, and 5 levels of sizes [(860, 55), (55, 14), (14, 5), (5, 2), (2, 1)] at 0x7f7236f47ad0>,\n",
       " <NestedBlockState object, with base <BlockState object with 68 blocks (68 nonempty), for graph <Graph object, undirected, with 860 vertices and 5976 edges at 0x7f728dfa48d0>, at 0x7f7236f7a390>, and 5 levels of sizes [(860, 68), (68, 17), (17, 4), (4, 2), (2, 1)] at 0x7f7236f62310>,\n",
       " <NestedBlockState object, with base <BlockState object with 57 blocks (57 nonempty), for graph <Graph object, undirected, with 860 vertices and 5976 edges at 0x7f728dfa48d0>, at 0x7f7236f0b490>, and 5 levels of sizes [(860, 57), (57, 13), (13, 4), (4, 2), (2, 1)] at 0x7f7236f7ab10>,\n",
       " <NestedBlockState object, with base <BlockState object with 55 blocks (55 nonempty), for graph <Graph object, undirected, with 860 vertices and 5976 edges at 0x7f728dfa48d0>, at 0x7f7236f2a250>, and 5 levels of sizes [(860, 55), (55, 14), (14, 4), (4, 2), (2, 1)] at 0x7f7236f14350>,\n",
       " <NestedBlockState object, with base <BlockState object with 60 blocks (60 nonempty), for graph <Graph object, undirected, with 860 vertices and 5976 edges at 0x7f728dfa48d0>, at 0x7f7236ebe4d0>, and 5 levels of sizes [(860, 60), (60, 13), (13, 4), (4, 2), (2, 1)] at 0x7f7236f2ab50>,\n",
       " <NestedBlockState object, with base <BlockState object with 55 blocks (55 nonempty), for graph <Graph object, undirected, with 860 vertices and 5976 edges at 0x7f728dfa48d0>, at 0x7f7236ede290>, and 5 levels of sizes [(860, 55), (55, 14), (14, 5), (5, 2), (2, 1)] at 0x7f7236ec7390>,\n",
       " <NestedBlockState object, with base <BlockState object with 65 blocks (65 nonempty), for graph <Graph object, undirected, with 860 vertices and 5976 edges at 0x7f728dfa48d0>, at 0x7f7236ef0510>, and 5 levels of sizes [(860, 65), (65, 14), (14, 5), (5, 2), (2, 1)] at 0x7f7236edeb90>,\n",
       " <NestedBlockState object, with base <BlockState object with 64 blocks (64 nonempty), for graph <Graph object, undirected, with 860 vertices and 5976 edges at 0x7f728dfa48d0>, at 0x7f7236e8f3d0>, and 5 levels of sizes [(860, 64), (64, 16), (16, 4), (4, 2), (2, 1)] at 0x7f7236ef83d0>,\n",
       " <NestedBlockState object, with base <BlockState object with 66 blocks (66 nonempty), for graph <Graph object, undirected, with 860 vertices and 5976 edges at 0x7f728dfa48d0>, at 0x7f7236e9c4d0>, and 5 levels of sizes [(860, 66), (66, 14), (14, 4), (4, 2), (2, 1)] at 0x7f7236e8fbd0>,\n",
       " <NestedBlockState object, with base <BlockState object with 68 blocks (68 nonempty), for graph <Graph object, undirected, with 860 vertices and 5976 edges at 0x7f728dfa48d0>, at 0x7f7236e42410>, and 5 levels of sizes [(860, 68), (68, 15), (15, 5), (5, 2), (2, 1)] at 0x7f7236eaa410>,\n",
       " <NestedBlockState object, with base <BlockState object with 69 blocks (69 nonempty), for graph <Graph object, undirected, with 860 vertices and 5976 edges at 0x7f728dfa48d0>, at 0x7f7236e52dd0>, and 5 levels of sizes [(860, 69), (69, 14), (14, 5), (5, 2), (2, 1)] at 0x7f7236e42c10>,\n",
       " <NestedBlockState object, with base <BlockState object with 70 blocks (70 nonempty), for graph <Graph object, undirected, with 860 vertices and 5976 edges at 0x7f728dfa48d0>, at 0x7f7236e75450>, and 5 levels of sizes [(860, 70), (70, 15), (15, 5), (5, 2), (2, 1)] at 0x7f7236e5d450>,\n",
       " <NestedBlockState object, with base <BlockState object with 57 blocks (57 nonempty), for graph <Graph object, undirected, with 860 vertices and 5976 edges at 0x7f728dfa48d0>, at 0x7f7236e039d0>, and 5 levels of sizes [(860, 57), (57, 14), (14, 5), (5, 2), (2, 1)] at 0x7f7236e75c50>,\n",
       " <NestedBlockState object, with base <BlockState object with 65 blocks (65 nonempty), for graph <Graph object, undirected, with 860 vertices and 5976 edges at 0x7f728dfa48d0>, at 0x7f7236e27490>, and 5 levels of sizes [(860, 65), (65, 13), (13, 4), (4, 2), (2, 1)] at 0x7f7236e10490>,\n",
       " <NestedBlockState object, with base <BlockState object with 68 blocks (68 nonempty), for graph <Graph object, undirected, with 860 vertices and 5976 edges at 0x7f728dfa48d0>, at 0x7f7236e37a10>, and 5 levels of sizes [(860, 68), (68, 14), (14, 5), (5, 2), (2, 1)] at 0x7f7236e27c90>,\n",
       " <NestedBlockState object, with base <BlockState object with 56 blocks (56 nonempty), for graph <Graph object, undirected, with 860 vertices and 5976 edges at 0x7f728dfa48d0>, at 0x7f7236dd94d0>, and 5 levels of sizes [(860, 56), (56, 15), (15, 4), (4, 2), (2, 1)] at 0x7f7236dc34d0>,\n",
       " <NestedBlockState object, with base <BlockState object with 64 blocks (64 nonempty), for graph <Graph object, undirected, with 860 vertices and 5976 edges at 0x7f728dfa48d0>, at 0x7f7236de8a50>, and 5 levels of sizes [(860, 64), (64, 17), (17, 5), (5, 2), (2, 1)] at 0x7f7236dd9cd0>,\n",
       " <NestedBlockState object, with base <BlockState object with 65 blocks (65 nonempty), for graph <Graph object, undirected, with 860 vertices and 5976 edges at 0x7f728dfa48d0>, at 0x7f7236d8b510>, and 5 levels of sizes [(860, 65), (65, 13), (13, 4), (4, 2), (2, 1)] at 0x7f7236df5510>,\n",
       " <NestedBlockState object, with base <BlockState object with 65 blocks (65 nonempty), for graph <Graph object, undirected, with 860 vertices and 5976 edges at 0x7f728dfa48d0>, at 0x7f7236d93f90>, and 5 levels of sizes [(860, 65), (65, 14), (14, 4), (4, 2), (2, 1)] at 0x7f7236d8bd10>,\n",
       " <NestedBlockState object, with base <BlockState object with 66 blocks (66 nonempty), for graph <Graph object, undirected, with 860 vertices and 5976 edges at 0x7f728dfa48d0>, at 0x7f7236d3d0d0>, and 5 levels of sizes [(860, 66), (66, 14), (14, 4), (4, 2), (2, 1)] at 0x7f7236da6550>]"
      ]
     },
     "execution_count": 4,
     "metadata": {},
     "output_type": "execute_result"
    }
   ],
   "source": [
    "states_100"
   ]
  },
  {
   "cell_type": "code",
   "execution_count": 8,
   "metadata": {},
   "outputs": [
    {
     "name": "stdout",
     "output_type": "stream",
     "text": [
      "l: 0, N: 860, B: 67\n",
      "l: 1, N: 67, B: 14\n",
      "l: 2, N: 14, B: 5\n",
      "l: 3, N: 5, B: 2\n",
      "l: 4, N: 2, B: 1\n"
     ]
    }
   ],
   "source": [
    "states_100[0].print_summary()"
   ]
  },
  {
   "cell_type": "code",
   "execution_count": 11,
   "metadata": {},
   "outputs": [
    {
     "data": {
      "text/plain": [
       "4"
      ]
     },
     "execution_count": 11,
     "metadata": {},
     "output_type": "execute_result"
    }
   ],
   "source": [
    "max(states_100[0].get_bs()[2])"
   ]
  },
  {
   "cell_type": "code",
   "execution_count": 11,
   "metadata": {},
   "outputs": [
    {
     "data": {
      "text/plain": [
       "<NestedBlockState object, with base <BlockState object with 67 blocks (67 nonempty), for graph <Graph object, undirected, with 860 vertices and 5976 edges at 0x7f91e11f4090>, at 0x7f92077dab10>, and 5 levels of sizes [(860, 67), (67, 14), (14, 5), (5, 2), (2, 1)] at 0x7f920783f850>"
      ]
     },
     "execution_count": 11,
     "metadata": {},
     "output_type": "execute_result"
    }
   ],
   "source": [
    "states_100[0]"
   ]
  },
  {
   "cell_type": "code",
   "execution_count": 34,
   "metadata": {},
   "outputs": [
    {
     "data": {
      "text/plain": [
       "4"
      ]
     },
     "execution_count": 34,
     "metadata": {},
     "output_type": "execute_result"
    }
   ],
   "source": [
    "x=max(states_100[0].get_bs()[2])\n",
    "x"
   ]
  },
  {
   "cell_type": "code",
   "execution_count": 5,
   "metadata": {},
   "outputs": [],
   "source": [
    "bss=[]\n",
    "for i in range(100):\n",
    "    x=max(states_100[i].get_bs()[2])\n",
    "    bss.append(x)"
   ]
  },
  {
   "cell_type": "code",
   "execution_count": 17,
   "metadata": {},
   "outputs": [
    {
     "data": {
      "text/plain": [
       "[4, 3, 3, 4, 4, 2]"
      ]
     },
     "execution_count": 17,
     "metadata": {},
     "output_type": "execute_result"
    }
   ],
   "source": [
    "bss[0:6]"
   ]
  },
  {
   "cell_type": "code",
   "execution_count": 40,
   "metadata": {},
   "outputs": [],
   "source": [
    "groups_5=[]\n",
    "groups_4=[]\n",
    "groups_3=[]\n",
    "groups_6=[]\n",
    "for i in bss:\n",
    "    if i==4:\n",
    "        groups_5.append(i)\n",
    "    elif i==3:\n",
    "        groups_4.append(i)\n",
    "    elif i==2:\n",
    "        groups_3.append(i)\n",
    "    else:\n",
    "        groups_6.append(i)\n",
    "    "
   ]
  },
  {
   "cell_type": "code",
   "execution_count": 42,
   "metadata": {
    "scrolled": true
   },
   "outputs": [
    {
     "data": {
      "text/plain": [
       "48"
      ]
     },
     "execution_count": 42,
     "metadata": {},
     "output_type": "execute_result"
    }
   ],
   "source": [
    "len(groups_5)"
   ]
  },
  {
   "cell_type": "code",
   "execution_count": 43,
   "metadata": {},
   "outputs": [
    {
     "data": {
      "text/plain": [
       "49"
      ]
     },
     "execution_count": 43,
     "metadata": {},
     "output_type": "execute_result"
    }
   ],
   "source": [
    "len(groups_4)"
   ]
  },
  {
   "cell_type": "code",
   "execution_count": 44,
   "metadata": {},
   "outputs": [
    {
     "data": {
      "text/plain": [
       "2"
      ]
     },
     "execution_count": 44,
     "metadata": {},
     "output_type": "execute_result"
    }
   ],
   "source": [
    "len(groups_3)"
   ]
  },
  {
   "cell_type": "code",
   "execution_count": 45,
   "metadata": {},
   "outputs": [
    {
     "data": {
      "text/plain": [
       "1"
      ]
     },
     "execution_count": 45,
     "metadata": {},
     "output_type": "execute_result"
    }
   ],
   "source": [
    "len(groups_6)"
   ]
  },
  {
   "cell_type": "code",
   "execution_count": 17,
   "metadata": {},
   "outputs": [],
   "source": [
    "import anndata"
   ]
  },
  {
   "cell_type": "code",
   "execution_count": 18,
   "metadata": {},
   "outputs": [
    {
     "data": {
      "text/plain": [
       "AnnData object with n_obs × n_vars = 860 × 1596 \n",
       "    obs: 'n_genes', 'percent_mito', 'n_counts', 'S_score', 'G2M_score', 'phase', 'leiden'\n",
       "    var: 'n_cells', 'highly_variable', 'means', 'dispersions', 'dispersions_norm'\n",
       "    uns: 'leiden', 'leiden_colors', 'neighbors', 'pca'\n",
       "    obsm: 'X_pca', 'X_umap'\n",
       "    varm: 'PCs'"
      ]
     },
     "execution_count": 18,
     "metadata": {},
     "output_type": "execute_result"
    }
   ],
   "source": [
    "adata=sc.read('adata_10x/adata_sc_10x.h5ad')\n",
    "adata"
   ]
  },
  {
   "cell_type": "code",
   "execution_count": 19,
   "metadata": {},
   "outputs": [],
   "source": [
    "sc.tl.rank_genes_groups(adata, 'leiden', method='t-test')"
   ]
  },
  {
   "cell_type": "code",
   "execution_count": 20,
   "metadata": {},
   "outputs": [],
   "source": [
    "df_significativo= pd.DataFrame(adata.uns['rank_genes_groups']['names']).head(20) #### df con i 20 geni significativi per gruppo"
   ]
  },
  {
   "cell_type": "code",
   "execution_count": 21,
   "metadata": {},
   "outputs": [],
   "source": [
    "cell_annotation= pd.read_table('../sc_mixology/data/csv/sc_10x_5cl.metadata.csv.gz', compression=\"gzip\", sep=\",\", index_col=0)"
   ]
  },
  {
   "cell_type": "code",
   "execution_count": 22,
   "metadata": {},
   "outputs": [
    {
     "data": {
      "text/plain": [
       "Index(['n_genes', 'percent_mito', 'n_counts', 'S_score', 'G2M_score', 'phase',\n",
       "       'leiden', 'cell_line'],\n",
       "      dtype='object')"
      ]
     },
     "execution_count": 22,
     "metadata": {},
     "output_type": "execute_result"
    }
   ],
   "source": [
    "adata.obs.loc[:, \"cell_line\"] = cell_annotation.loc[adata.obs_names, \"cell_line\"]\n",
    "adata.obs.columns"
   ]
  },
  {
   "cell_type": "code",
   "execution_count": 23,
   "metadata": {
    "scrolled": true
   },
   "outputs": [
    {
     "name": "stderr",
     "output_type": "stream",
     "text": [
      "... storing 'cell_line' as categorical\n",
      "/usr/lib/python3/dist-packages/matplotlib/pyplot.py:514: RuntimeWarning: More than 20 figures have been opened. Figures created through the pyplot interface (`matplotlib.pyplot.figure`) are retained until explicitly closed and may consume too much memory. (To control this warning, see the rcParam `figure.max_open_warning`).\n",
      "  max_open_warning, RuntimeWarning)\n"
     ]
    }
   ],
   "source": [
    "for i in range (len(states_100)):\n",
    "    adata.obs.loc[:, 'NSBM_test'] = pd.Categorical(list(states_100[i].project_level(2).get_blocks()))\n",
    "    figure(i)\n",
    "    sc.pl.umap(adata, color=\"NSBM_test\")"
   ]
  },
  {
   "cell_type": "code",
   "execution_count": 24,
   "metadata": {
    "scrolled": true
   },
   "outputs": [
    {
     "name": "stdout",
     "output_type": "stream",
     "text": [
      "cell_line  A549  H838  H1975  H2228  HCC827\n",
      "NSBM_test                                  \n",
      "0             1     0      4      1     188\n",
      "1             0     0    127      0       0\n",
      "2             0   176      7      0       0\n",
      "3             0     0      0    295       0\n",
      "4            61     0      0      0       0\n",
      "cell_line  A549  H838  H1975  H2228  HCC827\n",
      "NSBM_test                                  \n",
      "0             1     0      4      1     188\n",
      "1             0     0    127      0       0\n",
      "2             0     0      0    295       0\n",
      "3            61   176      7      0       0\n",
      "cell_line  A549  H838  H1975  H2228  HCC827\n",
      "NSBM_test                                  \n",
      "0            62     0      4      1     188\n",
      "1             0     0    127      0       0\n",
      "2             0   176      7      0       0\n",
      "3             0     0      0    295       0\n",
      "cell_line  A549  H838  H1975  H2228  HCC827\n",
      "NSBM_test                                  \n",
      "0             1     0      4      1     188\n",
      "1             0     0    127      0       0\n",
      "2             0   176      7      0       0\n",
      "3             0     0      0    295       0\n",
      "4            61     0      0      0       0\n",
      "cell_line  A549  H838  H1975  H2228  HCC827\n",
      "NSBM_test                                  \n",
      "0             1     0      4      1     188\n",
      "1             0     0    127      0       0\n",
      "2             0   176      7      0       0\n",
      "3             0     0      0    295       0\n",
      "4            61     0      0      0       0\n",
      "cell_line  A549  H838  H1975  H2228  HCC827\n",
      "NSBM_test                                  \n",
      "0             1     0    131      1     188\n",
      "1            61   176      7      0       0\n",
      "2             0     0      0    295       0\n",
      "cell_line  A549  H838  H1975  H2228  HCC827\n",
      "NSBM_test                                  \n",
      "0            62     0      4      1     188\n",
      "1             0     0    127      0       0\n",
      "2             0   176      7      0       0\n",
      "3             0     0      0    295       0\n",
      "cell_line  A549  H838  H1975  H2228  HCC827\n",
      "NSBM_test                                  \n",
      "0             1     0      4      1     188\n",
      "1             0     0    127      0       0\n",
      "2             0   176      7      0       0\n",
      "3             0     0      0    295       0\n",
      "4            61     0      0      0       0\n",
      "cell_line  A549  H838  H1975  H2228  HCC827\n",
      "NSBM_test                                  \n",
      "0             1     0      4      1     188\n",
      "1             0     0    127      0       0\n",
      "2            61   176      7      0       0\n",
      "3             0     0      0    295       0\n",
      "cell_line  A549  H838  H1975  H2228  HCC827\n",
      "NSBM_test                                  \n",
      "0             1     0      4      1     188\n",
      "1             0     0    127      0       0\n",
      "2            61   176      7      0       0\n",
      "3             0     0      0    295       0\n",
      "cell_line  A549  H838  H1975  H2228  HCC827\n",
      "NSBM_test                                  \n",
      "0             1     0      4      1     188\n",
      "1             0     0    127      0       0\n",
      "2            61   176      7      0       0\n",
      "3             0     0      0    295       0\n",
      "cell_line  A549  H838  H1975  H2228  HCC827\n",
      "NSBM_test                                  \n",
      "0             1     0      4      1     188\n",
      "1             0     0    127      0       0\n",
      "2             0   176      7      0       0\n",
      "3             0     0      0    295       0\n",
      "4            61     0      0      0       0\n",
      "cell_line  A549  H838  H1975  H2228  HCC827\n",
      "NSBM_test                                  \n",
      "0             1     0      4      1     188\n",
      "1             0     0    127      0       0\n",
      "2             0   176      7      0       0\n",
      "3             0     0      0    295       0\n",
      "4            61     0      0      0       0\n",
      "cell_line  A549  H838  H1975  H2228  HCC827\n",
      "NSBM_test                                  \n",
      "0            62     0      4      1     188\n",
      "1             0     0    127      0       0\n",
      "2             0   176      7      0       0\n",
      "3             0     0      0    295       0\n",
      "cell_line  A549  H838  H1975  H2228  HCC827\n",
      "NSBM_test                                  \n",
      "0             1     0      4      1     188\n",
      "1             0     0    127      0       0\n",
      "2             0   176      7      0       0\n",
      "3             0     0      0    295       0\n",
      "4            61     0      0      0       0\n",
      "cell_line  A549  H838  H1975  H2228  HCC827\n",
      "NSBM_test                                  \n",
      "0            62     0      4      1     188\n",
      "1             0     0    127      0       0\n",
      "2             0   176      7      0       0\n",
      "3             0     0      0    295       0\n",
      "cell_line  A549  H838  H1975  H2228  HCC827\n",
      "NSBM_test                                  \n",
      "0             1     0      4      1     188\n",
      "1             0     0    127      0       0\n",
      "2             0   176      7      0       0\n",
      "3             0     0      0    295       0\n",
      "4            61     0      0      0       0\n",
      "cell_line  A549  H838  H1975  H2228  HCC827\n",
      "NSBM_test                                  \n",
      "0             1     0      4      1     188\n",
      "1             0     0    127      0       0\n",
      "2             0   176      7      0       0\n",
      "3             0     0      0    295       0\n",
      "4            61     0      0      0       0\n",
      "cell_line  A549  H838  H1975  H2228  HCC827\n",
      "NSBM_test                                  \n",
      "0             1     0      4      1     188\n",
      "1             0     0    127      0       0\n",
      "2             0   176      7      0       0\n",
      "3             0     0      0    295       0\n",
      "4            61     0      0      0       0\n",
      "cell_line  A549  H838  H1975  H2228  HCC827\n",
      "NSBM_test                                  \n",
      "0            62     0      4      1     188\n",
      "1             0     0    127      0       0\n",
      "2             0   176      7      0       0\n",
      "3             0     0      0    295       0\n",
      "cell_line  A549  H838  H1975  H2228  HCC827\n",
      "NSBM_test                                  \n",
      "0             1     0      4      1     188\n",
      "1             0     0    127      0       0\n",
      "2            61   176      7      0       0\n",
      "3             0     0      0    295       0\n",
      "cell_line  A549  H838  H1975  H2228  HCC827\n",
      "NSBM_test                                  \n",
      "0             1     0      4      1     188\n",
      "1             0     0    127      0       0\n",
      "2             0   176      7      0       0\n",
      "3             0     0      0    295       0\n",
      "4            61     0      0      0       0\n",
      "cell_line  A549  H838  H1975  H2228  HCC827\n",
      "NSBM_test                                  \n",
      "0            62     0      4      1     188\n",
      "1             0     0    127      0       0\n",
      "2             0   176      7      0       0\n",
      "3             0     0      0    295       0\n",
      "cell_line  A549  H838  H1975  H2228  HCC827\n",
      "NSBM_test                                  \n",
      "0             1     0      4      1     188\n",
      "1             0     0    127      0       0\n",
      "2             0   176      7      0       0\n",
      "3             0     0      0    295       0\n",
      "4            61     0      0      0       0\n",
      "cell_line  A549  H838  H1975  H2228  HCC827\n",
      "NSBM_test                                  \n",
      "0             1     0      4      1     188\n",
      "1             0     0    127      0       0\n",
      "2            61   176      7      0       0\n",
      "3             0     0      0    295       0\n",
      "cell_line  A549  H838  H1975  H2228  HCC827\n",
      "NSBM_test                                  \n",
      "0             1     0      4      1     188\n",
      "1             0     0    127      0       0\n",
      "2            61   176      7      0       0\n",
      "3             0     0      0    295       0\n",
      "cell_line  A549  H838  H1975  H2228  HCC827\n",
      "NSBM_test                                  \n",
      "0            62     0      4      1     188\n",
      "1             0     0    127      0       0\n",
      "2             0   176      7      0       0\n",
      "3             0     0      0    295       0\n",
      "cell_line  A549  H838  H1975  H2228  HCC827\n",
      "NSBM_test                                  \n",
      "0             1     0      4      1     188\n",
      "1             0     0    127      0       0\n",
      "2             0   176      7      0       0\n",
      "3             0     0      0    199       0\n",
      "4             0     0      0     96       0\n",
      "5            61     0      0      0       0\n",
      "cell_line  A549  H838  H1975  H2228  HCC827\n",
      "NSBM_test                                  \n",
      "0             1     0      4      1     188\n",
      "1             0     0    127      0       0\n",
      "2             0   176      7      0       0\n",
      "3             0     0      0    295       0\n",
      "4            61     0      0      0       0\n",
      "cell_line  A549  H838  H1975  H2228  HCC827\n",
      "NSBM_test                                  \n",
      "0             1     0      4      1     188\n",
      "1             0     0    127      0       0\n",
      "2            61   176      7      0       0\n",
      "3             0     0      0    295       0\n"
     ]
    },
    {
     "name": "stdout",
     "output_type": "stream",
     "text": [
      "cell_line  A549  H838  H1975  H2228  HCC827\n",
      "NSBM_test                                  \n",
      "0             1     0      4      1     188\n",
      "1             0     0    127      0       0\n",
      "2             0   176      7      0       0\n",
      "3             0     0      0    295       0\n",
      "4            61     0      0      0       0\n",
      "cell_line  A549  H838  H1975  H2228  HCC827\n",
      "NSBM_test                                  \n",
      "0             1     0      4      1     188\n",
      "1             0     0    127      0       0\n",
      "2             0   176      7      0       0\n",
      "3             0     0      0    295       0\n",
      "4            61     0      0      0       0\n",
      "cell_line  A549  H838  H1975  H2228  HCC827\n",
      "NSBM_test                                  \n",
      "0             1     0      4      1     188\n",
      "1            61   176      7      0       0\n",
      "2             0     0      0    295       0\n",
      "3             0     0    127      0       0\n",
      "cell_line  A549  H838  H1975  H2228  HCC827\n",
      "NSBM_test                                  \n",
      "0             1     0      4      1     188\n",
      "1             0     0    127      0       0\n",
      "2             0   176      7      0       0\n",
      "3             0     0      0    295       0\n",
      "4            61     0      0      0       0\n",
      "cell_line  A549  H838  H1975  H2228  HCC827\n",
      "NSBM_test                                  \n",
      "0             1     0      4      1     188\n",
      "1             0     0    127      0       0\n",
      "2             0   176      7      0       0\n",
      "3             0     0      0    295       0\n",
      "4            61     0      0      0       0\n",
      "cell_line  A549  H838  H1975  H2228  HCC827\n",
      "NSBM_test                                  \n",
      "0             1     0      4      1     188\n",
      "1             0     0    127      0       0\n",
      "2            61   176      7      0       0\n",
      "3             0     0      0    295       0\n",
      "cell_line  A549  H838  H1975  H2228  HCC827\n",
      "NSBM_test                                  \n",
      "0             1     0      4      1     188\n",
      "1             0     0    127      0       0\n",
      "2            61   176      7      0       0\n",
      "3             0     0      0    295       0\n",
      "cell_line  A549  H838  H1975  H2228  HCC827\n",
      "NSBM_test                                  \n",
      "0             1     0    131      1     188\n",
      "1            61   176      7      0       0\n",
      "2             0     0      0    295       0\n",
      "cell_line  A549  H838  H1975  H2228  HCC827\n",
      "NSBM_test                                  \n",
      "0             1     0      4      1     188\n",
      "1             0     0    127      0       0\n",
      "2             0   176      7      0       0\n",
      "3             0     0      0    295       0\n",
      "4            61     0      0      0       0\n",
      "cell_line  A549  H838  H1975  H2228  HCC827\n",
      "NSBM_test                                  \n",
      "0             1     0      4      1     188\n",
      "1             0     0    127      0       0\n",
      "2            61   176      7      0       0\n",
      "3             0     0      0    295       0\n",
      "cell_line  A549  H838  H1975  H2228  HCC827\n",
      "NSBM_test                                  \n",
      "0             1     0      4      1     188\n",
      "1             0     0    127      0       0\n",
      "2             0   176      7      0       0\n",
      "3             0     0      0    295       0\n",
      "4            61     0      0      0       0\n",
      "cell_line  A549  H838  H1975  H2228  HCC827\n",
      "NSBM_test                                  \n",
      "0             1     0      4      1     188\n",
      "1             0     0    127      0       0\n",
      "2            61   176      7      0       0\n",
      "3             0     0      0    295       0\n",
      "cell_line  A549  H838  H1975  H2228  HCC827\n",
      "NSBM_test                                  \n",
      "0             1     0      4      1     188\n",
      "1             0     0    127      0       0\n",
      "2             0   176      7      0       0\n",
      "3             0     0      0    295       0\n",
      "4            61     0      0      0       0\n",
      "cell_line  A549  H838  H1975  H2228  HCC827\n",
      "NSBM_test                                  \n",
      "0             1     0      4      1     188\n",
      "1             0     0    127      0       0\n",
      "2            61   176      7      0       0\n",
      "3             0     0      0    295       0\n",
      "cell_line  A549  H838  H1975  H2228  HCC827\n",
      "NSBM_test                                  \n",
      "0             1     0      4      1     188\n",
      "1             0     0    127      0       0\n",
      "2             0   176      7      0       0\n",
      "3             0     0      0    295       0\n",
      "4            61     0      0      0       0\n",
      "cell_line  A549  H838  H1975  H2228  HCC827\n",
      "NSBM_test                                  \n",
      "0             1     0      4      1     188\n",
      "1             0     0    127      0       0\n",
      "2             0   176      7      0       0\n",
      "3             0     0      0    295       0\n",
      "4            61     0      0      0       0\n",
      "cell_line  A549  H838  H1975  H2228  HCC827\n",
      "NSBM_test                                  \n",
      "0             1     0      4      1     188\n",
      "1             0     0    127      0       0\n",
      "2            61   176      7      0       0\n",
      "3             0     0      0    295       0\n",
      "cell_line  A549  H838  H1975  H2228  HCC827\n",
      "NSBM_test                                  \n",
      "0             1     0      4      1     188\n",
      "1             0     0    127      0       0\n",
      "2            61   176      7      0       0\n",
      "3             0     0      0    295       0\n",
      "cell_line  A549  H838  H1975  H2228  HCC827\n",
      "NSBM_test                                  \n",
      "0             1     0      4      1     188\n",
      "1             0     0    127      0       0\n",
      "2             0   176      7      0       0\n",
      "3             0     0      0    295       0\n",
      "4            61     0      0      0       0\n",
      "cell_line  A549  H838  H1975  H2228  HCC827\n",
      "NSBM_test                                  \n",
      "0            61     0      0      0       0\n",
      "1             0     0    127      0       0\n",
      "2             1     0      4      1     188\n",
      "3             0   176      7      0       0\n",
      "4             0     0      0    295       0\n",
      "cell_line  A549  H838  H1975  H2228  HCC827\n",
      "NSBM_test                                  \n",
      "0             1     0      4      1     188\n",
      "1             0     0    127      0       0\n",
      "2            61   176      7      0       0\n",
      "3             0     0      0    295       0\n",
      "cell_line  A549  H838  H1975  H2228  HCC827\n",
      "NSBM_test                                  \n",
      "0             1     0      4      1     188\n",
      "1             0     0    127      0       0\n",
      "2            61   176      7      0       0\n",
      "3             0     0      0    295       0\n",
      "cell_line  A549  H838  H1975  H2228  HCC827\n",
      "NSBM_test                                  \n",
      "0            62     0      4      1     188\n",
      "1             0     0    127      0       0\n",
      "2             0   176      7      0       0\n",
      "3             0     0      0    295       0\n",
      "cell_line  A549  H838  H1975  H2228  HCC827\n",
      "NSBM_test                                  \n",
      "0             1     0      4      1     188\n",
      "1             0     0    127      0       0\n",
      "2             0   176      7      0       0\n",
      "3             0     0      0    295       0\n",
      "4            61     0      0      0       0\n",
      "cell_line  A549  H838  H1975  H2228  HCC827\n",
      "NSBM_test                                  \n",
      "0             1     0      4      1     188\n",
      "1            61   176      7      0       0\n",
      "2             0     0      0    295       0\n",
      "3             0     0    127      0       0\n",
      "cell_line  A549  H838  H1975  H2228  HCC827\n",
      "NSBM_test                                  \n",
      "0             1     0      4      1     188\n",
      "1             0     0    127      0       0\n",
      "2             0   176      7      0       0\n",
      "3             0     0      0    295       0\n",
      "4            61     0      0      0       0\n",
      "cell_line  A549  H838  H1975  H2228  HCC827\n",
      "NSBM_test                                  \n",
      "0             1     0      4      1     188\n",
      "1             0     0    127      0       0\n",
      "2            61   176      7      0       0\n",
      "3             0     0      0    295       0\n",
      "cell_line  A549  H838  H1975  H2228  HCC827\n",
      "NSBM_test                                  \n",
      "0             1     0      4      1     188\n",
      "1             0     0    127      0       0\n",
      "2             0   176      7      0       0\n",
      "3             0     0      0    295       0\n",
      "4            61     0      0      0       0\n",
      "cell_line  A549  H838  H1975  H2228  HCC827\n",
      "NSBM_test                                  \n",
      "0             0     0    127      0       0\n",
      "1             0   176      7      0       0\n",
      "2             0     0      0    295       0\n",
      "3            62     0      4      1     188\n",
      "cell_line  A549  H838  H1975  H2228  HCC827\n",
      "NSBM_test                                  \n",
      "0             1     0      4      1     188\n",
      "1             0     0    127      0       0\n",
      "2            61   176      7      0       0\n",
      "3             0     0      0    295       0\n"
     ]
    },
    {
     "name": "stdout",
     "output_type": "stream",
     "text": [
      "cell_line  A549  H838  H1975  H2228  HCC827\n",
      "NSBM_test                                  \n",
      "0             1     0      4      1     188\n",
      "1             0     0    127      0       0\n",
      "2             0   176      7      0       0\n",
      "3             0     0      0    295       0\n",
      "4            61     0      0      0       0\n",
      "cell_line  A549  H838  H1975  H2228  HCC827\n",
      "NSBM_test                                  \n",
      "0            62     0      4      1     188\n",
      "1             0     0    127      0       0\n",
      "2             0   176      7      0       0\n",
      "3             0     0      0    295       0\n",
      "cell_line  A549  H838  H1975  H2228  HCC827\n",
      "NSBM_test                                  \n",
      "0             1     0      4      1     188\n",
      "1             0     0    127      0       0\n",
      "2             0   176      7      0       0\n",
      "3             0     0      0    295       0\n",
      "4            61     0      0      0       0\n",
      "cell_line  A549  H838  H1975  H2228  HCC827\n",
      "NSBM_test                                  \n",
      "0             1     0      4      1     188\n",
      "1             0     0    127      0       0\n",
      "2            61   176      7      0       0\n",
      "3             0     0      0    295       0\n",
      "cell_line  A549  H838  H1975  H2228  HCC827\n",
      "NSBM_test                                  \n",
      "0             1     0      4      1     188\n",
      "1             0     0    127      0       0\n",
      "2            61   176      7      0       0\n",
      "3             0     0      0    295       0\n",
      "cell_line  A549  H838  H1975  H2228  HCC827\n",
      "NSBM_test                                  \n",
      "0             1     0      4      1     188\n",
      "1             0     0    127      0       0\n",
      "2             0   176      7      0       0\n",
      "3             0     0      0    295       0\n",
      "4            61     0      0      0       0\n",
      "cell_line  A549  H838  H1975  H2228  HCC827\n",
      "NSBM_test                                  \n",
      "0            61     0      0      0       0\n",
      "1             0     0    127      0       0\n",
      "2             1     0      4      1     188\n",
      "3             0   176      7      0       0\n",
      "4             0     0      0    295       0\n",
      "cell_line  A549  H838  H1975  H2228  HCC827\n",
      "NSBM_test                                  \n",
      "0             1     0      4      1     188\n",
      "1             0     0    127      0       0\n",
      "2             0   176      7      0       0\n",
      "3             0     0      0    295       0\n",
      "4            61     0      0      0       0\n",
      "cell_line  A549  H838  H1975  H2228  HCC827\n",
      "NSBM_test                                  \n",
      "0             1     0      4      1     188\n",
      "1             0     0    127      0       0\n",
      "2            61   176      7      0       0\n",
      "3             0     0      0    295       0\n",
      "cell_line  A549  H838  H1975  H2228  HCC827\n",
      "NSBM_test                                  \n",
      "0             1     0      4      1     188\n",
      "1             0     0    127      0       0\n",
      "2            61   176      7      0       0\n",
      "3             0     0      0    295       0\n",
      "cell_line  A549  H838  H1975  H2228  HCC827\n",
      "NSBM_test                                  \n",
      "0             1     0      4      1     188\n",
      "1             0     0    127      0       0\n",
      "2             0   176      7      0       0\n",
      "3             0     0      0    295       0\n",
      "4            61     0      0      0       0\n",
      "cell_line  A549  H838  H1975  H2228  HCC827\n",
      "NSBM_test                                  \n",
      "0             1     0      4      1     188\n",
      "1            61   176      7      0       0\n",
      "2             0     0      0    295       0\n",
      "3             0     0    127      0       0\n",
      "cell_line  A549  H838  H1975  H2228  HCC827\n",
      "NSBM_test                                  \n",
      "0             1     0      4      1     188\n",
      "1             0     0    127      0       0\n",
      "2             0   176      7      0       0\n",
      "3             0     0      0    295       0\n",
      "4            61     0      0      0       0\n",
      "cell_line  A549  H838  H1975  H2228  HCC827\n",
      "NSBM_test                                  \n",
      "0             1     0      4      1     188\n",
      "1             0     0    127      0       0\n",
      "2             0   176      7      0       0\n",
      "3             0     0      0    295       0\n",
      "4            61     0      0      0       0\n",
      "cell_line  A549  H838  H1975  H2228  HCC827\n",
      "NSBM_test                                  \n",
      "0            62     0      4      1     188\n",
      "1             0     0    127      0       0\n",
      "2             0   176      7      0       0\n",
      "3             0     0      0    295       0\n",
      "cell_line  A549  H838  H1975  H2228  HCC827\n",
      "NSBM_test                                  \n",
      "0             1     0      4      1     188\n",
      "1             0     0    127      0       0\n",
      "2             0   176      7      0       0\n",
      "3             0     0      0    295       0\n",
      "4            61     0      0      0       0\n",
      "cell_line  A549  H838  H1975  H2228  HCC827\n",
      "NSBM_test                                  \n",
      "0             1     0      4      1     188\n",
      "1             0     0    127      0       0\n",
      "2             0   176      7      0       0\n",
      "3             0     0      0    295       0\n",
      "4            61     0      0      0       0\n",
      "cell_line  A549  H838  H1975  H2228  HCC827\n",
      "NSBM_test                                  \n",
      "0             1     0      4      1     188\n",
      "1             0     0    127      0       0\n",
      "2             0   176      7      0       0\n",
      "3             0     0      0    295       0\n",
      "4            61     0      0      0       0\n",
      "cell_line  A549  H838  H1975  H2228  HCC827\n",
      "NSBM_test                                  \n",
      "0             1     0      4      1     188\n",
      "1             0     0    127      0       0\n",
      "2             0   176      7      0       0\n",
      "3             0     0      0    295       0\n",
      "4            61     0      0      0       0\n",
      "cell_line  A549  H838  H1975  H2228  HCC827\n",
      "NSBM_test                                  \n",
      "0            62     0      4      1     188\n",
      "1             0     0    127      0       0\n",
      "2             0   176      7      0       0\n",
      "3             0     0      0    295       0\n",
      "cell_line  A549  H838  H1975  H2228  HCC827\n",
      "NSBM_test                                  \n",
      "0             1     0      4      1     188\n",
      "1             0     0    127      0       0\n",
      "2             0   176      7      0       0\n",
      "3             0     0      0    295       0\n",
      "4            61     0      0      0       0\n",
      "cell_line  A549  H838  H1975  H2228  HCC827\n",
      "NSBM_test                                  \n",
      "0             1     0      4      1     188\n",
      "1             0     0    127      0       0\n",
      "2            61   176      7      0       0\n",
      "3             0     0      0    295       0\n",
      "cell_line  A549  H838  H1975  H2228  HCC827\n",
      "NSBM_test                                  \n",
      "0             1     0      4      1     188\n",
      "1             0     0    127      0       0\n",
      "2            61   176      7      0       0\n",
      "3             0     0      0    295       0\n",
      "cell_line  A549  H838  H1975  H2228  HCC827\n",
      "NSBM_test                                  \n",
      "0             1     0      4      1     188\n",
      "1             0     0    127      0       0\n",
      "2             0     0      0    295       0\n",
      "3            61   176      7      0       0\n",
      "cell_line  A549  H838  H1975  H2228  HCC827\n",
      "NSBM_test                                  \n",
      "0            62     0      4      1     188\n",
      "1             0     0    127      0       0\n",
      "2             0   176      7      0       0\n",
      "3             0     0      0    295       0\n",
      "cell_line  A549  H838  H1975  H2228  HCC827\n",
      "NSBM_test                                  \n",
      "0             1     0      4      1     188\n",
      "1             0     0    127      0       0\n",
      "2             0   176      7      0       0\n",
      "3             0     0      0    295       0\n",
      "4            61     0      0      0       0\n",
      "cell_line  A549  H838  H1975  H2228  HCC827\n",
      "NSBM_test                                  \n",
      "0             0     0      4      1     188\n",
      "1             0     0    127      0       0\n",
      "2             0   176      7      0       0\n",
      "3             0     0      0    295       0\n",
      "4            62     0      0      0       0\n",
      "cell_line  A549  H838  H1975  H2228  HCC827\n",
      "NSBM_test                                  \n",
      "0            62     0      4      1     188\n",
      "1             0     0    127      0       0\n",
      "2             0   176      7      0       0\n",
      "3             0     0      0    295       0\n",
      "cell_line  A549  H838  H1975  H2228  HCC827\n",
      "NSBM_test                                  \n",
      "0             1     0      4      1     188\n",
      "1             0     0    127      0       0\n",
      "2            61   176      7      0       0\n",
      "3             0     0      0    295       0\n",
      "cell_line  A549  H838  H1975  H2228  HCC827\n",
      "NSBM_test                                  \n",
      "0             1     0      4      1     188\n",
      "1             0     0    127      0       0\n",
      "2             0   176      7      0       0\n",
      "3             0     0      0    295       0\n",
      "4            61     0      0      0       0\n",
      "cell_line  A549  H838  H1975  H2228  HCC827\n",
      "NSBM_test                                  \n",
      "0             1     0      4      1     188\n",
      "1             0     0    127      0       0\n",
      "2             0   176      7      0       0\n",
      "3             0     0      0    295       0\n",
      "4            61     0      0      0       0\n",
      "cell_line  A549  H838  H1975  H2228  HCC827\n",
      "NSBM_test                                  \n",
      "0             1     0      4      1     188\n",
      "1             0     0    127      0       0\n",
      "2             0   176      7      0       0\n",
      "3             0     0      0    295       0\n",
      "4            61     0      0      0       0\n",
      "cell_line  A549  H838  H1975  H2228  HCC827\n",
      "NSBM_test                                  \n",
      "0             1     0      4      1     188\n",
      "1             0     0    127      0       0\n",
      "2             0   176      7      0       0\n",
      "3             0     0      0    295       0\n",
      "4            61     0      0      0       0\n"
     ]
    },
    {
     "name": "stdout",
     "output_type": "stream",
     "text": [
      "cell_line  A549  H838  H1975  H2228  HCC827\n",
      "NSBM_test                                  \n",
      "0            62     0      4      1     188\n",
      "1             0     0    127      0       0\n",
      "2             0   176      7      0       0\n",
      "3             0     0      0    295       0\n",
      "cell_line  A549  H838  H1975  H2228  HCC827\n",
      "NSBM_test                                  \n",
      "0             1     0      4      1     188\n",
      "1             0     0    127      0       0\n",
      "2             0   176      7      0       0\n",
      "3             0     0      0    295       0\n",
      "4            61     0      0      0       0\n",
      "cell_line  A549  H838  H1975  H2228  HCC827\n",
      "NSBM_test                                  \n",
      "0             1     0      4      1     188\n",
      "1             0     0    127      0       0\n",
      "2            61   176      7      0       0\n",
      "3             0     0      0    295       0\n",
      "cell_line  A549  H838  H1975  H2228  HCC827\n",
      "NSBM_test                                  \n",
      "0             1     0      4      1     188\n",
      "1             0     0    127      0       0\n",
      "2             0   176      7      0       0\n",
      "3             0     0      0    295       0\n",
      "4            61     0      0      0       0\n",
      "cell_line  A549  H838  H1975  H2228  HCC827\n",
      "NSBM_test                                  \n",
      "0             1     0      4      1     188\n",
      "1             0     0    127      0       0\n",
      "2            61   176      7      0       0\n",
      "3             0     0      0    295       0\n",
      "cell_line  A549  H838  H1975  H2228  HCC827\n",
      "NSBM_test                                  \n",
      "0             1     0      4      1     188\n",
      "1             0     0    127      0       0\n",
      "2            61   176      7      0       0\n",
      "3             0     0      0    295       0\n",
      "cell_line  A549  H838  H1975  H2228  HCC827\n",
      "NSBM_test                                  \n",
      "0             0     0    127      0       0\n",
      "1             0   176      7      0       0\n",
      "2             0     0      0    295       0\n",
      "3            62     0      4      1     188\n"
     ]
    }
   ],
   "source": [
    "for i in range (len(states_100)):\n",
    "    adata.obs.loc[:, 'NSBM_test'] = pd.Categorical(list(states_100[i].project_level(2).get_blocks()))\n",
    "    print(pd.crosstab(adata.obs.NSBM_test, adata.obs.cell_line))"
   ]
  },
  {
   "cell_type": "markdown",
   "metadata": {},
   "source": [
    "### NSBM con description length"
   ]
  },
  {
   "cell_type": "code",
   "execution_count": 5,
   "metadata": {},
   "outputs": [],
   "source": [
    "test1= gt.minimize_nested_blockmodel_dl(g, deg_corr=False)"
   ]
  },
  {
   "cell_type": "code",
   "execution_count": 6,
   "metadata": {},
   "outputs": [],
   "source": [
    "test2=gt.minimize_nested_blockmodel_dl(g, deg_corr=False)"
   ]
  },
  {
   "cell_type": "code",
   "execution_count": 11,
   "metadata": {},
   "outputs": [],
   "source": [
    "test3=gt.minimize_nested_blockmodel_dl(g, deg_corr=False)"
   ]
  },
  {
   "cell_type": "code",
   "execution_count": 16,
   "metadata": {},
   "outputs": [],
   "source": [
    "pickle.dump(test1, open('adata_10x/state_test1.pkl', 'wb'),2)\n",
    "pickle.dump(test2, open('adata_10x/state_test2.pkl', 'wb'),2)\n",
    "pickle.dump(test3, open('adata_10x/state_test3.pkl', 'wb'),2)"
   ]
  },
  {
   "cell_type": "code",
   "execution_count": 50,
   "metadata": {},
   "outputs": [
    {
     "data": {
      "text/plain": [
       "19492.83981692386"
      ]
     },
     "execution_count": 50,
     "metadata": {},
     "output_type": "execute_result"
    }
   ],
   "source": [
    "test3.entropy()\n"
   ]
  },
  {
   "cell_type": "code",
   "execution_count": 49,
   "metadata": {},
   "outputs": [
    {
     "data": {
      "text/plain": [
       "19511.151648651357"
      ]
     },
     "execution_count": 49,
     "metadata": {},
     "output_type": "execute_result"
    }
   ],
   "source": [
    "test2.entropy()"
   ]
  },
  {
   "cell_type": "code",
   "execution_count": 51,
   "metadata": {},
   "outputs": [
    {
     "data": {
      "text/plain": [
       "19512.737415460844"
      ]
     },
     "execution_count": 51,
     "metadata": {},
     "output_type": "execute_result"
    }
   ],
   "source": [
    "test1.entropy()"
   ]
  },
  {
   "cell_type": "markdown",
   "metadata": {},
   "source": [
    "### Hashing "
   ]
  },
  {
   "cell_type": "code",
   "execution_count": 52,
   "metadata": {},
   "outputs": [],
   "source": [
    "hashing=[]\n",
    "for i in range(100):\n",
    "    x=hash(states_100[i])\n",
    "    hashing.append(x)"
   ]
  },
  {
   "cell_type": "code",
   "execution_count": 56,
   "metadata": {},
   "outputs": [
    {
     "data": {
      "text/plain": [
       "100"
      ]
     },
     "execution_count": 56,
     "metadata": {},
     "output_type": "execute_result"
    }
   ],
   "source": [
    "len(hashing)"
   ]
  },
  {
   "cell_type": "markdown",
   "metadata": {},
   "source": [
    "##### non va bene hash perchè genera un codice diverso per ognuno dei 100 grafi, al posto di unire grafi con le stesse caratteristiche. devo provare a farlo in un altro modo"
   ]
  },
  {
   "cell_type": "code",
   "execution_count": 76,
   "metadata": {},
   "outputs": [
    {
     "data": {
      "text/plain": [
       "True"
      ]
     },
     "execution_count": 76,
     "metadata": {},
     "output_type": "execute_result"
    }
   ],
   "source": [
    "max(states_100[0].get_bs()[2])==max(states_100[3].get_bs()[2])"
   ]
  },
  {
   "cell_type": "code",
   "execution_count": 77,
   "metadata": {},
   "outputs": [
    {
     "data": {
      "text/plain": [
       "4"
      ]
     },
     "execution_count": 77,
     "metadata": {},
     "output_type": "execute_result"
    }
   ],
   "source": [
    "max(states_100[0].get_bs()[2])"
   ]
  },
  {
   "cell_type": "code",
   "execution_count": 111,
   "metadata": {},
   "outputs": [],
   "source": [
    "state_levels=[]\n",
    "for i in range(100):\n",
    "    levels=[]\n",
    "    for j in range(5):\n",
    "        x=max(states_100[i].get_bs()[j])\n",
    "        levels.append(x)\n",
    "    state_levels.append(levels)"
   ]
  },
  {
   "cell_type": "code",
   "execution_count": 112,
   "metadata": {},
   "outputs": [
    {
     "data": {
      "text/plain": [
       "[[66, 13, 4, 1, 0],\n",
       " [63, 13, 3, 1, 0],\n",
       " [59, 13, 3, 1, 0],\n",
       " [69, 15, 4, 1, 0],\n",
       " [71, 13, 4, 1, 0],\n",
       " [45, 8, 2, 1, 0]]"
      ]
     },
     "execution_count": 112,
     "metadata": {},
     "output_type": "execute_result"
    }
   ],
   "source": [
    "state_levels[0:6]"
   ]
  },
  {
   "cell_type": "code",
   "execution_count": 113,
   "metadata": {},
   "outputs": [],
   "source": [
    "state_type=[]\n",
    "state_test=state_levels\n",
    "for i in state_levels:\n",
    "    state_test.remove(i)\n",
    "    livelli=[]\n",
    "    livelli.append(i)\n",
    "    for j in state_test:\n",
    "        if i==j:\n",
    "            state_levels.remove(j)\n",
    "            livelli.append(j)\n",
    "    state_type.append(livelli)"
   ]
  },
  {
   "cell_type": "code",
   "execution_count": 114,
   "metadata": {},
   "outputs": [
    {
     "data": {
      "text/plain": [
       "37"
      ]
     },
     "execution_count": 114,
     "metadata": {},
     "output_type": "execute_result"
    }
   ],
   "source": [
    "len(state_type)"
   ]
  },
  {
   "cell_type": "code",
   "execution_count": 115,
   "metadata": {},
   "outputs": [
    {
     "data": {
      "text/plain": [
       "[[[66, 13, 4, 1, 0], [66, 13, 4, 1, 0], [66, 13, 4, 1, 0]],\n",
       " [[59, 13, 3, 1, 0]],\n",
       " [[71, 13, 4, 1, 0]],\n",
       " [[73, 15, 3, 1, 0]],\n",
       " [[58, 12, 3, 1, 0], [58, 12, 3, 1, 0]],\n",
       " [[67, 14, 3, 1, 0]],\n",
       " [[64, 14, 4, 1, 0], [64, 14, 4, 1, 0]],\n",
       " [[63, 13, 4, 1, 0], [63, 13, 4, 1, 0], [63, 13, 4, 1, 0], [63, 13, 4, 1, 0]],\n",
       " [[65, 15, 4, 1, 0], [65, 15, 4, 1, 0]],\n",
       " [[59, 12, 3, 1, 0], [59, 12, 3, 1, 0], [59, 12, 3, 1, 0]],\n",
       " [[63, 14, 3, 1, 0], [63, 14, 3, 1, 0]],\n",
       " [[52, 13, 3, 1, 0]],\n",
       " [[67, 15, 5, 2, 1]],\n",
       " [[64, 11, 3, 1, 0], [64, 11, 3, 1, 0]],\n",
       " [[67, 17, 4, 1, 0], [67, 17, 4, 1, 0]],\n",
       " [[51, 12, 3, 1, 0]],\n",
       " [[53, 11, 2, 1, 0]],\n",
       " [[60, 12, 3, 1, 0]],\n",
       " [[69, 13, 4, 1, 0], [69, 13, 4, 1, 0], [69, 13, 4, 1, 0]],\n",
       " [[64, 13, 4, 1, 0], [64, 13, 4, 1, 0]],\n",
       " [[57, 13, 3, 1, 0]],\n",
       " [[64, 14, 3, 1, 0]],\n",
       " [[55, 11, 3, 1, 0]],\n",
       " [[64, 13, 3, 1, 0], [64, 13, 3, 1, 0], [64, 13, 3, 1, 0], [64, 13, 3, 1, 0]],\n",
       " [[54, 12, 3, 1, 0]],\n",
       " [[54, 13, 3, 1, 0], [54, 13, 3, 1, 0]],\n",
       " [[66, 15, 4, 1, 0], [66, 15, 4, 1, 0]],\n",
       " [[65, 13, 4, 1, 0]],\n",
       " [[62, 13, 4, 1, 0]],\n",
       " [[63, 11, 3, 1, 0]],\n",
       " [[67, 13, 4, 1, 0], [67, 13, 4, 1, 0], [67, 13, 4, 1, 0], [67, 13, 4, 1, 0]],\n",
       " [[67, 16, 3, 1, 0]],\n",
       " [[54, 13, 4, 1, 0], [54, 13, 4, 1, 0], [54, 13, 4, 1, 0]],\n",
       " [[68, 13, 4, 1, 0]],\n",
       " [[56, 13, 4, 1, 0]],\n",
       " [[55, 14, 3, 1, 0]],\n",
       " [[64, 12, 3, 1, 0], [64, 12, 3, 1, 0], [64, 12, 3, 1, 0], [64, 12, 3, 1, 0]]]"
      ]
     },
     "execution_count": 115,
     "metadata": {},
     "output_type": "execute_result"
    }
   ],
   "source": [
    "state_type"
   ]
  },
  {
   "cell_type": "code",
   "execution_count": 116,
   "metadata": {},
   "outputs": [
    {
     "data": {
      "text/plain": [
       "34"
      ]
     },
     "execution_count": 116,
     "metadata": {},
     "output_type": "execute_result"
    }
   ],
   "source": [
    "len(state_levels)"
   ]
  },
  {
   "cell_type": "code",
   "execution_count": 117,
   "metadata": {},
   "outputs": [
    {
     "data": {
      "text/plain": [
       "[[63, 13, 3, 1, 0],\n",
       " [69, 15, 4, 1, 0],\n",
       " [45, 8, 2, 1, 0],\n",
       " [68, 14, 4, 1, 0],\n",
       " [56, 11, 3, 1, 0],\n",
       " [69, 15, 4, 1, 0],\n",
       " [54, 11, 3, 1, 0],\n",
       " [63, 12, 4, 1, 0],\n",
       " [57, 12, 3, 1, 0],\n",
       " [65, 14, 4, 1, 0],\n",
       " [56, 14, 4, 1, 0],\n",
       " [63, 15, 4, 1, 0],\n",
       " [50, 11, 3, 1, 0],\n",
       " [54, 10, 3, 1, 0],\n",
       " [67, 16, 4, 1, 0],\n",
       " [69, 14, 3, 1, 0],\n",
       " [72, 15, 4, 1, 0],\n",
       " [69, 15, 3, 1, 0],\n",
       " [65, 14, 3, 1, 0],\n",
       " [74, 18, 4, 1, 0],\n",
       " [68, 11, 3, 1, 0],\n",
       " [51, 11, 3, 1, 0],\n",
       " [59, 11, 3, 1, 0],\n",
       " [52, 10, 3, 1, 0],\n",
       " [68, 15, 4, 1, 0],\n",
       " [67, 15, 4, 1, 0],\n",
       " [65, 16, 4, 1, 0],\n",
       " [56, 12, 3, 1, 0],\n",
       " [63, 15, 3, 1, 0],\n",
       " [65, 13, 3, 1, 0],\n",
       " [67, 14, 4, 1, 0],\n",
       " [69, 14, 4, 1, 0],\n",
       " [63, 16, 4, 1, 0],\n",
       " [65, 13, 3, 1, 0]]"
      ]
     },
     "execution_count": 117,
     "metadata": {},
     "output_type": "execute_result"
    }
   ],
   "source": [
    "state_levels"
   ]
  },
  {
   "cell_type": "markdown",
   "metadata": {},
   "source": [
    "##### in questo modo però non riesco a discernere se la suddivisione è avvenuta correttamente"
   ]
  },
  {
   "cell_type": "code",
   "execution_count": null,
   "metadata": {},
   "outputs": [],
   "source": []
  }
 ],
 "metadata": {
  "kernelspec": {
   "display_name": "Python 3",
   "language": "python",
   "name": "python3"
  },
  "language_info": {
   "codemirror_mode": {
    "name": "ipython",
    "version": 3
   },
   "file_extension": ".py",
   "mimetype": "text/x-python",
   "name": "python",
   "nbconvert_exporter": "python",
   "pygments_lexer": "ipython3",
   "version": "3.7.3"
  }
 },
 "nbformat": 4,
 "nbformat_minor": 2
}
