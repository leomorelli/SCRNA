{
 "cells": [
  {
   "cell_type": "code",
   "execution_count": 1,
   "metadata": {},
   "outputs": [
    {
     "name": "stdout",
     "output_type": "stream",
     "text": [
      "Using matplotlib backend: nbAgg\n",
      "Populating the interactive namespace from numpy and matplotlib\n"
     ]
    }
   ],
   "source": [
    "import scanpy as sc\n",
    "import pandas as pd\n",
    "import pickle\n",
    "import time\n",
    "import anndata\n",
    "import sklearn.metrics\n",
    "%matplotlib notebook\n",
    "%pylab"
   ]
  },
  {
   "cell_type": "code",
   "execution_count": 2,
   "metadata": {},
   "outputs": [],
   "source": [
    "adata10=sc.read('mi_10x/adata_10.h5ad')\n"
   ]
  },
  {
   "cell_type": "code",
   "execution_count": 3,
   "metadata": {},
   "outputs": [],
   "source": [
    "sc.settings.verbosity = 2"
   ]
  },
  {
   "cell_type": "code",
   "execution_count": null,
   "metadata": {},
   "outputs": [],
   "source": []
  },
  {
   "cell_type": "code",
   "execution_count": 4,
   "metadata": {},
   "outputs": [
    {
     "name": "stdout",
     "output_type": "stream",
     "text": [
      "running nested Stochastic Block Model\n"
     ]
    },
    {
     "name": "stderr",
     "output_type": "stream",
     "text": [
      "/usr/lib/python3/dist-packages/graph_tool/draw/cairo_draw.py:39: RuntimeWarning: Error importing cairo. Graph drawing will not work.\n",
      "  warnings.warn(msg, RuntimeWarning)\n",
      "/usr/lib/python3/dist-packages/graph_tool/draw/cairo_draw.py:39: RuntimeWarning: Error importing cairo. Graph drawing will not work.\n",
      "  warnings.warn(msg, RuntimeWarning)\n",
      "/usr/lib/python3/dist-packages/graph_tool/draw/cairo_draw.py:39: RuntimeWarning: Error importing cairo. Graph drawing will not work.\n",
      "  warnings.warn(msg, RuntimeWarning)\n",
      "/usr/lib/python3/dist-packages/graph_tool/all.py:40: RuntimeWarning: Error importing draw module, proceeding nevertheless: /usr/lib/python3/dist-packages/cairo/_cairo.cpython-37m-x86_64-linux-gnu.so: undefined symbol: cairo_tee_surface_index\n",
      "  warnings.warn(msg, RuntimeWarning)\n"
     ]
    },
    {
     "name": "stdout",
     "output_type": "stream",
     "text": [
      "running MCMC sweep step\n",
      "equlibrating the Markov chain\n",
      "    also collecting marginals\n"
     ]
    },
    {
     "ename": "UnboundLocalError",
     "evalue": "local variable 'cell_marginals' referenced before assignment",
     "output_type": "error",
     "traceback": [
      "\u001b[0;31m---------------------------------------------------------------------------\u001b[0m",
      "\u001b[0;31mUnboundLocalError\u001b[0m                         Traceback (most recent call last)",
      "\u001b[0;32m<ipython-input-4-aa6eb4c6a5a5>\u001b[0m in \u001b[0;36m<module>\u001b[0;34m\u001b[0m\n\u001b[0;32m----> 1\u001b[0;31m \u001b[0msc\u001b[0m\u001b[0;34m.\u001b[0m\u001b[0mtl\u001b[0m\u001b[0;34m.\u001b[0m\u001b[0mnsbm\u001b[0m\u001b[0;34m(\u001b[0m\u001b[0madata10\u001b[0m\u001b[0;34m,\u001b[0m \u001b[0mrandom_seed\u001b[0m\u001b[0;34m=\u001b[0m\u001b[0;36m42\u001b[0m \u001b[0;34m)\u001b[0m\u001b[0;34m\u001b[0m\u001b[0;34m\u001b[0m\u001b[0m\n\u001b[0m",
      "\u001b[0;32m~/anaconda3/envs/scrna_test2/lib/python3.7/site-packages/scanpy/tools/_nsbm.py\u001b[0m in \u001b[0;36mnsbm\u001b[0;34m(adata, sweep_iterations, max_iterations, epsilon, equilibrate, wait, nbreaks, collect_marginals, force_niter, hierarchy_length, restrict_to, random_seed, key_added, adjacency, directed, use_weights, save_state, copy, **mcmc_equilibrate_kwargs)\u001b[0m\n\u001b[1;32m    284\u001b[0m         \u001b[0;31m# parent levels, according to groupings\u001b[0m\u001b[0;34m\u001b[0m\u001b[0;34m\u001b[0m\u001b[0;34m\u001b[0m\u001b[0m\n\u001b[1;32m    285\u001b[0m         \u001b[0ml0_ngroups\u001b[0m \u001b[0;34m=\u001b[0m \u001b[0mstate\u001b[0m\u001b[0;34m.\u001b[0m\u001b[0mget_levels\u001b[0m\u001b[0;34m(\u001b[0m\u001b[0;34m)\u001b[0m\u001b[0;34m[\u001b[0m\u001b[0;36m0\u001b[0m\u001b[0;34m]\u001b[0m\u001b[0;34m.\u001b[0m\u001b[0mget_nonempty_B\u001b[0m\u001b[0;34m(\u001b[0m\u001b[0;34m)\u001b[0m\u001b[0;34m\u001b[0m\u001b[0;34m\u001b[0m\u001b[0m\n\u001b[0;32m--> 286\u001b[0;31m         \u001b[0ml0_counts\u001b[0m \u001b[0;34m=\u001b[0m \u001b[0mcell_marginals\u001b[0m\u001b[0;34m[\u001b[0m\u001b[0;36m0\u001b[0m\u001b[0;34m]\u001b[0m\u001b[0;34m.\u001b[0m\u001b[0mget_2d_array\u001b[0m\u001b[0;34m(\u001b[0m\u001b[0mrange\u001b[0m\u001b[0;34m(\u001b[0m\u001b[0ml0_ngroups\u001b[0m\u001b[0;34m)\u001b[0m\u001b[0;34m)\u001b[0m\u001b[0;34m\u001b[0m\u001b[0;34m\u001b[0m\u001b[0m\n\u001b[0m\u001b[1;32m    287\u001b[0m         \u001b[0mc0\u001b[0m \u001b[0;34m=\u001b[0m \u001b[0ml0_counts\u001b[0m\u001b[0;34m.\u001b[0m\u001b[0mT\u001b[0m\u001b[0;34m\u001b[0m\u001b[0;34m\u001b[0m\u001b[0m\n\u001b[1;32m    288\u001b[0m         \u001b[0madata\u001b[0m\u001b[0;34m.\u001b[0m\u001b[0muns\u001b[0m\u001b[0;34m[\u001b[0m\u001b[0;34m'nsbm'\u001b[0m\u001b[0;34m]\u001b[0m\u001b[0;34m[\u001b[0m\u001b[0;34m'cell_marginals'\u001b[0m\u001b[0;34m]\u001b[0m\u001b[0;34m[\u001b[0m\u001b[0;34m'level_0'\u001b[0m\u001b[0;34m]\u001b[0m \u001b[0;34m=\u001b[0m \u001b[0mc0\u001b[0m\u001b[0;34m\u001b[0m\u001b[0;34m\u001b[0m\u001b[0m\n",
      "\u001b[0;31mUnboundLocalError\u001b[0m: local variable 'cell_marginals' referenced before assignment"
     ]
    }
   ],
   "source": [
    "sc.tl.nsbm(adata10, random_seed=42 )"
   ]
  },
  {
   "cell_type": "code",
   "execution_count": 19,
   "metadata": {
    "scrolled": false
   },
   "outputs": [],
   "source": [
    "sc.tl.nsbm(adata10, collect_marginals=False, equilibrate=False, random_seed=42)"
   ]
  },
  {
   "cell_type": "markdown",
   "metadata": {},
   "source": [
    "### qui ho canbiato il codice: ho messo if equilibrate prima di equilibrate_dS e l'ho salvato"
   ]
  },
  {
   "cell_type": "code",
   "execution_count": 20,
   "metadata": {},
   "outputs": [],
   "source": [
    "state_e = adata10.uns[\"nsbm\"][\"state\"].copy()\n",
    "state_ec = adata10.uns[\"nsbm\"][\"state\"].copy()"
   ]
  },
  {
   "cell_type": "code",
   "execution_count": 21,
   "metadata": {},
   "outputs": [],
   "source": [
    "wait=1000\n",
    "nbreaks=2\n",
    "epsilon=0.001\n",
    "max_iterations=1000000\n"
   ]
  },
  {
   "cell_type": "code",
   "execution_count": 22,
   "metadata": {},
   "outputs": [
    {
     "ename": "ValueError",
     "evalue": "Received property map for graph <Graph object, undirected, with 860 vertices and 5990 edges at 0x7ff6a2e34890> (base: <Graph object, undirected, with 860 vertices and 5990 edges at 0x7ff6a2e34890>), expected: <Graph object, undirected, with 860 vertices and 5990 edges at 0x7ff6cf8290d0> (base: <Graph object, undirected, with 860 vertices and 5990 edges at 0x7ff6cf8290d0>)",
     "output_type": "error",
     "traceback": [
      "\u001b[0;31m---------------------------------------------------------------------------\u001b[0m",
      "\u001b[0;31mValueError\u001b[0m                                Traceback (most recent call last)",
      "\u001b[0;32m<ipython-input-22-a75307ac334b>\u001b[0m in \u001b[0;36m<module>\u001b[0;34m\u001b[0m\n\u001b[1;32m      4\u001b[0m                                                             \u001b[0mmax_niter\u001b[0m\u001b[0;34m=\u001b[0m\u001b[0mmax_iterations\u001b[0m\u001b[0;34m,\u001b[0m\u001b[0;34m\u001b[0m\u001b[0;34m\u001b[0m\u001b[0m\n\u001b[1;32m      5\u001b[0m                                                             \u001b[0mmcmc_args\u001b[0m\u001b[0;34m=\u001b[0m\u001b[0mdict\u001b[0m\u001b[0;34m(\u001b[0m\u001b[0mniter\u001b[0m\u001b[0;34m=\u001b[0m\u001b[0;36m10\u001b[0m\u001b[0;34m)\u001b[0m\u001b[0;34m,\u001b[0m\u001b[0;34m\u001b[0m\u001b[0;34m\u001b[0m\u001b[0m\n\u001b[0;32m----> 6\u001b[0;31m                                                             \u001b[0mcallback\u001b[0m\u001b[0;34m=\u001b[0m\u001b[0m_collect_marginals\u001b[0m\u001b[0;34m\u001b[0m\u001b[0;34m\u001b[0m\u001b[0m\n\u001b[0m\u001b[1;32m      7\u001b[0m                                                             )\n\u001b[1;32m      8\u001b[0m \u001b[0;34m\u001b[0m\u001b[0m\n",
      "\u001b[0;32m/usr/lib/python3/dist-packages/graph_tool/inference/mcmc.py\u001b[0m in \u001b[0;36mmcmc_equilibrate\u001b[0;34m(state, wait, nbreaks, max_niter, force_niter, epsilon, gibbs, multiflip, mcmc_args, entropy_args, history, callback, verbose)\u001b[0m\n\u001b[1;32m    159\u001b[0m         \u001b[0mextra\u001b[0m \u001b[0;34m=\u001b[0m \u001b[0;34m[\u001b[0m\u001b[0;34m]\u001b[0m\u001b[0;34m\u001b[0m\u001b[0;34m\u001b[0m\u001b[0m\n\u001b[1;32m    160\u001b[0m         \u001b[0;32mif\u001b[0m \u001b[0mcallback\u001b[0m \u001b[0;32mis\u001b[0m \u001b[0;32mnot\u001b[0m \u001b[0;32mNone\u001b[0m\u001b[0;34m:\u001b[0m\u001b[0;34m\u001b[0m\u001b[0;34m\u001b[0m\u001b[0m\n\u001b[0;32m--> 161\u001b[0;31m             \u001b[0mextra\u001b[0m \u001b[0;34m=\u001b[0m \u001b[0mcallback\u001b[0m\u001b[0;34m(\u001b[0m\u001b[0mstate\u001b[0m\u001b[0;34m)\u001b[0m\u001b[0;34m\u001b[0m\u001b[0;34m\u001b[0m\u001b[0m\n\u001b[0m\u001b[1;32m    162\u001b[0m             \u001b[0;32mif\u001b[0m \u001b[0mextra\u001b[0m \u001b[0;32mis\u001b[0m \u001b[0;32mNone\u001b[0m\u001b[0;34m:\u001b[0m\u001b[0;34m\u001b[0m\u001b[0;34m\u001b[0m\u001b[0m\n\u001b[1;32m    163\u001b[0m                 \u001b[0mextra\u001b[0m \u001b[0;34m=\u001b[0m \u001b[0;34m[\u001b[0m\u001b[0;34m]\u001b[0m\u001b[0;34m\u001b[0m\u001b[0;34m\u001b[0m\u001b[0m\n",
      "\u001b[0;32m<ipython-input-13-44afafa6b88c>\u001b[0m in \u001b[0;36m_collect_marginals\u001b[0;34m(s)\u001b[0m\n\u001b[1;32m      3\u001b[0m     \u001b[0;32mglobal\u001b[0m \u001b[0mcell_marginals\u001b[0m\u001b[0;34m\u001b[0m\u001b[0;34m\u001b[0m\u001b[0m\n\u001b[1;32m      4\u001b[0m     \u001b[0;32mtry\u001b[0m\u001b[0;34m:\u001b[0m\u001b[0;34m\u001b[0m\u001b[0;34m\u001b[0m\u001b[0m\n\u001b[0;32m----> 5\u001b[0;31m         \u001b[0mcell_marginals\u001b[0m \u001b[0;34m=\u001b[0m \u001b[0;34m[\u001b[0m\u001b[0msl\u001b[0m\u001b[0;34m.\u001b[0m\u001b[0mcollect_vertex_marginals\u001b[0m\u001b[0;34m(\u001b[0m\u001b[0mcell_marginals\u001b[0m\u001b[0;34m[\u001b[0m\u001b[0ml\u001b[0m\u001b[0;34m]\u001b[0m\u001b[0;34m)\u001b[0m \u001b[0;32mfor\u001b[0m \u001b[0ml\u001b[0m\u001b[0;34m,\u001b[0m \u001b[0msl\u001b[0m \u001b[0;32min\u001b[0m \u001b[0menumerate\u001b[0m\u001b[0;34m(\u001b[0m\u001b[0mlevels\u001b[0m\u001b[0;34m)\u001b[0m\u001b[0;34m]\u001b[0m\u001b[0;34m\u001b[0m\u001b[0;34m\u001b[0m\u001b[0m\n\u001b[0m\u001b[1;32m      6\u001b[0m     \u001b[0;32mexcept\u001b[0m \u001b[0mNameError\u001b[0m\u001b[0;34m:\u001b[0m\u001b[0;34m\u001b[0m\u001b[0;34m\u001b[0m\u001b[0m\n\u001b[1;32m      7\u001b[0m         \u001b[0mcell_marginals\u001b[0m \u001b[0;34m=\u001b[0m \u001b[0;34m[\u001b[0m\u001b[0;32mNone\u001b[0m\u001b[0;34m]\u001b[0m \u001b[0;34m*\u001b[0m \u001b[0mlen\u001b[0m\u001b[0;34m(\u001b[0m\u001b[0mstate\u001b[0m\u001b[0;34m.\u001b[0m\u001b[0mget_levels\u001b[0m\u001b[0;34m(\u001b[0m\u001b[0;34m)\u001b[0m\u001b[0;34m)\u001b[0m\u001b[0;34m\u001b[0m\u001b[0;34m\u001b[0m\u001b[0m\n",
      "\u001b[0;32m<ipython-input-13-44afafa6b88c>\u001b[0m in \u001b[0;36m<listcomp>\u001b[0;34m(.0)\u001b[0m\n\u001b[1;32m      3\u001b[0m     \u001b[0;32mglobal\u001b[0m \u001b[0mcell_marginals\u001b[0m\u001b[0;34m\u001b[0m\u001b[0;34m\u001b[0m\u001b[0m\n\u001b[1;32m      4\u001b[0m     \u001b[0;32mtry\u001b[0m\u001b[0;34m:\u001b[0m\u001b[0;34m\u001b[0m\u001b[0;34m\u001b[0m\u001b[0m\n\u001b[0;32m----> 5\u001b[0;31m         \u001b[0mcell_marginals\u001b[0m \u001b[0;34m=\u001b[0m \u001b[0;34m[\u001b[0m\u001b[0msl\u001b[0m\u001b[0;34m.\u001b[0m\u001b[0mcollect_vertex_marginals\u001b[0m\u001b[0;34m(\u001b[0m\u001b[0mcell_marginals\u001b[0m\u001b[0;34m[\u001b[0m\u001b[0ml\u001b[0m\u001b[0;34m]\u001b[0m\u001b[0;34m)\u001b[0m \u001b[0;32mfor\u001b[0m \u001b[0ml\u001b[0m\u001b[0;34m,\u001b[0m \u001b[0msl\u001b[0m \u001b[0;32min\u001b[0m \u001b[0menumerate\u001b[0m\u001b[0;34m(\u001b[0m\u001b[0mlevels\u001b[0m\u001b[0;34m)\u001b[0m\u001b[0;34m]\u001b[0m\u001b[0;34m\u001b[0m\u001b[0;34m\u001b[0m\u001b[0m\n\u001b[0m\u001b[1;32m      6\u001b[0m     \u001b[0;32mexcept\u001b[0m \u001b[0mNameError\u001b[0m\u001b[0;34m:\u001b[0m\u001b[0;34m\u001b[0m\u001b[0;34m\u001b[0m\u001b[0m\n\u001b[1;32m      7\u001b[0m         \u001b[0mcell_marginals\u001b[0m \u001b[0;34m=\u001b[0m \u001b[0;34m[\u001b[0m\u001b[0;32mNone\u001b[0m\u001b[0;34m]\u001b[0m \u001b[0;34m*\u001b[0m \u001b[0mlen\u001b[0m\u001b[0;34m(\u001b[0m\u001b[0mstate\u001b[0m\u001b[0;34m.\u001b[0m\u001b[0mget_levels\u001b[0m\u001b[0;34m(\u001b[0m\u001b[0;34m)\u001b[0m\u001b[0;34m)\u001b[0m\u001b[0;34m\u001b[0m\u001b[0;34m\u001b[0m\u001b[0m\n",
      "\u001b[0;32m/usr/lib/python3/dist-packages/graph_tool/inference/blockmodel.py\u001b[0m in \u001b[0;36mcollect_vertex_marginals\u001b[0;34m(self, p, b, unlabel, update)\u001b[0m\n\u001b[1;32m   2165\u001b[0m         libinference.vertex_marginals(self.g._Graph__graph,\n\u001b[1;32m   2166\u001b[0m                                       \u001b[0m_prop\u001b[0m\u001b[0;34m(\u001b[0m\u001b[0;34m\"v\"\u001b[0m\u001b[0;34m,\u001b[0m \u001b[0mself\u001b[0m\u001b[0;34m.\u001b[0m\u001b[0mg\u001b[0m\u001b[0;34m,\u001b[0m \u001b[0mb\u001b[0m\u001b[0;34m)\u001b[0m\u001b[0;34m,\u001b[0m\u001b[0;34m\u001b[0m\u001b[0;34m\u001b[0m\u001b[0m\n\u001b[0;32m-> 2167\u001b[0;31m                                       \u001b[0m_prop\u001b[0m\u001b[0;34m(\u001b[0m\u001b[0;34m\"v\"\u001b[0m\u001b[0;34m,\u001b[0m \u001b[0mself\u001b[0m\u001b[0;34m.\u001b[0m\u001b[0mg\u001b[0m\u001b[0;34m,\u001b[0m \u001b[0mp\u001b[0m\u001b[0;34m)\u001b[0m\u001b[0;34m,\u001b[0m\u001b[0;34m\u001b[0m\u001b[0;34m\u001b[0m\u001b[0m\n\u001b[0m\u001b[1;32m   2168\u001b[0m                                       update)\n\u001b[1;32m   2169\u001b[0m         \u001b[0;32mreturn\u001b[0m \u001b[0mp\u001b[0m\u001b[0;34m\u001b[0m\u001b[0;34m\u001b[0m\u001b[0m\n",
      "\u001b[0;32m/usr/lib/python3/dist-packages/graph_tool/__init__.py\u001b[0m in \u001b[0;36m_prop\u001b[0;34m(t, g, prop)\u001b[0m\n\u001b[1;32m    192\u001b[0m     \u001b[0;32mif\u001b[0m \u001b[0mg\u001b[0m\u001b[0;34m.\u001b[0m\u001b[0mbase\u001b[0m \u001b[0;32mis\u001b[0m \u001b[0;32mnot\u001b[0m \u001b[0mu\u001b[0m\u001b[0;34m.\u001b[0m\u001b[0mbase\u001b[0m\u001b[0;34m:\u001b[0m\u001b[0;34m\u001b[0m\u001b[0;34m\u001b[0m\u001b[0m\n\u001b[1;32m    193\u001b[0m         raise ValueError(\"Received property map for graph %s (base: %s), expected: %s (base: %s)\" %\n\u001b[0;32m--> 194\u001b[0;31m                          (str(g), str(g.base), str(u), str(u.base)))\n\u001b[0m\u001b[1;32m    195\u001b[0m     \u001b[0;32mreturn\u001b[0m \u001b[0mpmap\u001b[0m\u001b[0;34m.\u001b[0m\u001b[0m_get_any\u001b[0m\u001b[0;34m(\u001b[0m\u001b[0;34m)\u001b[0m\u001b[0;34m\u001b[0m\u001b[0;34m\u001b[0m\u001b[0m\n\u001b[1;32m    196\u001b[0m \u001b[0;34m\u001b[0m\u001b[0m\n",
      "\u001b[0;31mValueError\u001b[0m: Received property map for graph <Graph object, undirected, with 860 vertices and 5990 edges at 0x7ff6a2e34890> (base: <Graph object, undirected, with 860 vertices and 5990 edges at 0x7ff6a2e34890>), expected: <Graph object, undirected, with 860 vertices and 5990 edges at 0x7ff6cf8290d0> (base: <Graph object, undirected, with 860 vertices and 5990 edges at 0x7ff6cf8290d0>)"
     ]
    }
   ],
   "source": [
    "e_dS, e_nattempts, e_nmoves = gt.mcmc_equilibrate(state_ec, wait=wait,\n",
    "                                                            nbreaks=nbreaks,\n",
    "                                                            epsilon=epsilon,\n",
    "                                                            max_niter=max_iterations,\n",
    "                                                            mcmc_args=dict(niter=10),\n",
    "                                                            callback=_collect_marginals\n",
    "                                                            )\n",
    "\n",
    "    # "
   ]
  },
  {
   "cell_type": "code",
   "execution_count": 11,
   "metadata": {},
   "outputs": [],
   "source": [
    "import graph_tool.all as gt"
   ]
  },
  {
   "cell_type": "code",
   "execution_count": 23,
   "metadata": {},
   "outputs": [],
   "source": [
    "e_dS, e_nattempts, e_nmoves = gt.mcmc_equilibrate(state_e, wait=wait,\n",
    "                                                            nbreaks=nbreaks,\n",
    "                                                            epsilon=epsilon,\n",
    "                                                            max_niter=max_iterations,\n",
    "                                                            mcmc_args=dict(niter=10)\n",
    "                                                            )"
   ]
  },
  {
   "cell_type": "code",
   "execution_count": 13,
   "metadata": {},
   "outputs": [],
   "source": [
    "def _collect_marginals(s):\n",
    "    levels = s.get_levels()\n",
    "    global cell_marginals\n",
    "    try:\n",
    "        cell_marginals = [sl.collect_vertex_marginals(cell_marginals[l]) for l, sl in enumerate(levels)]\n",
    "    except NameError:\n",
    "        cell_marginals = [None] * len(state.get_levels())"
   ]
  },
  {
   "cell_type": "code",
   "execution_count": 41,
   "metadata": {},
   "outputs": [],
   "source": [
    "del cell_marginals"
   ]
  },
  {
   "cell_type": "code",
   "execution_count": 42,
   "metadata": {},
   "outputs": [],
   "source": [
    "e_dS, e_nattempts, e_nmoves = gt.mcmc_equilibrate(state_e, wait=1000,\n",
    "                                                            nbreaks=2,\n",
    "                                                            epsilon=epsilon,\n",
    "                                                            force_niter=1000,\n",
    "                                                            max_niter=max_iterations,\n",
    "                                                            mcmc_args=dict(niter=10),\n",
    "                                                            callback=_collect_marginals\n",
    "                                                            )\n",
    "\n",
    "    # "
   ]
  },
  {
   "cell_type": "code",
   "execution_count": 43,
   "metadata": {},
   "outputs": [
    {
     "data": {
      "text/plain": [
       "[<VertexPropertyMap object with value type 'vector<int32_t>', for Graph 0x7ff6a2e34890, at 0x7ff6a26d9dd0>,\n",
       " <VertexPropertyMap object with value type 'vector<int32_t>', for Graph 0x7ff6a28d5250, at 0x7ff6a27dbf90>,\n",
       " <VertexPropertyMap object with value type 'vector<int32_t>', for Graph 0x7ff6a2a41cd0, at 0x7ff6a25d5810>,\n",
       " <VertexPropertyMap object with value type 'vector<int32_t>', for Graph 0x7ff6a2deecd0, at 0x7ff6a25d5b10>,\n",
       " <VertexPropertyMap object with value type 'vector<int32_t>', for Graph 0x7ff6a2bd3b50, at 0x7ff6cf86ec10>,\n",
       " <VertexPropertyMap object with value type 'vector<int32_t>', for Graph 0x7ff6a26eb990, at 0x7ff6a2a5f390>,\n",
       " <VertexPropertyMap object with value type 'vector<int32_t>', for Graph 0x7ff6a26bfc90, at 0x7ff6a2a5f8d0>,\n",
       " <VertexPropertyMap object with value type 'vector<int32_t>', for Graph 0x7ff6a2bccf10, at 0x7ff6a2a5fb10>,\n",
       " <VertexPropertyMap object with value type 'vector<int32_t>', for Graph 0x7ff6a2bc7b10, at 0x7ff6a2a5f490>,\n",
       " <VertexPropertyMap object with value type 'vector<int32_t>', for Graph 0x7ff6a26d6b90, at 0x7ff6cf86ea90>]"
      ]
     },
     "execution_count": 43,
     "metadata": {},
     "output_type": "execute_result"
    }
   ],
   "source": [
    "cell_marginals"
   ]
  },
  {
   "cell_type": "code",
   "execution_count": 30,
   "metadata": {},
   "outputs": [],
   "source": [
    "bs = state_e.get_bs()\n",
    "groups = np.zeros((adata10.shape[0], len(bs)), dtype=int)\n",
    "\n",
    "for x in range(len(bs)):\n",
    "    groups[:, x] = [n for n in state.project_partition(x, 0)]\n",
    "\n",
    "groups = pd.DataFrame(groups).astype('category')\n",
    "for c in groups.columns:\n",
    "    new_cat_names = [u'%s' % x for x in range(len(groups.loc[:, c].cat.categories))]\n",
    "    groups.loc[:, c].cat.rename_categories(new_cat_names, inplace=True)\n",
    "\n",
    "groups.index = adata10.obs_names\n",
    "key_added = \"nsbm§\"\n",
    "groups.columns = [\"%s_level_%d\" % (key_added, level) for level in range(len(bs))]"
   ]
  },
  {
   "cell_type": "code",
   "execution_count": 31,
   "metadata": {},
   "outputs": [
    {
     "data": {
      "text/html": [
       "<div>\n",
       "<style scoped>\n",
       "    .dataframe tbody tr th:only-of-type {\n",
       "        vertical-align: middle;\n",
       "    }\n",
       "\n",
       "    .dataframe tbody tr th {\n",
       "        vertical-align: top;\n",
       "    }\n",
       "\n",
       "    .dataframe thead th {\n",
       "        text-align: right;\n",
       "    }\n",
       "</style>\n",
       "<table border=\"1\" class=\"dataframe\">\n",
       "  <thead>\n",
       "    <tr style=\"text-align: right;\">\n",
       "      <th></th>\n",
       "      <th>nsbm§_level_0</th>\n",
       "      <th>nsbm§_level_1</th>\n",
       "      <th>nsbm§_level_2</th>\n",
       "      <th>nsbm§_level_3</th>\n",
       "      <th>nsbm§_level_4</th>\n",
       "      <th>nsbm§_level_5</th>\n",
       "      <th>nsbm§_level_6</th>\n",
       "      <th>nsbm§_level_7</th>\n",
       "      <th>nsbm§_level_8</th>\n",
       "      <th>nsbm§_level_9</th>\n",
       "    </tr>\n",
       "    <tr>\n",
       "      <th>index</th>\n",
       "      <th></th>\n",
       "      <th></th>\n",
       "      <th></th>\n",
       "      <th></th>\n",
       "      <th></th>\n",
       "      <th></th>\n",
       "      <th></th>\n",
       "      <th></th>\n",
       "      <th></th>\n",
       "      <th></th>\n",
       "    </tr>\n",
       "  </thead>\n",
       "  <tbody>\n",
       "    <tr>\n",
       "      <td>Lib90_00004</td>\n",
       "      <td>0</td>\n",
       "      <td>5</td>\n",
       "      <td>3</td>\n",
       "      <td>0</td>\n",
       "      <td>0</td>\n",
       "      <td>0</td>\n",
       "      <td>0</td>\n",
       "      <td>0</td>\n",
       "      <td>0</td>\n",
       "      <td>0</td>\n",
       "    </tr>\n",
       "    <tr>\n",
       "      <td>Lib90_00006</td>\n",
       "      <td>1</td>\n",
       "      <td>1</td>\n",
       "      <td>1</td>\n",
       "      <td>1</td>\n",
       "      <td>0</td>\n",
       "      <td>0</td>\n",
       "      <td>0</td>\n",
       "      <td>0</td>\n",
       "      <td>0</td>\n",
       "      <td>0</td>\n",
       "    </tr>\n",
       "    <tr>\n",
       "      <td>Lib90_00007</td>\n",
       "      <td>1</td>\n",
       "      <td>1</td>\n",
       "      <td>1</td>\n",
       "      <td>1</td>\n",
       "      <td>0</td>\n",
       "      <td>0</td>\n",
       "      <td>0</td>\n",
       "      <td>0</td>\n",
       "      <td>0</td>\n",
       "      <td>0</td>\n",
       "    </tr>\n",
       "    <tr>\n",
       "      <td>Lib90_00012</td>\n",
       "      <td>2</td>\n",
       "      <td>5</td>\n",
       "      <td>3</td>\n",
       "      <td>0</td>\n",
       "      <td>0</td>\n",
       "      <td>0</td>\n",
       "      <td>0</td>\n",
       "      <td>0</td>\n",
       "      <td>0</td>\n",
       "      <td>0</td>\n",
       "    </tr>\n",
       "    <tr>\n",
       "      <td>Lib90_00013</td>\n",
       "      <td>0</td>\n",
       "      <td>5</td>\n",
       "      <td>3</td>\n",
       "      <td>0</td>\n",
       "      <td>0</td>\n",
       "      <td>0</td>\n",
       "      <td>0</td>\n",
       "      <td>0</td>\n",
       "      <td>0</td>\n",
       "      <td>0</td>\n",
       "    </tr>\n",
       "    <tr>\n",
       "      <td>...</td>\n",
       "      <td>...</td>\n",
       "      <td>...</td>\n",
       "      <td>...</td>\n",
       "      <td>...</td>\n",
       "      <td>...</td>\n",
       "      <td>...</td>\n",
       "      <td>...</td>\n",
       "      <td>...</td>\n",
       "      <td>...</td>\n",
       "      <td>...</td>\n",
       "    </tr>\n",
       "    <tr>\n",
       "      <td>Lib90_03981</td>\n",
       "      <td>6</td>\n",
       "      <td>2</td>\n",
       "      <td>2</td>\n",
       "      <td>0</td>\n",
       "      <td>0</td>\n",
       "      <td>0</td>\n",
       "      <td>0</td>\n",
       "      <td>0</td>\n",
       "      <td>0</td>\n",
       "      <td>0</td>\n",
       "    </tr>\n",
       "    <tr>\n",
       "      <td>Lib90_04019</td>\n",
       "      <td>47</td>\n",
       "      <td>12</td>\n",
       "      <td>2</td>\n",
       "      <td>0</td>\n",
       "      <td>0</td>\n",
       "      <td>0</td>\n",
       "      <td>0</td>\n",
       "      <td>0</td>\n",
       "      <td>0</td>\n",
       "      <td>0</td>\n",
       "    </tr>\n",
       "    <tr>\n",
       "      <td>Lib90_04024</td>\n",
       "      <td>13</td>\n",
       "      <td>0</td>\n",
       "      <td>0</td>\n",
       "      <td>1</td>\n",
       "      <td>0</td>\n",
       "      <td>0</td>\n",
       "      <td>0</td>\n",
       "      <td>0</td>\n",
       "      <td>0</td>\n",
       "      <td>0</td>\n",
       "    </tr>\n",
       "    <tr>\n",
       "      <td>Lib90_04048</td>\n",
       "      <td>47</td>\n",
       "      <td>12</td>\n",
       "      <td>2</td>\n",
       "      <td>0</td>\n",
       "      <td>0</td>\n",
       "      <td>0</td>\n",
       "      <td>0</td>\n",
       "      <td>0</td>\n",
       "      <td>0</td>\n",
       "      <td>0</td>\n",
       "    </tr>\n",
       "    <tr>\n",
       "      <td>Lib90_04057</td>\n",
       "      <td>24</td>\n",
       "      <td>2</td>\n",
       "      <td>2</td>\n",
       "      <td>0</td>\n",
       "      <td>0</td>\n",
       "      <td>0</td>\n",
       "      <td>0</td>\n",
       "      <td>0</td>\n",
       "      <td>0</td>\n",
       "      <td>0</td>\n",
       "    </tr>\n",
       "  </tbody>\n",
       "</table>\n",
       "<p>860 rows × 10 columns</p>\n",
       "</div>"
      ],
      "text/plain": [
       "            nsbm§_level_0 nsbm§_level_1 nsbm§_level_2 nsbm§_level_3  \\\n",
       "index                                                                 \n",
       "Lib90_00004             0             5             3             0   \n",
       "Lib90_00006             1             1             1             1   \n",
       "Lib90_00007             1             1             1             1   \n",
       "Lib90_00012             2             5             3             0   \n",
       "Lib90_00013             0             5             3             0   \n",
       "...                   ...           ...           ...           ...   \n",
       "Lib90_03981             6             2             2             0   \n",
       "Lib90_04019            47            12             2             0   \n",
       "Lib90_04024            13             0             0             1   \n",
       "Lib90_04048            47            12             2             0   \n",
       "Lib90_04057            24             2             2             0   \n",
       "\n",
       "            nsbm§_level_4 nsbm§_level_5 nsbm§_level_6 nsbm§_level_7  \\\n",
       "index                                                                 \n",
       "Lib90_00004             0             0             0             0   \n",
       "Lib90_00006             0             0             0             0   \n",
       "Lib90_00007             0             0             0             0   \n",
       "Lib90_00012             0             0             0             0   \n",
       "Lib90_00013             0             0             0             0   \n",
       "...                   ...           ...           ...           ...   \n",
       "Lib90_03981             0             0             0             0   \n",
       "Lib90_04019             0             0             0             0   \n",
       "Lib90_04024             0             0             0             0   \n",
       "Lib90_04048             0             0             0             0   \n",
       "Lib90_04057             0             0             0             0   \n",
       "\n",
       "            nsbm§_level_8 nsbm§_level_9  \n",
       "index                                    \n",
       "Lib90_00004             0             0  \n",
       "Lib90_00006             0             0  \n",
       "Lib90_00007             0             0  \n",
       "Lib90_00012             0             0  \n",
       "Lib90_00013             0             0  \n",
       "...                   ...           ...  \n",
       "Lib90_03981             0             0  \n",
       "Lib90_04019             0             0  \n",
       "Lib90_04024             0             0  \n",
       "Lib90_04048             0             0  \n",
       "Lib90_04057             0             0  \n",
       "\n",
       "[860 rows x 10 columns]"
      ]
     },
     "execution_count": 31,
     "metadata": {},
     "output_type": "execute_result"
    }
   ],
   "source": [
    "groups"
   ]
  },
  {
   "cell_type": "code",
   "execution_count": 33,
   "metadata": {},
   "outputs": [],
   "source": [
    "adata10.uns['nsbm']['cell_marginals'] = {}\n",
    "l0_ngroups = state_e.get_levels()[0].get_nonempty_B()\n",
    "l0_counts = cell_marginals[0].get_2d_array(range(l0_ngroups))\n",
    "c0 = l0_counts.T\n",
    "adata10.uns['nsbm']['cell_marginals']['level_0'] = c0\n",
    "\n",
    "l0 = \"%s_level_0\" % key_added\n",
    "for level in groups.columns[1:]:\n",
    "    cross_tab = pd.crosstab(groups.loc[:, l0], groups.loc[:, level])\n",
    "    key_name = level.replace('%s_' % key_added, '')\n",
    "    cl = np.zeros((c0.shape[0], cross_tab.shape[1]), dtype=c0.dtype)\n",
    "    for x in range(cl.shape[1]):\n",
    "        cl[:, x] = c0[:, np.where(cross_tab.iloc[:, x] > 0)[0]].sum(axis=1)\n",
    "    adata10.uns['nsbm']['cell_marginals'][key_name] = cl"
   ]
  },
  {
   "cell_type": "code",
   "execution_count": 40,
   "metadata": {},
   "outputs": [
    {
     "data": {
      "text/plain": [
       "array([[  0,   0,   0, 998],\n",
       "       [  0, 998,   0,   0],\n",
       "       [  0, 998,   0,   0],\n",
       "       ...,\n",
       "       [ 48,   0, 950,   0],\n",
       "       [  0, 893, 105,   0],\n",
       "       [  0,   0,   4, 994]], dtype=int32)"
      ]
     },
     "execution_count": 40,
     "metadata": {},
     "output_type": "execute_result"
    }
   ],
   "source": [
    "adata10.uns[\"nsbm\"][\"cell_marginals\"][\"level_2\"]"
   ]
  },
  {
   "cell_type": "code",
   "execution_count": null,
   "metadata": {},
   "outputs": [],
   "source": []
  }
 ],
 "metadata": {
  "kernelspec": {
   "display_name": "Python 3",
   "language": "python",
   "name": "python3"
  },
  "language_info": {
   "codemirror_mode": {
    "name": "ipython",
    "version": 3
   },
   "file_extension": ".py",
   "mimetype": "text/x-python",
   "name": "python",
   "nbconvert_exporter": "python",
   "pygments_lexer": "ipython3",
   "version": "3.7.4"
  }
 },
 "nbformat": 4,
 "nbformat_minor": 2
}
