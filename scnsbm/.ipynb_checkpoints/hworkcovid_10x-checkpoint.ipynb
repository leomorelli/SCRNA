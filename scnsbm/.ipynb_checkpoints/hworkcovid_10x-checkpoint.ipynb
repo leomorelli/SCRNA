{
 "cells": [
  {
   "cell_type": "code",
   "execution_count": 1,
   "metadata": {
    "scrolled": true
   },
   "outputs": [
    {
     "name": "stderr",
     "output_type": "stream",
     "text": [
      "/usr/lib/python3/dist-packages/graph_tool/draw/cairo_draw.py:39: RuntimeWarning: Error importing cairo. Graph drawing will not work.\n",
      "  warnings.warn(msg, RuntimeWarning)\n",
      "/usr/lib/python3/dist-packages/graph_tool/draw/cairo_draw.py:39: RuntimeWarning: Error importing cairo. Graph drawing will not work.\n",
      "  warnings.warn(msg, RuntimeWarning)\n",
      "/usr/lib/python3/dist-packages/graph_tool/draw/cairo_draw.py:39: RuntimeWarning: Error importing cairo. Graph drawing will not work.\n",
      "  warnings.warn(msg, RuntimeWarning)\n",
      "/usr/lib/python3/dist-packages/graph_tool/all.py:40: RuntimeWarning: Error importing draw module, proceeding nevertheless: /usr/lib/python3/dist-packages/cairo/_cairo.cpython-37m-x86_64-linux-gnu.so: undefined symbol: cairo_tee_surface_index\n",
      "  warnings.warn(msg, RuntimeWarning)\n"
     ]
    },
    {
     "name": "stdout",
     "output_type": "stream",
     "text": [
      "Using matplotlib backend: nbAgg\n",
      "Populating the interactive namespace from numpy and matplotlib\n"
     ]
    }
   ],
   "source": [
    "import scanpy as sc\n",
    "import pandas as pd\n",
    "import pickle\n",
    "import scnsbm\n",
    "import time\n",
    "import anndata\n",
    "import sklearn.metrics\n",
    "import statistics\n",
    "%matplotlib notebook\n",
    "%pylab"
   ]
  },
  {
   "cell_type": "code",
   "execution_count": 7,
   "metadata": {},
   "outputs": [],
   "source": [
    "adata=sc.read('mi_10x/adata_base.h5ad')"
   ]
  },
  {
   "cell_type": "code",
   "execution_count": 8,
   "metadata": {},
   "outputs": [],
   "source": [
    "nei=[x for x in range(5,51,5)]\n",
    "adatone=[]\n",
    "for x in nei:\n",
    "    adata=sc.read('mi_10x/adata_base.h5ad')\n",
    "    sc.pp.neighbors(adata, n_neighbors=x, n_pcs=40)\n",
    "    adatone.append(adata)\n",
    "adatone[0].write('hworkcovid_10x/adata_5.h5ad')\n",
    "adatone[1].write('hworkcovid_10x/adata_10.h5ad')\n",
    "adatone[2].write('hworkcovid_10x/adata_15.h5ad')\n",
    "adatone[3].write('hworkcovid_10x/adata_20.h5ad')\n",
    "adatone[4].write('hworkcovid_10x/adata_25.h5ad')\n",
    "adatone[5].write('hworkcovid_10x/adata_30.h5ad')\n",
    "adatone[6].write('hworkcovid_10x/adata_35.h5ad')\n",
    "adatone[7].write('hworkcovid_10x/adata_40.h5ad')\n",
    "adatone[8].write('hworkcovid_10x/adata_45.h5ad')\n",
    "adatone[9].write('hworkcovid_10x/adata_50.h5ad')"
   ]
  },
  {
   "cell_type": "code",
   "execution_count": 9,
   "metadata": {},
   "outputs": [
    {
     "name": "stderr",
     "output_type": "stream",
     "text": [
      "/home/morelli/anaconda3/envs/scnsbm/lib/python3.7/site-packages/ipykernel_launcher.py:1: FutureWarning: read_table is deprecated, use read_csv instead.\n",
      "  \"\"\"Entry point for launching an IPython kernel.\n"
     ]
    }
   ],
   "source": [
    "cell_annotation= pd.read_table('matrix_mixology/sc_10x_5cl.metadata.csv.gz', compression=\"gzip\", sep=\",\", index_col=0)"
   ]
  },
  {
   "cell_type": "code",
   "execution_count": 10,
   "metadata": {},
   "outputs": [],
   "source": [
    "for i in range(len(adatone)):\n",
    "    adatone[i].obs.loc[:, \"cell_line\"] = cell_annotation.loc[adatone[i].obs_names, \"cell_line\"]"
   ]
  },
  {
   "cell_type": "code",
   "execution_count": 11,
   "metadata": {},
   "outputs": [
    {
     "name": "stderr",
     "output_type": "stream",
     "text": [
      "... storing 'cell_line' as categorical\n",
      "... storing 'cell_line' as categorical\n",
      "... storing 'cell_line' as categorical\n",
      "... storing 'cell_line' as categorical\n",
      "... storing 'cell_line' as categorical\n",
      "... storing 'cell_line' as categorical\n",
      "... storing 'cell_line' as categorical\n",
      "... storing 'cell_line' as categorical\n",
      "... storing 'cell_line' as categorical\n",
      "... storing 'cell_line' as categorical\n"
     ]
    }
   ],
   "source": [
    "adatone[0].write('hworkcovid_10x/adata_5.h5ad')\n",
    "adatone[1].write('hworkcovid_10x/adata_10.h5ad')\n",
    "adatone[2].write('hworkcovid_10x/adata_15.h5ad')\n",
    "adatone[3].write('hworkcovid_10x/adata_20.h5ad')\n",
    "adatone[4].write('hworkcovid_10x/adata_25.h5ad')\n",
    "adatone[5].write('hworkcovid_10x/adata_30.h5ad')\n",
    "adatone[6].write('hworkcovid_10x/adata_35.h5ad')\n",
    "adatone[7].write('hworkcovid_10x/adata_40.h5ad')\n",
    "adatone[8].write('hworkcovid_10x/adata_45.h5ad')\n",
    "adatone[9].write('hworkcovid_10x/adata_50.h5ad')"
   ]
  },
  {
   "cell_type": "code",
   "execution_count": 12,
   "metadata": {},
   "outputs": [],
   "source": [
    "adata5=sc.read('hworkcovid_10x/adata_5.h5ad')\n",
    "adata10=sc.read('hworkcovid_10x/adata_10.h5ad')\n",
    "adata15=sc.read('hworkcovid_10x/adata_15.h5ad')\n",
    "adata20=sc.read('hworkcovid_10x/adata_20.h5ad')\n",
    "adata25=sc.read('hworkcovid_10x/adata_25.h5ad')\n",
    "adata30=sc.read('hworkcovid_10x/adata_30.h5ad')\n",
    "adata35=sc.read('hworkcovid_10x/adata_35.h5ad')\n",
    "adata40=sc.read('hworkcovid_10x/adata_40.h5ad')\n",
    "adata45=sc.read('hworkcovid_10x/adata_45.h5ad')\n",
    "adata50=sc.read('hworkcovid_10x/adata_50.h5ad')"
   ]
  },
  {
   "cell_type": "markdown",
   "metadata": {},
   "source": [
    "# ADATA5"
   ]
  },
  {
   "cell_type": "code",
   "execution_count": 16,
   "metadata": {},
   "outputs": [],
   "source": [
    "scnsbm.inference.nested_model(adata5,collect_marginals=False)\n",
    "adata5.write('hworkcovid_10x/adata_5a.h5ad')\n",
    "scnsbm.inference.nested_model(adata5,collect_marginals=False)\n",
    "adata5.write('hworkcovid_10x/adata_5b.h5ad')\n",
    "scnsbm.inference.nested_model(adata5,collect_marginals=False)\n",
    "adata5.write('hworkcovid_10x/adata_5c.h5ad')\n",
    "scnsbm.inference.nested_model(adata5,collect_marginals=False)\n",
    "adata5.write('hworkcovid_10x/adata_5d.h5ad')\n",
    "scnsbm.inference.nested_model(adata5,collect_marginals=False)\n",
    "adata5.write('hworkcovid_10x/adata_5e.h5ad')"
   ]
  },
  {
   "cell_type": "code",
   "execution_count": 4,
   "metadata": {},
   "outputs": [],
   "source": [
    "adata5a=sc.read('hworkcovid_10x/adata_5a.h5ad')\n",
    "adata5b=sc.read('hworkcovid_10x/adata_5b.h5ad')\n",
    "adata5c=sc.read('hworkcovid_10x/adata_5c.h5ad')\n",
    "adata5d=sc.read('hworkcovid_10x/adata_5d.h5ad')\n",
    "adata5e=sc.read('hworkcovid_10x/adata_5e.h5ad')"
   ]
  },
  {
   "cell_type": "markdown",
   "metadata": {},
   "source": [
    "### MI 5"
   ]
  },
  {
   "cell_type": "code",
   "execution_count": 5,
   "metadata": {},
   "outputs": [],
   "source": [
    "nsbm_levels = [x for x in adata5a.obs_keys() if x.startswith(\"nsbm\")]\n",
    "foobars=['foobar5a','foobar5b','foobar5c','foobar5d','foobar5e']"
   ]
  },
  {
   "cell_type": "code",
   "execution_count": 6,
   "metadata": {
    "scrolled": true
   },
   "outputs": [
    {
     "name": "stderr",
     "output_type": "stream",
     "text": [
      "/home/morelli/anaconda3/envs/scnsbm/lib/python3.7/site-packages/sklearn/metrics/cluster/supervised.py:746: FutureWarning: The behavior of AMI will change in version 0.22. To match the behavior of 'v_measure_score', AMI will use average_method='arithmetic' by default.\n",
      "  FutureWarning)\n",
      "/home/morelli/anaconda3/envs/scnsbm/lib/python3.7/site-packages/sklearn/metrics/cluster/supervised.py:746: FutureWarning: The behavior of AMI will change in version 0.22. To match the behavior of 'v_measure_score', AMI will use average_method='arithmetic' by default.\n",
      "  FutureWarning)\n",
      "/home/morelli/anaconda3/envs/scnsbm/lib/python3.7/site-packages/sklearn/metrics/cluster/supervised.py:746: FutureWarning: The behavior of AMI will change in version 0.22. To match the behavior of 'v_measure_score', AMI will use average_method='arithmetic' by default.\n",
      "  FutureWarning)\n",
      "/home/morelli/anaconda3/envs/scnsbm/lib/python3.7/site-packages/sklearn/metrics/cluster/supervised.py:746: FutureWarning: The behavior of AMI will change in version 0.22. To match the behavior of 'v_measure_score', AMI will use average_method='arithmetic' by default.\n",
      "  FutureWarning)\n",
      "/home/morelli/anaconda3/envs/scnsbm/lib/python3.7/site-packages/sklearn/metrics/cluster/supervised.py:746: FutureWarning: The behavior of AMI will change in version 0.22. To match the behavior of 'v_measure_score', AMI will use average_method='arithmetic' by default.\n",
      "  FutureWarning)\n",
      "/home/morelli/anaconda3/envs/scnsbm/lib/python3.7/site-packages/sklearn/metrics/cluster/supervised.py:746: FutureWarning: The behavior of AMI will change in version 0.22. To match the behavior of 'v_measure_score', AMI will use average_method='arithmetic' by default.\n",
      "  FutureWarning)\n",
      "/home/morelli/anaconda3/envs/scnsbm/lib/python3.7/site-packages/sklearn/metrics/cluster/supervised.py:746: FutureWarning: The behavior of AMI will change in version 0.22. To match the behavior of 'v_measure_score', AMI will use average_method='arithmetic' by default.\n",
      "  FutureWarning)\n",
      "/home/morelli/anaconda3/envs/scnsbm/lib/python3.7/site-packages/sklearn/metrics/cluster/supervised.py:746: FutureWarning: The behavior of AMI will change in version 0.22. To match the behavior of 'v_measure_score', AMI will use average_method='arithmetic' by default.\n",
      "  FutureWarning)\n",
      "/home/morelli/anaconda3/envs/scnsbm/lib/python3.7/site-packages/sklearn/metrics/cluster/supervised.py:746: FutureWarning: The behavior of AMI will change in version 0.22. To match the behavior of 'v_measure_score', AMI will use average_method='arithmetic' by default.\n",
      "  FutureWarning)\n",
      "/home/morelli/anaconda3/envs/scnsbm/lib/python3.7/site-packages/sklearn/metrics/cluster/supervised.py:746: FutureWarning: The behavior of AMI will change in version 0.22. To match the behavior of 'v_measure_score', AMI will use average_method='arithmetic' by default.\n",
      "  FutureWarning)\n",
      "/home/morelli/anaconda3/envs/scnsbm/lib/python3.7/site-packages/sklearn/metrics/cluster/supervised.py:746: FutureWarning: The behavior of AMI will change in version 0.22. To match the behavior of 'v_measure_score', AMI will use average_method='arithmetic' by default.\n",
      "  FutureWarning)\n",
      "/home/morelli/anaconda3/envs/scnsbm/lib/python3.7/site-packages/sklearn/metrics/cluster/supervised.py:746: FutureWarning: The behavior of AMI will change in version 0.22. To match the behavior of 'v_measure_score', AMI will use average_method='arithmetic' by default.\n",
      "  FutureWarning)\n",
      "/home/morelli/anaconda3/envs/scnsbm/lib/python3.7/site-packages/sklearn/metrics/cluster/supervised.py:746: FutureWarning: The behavior of AMI will change in version 0.22. To match the behavior of 'v_measure_score', AMI will use average_method='arithmetic' by default.\n",
      "  FutureWarning)\n",
      "/home/morelli/anaconda3/envs/scnsbm/lib/python3.7/site-packages/sklearn/metrics/cluster/supervised.py:746: FutureWarning: The behavior of AMI will change in version 0.22. To match the behavior of 'v_measure_score', AMI will use average_method='arithmetic' by default.\n",
      "  FutureWarning)\n",
      "/home/morelli/anaconda3/envs/scnsbm/lib/python3.7/site-packages/sklearn/metrics/cluster/supervised.py:746: FutureWarning: The behavior of AMI will change in version 0.22. To match the behavior of 'v_measure_score', AMI will use average_method='arithmetic' by default.\n",
      "  FutureWarning)\n",
      "/home/morelli/anaconda3/envs/scnsbm/lib/python3.7/site-packages/sklearn/metrics/cluster/supervised.py:746: FutureWarning: The behavior of AMI will change in version 0.22. To match the behavior of 'v_measure_score', AMI will use average_method='arithmetic' by default.\n",
      "  FutureWarning)\n",
      "/home/morelli/anaconda3/envs/scnsbm/lib/python3.7/site-packages/sklearn/metrics/cluster/supervised.py:746: FutureWarning: The behavior of AMI will change in version 0.22. To match the behavior of 'v_measure_score', AMI will use average_method='arithmetic' by default.\n",
      "  FutureWarning)\n",
      "/home/morelli/anaconda3/envs/scnsbm/lib/python3.7/site-packages/sklearn/metrics/cluster/supervised.py:746: FutureWarning: The behavior of AMI will change in version 0.22. To match the behavior of 'v_measure_score', AMI will use average_method='arithmetic' by default.\n",
      "  FutureWarning)\n",
      "/home/morelli/anaconda3/envs/scnsbm/lib/python3.7/site-packages/sklearn/metrics/cluster/supervised.py:746: FutureWarning: The behavior of AMI will change in version 0.22. To match the behavior of 'v_measure_score', AMI will use average_method='arithmetic' by default.\n",
      "  FutureWarning)\n",
      "/home/morelli/anaconda3/envs/scnsbm/lib/python3.7/site-packages/sklearn/metrics/cluster/supervised.py:746: FutureWarning: The behavior of AMI will change in version 0.22. To match the behavior of 'v_measure_score', AMI will use average_method='arithmetic' by default.\n",
      "  FutureWarning)\n",
      "/home/morelli/anaconda3/envs/scnsbm/lib/python3.7/site-packages/sklearn/metrics/cluster/supervised.py:746: FutureWarning: The behavior of AMI will change in version 0.22. To match the behavior of 'v_measure_score', AMI will use average_method='arithmetic' by default.\n",
      "  FutureWarning)\n",
      "/home/morelli/anaconda3/envs/scnsbm/lib/python3.7/site-packages/sklearn/metrics/cluster/supervised.py:746: FutureWarning: The behavior of AMI will change in version 0.22. To match the behavior of 'v_measure_score', AMI will use average_method='arithmetic' by default.\n",
      "  FutureWarning)\n",
      "/home/morelli/anaconda3/envs/scnsbm/lib/python3.7/site-packages/sklearn/metrics/cluster/supervised.py:746: FutureWarning: The behavior of AMI will change in version 0.22. To match the behavior of 'v_measure_score', AMI will use average_method='arithmetic' by default.\n",
      "  FutureWarning)\n",
      "/home/morelli/anaconda3/envs/scnsbm/lib/python3.7/site-packages/sklearn/metrics/cluster/supervised.py:746: FutureWarning: The behavior of AMI will change in version 0.22. To match the behavior of 'v_measure_score', AMI will use average_method='arithmetic' by default.\n",
      "  FutureWarning)\n",
      "/home/morelli/anaconda3/envs/scnsbm/lib/python3.7/site-packages/sklearn/metrics/cluster/supervised.py:746: FutureWarning: The behavior of AMI will change in version 0.22. To match the behavior of 'v_measure_score', AMI will use average_method='arithmetic' by default.\n",
      "  FutureWarning)\n",
      "/home/morelli/anaconda3/envs/scnsbm/lib/python3.7/site-packages/sklearn/metrics/cluster/supervised.py:746: FutureWarning: The behavior of AMI will change in version 0.22. To match the behavior of 'v_measure_score', AMI will use average_method='arithmetic' by default.\n",
      "  FutureWarning)\n",
      "/home/morelli/anaconda3/envs/scnsbm/lib/python3.7/site-packages/sklearn/metrics/cluster/supervised.py:746: FutureWarning: The behavior of AMI will change in version 0.22. To match the behavior of 'v_measure_score', AMI will use average_method='arithmetic' by default.\n",
      "  FutureWarning)\n",
      "/home/morelli/anaconda3/envs/scnsbm/lib/python3.7/site-packages/sklearn/metrics/cluster/supervised.py:746: FutureWarning: The behavior of AMI will change in version 0.22. To match the behavior of 'v_measure_score', AMI will use average_method='arithmetic' by default.\n",
      "  FutureWarning)\n",
      "/home/morelli/anaconda3/envs/scnsbm/lib/python3.7/site-packages/sklearn/metrics/cluster/supervised.py:746: FutureWarning: The behavior of AMI will change in version 0.22. To match the behavior of 'v_measure_score', AMI will use average_method='arithmetic' by default.\n",
      "  FutureWarning)\n",
      "/home/morelli/anaconda3/envs/scnsbm/lib/python3.7/site-packages/sklearn/metrics/cluster/supervised.py:746: FutureWarning: The behavior of AMI will change in version 0.22. To match the behavior of 'v_measure_score', AMI will use average_method='arithmetic' by default.\n",
      "  FutureWarning)\n",
      "/home/morelli/anaconda3/envs/scnsbm/lib/python3.7/site-packages/sklearn/metrics/cluster/supervised.py:746: FutureWarning: The behavior of AMI will change in version 0.22. To match the behavior of 'v_measure_score', AMI will use average_method='arithmetic' by default.\n",
      "  FutureWarning)\n",
      "/home/morelli/anaconda3/envs/scnsbm/lib/python3.7/site-packages/sklearn/metrics/cluster/supervised.py:746: FutureWarning: The behavior of AMI will change in version 0.22. To match the behavior of 'v_measure_score', AMI will use average_method='arithmetic' by default.\n",
      "  FutureWarning)\n",
      "/home/morelli/anaconda3/envs/scnsbm/lib/python3.7/site-packages/sklearn/metrics/cluster/supervised.py:746: FutureWarning: The behavior of AMI will change in version 0.22. To match the behavior of 'v_measure_score', AMI will use average_method='arithmetic' by default.\n",
      "  FutureWarning)\n",
      "/home/morelli/anaconda3/envs/scnsbm/lib/python3.7/site-packages/sklearn/metrics/cluster/supervised.py:746: FutureWarning: The behavior of AMI will change in version 0.22. To match the behavior of 'v_measure_score', AMI will use average_method='arithmetic' by default.\n",
      "  FutureWarning)\n",
      "/home/morelli/anaconda3/envs/scnsbm/lib/python3.7/site-packages/sklearn/metrics/cluster/supervised.py:746: FutureWarning: The behavior of AMI will change in version 0.22. To match the behavior of 'v_measure_score', AMI will use average_method='arithmetic' by default.\n",
      "  FutureWarning)\n",
      "/home/morelli/anaconda3/envs/scnsbm/lib/python3.7/site-packages/sklearn/metrics/cluster/supervised.py:746: FutureWarning: The behavior of AMI will change in version 0.22. To match the behavior of 'v_measure_score', AMI will use average_method='arithmetic' by default.\n",
      "  FutureWarning)\n",
      "/home/morelli/anaconda3/envs/scnsbm/lib/python3.7/site-packages/sklearn/metrics/cluster/supervised.py:746: FutureWarning: The behavior of AMI will change in version 0.22. To match the behavior of 'v_measure_score', AMI will use average_method='arithmetic' by default.\n",
      "  FutureWarning)\n",
      "/home/morelli/anaconda3/envs/scnsbm/lib/python3.7/site-packages/sklearn/metrics/cluster/supervised.py:746: FutureWarning: The behavior of AMI will change in version 0.22. To match the behavior of 'v_measure_score', AMI will use average_method='arithmetic' by default.\n",
      "  FutureWarning)\n",
      "/home/morelli/anaconda3/envs/scnsbm/lib/python3.7/site-packages/sklearn/metrics/cluster/supervised.py:746: FutureWarning: The behavior of AMI will change in version 0.22. To match the behavior of 'v_measure_score', AMI will use average_method='arithmetic' by default.\n",
      "  FutureWarning)\n",
      "/home/morelli/anaconda3/envs/scnsbm/lib/python3.7/site-packages/sklearn/metrics/cluster/supervised.py:746: FutureWarning: The behavior of AMI will change in version 0.22. To match the behavior of 'v_measure_score', AMI will use average_method='arithmetic' by default.\n",
      "  FutureWarning)\n",
      "/home/morelli/anaconda3/envs/scnsbm/lib/python3.7/site-packages/sklearn/metrics/cluster/supervised.py:746: FutureWarning: The behavior of AMI will change in version 0.22. To match the behavior of 'v_measure_score', AMI will use average_method='arithmetic' by default.\n",
      "  FutureWarning)\n",
      "/home/morelli/anaconda3/envs/scnsbm/lib/python3.7/site-packages/sklearn/metrics/cluster/supervised.py:746: FutureWarning: The behavior of AMI will change in version 0.22. To match the behavior of 'v_measure_score', AMI will use average_method='arithmetic' by default.\n",
      "  FutureWarning)\n",
      "/home/morelli/anaconda3/envs/scnsbm/lib/python3.7/site-packages/sklearn/metrics/cluster/supervised.py:746: FutureWarning: The behavior of AMI will change in version 0.22. To match the behavior of 'v_measure_score', AMI will use average_method='arithmetic' by default.\n",
      "  FutureWarning)\n",
      "/home/morelli/anaconda3/envs/scnsbm/lib/python3.7/site-packages/sklearn/metrics/cluster/supervised.py:746: FutureWarning: The behavior of AMI will change in version 0.22. To match the behavior of 'v_measure_score', AMI will use average_method='arithmetic' by default.\n",
      "  FutureWarning)\n",
      "/home/morelli/anaconda3/envs/scnsbm/lib/python3.7/site-packages/sklearn/metrics/cluster/supervised.py:746: FutureWarning: The behavior of AMI will change in version 0.22. To match the behavior of 'v_measure_score', AMI will use average_method='arithmetic' by default.\n",
      "  FutureWarning)\n"
     ]
    }
   ],
   "source": [
    "foobar5a= [sklearn.metrics.adjusted_mutual_info_score(adata5a.obs.loc[:, NL], adata5a.obs.loc[:, 'cell_line'])\n",
    "                                            for NL in nsbm_levels]\n",
    "foobar5b= [sklearn.metrics.adjusted_mutual_info_score(adata5b.obs.loc[:, NL], adata5b.obs.loc[:, 'cell_line'])\n",
    "                                            for NL in nsbm_levels]\n",
    "foobar5c= [sklearn.metrics.adjusted_mutual_info_score(adata5c.obs.loc[:, NL], adata5c.obs.loc[:, 'cell_line'])\n",
    "                                            for NL in nsbm_levels]\n",
    "foobar5d= [sklearn.metrics.adjusted_mutual_info_score(adata5d.obs.loc[:, NL], adata5d.obs.loc[:, 'cell_line'])\n",
    "                                            for NL in nsbm_levels]\n",
    "foobar5e= [sklearn.metrics.adjusted_mutual_info_score(adata5e.obs.loc[:, NL], adata5e.obs.loc[:, 'cell_line'])\n",
    "                                            for NL in nsbm_levels]"
   ]
  },
  {
   "cell_type": "code",
   "execution_count": 7,
   "metadata": {},
   "outputs": [],
   "source": [
    "MI_5=pd.DataFrame(None,columns=foobars,index=nsbm_levels)\n",
    "MI_5.loc[:,'foobar5a']=foobar5a\n",
    "MI_5.loc[:,'foobar5b']=foobar5b\n",
    "MI_5.loc[:,'foobar5c']=foobar5c\n",
    "MI_5.loc[:,'foobar5d']=foobar5d\n",
    "MI_5.loc[:,'foobar5e']=foobar5e"
   ]
  },
  {
   "cell_type": "code",
   "execution_count": 32,
   "metadata": {},
   "outputs": [],
   "source": [
    "mean_5=[mean(MI_5.iloc[x,:]) for x in range(len(nsbm_levels))]\n",
    "sd_5=[statistics.stdev(MI_5.iloc[x,:]) for x in range(len(nsbm_levels))]\n",
    "MI_5['mean_5']=mean_5\n",
    "MI_5['standard_deviation_5']=sd_5"
   ]
  },
  {
   "cell_type": "code",
   "execution_count": 22,
   "metadata": {
    "scrolled": true
   },
   "outputs": [],
   "source": [
    "pickle.dump(MI_5, open('hworkcovid_10x/mi_5.pkl','wb'),2)"
   ]
  },
  {
   "cell_type": "code",
   "execution_count": 33,
   "metadata": {
    "scrolled": true
   },
   "outputs": [
    {
     "data": {
      "text/html": [
       "<div>\n",
       "<style scoped>\n",
       "    .dataframe tbody tr th:only-of-type {\n",
       "        vertical-align: middle;\n",
       "    }\n",
       "\n",
       "    .dataframe tbody tr th {\n",
       "        vertical-align: top;\n",
       "    }\n",
       "\n",
       "    .dataframe thead th {\n",
       "        text-align: right;\n",
       "    }\n",
       "</style>\n",
       "<table border=\"1\" class=\"dataframe\">\n",
       "  <thead>\n",
       "    <tr style=\"text-align: right;\">\n",
       "      <th></th>\n",
       "      <th>foobar5a</th>\n",
       "      <th>foobar5b</th>\n",
       "      <th>foobar5c</th>\n",
       "      <th>foobar5d</th>\n",
       "      <th>foobar5e</th>\n",
       "      <th>mean_5</th>\n",
       "      <th>standard_deviation_5</th>\n",
       "    </tr>\n",
       "  </thead>\n",
       "  <tbody>\n",
       "    <tr>\n",
       "      <th>nsbm_level_1</th>\n",
       "      <td>6.431254e-01</td>\n",
       "      <td>6.495369e-01</td>\n",
       "      <td>6.449558e-01</td>\n",
       "      <td>6.527062e-01</td>\n",
       "      <td>6.169236e-01</td>\n",
       "      <td>5.709212e-01</td>\n",
       "      <td>1.512781e-01</td>\n",
       "    </tr>\n",
       "    <tr>\n",
       "      <th>nsbm_level_2</th>\n",
       "      <td>7.977649e-01</td>\n",
       "      <td>7.977649e-01</td>\n",
       "      <td>7.977649e-01</td>\n",
       "      <td>7.910392e-01</td>\n",
       "      <td>8.813897e-01</td>\n",
       "      <td>7.232444e-01</td>\n",
       "      <td>1.959958e-01</td>\n",
       "    </tr>\n",
       "    <tr>\n",
       "      <th>nsbm_level_3</th>\n",
       "      <td>7.977649e-01</td>\n",
       "      <td>3.760101e-01</td>\n",
       "      <td>3.760101e-01</td>\n",
       "      <td>3.550662e-01</td>\n",
       "      <td>5.490989e-01</td>\n",
       "      <td>4.419062e-01</td>\n",
       "      <td>1.901564e-01</td>\n",
       "    </tr>\n",
       "    <tr>\n",
       "      <th>nsbm_level_4</th>\n",
       "      <td>4.347903e-01</td>\n",
       "      <td>3.760101e-01</td>\n",
       "      <td>-5.897479e-16</td>\n",
       "      <td>3.550662e-01</td>\n",
       "      <td>2.054833e-01</td>\n",
       "      <td>2.541757e-01</td>\n",
       "      <td>1.505408e-01</td>\n",
       "    </tr>\n",
       "    <tr>\n",
       "      <th>nsbm_level_5</th>\n",
       "      <td>-5.897479e-16</td>\n",
       "      <td>3.760101e-01</td>\n",
       "      <td>-5.897479e-16</td>\n",
       "      <td>3.550662e-01</td>\n",
       "      <td>2.054833e-01</td>\n",
       "      <td>1.818393e-01</td>\n",
       "      <td>1.502574e-01</td>\n",
       "    </tr>\n",
       "    <tr>\n",
       "      <th>nsbm_level_6</th>\n",
       "      <td>-5.897479e-16</td>\n",
       "      <td>3.760101e-01</td>\n",
       "      <td>-5.897479e-16</td>\n",
       "      <td>3.550662e-01</td>\n",
       "      <td>2.054833e-01</td>\n",
       "      <td>1.818393e-01</td>\n",
       "      <td>1.502574e-01</td>\n",
       "    </tr>\n",
       "    <tr>\n",
       "      <th>nsbm_level_7</th>\n",
       "      <td>-5.897479e-16</td>\n",
       "      <td>3.760101e-01</td>\n",
       "      <td>-5.897479e-16</td>\n",
       "      <td>3.550662e-01</td>\n",
       "      <td>2.054833e-01</td>\n",
       "      <td>1.818393e-01</td>\n",
       "      <td>1.502574e-01</td>\n",
       "    </tr>\n",
       "    <tr>\n",
       "      <th>nsbm_level_8</th>\n",
       "      <td>-5.897479e-16</td>\n",
       "      <td>-5.897479e-16</td>\n",
       "      <td>-5.897479e-16</td>\n",
       "      <td>3.550662e-01</td>\n",
       "      <td>2.054833e-01</td>\n",
       "      <td>1.162522e-01</td>\n",
       "      <td>1.328280e-01</td>\n",
       "    </tr>\n",
       "    <tr>\n",
       "      <th>nsbm_level_9</th>\n",
       "      <td>-5.897479e-16</td>\n",
       "      <td>-5.897479e-16</td>\n",
       "      <td>-5.897479e-16</td>\n",
       "      <td>-5.897479e-16</td>\n",
       "      <td>-5.897479e-16</td>\n",
       "      <td>-4.616192e-16</td>\n",
       "      <td>3.034748e-16</td>\n",
       "    </tr>\n",
       "  </tbody>\n",
       "</table>\n",
       "</div>"
      ],
      "text/plain": [
       "                  foobar5a      foobar5b      foobar5c      foobar5d  \\\n",
       "nsbm_level_1  6.431254e-01  6.495369e-01  6.449558e-01  6.527062e-01   \n",
       "nsbm_level_2  7.977649e-01  7.977649e-01  7.977649e-01  7.910392e-01   \n",
       "nsbm_level_3  7.977649e-01  3.760101e-01  3.760101e-01  3.550662e-01   \n",
       "nsbm_level_4  4.347903e-01  3.760101e-01 -5.897479e-16  3.550662e-01   \n",
       "nsbm_level_5 -5.897479e-16  3.760101e-01 -5.897479e-16  3.550662e-01   \n",
       "nsbm_level_6 -5.897479e-16  3.760101e-01 -5.897479e-16  3.550662e-01   \n",
       "nsbm_level_7 -5.897479e-16  3.760101e-01 -5.897479e-16  3.550662e-01   \n",
       "nsbm_level_8 -5.897479e-16 -5.897479e-16 -5.897479e-16  3.550662e-01   \n",
       "nsbm_level_9 -5.897479e-16 -5.897479e-16 -5.897479e-16 -5.897479e-16   \n",
       "\n",
       "                  foobar5e        mean_5  standard_deviation_5  \n",
       "nsbm_level_1  6.169236e-01  5.709212e-01          1.512781e-01  \n",
       "nsbm_level_2  8.813897e-01  7.232444e-01          1.959958e-01  \n",
       "nsbm_level_3  5.490989e-01  4.419062e-01          1.901564e-01  \n",
       "nsbm_level_4  2.054833e-01  2.541757e-01          1.505408e-01  \n",
       "nsbm_level_5  2.054833e-01  1.818393e-01          1.502574e-01  \n",
       "nsbm_level_6  2.054833e-01  1.818393e-01          1.502574e-01  \n",
       "nsbm_level_7  2.054833e-01  1.818393e-01          1.502574e-01  \n",
       "nsbm_level_8  2.054833e-01  1.162522e-01          1.328280e-01  \n",
       "nsbm_level_9 -5.897479e-16 -4.616192e-16          3.034748e-16  "
      ]
     },
     "execution_count": 33,
     "metadata": {},
     "output_type": "execute_result"
    }
   ],
   "source": [
    "MI_5"
   ]
  },
  {
   "cell_type": "code",
   "execution_count": 120,
   "metadata": {},
   "outputs": [
    {
     "data": {
      "text/plain": [
       "<matplotlib.axes._subplots.AxesSubplot at 0x7fcdd6b5c240>"
      ]
     },
     "execution_count": 120,
     "metadata": {},
     "output_type": "execute_result"
    },
    {
     "data": {
      "image/png": "[encoded data removed]",
      "text/plain": [
       "<Figure size 432x288 with 1 Axes>"
      ]
     },
     "metadata": {
      "needs_background": "light"
     },
     "output_type": "display_data"
    }
   ],
   "source": [
    "MI_5.iloc[:,0:4].T.boxplot()"
   ]
  },
  {
   "cell_type": "markdown",
   "metadata": {},
   "source": [
    "# ADATA10"
   ]
  },
  {
   "cell_type": "code",
   "execution_count": 17,
   "metadata": {},
   "outputs": [],
   "source": [
    "scnsbm.inference.nested_model(adata10,collect_marginals=False)\n",
    "adata10.write('hworkcovid_10x/adata_10a.h5ad')\n",
    "scnsbm.inference.nested_model(adata10,collect_marginals=False)\n",
    "adata10.write('hworkcovid_10x/adata_10b.h5ad')\n",
    "scnsbm.inference.nested_model(adata10,collect_marginals=False)\n",
    "adata10.write('hworkcovid_10x/adata_10c.h5ad')\n",
    "scnsbm.inference.nested_model(adata10,collect_marginals=False)\n",
    "adata10.write('hworkcovid_10x/adata_10d.h5ad')\n",
    "scnsbm.inference.nested_model(adata10,collect_marginals=False)\n",
    "adata10.write('hworkcovid_10x/adata_10e.h5ad')"
   ]
  },
  {
   "cell_type": "code",
   "execution_count": 24,
   "metadata": {},
   "outputs": [],
   "source": [
    "adata10a=sc.read('hworkcovid_10x/adata_10a.h5ad')\n",
    "adata10b=sc.read('hworkcovid_10x/adata_10b.h5ad')\n",
    "adata10c=sc.read('hworkcovid_10x/adata_10c.h5ad')\n",
    "adata10d=sc.read('hworkcovid_10x/adata_10d.h5ad')\n",
    "adata10e=sc.read('hworkcovid_10x/adata_10e.h5ad')"
   ]
  },
  {
   "cell_type": "markdown",
   "metadata": {},
   "source": [
    "### MI_10"
   ]
  },
  {
   "cell_type": "code",
   "execution_count": 25,
   "metadata": {},
   "outputs": [],
   "source": [
    "nsbm_levels = [x for x in adata10a.obs_keys() if x.startswith(\"nsbm\")]\n",
    "foobars=['foobar10a','foobar10b','foobar10c','foobar10d','foobar10e']"
   ]
  },
  {
   "cell_type": "code",
   "execution_count": 26,
   "metadata": {},
   "outputs": [
    {
     "name": "stderr",
     "output_type": "stream",
     "text": [
      "/home/morelli/anaconda3/envs/scnsbm/lib/python3.7/site-packages/sklearn/metrics/cluster/supervised.py:746: FutureWarning: The behavior of AMI will change in version 0.22. To match the behavior of 'v_measure_score', AMI will use average_method='arithmetic' by default.\n",
      "  FutureWarning)\n",
      "/home/morelli/anaconda3/envs/scnsbm/lib/python3.7/site-packages/sklearn/metrics/cluster/supervised.py:746: FutureWarning: The behavior of AMI will change in version 0.22. To match the behavior of 'v_measure_score', AMI will use average_method='arithmetic' by default.\n",
      "  FutureWarning)\n",
      "/home/morelli/anaconda3/envs/scnsbm/lib/python3.7/site-packages/sklearn/metrics/cluster/supervised.py:746: FutureWarning: The behavior of AMI will change in version 0.22. To match the behavior of 'v_measure_score', AMI will use average_method='arithmetic' by default.\n",
      "  FutureWarning)\n",
      "/home/morelli/anaconda3/envs/scnsbm/lib/python3.7/site-packages/sklearn/metrics/cluster/supervised.py:746: FutureWarning: The behavior of AMI will change in version 0.22. To match the behavior of 'v_measure_score', AMI will use average_method='arithmetic' by default.\n",
      "  FutureWarning)\n",
      "/home/morelli/anaconda3/envs/scnsbm/lib/python3.7/site-packages/sklearn/metrics/cluster/supervised.py:746: FutureWarning: The behavior of AMI will change in version 0.22. To match the behavior of 'v_measure_score', AMI will use average_method='arithmetic' by default.\n",
      "  FutureWarning)\n",
      "/home/morelli/anaconda3/envs/scnsbm/lib/python3.7/site-packages/sklearn/metrics/cluster/supervised.py:746: FutureWarning: The behavior of AMI will change in version 0.22. To match the behavior of 'v_measure_score', AMI will use average_method='arithmetic' by default.\n",
      "  FutureWarning)\n",
      "/home/morelli/anaconda3/envs/scnsbm/lib/python3.7/site-packages/sklearn/metrics/cluster/supervised.py:746: FutureWarning: The behavior of AMI will change in version 0.22. To match the behavior of 'v_measure_score', AMI will use average_method='arithmetic' by default.\n",
      "  FutureWarning)\n",
      "/home/morelli/anaconda3/envs/scnsbm/lib/python3.7/site-packages/sklearn/metrics/cluster/supervised.py:746: FutureWarning: The behavior of AMI will change in version 0.22. To match the behavior of 'v_measure_score', AMI will use average_method='arithmetic' by default.\n",
      "  FutureWarning)\n",
      "/home/morelli/anaconda3/envs/scnsbm/lib/python3.7/site-packages/sklearn/metrics/cluster/supervised.py:746: FutureWarning: The behavior of AMI will change in version 0.22. To match the behavior of 'v_measure_score', AMI will use average_method='arithmetic' by default.\n",
      "  FutureWarning)\n",
      "/home/morelli/anaconda3/envs/scnsbm/lib/python3.7/site-packages/sklearn/metrics/cluster/supervised.py:746: FutureWarning: The behavior of AMI will change in version 0.22. To match the behavior of 'v_measure_score', AMI will use average_method='arithmetic' by default.\n",
      "  FutureWarning)\n",
      "/home/morelli/anaconda3/envs/scnsbm/lib/python3.7/site-packages/sklearn/metrics/cluster/supervised.py:746: FutureWarning: The behavior of AMI will change in version 0.22. To match the behavior of 'v_measure_score', AMI will use average_method='arithmetic' by default.\n",
      "  FutureWarning)\n",
      "/home/morelli/anaconda3/envs/scnsbm/lib/python3.7/site-packages/sklearn/metrics/cluster/supervised.py:746: FutureWarning: The behavior of AMI will change in version 0.22. To match the behavior of 'v_measure_score', AMI will use average_method='arithmetic' by default.\n",
      "  FutureWarning)\n",
      "/home/morelli/anaconda3/envs/scnsbm/lib/python3.7/site-packages/sklearn/metrics/cluster/supervised.py:746: FutureWarning: The behavior of AMI will change in version 0.22. To match the behavior of 'v_measure_score', AMI will use average_method='arithmetic' by default.\n",
      "  FutureWarning)\n",
      "/home/morelli/anaconda3/envs/scnsbm/lib/python3.7/site-packages/sklearn/metrics/cluster/supervised.py:746: FutureWarning: The behavior of AMI will change in version 0.22. To match the behavior of 'v_measure_score', AMI will use average_method='arithmetic' by default.\n",
      "  FutureWarning)\n",
      "/home/morelli/anaconda3/envs/scnsbm/lib/python3.7/site-packages/sklearn/metrics/cluster/supervised.py:746: FutureWarning: The behavior of AMI will change in version 0.22. To match the behavior of 'v_measure_score', AMI will use average_method='arithmetic' by default.\n",
      "  FutureWarning)\n",
      "/home/morelli/anaconda3/envs/scnsbm/lib/python3.7/site-packages/sklearn/metrics/cluster/supervised.py:746: FutureWarning: The behavior of AMI will change in version 0.22. To match the behavior of 'v_measure_score', AMI will use average_method='arithmetic' by default.\n",
      "  FutureWarning)\n",
      "/home/morelli/anaconda3/envs/scnsbm/lib/python3.7/site-packages/sklearn/metrics/cluster/supervised.py:746: FutureWarning: The behavior of AMI will change in version 0.22. To match the behavior of 'v_measure_score', AMI will use average_method='arithmetic' by default.\n",
      "  FutureWarning)\n",
      "/home/morelli/anaconda3/envs/scnsbm/lib/python3.7/site-packages/sklearn/metrics/cluster/supervised.py:746: FutureWarning: The behavior of AMI will change in version 0.22. To match the behavior of 'v_measure_score', AMI will use average_method='arithmetic' by default.\n",
      "  FutureWarning)\n",
      "/home/morelli/anaconda3/envs/scnsbm/lib/python3.7/site-packages/sklearn/metrics/cluster/supervised.py:746: FutureWarning: The behavior of AMI will change in version 0.22. To match the behavior of 'v_measure_score', AMI will use average_method='arithmetic' by default.\n",
      "  FutureWarning)\n",
      "/home/morelli/anaconda3/envs/scnsbm/lib/python3.7/site-packages/sklearn/metrics/cluster/supervised.py:746: FutureWarning: The behavior of AMI will change in version 0.22. To match the behavior of 'v_measure_score', AMI will use average_method='arithmetic' by default.\n",
      "  FutureWarning)\n",
      "/home/morelli/anaconda3/envs/scnsbm/lib/python3.7/site-packages/sklearn/metrics/cluster/supervised.py:746: FutureWarning: The behavior of AMI will change in version 0.22. To match the behavior of 'v_measure_score', AMI will use average_method='arithmetic' by default.\n",
      "  FutureWarning)\n",
      "/home/morelli/anaconda3/envs/scnsbm/lib/python3.7/site-packages/sklearn/metrics/cluster/supervised.py:746: FutureWarning: The behavior of AMI will change in version 0.22. To match the behavior of 'v_measure_score', AMI will use average_method='arithmetic' by default.\n",
      "  FutureWarning)\n",
      "/home/morelli/anaconda3/envs/scnsbm/lib/python3.7/site-packages/sklearn/metrics/cluster/supervised.py:746: FutureWarning: The behavior of AMI will change in version 0.22. To match the behavior of 'v_measure_score', AMI will use average_method='arithmetic' by default.\n",
      "  FutureWarning)\n",
      "/home/morelli/anaconda3/envs/scnsbm/lib/python3.7/site-packages/sklearn/metrics/cluster/supervised.py:746: FutureWarning: The behavior of AMI will change in version 0.22. To match the behavior of 'v_measure_score', AMI will use average_method='arithmetic' by default.\n",
      "  FutureWarning)\n",
      "/home/morelli/anaconda3/envs/scnsbm/lib/python3.7/site-packages/sklearn/metrics/cluster/supervised.py:746: FutureWarning: The behavior of AMI will change in version 0.22. To match the behavior of 'v_measure_score', AMI will use average_method='arithmetic' by default.\n",
      "  FutureWarning)\n",
      "/home/morelli/anaconda3/envs/scnsbm/lib/python3.7/site-packages/sklearn/metrics/cluster/supervised.py:746: FutureWarning: The behavior of AMI will change in version 0.22. To match the behavior of 'v_measure_score', AMI will use average_method='arithmetic' by default.\n",
      "  FutureWarning)\n",
      "/home/morelli/anaconda3/envs/scnsbm/lib/python3.7/site-packages/sklearn/metrics/cluster/supervised.py:746: FutureWarning: The behavior of AMI will change in version 0.22. To match the behavior of 'v_measure_score', AMI will use average_method='arithmetic' by default.\n",
      "  FutureWarning)\n",
      "/home/morelli/anaconda3/envs/scnsbm/lib/python3.7/site-packages/sklearn/metrics/cluster/supervised.py:746: FutureWarning: The behavior of AMI will change in version 0.22. To match the behavior of 'v_measure_score', AMI will use average_method='arithmetic' by default.\n",
      "  FutureWarning)\n",
      "/home/morelli/anaconda3/envs/scnsbm/lib/python3.7/site-packages/sklearn/metrics/cluster/supervised.py:746: FutureWarning: The behavior of AMI will change in version 0.22. To match the behavior of 'v_measure_score', AMI will use average_method='arithmetic' by default.\n",
      "  FutureWarning)\n",
      "/home/morelli/anaconda3/envs/scnsbm/lib/python3.7/site-packages/sklearn/metrics/cluster/supervised.py:746: FutureWarning: The behavior of AMI will change in version 0.22. To match the behavior of 'v_measure_score', AMI will use average_method='arithmetic' by default.\n",
      "  FutureWarning)\n",
      "/home/morelli/anaconda3/envs/scnsbm/lib/python3.7/site-packages/sklearn/metrics/cluster/supervised.py:746: FutureWarning: The behavior of AMI will change in version 0.22. To match the behavior of 'v_measure_score', AMI will use average_method='arithmetic' by default.\n",
      "  FutureWarning)\n",
      "/home/morelli/anaconda3/envs/scnsbm/lib/python3.7/site-packages/sklearn/metrics/cluster/supervised.py:746: FutureWarning: The behavior of AMI will change in version 0.22. To match the behavior of 'v_measure_score', AMI will use average_method='arithmetic' by default.\n",
      "  FutureWarning)\n",
      "/home/morelli/anaconda3/envs/scnsbm/lib/python3.7/site-packages/sklearn/metrics/cluster/supervised.py:746: FutureWarning: The behavior of AMI will change in version 0.22. To match the behavior of 'v_measure_score', AMI will use average_method='arithmetic' by default.\n",
      "  FutureWarning)\n",
      "/home/morelli/anaconda3/envs/scnsbm/lib/python3.7/site-packages/sklearn/metrics/cluster/supervised.py:746: FutureWarning: The behavior of AMI will change in version 0.22. To match the behavior of 'v_measure_score', AMI will use average_method='arithmetic' by default.\n",
      "  FutureWarning)\n",
      "/home/morelli/anaconda3/envs/scnsbm/lib/python3.7/site-packages/sklearn/metrics/cluster/supervised.py:746: FutureWarning: The behavior of AMI will change in version 0.22. To match the behavior of 'v_measure_score', AMI will use average_method='arithmetic' by default.\n",
      "  FutureWarning)\n",
      "/home/morelli/anaconda3/envs/scnsbm/lib/python3.7/site-packages/sklearn/metrics/cluster/supervised.py:746: FutureWarning: The behavior of AMI will change in version 0.22. To match the behavior of 'v_measure_score', AMI will use average_method='arithmetic' by default.\n",
      "  FutureWarning)\n",
      "/home/morelli/anaconda3/envs/scnsbm/lib/python3.7/site-packages/sklearn/metrics/cluster/supervised.py:746: FutureWarning: The behavior of AMI will change in version 0.22. To match the behavior of 'v_measure_score', AMI will use average_method='arithmetic' by default.\n",
      "  FutureWarning)\n",
      "/home/morelli/anaconda3/envs/scnsbm/lib/python3.7/site-packages/sklearn/metrics/cluster/supervised.py:746: FutureWarning: The behavior of AMI will change in version 0.22. To match the behavior of 'v_measure_score', AMI will use average_method='arithmetic' by default.\n",
      "  FutureWarning)\n",
      "/home/morelli/anaconda3/envs/scnsbm/lib/python3.7/site-packages/sklearn/metrics/cluster/supervised.py:746: FutureWarning: The behavior of AMI will change in version 0.22. To match the behavior of 'v_measure_score', AMI will use average_method='arithmetic' by default.\n",
      "  FutureWarning)\n",
      "/home/morelli/anaconda3/envs/scnsbm/lib/python3.7/site-packages/sklearn/metrics/cluster/supervised.py:746: FutureWarning: The behavior of AMI will change in version 0.22. To match the behavior of 'v_measure_score', AMI will use average_method='arithmetic' by default.\n",
      "  FutureWarning)\n",
      "/home/morelli/anaconda3/envs/scnsbm/lib/python3.7/site-packages/sklearn/metrics/cluster/supervised.py:746: FutureWarning: The behavior of AMI will change in version 0.22. To match the behavior of 'v_measure_score', AMI will use average_method='arithmetic' by default.\n",
      "  FutureWarning)\n",
      "/home/morelli/anaconda3/envs/scnsbm/lib/python3.7/site-packages/sklearn/metrics/cluster/supervised.py:746: FutureWarning: The behavior of AMI will change in version 0.22. To match the behavior of 'v_measure_score', AMI will use average_method='arithmetic' by default.\n",
      "  FutureWarning)\n",
      "/home/morelli/anaconda3/envs/scnsbm/lib/python3.7/site-packages/sklearn/metrics/cluster/supervised.py:746: FutureWarning: The behavior of AMI will change in version 0.22. To match the behavior of 'v_measure_score', AMI will use average_method='arithmetic' by default.\n",
      "  FutureWarning)\n",
      "/home/morelli/anaconda3/envs/scnsbm/lib/python3.7/site-packages/sklearn/metrics/cluster/supervised.py:746: FutureWarning: The behavior of AMI will change in version 0.22. To match the behavior of 'v_measure_score', AMI will use average_method='arithmetic' by default.\n",
      "  FutureWarning)\n",
      "/home/morelli/anaconda3/envs/scnsbm/lib/python3.7/site-packages/sklearn/metrics/cluster/supervised.py:746: FutureWarning: The behavior of AMI will change in version 0.22. To match the behavior of 'v_measure_score', AMI will use average_method='arithmetic' by default.\n",
      "  FutureWarning)\n"
     ]
    }
   ],
   "source": [
    "foobar10a= [sklearn.metrics.adjusted_mutual_info_score(adata10a.obs.loc[:, NL], adata10a.obs.loc[:, 'cell_line'])\n",
    "                                            for NL in nsbm_levels]\n",
    "foobar10b= [sklearn.metrics.adjusted_mutual_info_score(adata10b.obs.loc[:, NL], adata10b.obs.loc[:, 'cell_line'])\n",
    "                                            for NL in nsbm_levels]\n",
    "foobar10c= [sklearn.metrics.adjusted_mutual_info_score(adata10c.obs.loc[:, NL], adata10c.obs.loc[:, 'cell_line'])\n",
    "                                            for NL in nsbm_levels]\n",
    "foobar10d= [sklearn.metrics.adjusted_mutual_info_score(adata10d.obs.loc[:, NL], adata10d.obs.loc[:, 'cell_line'])\n",
    "                                            for NL in nsbm_levels]\n",
    "foobar10e= [sklearn.metrics.adjusted_mutual_info_score(adata10e.obs.loc[:, NL], adata10e.obs.loc[:, 'cell_line'])\n",
    "                                            for NL in nsbm_levels]"
   ]
  },
  {
   "cell_type": "code",
   "execution_count": 27,
   "metadata": {},
   "outputs": [],
   "source": [
    "MI_10=pd.DataFrame(None,columns=foobars,index=nsbm_levels)\n",
    "MI_10.loc[:,'foobar10a']=foobar10a\n",
    "MI_10.loc[:,'foobar10b']=foobar10b\n",
    "MI_10.loc[:,'foobar10c']=foobar10c\n",
    "MI_10.loc[:,'foobar10d']=foobar10d\n",
    "MI_10.loc[:,'foobar10e']=foobar10e"
   ]
  },
  {
   "cell_type": "code",
   "execution_count": 29,
   "metadata": {},
   "outputs": [],
   "source": [
    "mean_10=[mean(MI_10.iloc[x,:]) for x in range(len(nsbm_levels))]\n",
    "sd_10=[statistics.stdev(MI_10.iloc[x,:]) for x in range(len(nsbm_levels))]\n",
    "MI_10['mean_10']=mean_10\n",
    "MI_10['standard_deviation_10']=sd_10"
   ]
  },
  {
   "cell_type": "code",
   "execution_count": 34,
   "metadata": {},
   "outputs": [],
   "source": [
    "pickle.dump(MI_10, open('hworkcovid_10x/mi_10.pkl','wb'),2)"
   ]
  },
  {
   "cell_type": "code",
   "execution_count": 30,
   "metadata": {
    "scrolled": true
   },
   "outputs": [
    {
     "data": {
      "text/html": [
       "<div>\n",
       "<style scoped>\n",
       "    .dataframe tbody tr th:only-of-type {\n",
       "        vertical-align: middle;\n",
       "    }\n",
       "\n",
       "    .dataframe tbody tr th {\n",
       "        vertical-align: top;\n",
       "    }\n",
       "\n",
       "    .dataframe thead th {\n",
       "        text-align: right;\n",
       "    }\n",
       "</style>\n",
       "<table border=\"1\" class=\"dataframe\">\n",
       "  <thead>\n",
       "    <tr style=\"text-align: right;\">\n",
       "      <th></th>\n",
       "      <th>foobar10a</th>\n",
       "      <th>foobar10b</th>\n",
       "      <th>foobar10c</th>\n",
       "      <th>foobar10d</th>\n",
       "      <th>foobar10e</th>\n",
       "      <th>mean_10</th>\n",
       "      <th>standard_deviation_10</th>\n",
       "    </tr>\n",
       "  </thead>\n",
       "  <tbody>\n",
       "    <tr>\n",
       "      <th>nsbm_level_1</th>\n",
       "      <td>5.424755e-01</td>\n",
       "      <td>5.441639e-01</td>\n",
       "      <td>0.516139</td>\n",
       "      <td>0.540301</td>\n",
       "      <td>5.295595e-01</td>\n",
       "      <td>0.534528</td>\n",
       "      <td>0.011749</td>\n",
       "    </tr>\n",
       "    <tr>\n",
       "      <th>nsbm_level_2</th>\n",
       "      <td>7.694152e-01</td>\n",
       "      <td>9.521213e-01</td>\n",
       "      <td>0.786943</td>\n",
       "      <td>0.819426</td>\n",
       "      <td>9.521213e-01</td>\n",
       "      <td>0.856005</td>\n",
       "      <td>0.089557</td>\n",
       "    </tr>\n",
       "    <tr>\n",
       "      <th>nsbm_level_3</th>\n",
       "      <td>6.229178e-01</td>\n",
       "      <td>7.056654e-01</td>\n",
       "      <td>0.791039</td>\n",
       "      <td>0.791039</td>\n",
       "      <td>6.295874e-01</td>\n",
       "      <td>0.708050</td>\n",
       "      <td>0.082438</td>\n",
       "    </tr>\n",
       "    <tr>\n",
       "      <th>nsbm_level_4</th>\n",
       "      <td>4.240783e-01</td>\n",
       "      <td>5.532450e-01</td>\n",
       "      <td>0.377303</td>\n",
       "      <td>0.377303</td>\n",
       "      <td>4.399969e-01</td>\n",
       "      <td>0.434385</td>\n",
       "      <td>0.072080</td>\n",
       "    </tr>\n",
       "    <tr>\n",
       "      <th>nsbm_level_5</th>\n",
       "      <td>-5.897479e-16</td>\n",
       "      <td>4.069100e-01</td>\n",
       "      <td>0.377303</td>\n",
       "      <td>0.377303</td>\n",
       "      <td>4.399969e-01</td>\n",
       "      <td>0.320303</td>\n",
       "      <td>0.180914</td>\n",
       "    </tr>\n",
       "    <tr>\n",
       "      <th>nsbm_level_6</th>\n",
       "      <td>-5.897479e-16</td>\n",
       "      <td>-5.897479e-16</td>\n",
       "      <td>0.377303</td>\n",
       "      <td>0.377303</td>\n",
       "      <td>4.399969e-01</td>\n",
       "      <td>0.238921</td>\n",
       "      <td>0.219600</td>\n",
       "    </tr>\n",
       "    <tr>\n",
       "      <th>nsbm_level_7</th>\n",
       "      <td>-5.897479e-16</td>\n",
       "      <td>-5.897479e-16</td>\n",
       "      <td>0.377303</td>\n",
       "      <td>0.377303</td>\n",
       "      <td>4.399969e-01</td>\n",
       "      <td>0.238921</td>\n",
       "      <td>0.219600</td>\n",
       "    </tr>\n",
       "    <tr>\n",
       "      <th>nsbm_level_8</th>\n",
       "      <td>-5.897479e-16</td>\n",
       "      <td>-5.897479e-16</td>\n",
       "      <td>0.377303</td>\n",
       "      <td>0.377303</td>\n",
       "      <td>-5.897479e-16</td>\n",
       "      <td>0.150921</td>\n",
       "      <td>0.206657</td>\n",
       "    </tr>\n",
       "    <tr>\n",
       "      <th>nsbm_level_9</th>\n",
       "      <td>-5.897479e-16</td>\n",
       "      <td>-5.897479e-16</td>\n",
       "      <td>0.377303</td>\n",
       "      <td>0.377303</td>\n",
       "      <td>-5.897479e-16</td>\n",
       "      <td>0.150921</td>\n",
       "      <td>0.206657</td>\n",
       "    </tr>\n",
       "  </tbody>\n",
       "</table>\n",
       "</div>"
      ],
      "text/plain": [
       "                 foobar10a     foobar10b  foobar10c  foobar10d     foobar10e  \\\n",
       "nsbm_level_1  5.424755e-01  5.441639e-01   0.516139   0.540301  5.295595e-01   \n",
       "nsbm_level_2  7.694152e-01  9.521213e-01   0.786943   0.819426  9.521213e-01   \n",
       "nsbm_level_3  6.229178e-01  7.056654e-01   0.791039   0.791039  6.295874e-01   \n",
       "nsbm_level_4  4.240783e-01  5.532450e-01   0.377303   0.377303  4.399969e-01   \n",
       "nsbm_level_5 -5.897479e-16  4.069100e-01   0.377303   0.377303  4.399969e-01   \n",
       "nsbm_level_6 -5.897479e-16 -5.897479e-16   0.377303   0.377303  4.399969e-01   \n",
       "nsbm_level_7 -5.897479e-16 -5.897479e-16   0.377303   0.377303  4.399969e-01   \n",
       "nsbm_level_8 -5.897479e-16 -5.897479e-16   0.377303   0.377303 -5.897479e-16   \n",
       "nsbm_level_9 -5.897479e-16 -5.897479e-16   0.377303   0.377303 -5.897479e-16   \n",
       "\n",
       "               mean_10  standard_deviation_10  \n",
       "nsbm_level_1  0.534528               0.011749  \n",
       "nsbm_level_2  0.856005               0.089557  \n",
       "nsbm_level_3  0.708050               0.082438  \n",
       "nsbm_level_4  0.434385               0.072080  \n",
       "nsbm_level_5  0.320303               0.180914  \n",
       "nsbm_level_6  0.238921               0.219600  \n",
       "nsbm_level_7  0.238921               0.219600  \n",
       "nsbm_level_8  0.150921               0.206657  \n",
       "nsbm_level_9  0.150921               0.206657  "
      ]
     },
     "execution_count": 30,
     "metadata": {},
     "output_type": "execute_result"
    }
   ],
   "source": [
    "MI_10"
   ]
  },
  {
   "cell_type": "code",
   "execution_count": 119,
   "metadata": {},
   "outputs": [
    {
     "data": {
      "text/plain": [
       "<matplotlib.axes._subplots.AxesSubplot at 0x7fcdd6c6b048>"
      ]
     },
     "execution_count": 119,
     "metadata": {},
     "output_type": "execute_result"
    },
    {
     "data": {
      "image/png": "[encoded data removed]",
      "text/plain": [
       "<Figure size 432x288 with 1 Axes>"
      ]
     },
     "metadata": {
      "needs_background": "light"
     },
     "output_type": "display_data"
    }
   ],
   "source": [
    "MI_10.iloc[:,0:4].T.boxplot()"
   ]
  },
  {
   "cell_type": "markdown",
   "metadata": {},
   "source": [
    " # ADATA15"
   ]
  },
  {
   "cell_type": "code",
   "execution_count": 18,
   "metadata": {},
   "outputs": [],
   "source": [
    "scnsbm.inference.nested_model(adata15,collect_marginals=False)\n",
    "adata15.write('hworkcovid_10x/adata_15a.h5ad')\n",
    "scnsbm.inference.nested_model(adata15,collect_marginals=False)\n",
    "adata15.write('hworkcovid_10x/adata_15b.h5ad')\n",
    "scnsbm.inference.nested_model(adata15,collect_marginals=False)\n",
    "adata15.write('hworkcovid_10x/adata_15c.h5ad')\n",
    "scnsbm.inference.nested_model(adata15,collect_marginals=False)\n",
    "adata15.write('hworkcovid_10x/adata_15d.h5ad')\n",
    "scnsbm.inference.nested_model(adata15,collect_marginals=False)\n",
    "adata15.write('hworkcovid_10x/adata_15e.h5ad')"
   ]
  },
  {
   "cell_type": "code",
   "execution_count": 35,
   "metadata": {},
   "outputs": [],
   "source": [
    "adata15a=sc.read('hworkcovid_10x/adata_15a.h5ad')\n",
    "adata15b=sc.read('hworkcovid_10x/adata_15b.h5ad')\n",
    "adata15c=sc.read('hworkcovid_10x/adata_15c.h5ad')\n",
    "adata15d=sc.read('hworkcovid_10x/adata_15d.h5ad')\n",
    "adata15e=sc.read('hworkcovid_10x/adata_15e.h5ad')"
   ]
  },
  {
   "cell_type": "markdown",
   "metadata": {},
   "source": [
    "### MI_15"
   ]
  },
  {
   "cell_type": "code",
   "execution_count": 36,
   "metadata": {},
   "outputs": [],
   "source": [
    "nsbm_levels = [x for x in adata15a.obs_keys() if x.startswith(\"nsbm\")]\n",
    "foobars=['foobar15a','foobar15b','foobar15c','foobar15d','foobar15e']"
   ]
  },
  {
   "cell_type": "code",
   "execution_count": 37,
   "metadata": {},
   "outputs": [
    {
     "name": "stderr",
     "output_type": "stream",
     "text": [
      "/home/morelli/anaconda3/envs/scnsbm/lib/python3.7/site-packages/sklearn/metrics/cluster/supervised.py:746: FutureWarning: The behavior of AMI will change in version 0.22. To match the behavior of 'v_measure_score', AMI will use average_method='arithmetic' by default.\n",
      "  FutureWarning)\n",
      "/home/morelli/anaconda3/envs/scnsbm/lib/python3.7/site-packages/sklearn/metrics/cluster/supervised.py:746: FutureWarning: The behavior of AMI will change in version 0.22. To match the behavior of 'v_measure_score', AMI will use average_method='arithmetic' by default.\n",
      "  FutureWarning)\n",
      "/home/morelli/anaconda3/envs/scnsbm/lib/python3.7/site-packages/sklearn/metrics/cluster/supervised.py:746: FutureWarning: The behavior of AMI will change in version 0.22. To match the behavior of 'v_measure_score', AMI will use average_method='arithmetic' by default.\n",
      "  FutureWarning)\n",
      "/home/morelli/anaconda3/envs/scnsbm/lib/python3.7/site-packages/sklearn/metrics/cluster/supervised.py:746: FutureWarning: The behavior of AMI will change in version 0.22. To match the behavior of 'v_measure_score', AMI will use average_method='arithmetic' by default.\n",
      "  FutureWarning)\n",
      "/home/morelli/anaconda3/envs/scnsbm/lib/python3.7/site-packages/sklearn/metrics/cluster/supervised.py:746: FutureWarning: The behavior of AMI will change in version 0.22. To match the behavior of 'v_measure_score', AMI will use average_method='arithmetic' by default.\n",
      "  FutureWarning)\n",
      "/home/morelli/anaconda3/envs/scnsbm/lib/python3.7/site-packages/sklearn/metrics/cluster/supervised.py:746: FutureWarning: The behavior of AMI will change in version 0.22. To match the behavior of 'v_measure_score', AMI will use average_method='arithmetic' by default.\n",
      "  FutureWarning)\n",
      "/home/morelli/anaconda3/envs/scnsbm/lib/python3.7/site-packages/sklearn/metrics/cluster/supervised.py:746: FutureWarning: The behavior of AMI will change in version 0.22. To match the behavior of 'v_measure_score', AMI will use average_method='arithmetic' by default.\n",
      "  FutureWarning)\n",
      "/home/morelli/anaconda3/envs/scnsbm/lib/python3.7/site-packages/sklearn/metrics/cluster/supervised.py:746: FutureWarning: The behavior of AMI will change in version 0.22. To match the behavior of 'v_measure_score', AMI will use average_method='arithmetic' by default.\n",
      "  FutureWarning)\n",
      "/home/morelli/anaconda3/envs/scnsbm/lib/python3.7/site-packages/sklearn/metrics/cluster/supervised.py:746: FutureWarning: The behavior of AMI will change in version 0.22. To match the behavior of 'v_measure_score', AMI will use average_method='arithmetic' by default.\n",
      "  FutureWarning)\n",
      "/home/morelli/anaconda3/envs/scnsbm/lib/python3.7/site-packages/sklearn/metrics/cluster/supervised.py:746: FutureWarning: The behavior of AMI will change in version 0.22. To match the behavior of 'v_measure_score', AMI will use average_method='arithmetic' by default.\n",
      "  FutureWarning)\n",
      "/home/morelli/anaconda3/envs/scnsbm/lib/python3.7/site-packages/sklearn/metrics/cluster/supervised.py:746: FutureWarning: The behavior of AMI will change in version 0.22. To match the behavior of 'v_measure_score', AMI will use average_method='arithmetic' by default.\n",
      "  FutureWarning)\n",
      "/home/morelli/anaconda3/envs/scnsbm/lib/python3.7/site-packages/sklearn/metrics/cluster/supervised.py:746: FutureWarning: The behavior of AMI will change in version 0.22. To match the behavior of 'v_measure_score', AMI will use average_method='arithmetic' by default.\n",
      "  FutureWarning)\n",
      "/home/morelli/anaconda3/envs/scnsbm/lib/python3.7/site-packages/sklearn/metrics/cluster/supervised.py:746: FutureWarning: The behavior of AMI will change in version 0.22. To match the behavior of 'v_measure_score', AMI will use average_method='arithmetic' by default.\n",
      "  FutureWarning)\n",
      "/home/morelli/anaconda3/envs/scnsbm/lib/python3.7/site-packages/sklearn/metrics/cluster/supervised.py:746: FutureWarning: The behavior of AMI will change in version 0.22. To match the behavior of 'v_measure_score', AMI will use average_method='arithmetic' by default.\n",
      "  FutureWarning)\n",
      "/home/morelli/anaconda3/envs/scnsbm/lib/python3.7/site-packages/sklearn/metrics/cluster/supervised.py:746: FutureWarning: The behavior of AMI will change in version 0.22. To match the behavior of 'v_measure_score', AMI will use average_method='arithmetic' by default.\n",
      "  FutureWarning)\n",
      "/home/morelli/anaconda3/envs/scnsbm/lib/python3.7/site-packages/sklearn/metrics/cluster/supervised.py:746: FutureWarning: The behavior of AMI will change in version 0.22. To match the behavior of 'v_measure_score', AMI will use average_method='arithmetic' by default.\n",
      "  FutureWarning)\n",
      "/home/morelli/anaconda3/envs/scnsbm/lib/python3.7/site-packages/sklearn/metrics/cluster/supervised.py:746: FutureWarning: The behavior of AMI will change in version 0.22. To match the behavior of 'v_measure_score', AMI will use average_method='arithmetic' by default.\n",
      "  FutureWarning)\n",
      "/home/morelli/anaconda3/envs/scnsbm/lib/python3.7/site-packages/sklearn/metrics/cluster/supervised.py:746: FutureWarning: The behavior of AMI will change in version 0.22. To match the behavior of 'v_measure_score', AMI will use average_method='arithmetic' by default.\n",
      "  FutureWarning)\n",
      "/home/morelli/anaconda3/envs/scnsbm/lib/python3.7/site-packages/sklearn/metrics/cluster/supervised.py:746: FutureWarning: The behavior of AMI will change in version 0.22. To match the behavior of 'v_measure_score', AMI will use average_method='arithmetic' by default.\n",
      "  FutureWarning)\n",
      "/home/morelli/anaconda3/envs/scnsbm/lib/python3.7/site-packages/sklearn/metrics/cluster/supervised.py:746: FutureWarning: The behavior of AMI will change in version 0.22. To match the behavior of 'v_measure_score', AMI will use average_method='arithmetic' by default.\n",
      "  FutureWarning)\n",
      "/home/morelli/anaconda3/envs/scnsbm/lib/python3.7/site-packages/sklearn/metrics/cluster/supervised.py:746: FutureWarning: The behavior of AMI will change in version 0.22. To match the behavior of 'v_measure_score', AMI will use average_method='arithmetic' by default.\n",
      "  FutureWarning)\n",
      "/home/morelli/anaconda3/envs/scnsbm/lib/python3.7/site-packages/sklearn/metrics/cluster/supervised.py:746: FutureWarning: The behavior of AMI will change in version 0.22. To match the behavior of 'v_measure_score', AMI will use average_method='arithmetic' by default.\n",
      "  FutureWarning)\n",
      "/home/morelli/anaconda3/envs/scnsbm/lib/python3.7/site-packages/sklearn/metrics/cluster/supervised.py:746: FutureWarning: The behavior of AMI will change in version 0.22. To match the behavior of 'v_measure_score', AMI will use average_method='arithmetic' by default.\n",
      "  FutureWarning)\n",
      "/home/morelli/anaconda3/envs/scnsbm/lib/python3.7/site-packages/sklearn/metrics/cluster/supervised.py:746: FutureWarning: The behavior of AMI will change in version 0.22. To match the behavior of 'v_measure_score', AMI will use average_method='arithmetic' by default.\n",
      "  FutureWarning)\n",
      "/home/morelli/anaconda3/envs/scnsbm/lib/python3.7/site-packages/sklearn/metrics/cluster/supervised.py:746: FutureWarning: The behavior of AMI will change in version 0.22. To match the behavior of 'v_measure_score', AMI will use average_method='arithmetic' by default.\n",
      "  FutureWarning)\n",
      "/home/morelli/anaconda3/envs/scnsbm/lib/python3.7/site-packages/sklearn/metrics/cluster/supervised.py:746: FutureWarning: The behavior of AMI will change in version 0.22. To match the behavior of 'v_measure_score', AMI will use average_method='arithmetic' by default.\n",
      "  FutureWarning)\n",
      "/home/morelli/anaconda3/envs/scnsbm/lib/python3.7/site-packages/sklearn/metrics/cluster/supervised.py:746: FutureWarning: The behavior of AMI will change in version 0.22. To match the behavior of 'v_measure_score', AMI will use average_method='arithmetic' by default.\n",
      "  FutureWarning)\n",
      "/home/morelli/anaconda3/envs/scnsbm/lib/python3.7/site-packages/sklearn/metrics/cluster/supervised.py:746: FutureWarning: The behavior of AMI will change in version 0.22. To match the behavior of 'v_measure_score', AMI will use average_method='arithmetic' by default.\n",
      "  FutureWarning)\n",
      "/home/morelli/anaconda3/envs/scnsbm/lib/python3.7/site-packages/sklearn/metrics/cluster/supervised.py:746: FutureWarning: The behavior of AMI will change in version 0.22. To match the behavior of 'v_measure_score', AMI will use average_method='arithmetic' by default.\n",
      "  FutureWarning)\n",
      "/home/morelli/anaconda3/envs/scnsbm/lib/python3.7/site-packages/sklearn/metrics/cluster/supervised.py:746: FutureWarning: The behavior of AMI will change in version 0.22. To match the behavior of 'v_measure_score', AMI will use average_method='arithmetic' by default.\n",
      "  FutureWarning)\n",
      "/home/morelli/anaconda3/envs/scnsbm/lib/python3.7/site-packages/sklearn/metrics/cluster/supervised.py:746: FutureWarning: The behavior of AMI will change in version 0.22. To match the behavior of 'v_measure_score', AMI will use average_method='arithmetic' by default.\n",
      "  FutureWarning)\n",
      "/home/morelli/anaconda3/envs/scnsbm/lib/python3.7/site-packages/sklearn/metrics/cluster/supervised.py:746: FutureWarning: The behavior of AMI will change in version 0.22. To match the behavior of 'v_measure_score', AMI will use average_method='arithmetic' by default.\n",
      "  FutureWarning)\n",
      "/home/morelli/anaconda3/envs/scnsbm/lib/python3.7/site-packages/sklearn/metrics/cluster/supervised.py:746: FutureWarning: The behavior of AMI will change in version 0.22. To match the behavior of 'v_measure_score', AMI will use average_method='arithmetic' by default.\n",
      "  FutureWarning)\n",
      "/home/morelli/anaconda3/envs/scnsbm/lib/python3.7/site-packages/sklearn/metrics/cluster/supervised.py:746: FutureWarning: The behavior of AMI will change in version 0.22. To match the behavior of 'v_measure_score', AMI will use average_method='arithmetic' by default.\n",
      "  FutureWarning)\n",
      "/home/morelli/anaconda3/envs/scnsbm/lib/python3.7/site-packages/sklearn/metrics/cluster/supervised.py:746: FutureWarning: The behavior of AMI will change in version 0.22. To match the behavior of 'v_measure_score', AMI will use average_method='arithmetic' by default.\n",
      "  FutureWarning)\n",
      "/home/morelli/anaconda3/envs/scnsbm/lib/python3.7/site-packages/sklearn/metrics/cluster/supervised.py:746: FutureWarning: The behavior of AMI will change in version 0.22. To match the behavior of 'v_measure_score', AMI will use average_method='arithmetic' by default.\n",
      "  FutureWarning)\n",
      "/home/morelli/anaconda3/envs/scnsbm/lib/python3.7/site-packages/sklearn/metrics/cluster/supervised.py:746: FutureWarning: The behavior of AMI will change in version 0.22. To match the behavior of 'v_measure_score', AMI will use average_method='arithmetic' by default.\n",
      "  FutureWarning)\n",
      "/home/morelli/anaconda3/envs/scnsbm/lib/python3.7/site-packages/sklearn/metrics/cluster/supervised.py:746: FutureWarning: The behavior of AMI will change in version 0.22. To match the behavior of 'v_measure_score', AMI will use average_method='arithmetic' by default.\n",
      "  FutureWarning)\n",
      "/home/morelli/anaconda3/envs/scnsbm/lib/python3.7/site-packages/sklearn/metrics/cluster/supervised.py:746: FutureWarning: The behavior of AMI will change in version 0.22. To match the behavior of 'v_measure_score', AMI will use average_method='arithmetic' by default.\n",
      "  FutureWarning)\n",
      "/home/morelli/anaconda3/envs/scnsbm/lib/python3.7/site-packages/sklearn/metrics/cluster/supervised.py:746: FutureWarning: The behavior of AMI will change in version 0.22. To match the behavior of 'v_measure_score', AMI will use average_method='arithmetic' by default.\n",
      "  FutureWarning)\n",
      "/home/morelli/anaconda3/envs/scnsbm/lib/python3.7/site-packages/sklearn/metrics/cluster/supervised.py:746: FutureWarning: The behavior of AMI will change in version 0.22. To match the behavior of 'v_measure_score', AMI will use average_method='arithmetic' by default.\n",
      "  FutureWarning)\n",
      "/home/morelli/anaconda3/envs/scnsbm/lib/python3.7/site-packages/sklearn/metrics/cluster/supervised.py:746: FutureWarning: The behavior of AMI will change in version 0.22. To match the behavior of 'v_measure_score', AMI will use average_method='arithmetic' by default.\n",
      "  FutureWarning)\n",
      "/home/morelli/anaconda3/envs/scnsbm/lib/python3.7/site-packages/sklearn/metrics/cluster/supervised.py:746: FutureWarning: The behavior of AMI will change in version 0.22. To match the behavior of 'v_measure_score', AMI will use average_method='arithmetic' by default.\n",
      "  FutureWarning)\n",
      "/home/morelli/anaconda3/envs/scnsbm/lib/python3.7/site-packages/sklearn/metrics/cluster/supervised.py:746: FutureWarning: The behavior of AMI will change in version 0.22. To match the behavior of 'v_measure_score', AMI will use average_method='arithmetic' by default.\n",
      "  FutureWarning)\n",
      "/home/morelli/anaconda3/envs/scnsbm/lib/python3.7/site-packages/sklearn/metrics/cluster/supervised.py:746: FutureWarning: The behavior of AMI will change in version 0.22. To match the behavior of 'v_measure_score', AMI will use average_method='arithmetic' by default.\n",
      "  FutureWarning)\n"
     ]
    }
   ],
   "source": [
    "foobar15a= [sklearn.metrics.adjusted_mutual_info_score(adata15a.obs.loc[:, NL], adata15a.obs.loc[:, 'cell_line'])\n",
    "                                            for NL in nsbm_levels]\n",
    "foobar15b= [sklearn.metrics.adjusted_mutual_info_score(adata15b.obs.loc[:, NL], adata15b.obs.loc[:, 'cell_line'])\n",
    "                                            for NL in nsbm_levels]\n",
    "foobar15c= [sklearn.metrics.adjusted_mutual_info_score(adata15c.obs.loc[:, NL], adata15c.obs.loc[:, 'cell_line'])\n",
    "                                            for NL in nsbm_levels]\n",
    "foobar15d= [sklearn.metrics.adjusted_mutual_info_score(adata15d.obs.loc[:, NL], adata15d.obs.loc[:, 'cell_line'])\n",
    "                                            for NL in nsbm_levels]\n",
    "foobar15e= [sklearn.metrics.adjusted_mutual_info_score(adata15e.obs.loc[:, NL], adata15e.obs.loc[:, 'cell_line'])\n",
    "                                            for NL in nsbm_levels]"
   ]
  },
  {
   "cell_type": "code",
   "execution_count": 38,
   "metadata": {},
   "outputs": [],
   "source": [
    "MI_15=pd.DataFrame(None,columns=foobars,index=nsbm_levels)\n",
    "MI_15.loc[:,'foobar15a']=foobar15a\n",
    "MI_15.loc[:,'foobar15b']=foobar15b\n",
    "MI_15.loc[:,'foobar15c']=foobar15c\n",
    "MI_15.loc[:,'foobar15d']=foobar15d\n",
    "MI_15.loc[:,'foobar15e']=foobar15e"
   ]
  },
  {
   "cell_type": "code",
   "execution_count": 39,
   "metadata": {},
   "outputs": [],
   "source": [
    "mean_15=[mean(MI_15.iloc[x,:]) for x in range(len(nsbm_levels))]\n",
    "sd_15=[statistics.stdev(MI_15.iloc[x,:]) for x in range(len(nsbm_levels))]\n",
    "MI_15['mean_15']=mean_15\n",
    "MI_15['standard_deviation_15']=sd_15"
   ]
  },
  {
   "cell_type": "code",
   "execution_count": 41,
   "metadata": {},
   "outputs": [],
   "source": [
    "pickle.dump(MI_15, open('hworkcovid_10x/mi_15.pkl','wb'),2)"
   ]
  },
  {
   "cell_type": "code",
   "execution_count": 40,
   "metadata": {
    "scrolled": true
   },
   "outputs": [
    {
     "data": {
      "text/html": [
       "<div>\n",
       "<style scoped>\n",
       "    .dataframe tbody tr th:only-of-type {\n",
       "        vertical-align: middle;\n",
       "    }\n",
       "\n",
       "    .dataframe tbody tr th {\n",
       "        vertical-align: top;\n",
       "    }\n",
       "\n",
       "    .dataframe thead th {\n",
       "        text-align: right;\n",
       "    }\n",
       "</style>\n",
       "<table border=\"1\" class=\"dataframe\">\n",
       "  <thead>\n",
       "    <tr style=\"text-align: right;\">\n",
       "      <th></th>\n",
       "      <th>foobar15a</th>\n",
       "      <th>foobar15b</th>\n",
       "      <th>foobar15c</th>\n",
       "      <th>foobar15d</th>\n",
       "      <th>foobar15e</th>\n",
       "      <th>mean_15</th>\n",
       "      <th>standard_deviation_15</th>\n",
       "    </tr>\n",
       "  </thead>\n",
       "  <tbody>\n",
       "    <tr>\n",
       "      <th>nsbm_level_1</th>\n",
       "      <td>4.872670e-01</td>\n",
       "      <td>4.979803e-01</td>\n",
       "      <td>4.842544e-01</td>\n",
       "      <td>4.956176e-01</td>\n",
       "      <td>5.177827e-01</td>\n",
       "      <td>4.965804e-01</td>\n",
       "      <td>0.013144</td>\n",
       "    </tr>\n",
       "    <tr>\n",
       "      <th>nsbm_level_2</th>\n",
       "      <td>9.059961e-01</td>\n",
       "      <td>7.367716e-01</td>\n",
       "      <td>6.862413e-01</td>\n",
       "      <td>7.961894e-01</td>\n",
       "      <td>7.382321e-01</td>\n",
       "      <td>7.726861e-01</td>\n",
       "      <td>0.084074</td>\n",
       "    </tr>\n",
       "    <tr>\n",
       "      <th>nsbm_level_3</th>\n",
       "      <td>6.850207e-01</td>\n",
       "      <td>7.036246e-01</td>\n",
       "      <td>7.910392e-01</td>\n",
       "      <td>8.108949e-01</td>\n",
       "      <td>7.032771e-01</td>\n",
       "      <td>7.387713e-01</td>\n",
       "      <td>0.057702</td>\n",
       "    </tr>\n",
       "    <tr>\n",
       "      <th>nsbm_level_4</th>\n",
       "      <td>4.399969e-01</td>\n",
       "      <td>4.069100e-01</td>\n",
       "      <td>3.773028e-01</td>\n",
       "      <td>4.187989e-01</td>\n",
       "      <td>4.069100e-01</td>\n",
       "      <td>4.099837e-01</td>\n",
       "      <td>0.022724</td>\n",
       "    </tr>\n",
       "    <tr>\n",
       "      <th>nsbm_level_5</th>\n",
       "      <td>-5.897479e-16</td>\n",
       "      <td>-5.897479e-16</td>\n",
       "      <td>-5.897479e-16</td>\n",
       "      <td>4.187989e-01</td>\n",
       "      <td>-5.897479e-16</td>\n",
       "      <td>8.375978e-02</td>\n",
       "      <td>0.187293</td>\n",
       "    </tr>\n",
       "    <tr>\n",
       "      <th>nsbm_level_6</th>\n",
       "      <td>-5.897479e-16</td>\n",
       "      <td>-5.897479e-16</td>\n",
       "      <td>-5.897479e-16</td>\n",
       "      <td>4.187989e-01</td>\n",
       "      <td>-5.897479e-16</td>\n",
       "      <td>8.375978e-02</td>\n",
       "      <td>0.187293</td>\n",
       "    </tr>\n",
       "    <tr>\n",
       "      <th>nsbm_level_7</th>\n",
       "      <td>-5.897479e-16</td>\n",
       "      <td>-5.897479e-16</td>\n",
       "      <td>-5.897479e-16</td>\n",
       "      <td>4.187989e-01</td>\n",
       "      <td>-5.897479e-16</td>\n",
       "      <td>8.375978e-02</td>\n",
       "      <td>0.187293</td>\n",
       "    </tr>\n",
       "    <tr>\n",
       "      <th>nsbm_level_8</th>\n",
       "      <td>-5.897479e-16</td>\n",
       "      <td>-5.897479e-16</td>\n",
       "      <td>-5.897479e-16</td>\n",
       "      <td>-5.897479e-16</td>\n",
       "      <td>-5.897479e-16</td>\n",
       "      <td>-5.897479e-16</td>\n",
       "      <td>0.000000</td>\n",
       "    </tr>\n",
       "    <tr>\n",
       "      <th>nsbm_level_9</th>\n",
       "      <td>-5.897479e-16</td>\n",
       "      <td>-5.897479e-16</td>\n",
       "      <td>-5.897479e-16</td>\n",
       "      <td>-5.897479e-16</td>\n",
       "      <td>-5.897479e-16</td>\n",
       "      <td>-5.897479e-16</td>\n",
       "      <td>0.000000</td>\n",
       "    </tr>\n",
       "  </tbody>\n",
       "</table>\n",
       "</div>"
      ],
      "text/plain": [
       "                 foobar15a     foobar15b     foobar15c     foobar15d  \\\n",
       "nsbm_level_1  4.872670e-01  4.979803e-01  4.842544e-01  4.956176e-01   \n",
       "nsbm_level_2  9.059961e-01  7.367716e-01  6.862413e-01  7.961894e-01   \n",
       "nsbm_level_3  6.850207e-01  7.036246e-01  7.910392e-01  8.108949e-01   \n",
       "nsbm_level_4  4.399969e-01  4.069100e-01  3.773028e-01  4.187989e-01   \n",
       "nsbm_level_5 -5.897479e-16 -5.897479e-16 -5.897479e-16  4.187989e-01   \n",
       "nsbm_level_6 -5.897479e-16 -5.897479e-16 -5.897479e-16  4.187989e-01   \n",
       "nsbm_level_7 -5.897479e-16 -5.897479e-16 -5.897479e-16  4.187989e-01   \n",
       "nsbm_level_8 -5.897479e-16 -5.897479e-16 -5.897479e-16 -5.897479e-16   \n",
       "nsbm_level_9 -5.897479e-16 -5.897479e-16 -5.897479e-16 -5.897479e-16   \n",
       "\n",
       "                 foobar15e       mean_15  standard_deviation_15  \n",
       "nsbm_level_1  5.177827e-01  4.965804e-01               0.013144  \n",
       "nsbm_level_2  7.382321e-01  7.726861e-01               0.084074  \n",
       "nsbm_level_3  7.032771e-01  7.387713e-01               0.057702  \n",
       "nsbm_level_4  4.069100e-01  4.099837e-01               0.022724  \n",
       "nsbm_level_5 -5.897479e-16  8.375978e-02               0.187293  \n",
       "nsbm_level_6 -5.897479e-16  8.375978e-02               0.187293  \n",
       "nsbm_level_7 -5.897479e-16  8.375978e-02               0.187293  \n",
       "nsbm_level_8 -5.897479e-16 -5.897479e-16               0.000000  \n",
       "nsbm_level_9 -5.897479e-16 -5.897479e-16               0.000000  "
      ]
     },
     "execution_count": 40,
     "metadata": {},
     "output_type": "execute_result"
    }
   ],
   "source": [
    "MI_15"
   ]
  },
  {
   "cell_type": "code",
   "execution_count": 118,
   "metadata": {},
   "outputs": [
    {
     "data": {
      "text/plain": [
       "<matplotlib.axes._subplots.AxesSubplot at 0x7fcdd6d61198>"
      ]
     },
     "execution_count": 118,
     "metadata": {},
     "output_type": "execute_result"
    },
    {
     "data": {
      "image/png": "[encoded data removed]",
      "text/plain": [
       "<Figure size 432x288 with 1 Axes>"
      ]
     },
     "metadata": {
      "needs_background": "light"
     },
     "output_type": "display_data"
    }
   ],
   "source": [
    "MI_15.iloc[:,0:4].T.boxplot()"
   ]
  },
  {
   "cell_type": "markdown",
   "metadata": {},
   "source": [
    "# ADATA20"
   ]
  },
  {
   "cell_type": "code",
   "execution_count": 19,
   "metadata": {},
   "outputs": [],
   "source": [
    "scnsbm.inference.nested_model(adata20,collect_marginals=False)\n",
    "adata20.write('hworkcovid_10x/adata_20a.h5ad')\n",
    "scnsbm.inference.nested_model(adata20,collect_marginals=False)\n",
    "adata20.write('hworkcovid_10x/adata_20b.h5ad')\n",
    "scnsbm.inference.nested_model(adata20,collect_marginals=False)\n",
    "adata20.write('hworkcovid_10x/adata_20c.h5ad')\n",
    "scnsbm.inference.nested_model(adata20,collect_marginals=False)\n",
    "adata20.write('hworkcovid_10x/adata_20d.h5ad')\n",
    "scnsbm.inference.nested_model(adata20,collect_marginals=False)\n",
    "adata20.write('hworkcovid_10x/adata_20e.h5ad')"
   ]
  },
  {
   "cell_type": "code",
   "execution_count": 42,
   "metadata": {},
   "outputs": [],
   "source": [
    "adata20a=sc.read('hworkcovid_10x/adata_20a.h5ad')\n",
    "adata20b=sc.read('hworkcovid_10x/adata_20b.h5ad')\n",
    "adata20c=sc.read('hworkcovid_10x/adata_20c.h5ad')\n",
    "adata20d=sc.read('hworkcovid_10x/adata_20d.h5ad')\n",
    "adata20e=sc.read('hworkcovid_10x/adata_20e.h5ad')"
   ]
  },
  {
   "cell_type": "markdown",
   "metadata": {},
   "source": [
    "### MI_20"
   ]
  },
  {
   "cell_type": "code",
   "execution_count": 43,
   "metadata": {},
   "outputs": [],
   "source": [
    "nsbm_levels = [x for x in adata20a.obs_keys() if x.startswith(\"nsbm\")]\n",
    "foobars=['foobar20a','foobar20b','foobar20c','foobar20d','foobar20e']"
   ]
  },
  {
   "cell_type": "code",
   "execution_count": 44,
   "metadata": {},
   "outputs": [
    {
     "name": "stderr",
     "output_type": "stream",
     "text": [
      "/home/morelli/anaconda3/envs/scnsbm/lib/python3.7/site-packages/sklearn/metrics/cluster/supervised.py:746: FutureWarning: The behavior of AMI will change in version 0.22. To match the behavior of 'v_measure_score', AMI will use average_method='arithmetic' by default.\n",
      "  FutureWarning)\n",
      "/home/morelli/anaconda3/envs/scnsbm/lib/python3.7/site-packages/sklearn/metrics/cluster/supervised.py:746: FutureWarning: The behavior of AMI will change in version 0.22. To match the behavior of 'v_measure_score', AMI will use average_method='arithmetic' by default.\n",
      "  FutureWarning)\n",
      "/home/morelli/anaconda3/envs/scnsbm/lib/python3.7/site-packages/sklearn/metrics/cluster/supervised.py:746: FutureWarning: The behavior of AMI will change in version 0.22. To match the behavior of 'v_measure_score', AMI will use average_method='arithmetic' by default.\n",
      "  FutureWarning)\n",
      "/home/morelli/anaconda3/envs/scnsbm/lib/python3.7/site-packages/sklearn/metrics/cluster/supervised.py:746: FutureWarning: The behavior of AMI will change in version 0.22. To match the behavior of 'v_measure_score', AMI will use average_method='arithmetic' by default.\n",
      "  FutureWarning)\n",
      "/home/morelli/anaconda3/envs/scnsbm/lib/python3.7/site-packages/sklearn/metrics/cluster/supervised.py:746: FutureWarning: The behavior of AMI will change in version 0.22. To match the behavior of 'v_measure_score', AMI will use average_method='arithmetic' by default.\n",
      "  FutureWarning)\n",
      "/home/morelli/anaconda3/envs/scnsbm/lib/python3.7/site-packages/sklearn/metrics/cluster/supervised.py:746: FutureWarning: The behavior of AMI will change in version 0.22. To match the behavior of 'v_measure_score', AMI will use average_method='arithmetic' by default.\n",
      "  FutureWarning)\n",
      "/home/morelli/anaconda3/envs/scnsbm/lib/python3.7/site-packages/sklearn/metrics/cluster/supervised.py:746: FutureWarning: The behavior of AMI will change in version 0.22. To match the behavior of 'v_measure_score', AMI will use average_method='arithmetic' by default.\n",
      "  FutureWarning)\n",
      "/home/morelli/anaconda3/envs/scnsbm/lib/python3.7/site-packages/sklearn/metrics/cluster/supervised.py:746: FutureWarning: The behavior of AMI will change in version 0.22. To match the behavior of 'v_measure_score', AMI will use average_method='arithmetic' by default.\n",
      "  FutureWarning)\n",
      "/home/morelli/anaconda3/envs/scnsbm/lib/python3.7/site-packages/sklearn/metrics/cluster/supervised.py:746: FutureWarning: The behavior of AMI will change in version 0.22. To match the behavior of 'v_measure_score', AMI will use average_method='arithmetic' by default.\n",
      "  FutureWarning)\n",
      "/home/morelli/anaconda3/envs/scnsbm/lib/python3.7/site-packages/sklearn/metrics/cluster/supervised.py:746: FutureWarning: The behavior of AMI will change in version 0.22. To match the behavior of 'v_measure_score', AMI will use average_method='arithmetic' by default.\n",
      "  FutureWarning)\n",
      "/home/morelli/anaconda3/envs/scnsbm/lib/python3.7/site-packages/sklearn/metrics/cluster/supervised.py:746: FutureWarning: The behavior of AMI will change in version 0.22. To match the behavior of 'v_measure_score', AMI will use average_method='arithmetic' by default.\n",
      "  FutureWarning)\n",
      "/home/morelli/anaconda3/envs/scnsbm/lib/python3.7/site-packages/sklearn/metrics/cluster/supervised.py:746: FutureWarning: The behavior of AMI will change in version 0.22. To match the behavior of 'v_measure_score', AMI will use average_method='arithmetic' by default.\n",
      "  FutureWarning)\n",
      "/home/morelli/anaconda3/envs/scnsbm/lib/python3.7/site-packages/sklearn/metrics/cluster/supervised.py:746: FutureWarning: The behavior of AMI will change in version 0.22. To match the behavior of 'v_measure_score', AMI will use average_method='arithmetic' by default.\n",
      "  FutureWarning)\n",
      "/home/morelli/anaconda3/envs/scnsbm/lib/python3.7/site-packages/sklearn/metrics/cluster/supervised.py:746: FutureWarning: The behavior of AMI will change in version 0.22. To match the behavior of 'v_measure_score', AMI will use average_method='arithmetic' by default.\n",
      "  FutureWarning)\n",
      "/home/morelli/anaconda3/envs/scnsbm/lib/python3.7/site-packages/sklearn/metrics/cluster/supervised.py:746: FutureWarning: The behavior of AMI will change in version 0.22. To match the behavior of 'v_measure_score', AMI will use average_method='arithmetic' by default.\n",
      "  FutureWarning)\n",
      "/home/morelli/anaconda3/envs/scnsbm/lib/python3.7/site-packages/sklearn/metrics/cluster/supervised.py:746: FutureWarning: The behavior of AMI will change in version 0.22. To match the behavior of 'v_measure_score', AMI will use average_method='arithmetic' by default.\n",
      "  FutureWarning)\n",
      "/home/morelli/anaconda3/envs/scnsbm/lib/python3.7/site-packages/sklearn/metrics/cluster/supervised.py:746: FutureWarning: The behavior of AMI will change in version 0.22. To match the behavior of 'v_measure_score', AMI will use average_method='arithmetic' by default.\n",
      "  FutureWarning)\n",
      "/home/morelli/anaconda3/envs/scnsbm/lib/python3.7/site-packages/sklearn/metrics/cluster/supervised.py:746: FutureWarning: The behavior of AMI will change in version 0.22. To match the behavior of 'v_measure_score', AMI will use average_method='arithmetic' by default.\n",
      "  FutureWarning)\n",
      "/home/morelli/anaconda3/envs/scnsbm/lib/python3.7/site-packages/sklearn/metrics/cluster/supervised.py:746: FutureWarning: The behavior of AMI will change in version 0.22. To match the behavior of 'v_measure_score', AMI will use average_method='arithmetic' by default.\n",
      "  FutureWarning)\n",
      "/home/morelli/anaconda3/envs/scnsbm/lib/python3.7/site-packages/sklearn/metrics/cluster/supervised.py:746: FutureWarning: The behavior of AMI will change in version 0.22. To match the behavior of 'v_measure_score', AMI will use average_method='arithmetic' by default.\n",
      "  FutureWarning)\n",
      "/home/morelli/anaconda3/envs/scnsbm/lib/python3.7/site-packages/sklearn/metrics/cluster/supervised.py:746: FutureWarning: The behavior of AMI will change in version 0.22. To match the behavior of 'v_measure_score', AMI will use average_method='arithmetic' by default.\n",
      "  FutureWarning)\n",
      "/home/morelli/anaconda3/envs/scnsbm/lib/python3.7/site-packages/sklearn/metrics/cluster/supervised.py:746: FutureWarning: The behavior of AMI will change in version 0.22. To match the behavior of 'v_measure_score', AMI will use average_method='arithmetic' by default.\n",
      "  FutureWarning)\n",
      "/home/morelli/anaconda3/envs/scnsbm/lib/python3.7/site-packages/sklearn/metrics/cluster/supervised.py:746: FutureWarning: The behavior of AMI will change in version 0.22. To match the behavior of 'v_measure_score', AMI will use average_method='arithmetic' by default.\n",
      "  FutureWarning)\n",
      "/home/morelli/anaconda3/envs/scnsbm/lib/python3.7/site-packages/sklearn/metrics/cluster/supervised.py:746: FutureWarning: The behavior of AMI will change in version 0.22. To match the behavior of 'v_measure_score', AMI will use average_method='arithmetic' by default.\n",
      "  FutureWarning)\n",
      "/home/morelli/anaconda3/envs/scnsbm/lib/python3.7/site-packages/sklearn/metrics/cluster/supervised.py:746: FutureWarning: The behavior of AMI will change in version 0.22. To match the behavior of 'v_measure_score', AMI will use average_method='arithmetic' by default.\n",
      "  FutureWarning)\n",
      "/home/morelli/anaconda3/envs/scnsbm/lib/python3.7/site-packages/sklearn/metrics/cluster/supervised.py:746: FutureWarning: The behavior of AMI will change in version 0.22. To match the behavior of 'v_measure_score', AMI will use average_method='arithmetic' by default.\n",
      "  FutureWarning)\n",
      "/home/morelli/anaconda3/envs/scnsbm/lib/python3.7/site-packages/sklearn/metrics/cluster/supervised.py:746: FutureWarning: The behavior of AMI will change in version 0.22. To match the behavior of 'v_measure_score', AMI will use average_method='arithmetic' by default.\n",
      "  FutureWarning)\n",
      "/home/morelli/anaconda3/envs/scnsbm/lib/python3.7/site-packages/sklearn/metrics/cluster/supervised.py:746: FutureWarning: The behavior of AMI will change in version 0.22. To match the behavior of 'v_measure_score', AMI will use average_method='arithmetic' by default.\n",
      "  FutureWarning)\n",
      "/home/morelli/anaconda3/envs/scnsbm/lib/python3.7/site-packages/sklearn/metrics/cluster/supervised.py:746: FutureWarning: The behavior of AMI will change in version 0.22. To match the behavior of 'v_measure_score', AMI will use average_method='arithmetic' by default.\n",
      "  FutureWarning)\n",
      "/home/morelli/anaconda3/envs/scnsbm/lib/python3.7/site-packages/sklearn/metrics/cluster/supervised.py:746: FutureWarning: The behavior of AMI will change in version 0.22. To match the behavior of 'v_measure_score', AMI will use average_method='arithmetic' by default.\n",
      "  FutureWarning)\n",
      "/home/morelli/anaconda3/envs/scnsbm/lib/python3.7/site-packages/sklearn/metrics/cluster/supervised.py:746: FutureWarning: The behavior of AMI will change in version 0.22. To match the behavior of 'v_measure_score', AMI will use average_method='arithmetic' by default.\n",
      "  FutureWarning)\n",
      "/home/morelli/anaconda3/envs/scnsbm/lib/python3.7/site-packages/sklearn/metrics/cluster/supervised.py:746: FutureWarning: The behavior of AMI will change in version 0.22. To match the behavior of 'v_measure_score', AMI will use average_method='arithmetic' by default.\n",
      "  FutureWarning)\n",
      "/home/morelli/anaconda3/envs/scnsbm/lib/python3.7/site-packages/sklearn/metrics/cluster/supervised.py:746: FutureWarning: The behavior of AMI will change in version 0.22. To match the behavior of 'v_measure_score', AMI will use average_method='arithmetic' by default.\n",
      "  FutureWarning)\n",
      "/home/morelli/anaconda3/envs/scnsbm/lib/python3.7/site-packages/sklearn/metrics/cluster/supervised.py:746: FutureWarning: The behavior of AMI will change in version 0.22. To match the behavior of 'v_measure_score', AMI will use average_method='arithmetic' by default.\n",
      "  FutureWarning)\n",
      "/home/morelli/anaconda3/envs/scnsbm/lib/python3.7/site-packages/sklearn/metrics/cluster/supervised.py:746: FutureWarning: The behavior of AMI will change in version 0.22. To match the behavior of 'v_measure_score', AMI will use average_method='arithmetic' by default.\n",
      "  FutureWarning)\n",
      "/home/morelli/anaconda3/envs/scnsbm/lib/python3.7/site-packages/sklearn/metrics/cluster/supervised.py:746: FutureWarning: The behavior of AMI will change in version 0.22. To match the behavior of 'v_measure_score', AMI will use average_method='arithmetic' by default.\n",
      "  FutureWarning)\n",
      "/home/morelli/anaconda3/envs/scnsbm/lib/python3.7/site-packages/sklearn/metrics/cluster/supervised.py:746: FutureWarning: The behavior of AMI will change in version 0.22. To match the behavior of 'v_measure_score', AMI will use average_method='arithmetic' by default.\n",
      "  FutureWarning)\n",
      "/home/morelli/anaconda3/envs/scnsbm/lib/python3.7/site-packages/sklearn/metrics/cluster/supervised.py:746: FutureWarning: The behavior of AMI will change in version 0.22. To match the behavior of 'v_measure_score', AMI will use average_method='arithmetic' by default.\n",
      "  FutureWarning)\n",
      "/home/morelli/anaconda3/envs/scnsbm/lib/python3.7/site-packages/sklearn/metrics/cluster/supervised.py:746: FutureWarning: The behavior of AMI will change in version 0.22. To match the behavior of 'v_measure_score', AMI will use average_method='arithmetic' by default.\n",
      "  FutureWarning)\n",
      "/home/morelli/anaconda3/envs/scnsbm/lib/python3.7/site-packages/sklearn/metrics/cluster/supervised.py:746: FutureWarning: The behavior of AMI will change in version 0.22. To match the behavior of 'v_measure_score', AMI will use average_method='arithmetic' by default.\n",
      "  FutureWarning)\n",
      "/home/morelli/anaconda3/envs/scnsbm/lib/python3.7/site-packages/sklearn/metrics/cluster/supervised.py:746: FutureWarning: The behavior of AMI will change in version 0.22. To match the behavior of 'v_measure_score', AMI will use average_method='arithmetic' by default.\n",
      "  FutureWarning)\n",
      "/home/morelli/anaconda3/envs/scnsbm/lib/python3.7/site-packages/sklearn/metrics/cluster/supervised.py:746: FutureWarning: The behavior of AMI will change in version 0.22. To match the behavior of 'v_measure_score', AMI will use average_method='arithmetic' by default.\n",
      "  FutureWarning)\n",
      "/home/morelli/anaconda3/envs/scnsbm/lib/python3.7/site-packages/sklearn/metrics/cluster/supervised.py:746: FutureWarning: The behavior of AMI will change in version 0.22. To match the behavior of 'v_measure_score', AMI will use average_method='arithmetic' by default.\n",
      "  FutureWarning)\n",
      "/home/morelli/anaconda3/envs/scnsbm/lib/python3.7/site-packages/sklearn/metrics/cluster/supervised.py:746: FutureWarning: The behavior of AMI will change in version 0.22. To match the behavior of 'v_measure_score', AMI will use average_method='arithmetic' by default.\n",
      "  FutureWarning)\n",
      "/home/morelli/anaconda3/envs/scnsbm/lib/python3.7/site-packages/sklearn/metrics/cluster/supervised.py:746: FutureWarning: The behavior of AMI will change in version 0.22. To match the behavior of 'v_measure_score', AMI will use average_method='arithmetic' by default.\n",
      "  FutureWarning)\n"
     ]
    }
   ],
   "source": [
    "foobar20a= [sklearn.metrics.adjusted_mutual_info_score(adata20a.obs.loc[:, NL], adata20a.obs.loc[:, 'cell_line'])\n",
    "                                            for NL in nsbm_levels]\n",
    "foobar20b= [sklearn.metrics.adjusted_mutual_info_score(adata20b.obs.loc[:, NL], adata20b.obs.loc[:, 'cell_line'])\n",
    "                                            for NL in nsbm_levels]\n",
    "foobar20c= [sklearn.metrics.adjusted_mutual_info_score(adata20c.obs.loc[:, NL], adata20c.obs.loc[:, 'cell_line'])\n",
    "                                            for NL in nsbm_levels]\n",
    "foobar20d= [sklearn.metrics.adjusted_mutual_info_score(adata20d.obs.loc[:, NL], adata20d.obs.loc[:, 'cell_line'])\n",
    "                                            for NL in nsbm_levels]\n",
    "foobar20e= [sklearn.metrics.adjusted_mutual_info_score(adata20e.obs.loc[:, NL], adata20e.obs.loc[:, 'cell_line'])\n",
    "                                            for NL in nsbm_levels]"
   ]
  },
  {
   "cell_type": "code",
   "execution_count": 45,
   "metadata": {},
   "outputs": [],
   "source": [
    "MI_20=pd.DataFrame(None,columns=foobars,index=nsbm_levels)\n",
    "MI_20.loc[:,'foobar20a']=foobar20a\n",
    "MI_20.loc[:,'foobar20b']=foobar20b\n",
    "MI_20.loc[:,'foobar20c']=foobar20c\n",
    "MI_20.loc[:,'foobar20d']=foobar20d\n",
    "MI_20.loc[:,'foobar20e']=foobar20e"
   ]
  },
  {
   "cell_type": "code",
   "execution_count": 84,
   "metadata": {},
   "outputs": [],
   "source": [
    "mean_20=[mean(MI_20.iloc[x,:]) for x in range(len(nsbm_levels))]\n",
    "sd_20=[statistics.stdev(MI_20.iloc[x,:]) for x in range(len(nsbm_levels))]\n",
    "MI_20['mean_20']=mean_20\n",
    "MI_20['standard_deviation_20']=sd_20"
   ]
  },
  {
   "cell_type": "code",
   "execution_count": 86,
   "metadata": {},
   "outputs": [],
   "source": [
    "pickle.dump(MI_20, open('hworkcovid_10x/mi_20.pkl','wb'),2)"
   ]
  },
  {
   "cell_type": "code",
   "execution_count": 85,
   "metadata": {
    "scrolled": true
   },
   "outputs": [
    {
     "data": {
      "text/html": [
       "<div>\n",
       "<style scoped>\n",
       "    .dataframe tbody tr th:only-of-type {\n",
       "        vertical-align: middle;\n",
       "    }\n",
       "\n",
       "    .dataframe tbody tr th {\n",
       "        vertical-align: top;\n",
       "    }\n",
       "\n",
       "    .dataframe thead th {\n",
       "        text-align: right;\n",
       "    }\n",
       "</style>\n",
       "<table border=\"1\" class=\"dataframe\">\n",
       "  <thead>\n",
       "    <tr style=\"text-align: right;\">\n",
       "      <th></th>\n",
       "      <th>foobar20a</th>\n",
       "      <th>foobar20b</th>\n",
       "      <th>foobar20c</th>\n",
       "      <th>foobar20d</th>\n",
       "      <th>foobar20e</th>\n",
       "      <th>mean_20</th>\n",
       "      <th>standard_deviation_20</th>\n",
       "    </tr>\n",
       "  </thead>\n",
       "  <tbody>\n",
       "    <tr>\n",
       "      <th>nsbm_level_1</th>\n",
       "      <td>4.825438e-01</td>\n",
       "      <td>4.652968e-01</td>\n",
       "      <td>5.069356e-01</td>\n",
       "      <td>4.795150e-01</td>\n",
       "      <td>4.939604e-01</td>\n",
       "      <td>4.856503e-01</td>\n",
       "      <td>0.015682</td>\n",
       "    </tr>\n",
       "    <tr>\n",
       "      <th>nsbm_level_2</th>\n",
       "      <td>8.057110e-01</td>\n",
       "      <td>8.000615e-01</td>\n",
       "      <td>8.049934e-01</td>\n",
       "      <td>7.003628e-01</td>\n",
       "      <td>7.375664e-01</td>\n",
       "      <td>7.697390e-01</td>\n",
       "      <td>0.048230</td>\n",
       "    </tr>\n",
       "    <tr>\n",
       "      <th>nsbm_level_3</th>\n",
       "      <td>5.977257e-01</td>\n",
       "      <td>8.101602e-01</td>\n",
       "      <td>8.126196e-01</td>\n",
       "      <td>8.496412e-01</td>\n",
       "      <td>8.108949e-01</td>\n",
       "      <td>7.762083e-01</td>\n",
       "      <td>0.101156</td>\n",
       "    </tr>\n",
       "    <tr>\n",
       "      <th>nsbm_level_4</th>\n",
       "      <td>4.240783e-01</td>\n",
       "      <td>5.659973e-01</td>\n",
       "      <td>3.831949e-01</td>\n",
       "      <td>6.229178e-01</td>\n",
       "      <td>6.828881e-01</td>\n",
       "      <td>5.358153e-01</td>\n",
       "      <td>0.128361</td>\n",
       "    </tr>\n",
       "    <tr>\n",
       "      <th>nsbm_level_5</th>\n",
       "      <td>-5.897479e-16</td>\n",
       "      <td>4.205332e-01</td>\n",
       "      <td>-5.897479e-16</td>\n",
       "      <td>4.240783e-01</td>\n",
       "      <td>4.205332e-01</td>\n",
       "      <td>2.530289e-01</td>\n",
       "      <td>0.230987</td>\n",
       "    </tr>\n",
       "    <tr>\n",
       "      <th>nsbm_level_6</th>\n",
       "      <td>-5.897479e-16</td>\n",
       "      <td>4.205332e-01</td>\n",
       "      <td>-5.897479e-16</td>\n",
       "      <td>4.240783e-01</td>\n",
       "      <td>-5.897479e-16</td>\n",
       "      <td>1.689223e-01</td>\n",
       "      <td>0.231310</td>\n",
       "    </tr>\n",
       "    <tr>\n",
       "      <th>nsbm_level_7</th>\n",
       "      <td>-5.897479e-16</td>\n",
       "      <td>4.205332e-01</td>\n",
       "      <td>-5.897479e-16</td>\n",
       "      <td>-5.897479e-16</td>\n",
       "      <td>-5.897479e-16</td>\n",
       "      <td>8.410663e-02</td>\n",
       "      <td>0.188068</td>\n",
       "    </tr>\n",
       "    <tr>\n",
       "      <th>nsbm_level_8</th>\n",
       "      <td>-5.897479e-16</td>\n",
       "      <td>4.205332e-01</td>\n",
       "      <td>-5.897479e-16</td>\n",
       "      <td>-5.897479e-16</td>\n",
       "      <td>-5.897479e-16</td>\n",
       "      <td>8.410663e-02</td>\n",
       "      <td>0.188068</td>\n",
       "    </tr>\n",
       "    <tr>\n",
       "      <th>nsbm_level_9</th>\n",
       "      <td>-5.897479e-16</td>\n",
       "      <td>-5.897479e-16</td>\n",
       "      <td>-5.897479e-16</td>\n",
       "      <td>-5.897479e-16</td>\n",
       "      <td>-5.897479e-16</td>\n",
       "      <td>-5.897479e-16</td>\n",
       "      <td>0.000000</td>\n",
       "    </tr>\n",
       "  </tbody>\n",
       "</table>\n",
       "</div>"
      ],
      "text/plain": [
       "                 foobar20a     foobar20b     foobar20c     foobar20d  \\\n",
       "nsbm_level_1  4.825438e-01  4.652968e-01  5.069356e-01  4.795150e-01   \n",
       "nsbm_level_2  8.057110e-01  8.000615e-01  8.049934e-01  7.003628e-01   \n",
       "nsbm_level_3  5.977257e-01  8.101602e-01  8.126196e-01  8.496412e-01   \n",
       "nsbm_level_4  4.240783e-01  5.659973e-01  3.831949e-01  6.229178e-01   \n",
       "nsbm_level_5 -5.897479e-16  4.205332e-01 -5.897479e-16  4.240783e-01   \n",
       "nsbm_level_6 -5.897479e-16  4.205332e-01 -5.897479e-16  4.240783e-01   \n",
       "nsbm_level_7 -5.897479e-16  4.205332e-01 -5.897479e-16 -5.897479e-16   \n",
       "nsbm_level_8 -5.897479e-16  4.205332e-01 -5.897479e-16 -5.897479e-16   \n",
       "nsbm_level_9 -5.897479e-16 -5.897479e-16 -5.897479e-16 -5.897479e-16   \n",
       "\n",
       "                 foobar20e       mean_20  standard_deviation_20  \n",
       "nsbm_level_1  4.939604e-01  4.856503e-01               0.015682  \n",
       "nsbm_level_2  7.375664e-01  7.697390e-01               0.048230  \n",
       "nsbm_level_3  8.108949e-01  7.762083e-01               0.101156  \n",
       "nsbm_level_4  6.828881e-01  5.358153e-01               0.128361  \n",
       "nsbm_level_5  4.205332e-01  2.530289e-01               0.230987  \n",
       "nsbm_level_6 -5.897479e-16  1.689223e-01               0.231310  \n",
       "nsbm_level_7 -5.897479e-16  8.410663e-02               0.188068  \n",
       "nsbm_level_8 -5.897479e-16  8.410663e-02               0.188068  \n",
       "nsbm_level_9 -5.897479e-16 -5.897479e-16               0.000000  "
      ]
     },
     "execution_count": 85,
     "metadata": {},
     "output_type": "execute_result"
    }
   ],
   "source": [
    "MI_20"
   ]
  },
  {
   "cell_type": "code",
   "execution_count": 121,
   "metadata": {},
   "outputs": [
    {
     "data": {
      "text/plain": [
       "<matplotlib.axes._subplots.AxesSubplot at 0x7fcdd6a5e0b8>"
      ]
     },
     "execution_count": 121,
     "metadata": {},
     "output_type": "execute_result"
    },
    {
     "data": {
      "image/png": "[encoded data removed]",
      "text/plain": [
       "<Figure size 432x288 with 1 Axes>"
      ]
     },
     "metadata": {
      "needs_background": "light"
     },
     "output_type": "display_data"
    }
   ],
   "source": [
    "MI_20.iloc[:,0:4].T.boxplot()"
   ]
  },
  {
   "cell_type": "markdown",
   "metadata": {},
   "source": [
    "# ADATA25"
   ]
  },
  {
   "cell_type": "code",
   "execution_count": 20,
   "metadata": {},
   "outputs": [],
   "source": [
    "scnsbm.inference.nested_model(adata25,collect_marginals=False)\n",
    "adata25.write('hworkcovid_10x/adata_25a.h5ad')\n",
    "scnsbm.inference.nested_model(adata25,collect_marginals=False)\n",
    "adata25.write('hworkcovid_10x/adata_25b.h5ad')\n",
    "scnsbm.inference.nested_model(adata25,collect_marginals=False)\n",
    "adata25.write('hworkcovid_10x/adata_25c.h5ad')\n",
    "scnsbm.inference.nested_model(adata25,collect_marginals=False)\n",
    "adata25.write('hworkcovid_10x/adata_25d.h5ad')\n",
    "scnsbm.inference.nested_model(adata25,collect_marginals=False)\n",
    "adata25.write('hworkcovid_10x/adata_25e.h5ad')"
   ]
  },
  {
   "cell_type": "code",
   "execution_count": 46,
   "metadata": {},
   "outputs": [],
   "source": [
    "adata25a=sc.read('hworkcovid_10x/adata_25a.h5ad')\n",
    "adata25b=sc.read('hworkcovid_10x/adata_25b.h5ad')\n",
    "adata25c=sc.read('hworkcovid_10x/adata_25c.h5ad')\n",
    "adata25d=sc.read('hworkcovid_10x/adata_25d.h5ad')\n",
    "adata25e=sc.read('hworkcovid_10x/adata_25e.h5ad')"
   ]
  },
  {
   "cell_type": "markdown",
   "metadata": {},
   "source": [
    "### MI_25"
   ]
  },
  {
   "cell_type": "code",
   "execution_count": 47,
   "metadata": {},
   "outputs": [],
   "source": [
    "nsbm_levels = [x for x in adata25a.obs_keys() if x.startswith(\"nsbm\")]\n",
    "foobars=['foobar25a','foobar25b','foobar25c','foobar25d','foobar25e']"
   ]
  },
  {
   "cell_type": "code",
   "execution_count": 48,
   "metadata": {},
   "outputs": [
    {
     "name": "stderr",
     "output_type": "stream",
     "text": [
      "/home/morelli/anaconda3/envs/scnsbm/lib/python3.7/site-packages/sklearn/metrics/cluster/supervised.py:746: FutureWarning: The behavior of AMI will change in version 0.22. To match the behavior of 'v_measure_score', AMI will use average_method='arithmetic' by default.\n",
      "  FutureWarning)\n",
      "/home/morelli/anaconda3/envs/scnsbm/lib/python3.7/site-packages/sklearn/metrics/cluster/supervised.py:746: FutureWarning: The behavior of AMI will change in version 0.22. To match the behavior of 'v_measure_score', AMI will use average_method='arithmetic' by default.\n",
      "  FutureWarning)\n",
      "/home/morelli/anaconda3/envs/scnsbm/lib/python3.7/site-packages/sklearn/metrics/cluster/supervised.py:746: FutureWarning: The behavior of AMI will change in version 0.22. To match the behavior of 'v_measure_score', AMI will use average_method='arithmetic' by default.\n",
      "  FutureWarning)\n",
      "/home/morelli/anaconda3/envs/scnsbm/lib/python3.7/site-packages/sklearn/metrics/cluster/supervised.py:746: FutureWarning: The behavior of AMI will change in version 0.22. To match the behavior of 'v_measure_score', AMI will use average_method='arithmetic' by default.\n",
      "  FutureWarning)\n",
      "/home/morelli/anaconda3/envs/scnsbm/lib/python3.7/site-packages/sklearn/metrics/cluster/supervised.py:746: FutureWarning: The behavior of AMI will change in version 0.22. To match the behavior of 'v_measure_score', AMI will use average_method='arithmetic' by default.\n",
      "  FutureWarning)\n",
      "/home/morelli/anaconda3/envs/scnsbm/lib/python3.7/site-packages/sklearn/metrics/cluster/supervised.py:746: FutureWarning: The behavior of AMI will change in version 0.22. To match the behavior of 'v_measure_score', AMI will use average_method='arithmetic' by default.\n",
      "  FutureWarning)\n",
      "/home/morelli/anaconda3/envs/scnsbm/lib/python3.7/site-packages/sklearn/metrics/cluster/supervised.py:746: FutureWarning: The behavior of AMI will change in version 0.22. To match the behavior of 'v_measure_score', AMI will use average_method='arithmetic' by default.\n",
      "  FutureWarning)\n",
      "/home/morelli/anaconda3/envs/scnsbm/lib/python3.7/site-packages/sklearn/metrics/cluster/supervised.py:746: FutureWarning: The behavior of AMI will change in version 0.22. To match the behavior of 'v_measure_score', AMI will use average_method='arithmetic' by default.\n",
      "  FutureWarning)\n",
      "/home/morelli/anaconda3/envs/scnsbm/lib/python3.7/site-packages/sklearn/metrics/cluster/supervised.py:746: FutureWarning: The behavior of AMI will change in version 0.22. To match the behavior of 'v_measure_score', AMI will use average_method='arithmetic' by default.\n",
      "  FutureWarning)\n",
      "/home/morelli/anaconda3/envs/scnsbm/lib/python3.7/site-packages/sklearn/metrics/cluster/supervised.py:746: FutureWarning: The behavior of AMI will change in version 0.22. To match the behavior of 'v_measure_score', AMI will use average_method='arithmetic' by default.\n",
      "  FutureWarning)\n",
      "/home/morelli/anaconda3/envs/scnsbm/lib/python3.7/site-packages/sklearn/metrics/cluster/supervised.py:746: FutureWarning: The behavior of AMI will change in version 0.22. To match the behavior of 'v_measure_score', AMI will use average_method='arithmetic' by default.\n",
      "  FutureWarning)\n",
      "/home/morelli/anaconda3/envs/scnsbm/lib/python3.7/site-packages/sklearn/metrics/cluster/supervised.py:746: FutureWarning: The behavior of AMI will change in version 0.22. To match the behavior of 'v_measure_score', AMI will use average_method='arithmetic' by default.\n",
      "  FutureWarning)\n",
      "/home/morelli/anaconda3/envs/scnsbm/lib/python3.7/site-packages/sklearn/metrics/cluster/supervised.py:746: FutureWarning: The behavior of AMI will change in version 0.22. To match the behavior of 'v_measure_score', AMI will use average_method='arithmetic' by default.\n",
      "  FutureWarning)\n",
      "/home/morelli/anaconda3/envs/scnsbm/lib/python3.7/site-packages/sklearn/metrics/cluster/supervised.py:746: FutureWarning: The behavior of AMI will change in version 0.22. To match the behavior of 'v_measure_score', AMI will use average_method='arithmetic' by default.\n",
      "  FutureWarning)\n",
      "/home/morelli/anaconda3/envs/scnsbm/lib/python3.7/site-packages/sklearn/metrics/cluster/supervised.py:746: FutureWarning: The behavior of AMI will change in version 0.22. To match the behavior of 'v_measure_score', AMI will use average_method='arithmetic' by default.\n",
      "  FutureWarning)\n",
      "/home/morelli/anaconda3/envs/scnsbm/lib/python3.7/site-packages/sklearn/metrics/cluster/supervised.py:746: FutureWarning: The behavior of AMI will change in version 0.22. To match the behavior of 'v_measure_score', AMI will use average_method='arithmetic' by default.\n",
      "  FutureWarning)\n",
      "/home/morelli/anaconda3/envs/scnsbm/lib/python3.7/site-packages/sklearn/metrics/cluster/supervised.py:746: FutureWarning: The behavior of AMI will change in version 0.22. To match the behavior of 'v_measure_score', AMI will use average_method='arithmetic' by default.\n",
      "  FutureWarning)\n",
      "/home/morelli/anaconda3/envs/scnsbm/lib/python3.7/site-packages/sklearn/metrics/cluster/supervised.py:746: FutureWarning: The behavior of AMI will change in version 0.22. To match the behavior of 'v_measure_score', AMI will use average_method='arithmetic' by default.\n",
      "  FutureWarning)\n",
      "/home/morelli/anaconda3/envs/scnsbm/lib/python3.7/site-packages/sklearn/metrics/cluster/supervised.py:746: FutureWarning: The behavior of AMI will change in version 0.22. To match the behavior of 'v_measure_score', AMI will use average_method='arithmetic' by default.\n",
      "  FutureWarning)\n",
      "/home/morelli/anaconda3/envs/scnsbm/lib/python3.7/site-packages/sklearn/metrics/cluster/supervised.py:746: FutureWarning: The behavior of AMI will change in version 0.22. To match the behavior of 'v_measure_score', AMI will use average_method='arithmetic' by default.\n",
      "  FutureWarning)\n",
      "/home/morelli/anaconda3/envs/scnsbm/lib/python3.7/site-packages/sklearn/metrics/cluster/supervised.py:746: FutureWarning: The behavior of AMI will change in version 0.22. To match the behavior of 'v_measure_score', AMI will use average_method='arithmetic' by default.\n",
      "  FutureWarning)\n",
      "/home/morelli/anaconda3/envs/scnsbm/lib/python3.7/site-packages/sklearn/metrics/cluster/supervised.py:746: FutureWarning: The behavior of AMI will change in version 0.22. To match the behavior of 'v_measure_score', AMI will use average_method='arithmetic' by default.\n",
      "  FutureWarning)\n",
      "/home/morelli/anaconda3/envs/scnsbm/lib/python3.7/site-packages/sklearn/metrics/cluster/supervised.py:746: FutureWarning: The behavior of AMI will change in version 0.22. To match the behavior of 'v_measure_score', AMI will use average_method='arithmetic' by default.\n",
      "  FutureWarning)\n",
      "/home/morelli/anaconda3/envs/scnsbm/lib/python3.7/site-packages/sklearn/metrics/cluster/supervised.py:746: FutureWarning: The behavior of AMI will change in version 0.22. To match the behavior of 'v_measure_score', AMI will use average_method='arithmetic' by default.\n",
      "  FutureWarning)\n",
      "/home/morelli/anaconda3/envs/scnsbm/lib/python3.7/site-packages/sklearn/metrics/cluster/supervised.py:746: FutureWarning: The behavior of AMI will change in version 0.22. To match the behavior of 'v_measure_score', AMI will use average_method='arithmetic' by default.\n",
      "  FutureWarning)\n",
      "/home/morelli/anaconda3/envs/scnsbm/lib/python3.7/site-packages/sklearn/metrics/cluster/supervised.py:746: FutureWarning: The behavior of AMI will change in version 0.22. To match the behavior of 'v_measure_score', AMI will use average_method='arithmetic' by default.\n",
      "  FutureWarning)\n",
      "/home/morelli/anaconda3/envs/scnsbm/lib/python3.7/site-packages/sklearn/metrics/cluster/supervised.py:746: FutureWarning: The behavior of AMI will change in version 0.22. To match the behavior of 'v_measure_score', AMI will use average_method='arithmetic' by default.\n",
      "  FutureWarning)\n",
      "/home/morelli/anaconda3/envs/scnsbm/lib/python3.7/site-packages/sklearn/metrics/cluster/supervised.py:746: FutureWarning: The behavior of AMI will change in version 0.22. To match the behavior of 'v_measure_score', AMI will use average_method='arithmetic' by default.\n",
      "  FutureWarning)\n",
      "/home/morelli/anaconda3/envs/scnsbm/lib/python3.7/site-packages/sklearn/metrics/cluster/supervised.py:746: FutureWarning: The behavior of AMI will change in version 0.22. To match the behavior of 'v_measure_score', AMI will use average_method='arithmetic' by default.\n",
      "  FutureWarning)\n",
      "/home/morelli/anaconda3/envs/scnsbm/lib/python3.7/site-packages/sklearn/metrics/cluster/supervised.py:746: FutureWarning: The behavior of AMI will change in version 0.22. To match the behavior of 'v_measure_score', AMI will use average_method='arithmetic' by default.\n",
      "  FutureWarning)\n",
      "/home/morelli/anaconda3/envs/scnsbm/lib/python3.7/site-packages/sklearn/metrics/cluster/supervised.py:746: FutureWarning: The behavior of AMI will change in version 0.22. To match the behavior of 'v_measure_score', AMI will use average_method='arithmetic' by default.\n",
      "  FutureWarning)\n",
      "/home/morelli/anaconda3/envs/scnsbm/lib/python3.7/site-packages/sklearn/metrics/cluster/supervised.py:746: FutureWarning: The behavior of AMI will change in version 0.22. To match the behavior of 'v_measure_score', AMI will use average_method='arithmetic' by default.\n",
      "  FutureWarning)\n",
      "/home/morelli/anaconda3/envs/scnsbm/lib/python3.7/site-packages/sklearn/metrics/cluster/supervised.py:746: FutureWarning: The behavior of AMI will change in version 0.22. To match the behavior of 'v_measure_score', AMI will use average_method='arithmetic' by default.\n",
      "  FutureWarning)\n",
      "/home/morelli/anaconda3/envs/scnsbm/lib/python3.7/site-packages/sklearn/metrics/cluster/supervised.py:746: FutureWarning: The behavior of AMI will change in version 0.22. To match the behavior of 'v_measure_score', AMI will use average_method='arithmetic' by default.\n",
      "  FutureWarning)\n",
      "/home/morelli/anaconda3/envs/scnsbm/lib/python3.7/site-packages/sklearn/metrics/cluster/supervised.py:746: FutureWarning: The behavior of AMI will change in version 0.22. To match the behavior of 'v_measure_score', AMI will use average_method='arithmetic' by default.\n",
      "  FutureWarning)\n",
      "/home/morelli/anaconda3/envs/scnsbm/lib/python3.7/site-packages/sklearn/metrics/cluster/supervised.py:746: FutureWarning: The behavior of AMI will change in version 0.22. To match the behavior of 'v_measure_score', AMI will use average_method='arithmetic' by default.\n",
      "  FutureWarning)\n",
      "/home/morelli/anaconda3/envs/scnsbm/lib/python3.7/site-packages/sklearn/metrics/cluster/supervised.py:746: FutureWarning: The behavior of AMI will change in version 0.22. To match the behavior of 'v_measure_score', AMI will use average_method='arithmetic' by default.\n",
      "  FutureWarning)\n",
      "/home/morelli/anaconda3/envs/scnsbm/lib/python3.7/site-packages/sklearn/metrics/cluster/supervised.py:746: FutureWarning: The behavior of AMI will change in version 0.22. To match the behavior of 'v_measure_score', AMI will use average_method='arithmetic' by default.\n",
      "  FutureWarning)\n",
      "/home/morelli/anaconda3/envs/scnsbm/lib/python3.7/site-packages/sklearn/metrics/cluster/supervised.py:746: FutureWarning: The behavior of AMI will change in version 0.22. To match the behavior of 'v_measure_score', AMI will use average_method='arithmetic' by default.\n",
      "  FutureWarning)\n",
      "/home/morelli/anaconda3/envs/scnsbm/lib/python3.7/site-packages/sklearn/metrics/cluster/supervised.py:746: FutureWarning: The behavior of AMI will change in version 0.22. To match the behavior of 'v_measure_score', AMI will use average_method='arithmetic' by default.\n",
      "  FutureWarning)\n",
      "/home/morelli/anaconda3/envs/scnsbm/lib/python3.7/site-packages/sklearn/metrics/cluster/supervised.py:746: FutureWarning: The behavior of AMI will change in version 0.22. To match the behavior of 'v_measure_score', AMI will use average_method='arithmetic' by default.\n",
      "  FutureWarning)\n",
      "/home/morelli/anaconda3/envs/scnsbm/lib/python3.7/site-packages/sklearn/metrics/cluster/supervised.py:746: FutureWarning: The behavior of AMI will change in version 0.22. To match the behavior of 'v_measure_score', AMI will use average_method='arithmetic' by default.\n",
      "  FutureWarning)\n",
      "/home/morelli/anaconda3/envs/scnsbm/lib/python3.7/site-packages/sklearn/metrics/cluster/supervised.py:746: FutureWarning: The behavior of AMI will change in version 0.22. To match the behavior of 'v_measure_score', AMI will use average_method='arithmetic' by default.\n",
      "  FutureWarning)\n",
      "/home/morelli/anaconda3/envs/scnsbm/lib/python3.7/site-packages/sklearn/metrics/cluster/supervised.py:746: FutureWarning: The behavior of AMI will change in version 0.22. To match the behavior of 'v_measure_score', AMI will use average_method='arithmetic' by default.\n",
      "  FutureWarning)\n",
      "/home/morelli/anaconda3/envs/scnsbm/lib/python3.7/site-packages/sklearn/metrics/cluster/supervised.py:746: FutureWarning: The behavior of AMI will change in version 0.22. To match the behavior of 'v_measure_score', AMI will use average_method='arithmetic' by default.\n",
      "  FutureWarning)\n"
     ]
    }
   ],
   "source": [
    "foobar25a= [sklearn.metrics.adjusted_mutual_info_score(adata25a.obs.loc[:, NL], adata25a.obs.loc[:, 'cell_line'])\n",
    "                                            for NL in nsbm_levels]\n",
    "foobar25b= [sklearn.metrics.adjusted_mutual_info_score(adata25b.obs.loc[:, NL], adata25b.obs.loc[:, 'cell_line'])\n",
    "                                            for NL in nsbm_levels]\n",
    "foobar25c= [sklearn.metrics.adjusted_mutual_info_score(adata25c.obs.loc[:, NL], adata25c.obs.loc[:, 'cell_line'])\n",
    "                                            for NL in nsbm_levels]\n",
    "foobar25d= [sklearn.metrics.adjusted_mutual_info_score(adata25d.obs.loc[:, NL], adata25d.obs.loc[:, 'cell_line'])\n",
    "                                            for NL in nsbm_levels]\n",
    "foobar25e= [sklearn.metrics.adjusted_mutual_info_score(adata25e.obs.loc[:, NL], adata25e.obs.loc[:, 'cell_line'])\n",
    "                                            for NL in nsbm_levels]"
   ]
  },
  {
   "cell_type": "code",
   "execution_count": 49,
   "metadata": {},
   "outputs": [],
   "source": [
    "MI_25=pd.DataFrame(None,columns=foobars,index=nsbm_levels)\n",
    "MI_25.loc[:,'foobar25a']=foobar25a\n",
    "MI_25.loc[:,'foobar25b']=foobar25b\n",
    "MI_25.loc[:,'foobar25c']=foobar25c\n",
    "MI_25.loc[:,'foobar25d']=foobar25d\n",
    "MI_25.loc[:,'foobar25e']=foobar25e"
   ]
  },
  {
   "cell_type": "code",
   "execution_count": 81,
   "metadata": {},
   "outputs": [],
   "source": [
    "mean_25=[mean(MI_25.iloc[x,:]) for x in range(len(nsbm_levels))]\n",
    "sd_25=[statistics.stdev(MI_25.iloc[x,:]) for x in range(len(nsbm_levels))]\n",
    "MI_25['mean_25']=mean_25\n",
    "MI_25['standard_deviation_25']=sd_25"
   ]
  },
  {
   "cell_type": "code",
   "execution_count": 82,
   "metadata": {},
   "outputs": [],
   "source": [
    "pickle.dump(MI_25, open('hworkcovid_10x/mi_25.pkl','wb'),2)"
   ]
  },
  {
   "cell_type": "code",
   "execution_count": 83,
   "metadata": {
    "scrolled": true
   },
   "outputs": [
    {
     "data": {
      "text/html": [
       "<div>\n",
       "<style scoped>\n",
       "    .dataframe tbody tr th:only-of-type {\n",
       "        vertical-align: middle;\n",
       "    }\n",
       "\n",
       "    .dataframe tbody tr th {\n",
       "        vertical-align: top;\n",
       "    }\n",
       "\n",
       "    .dataframe thead th {\n",
       "        text-align: right;\n",
       "    }\n",
       "</style>\n",
       "<table border=\"1\" class=\"dataframe\">\n",
       "  <thead>\n",
       "    <tr style=\"text-align: right;\">\n",
       "      <th></th>\n",
       "      <th>foobar25a</th>\n",
       "      <th>foobar25b</th>\n",
       "      <th>foobar25c</th>\n",
       "      <th>foobar25d</th>\n",
       "      <th>foobar25e</th>\n",
       "      <th>mean_25</th>\n",
       "      <th>standard_deviation_25</th>\n",
       "    </tr>\n",
       "  </thead>\n",
       "  <tbody>\n",
       "    <tr>\n",
       "      <th>nsbm_level_1</th>\n",
       "      <td>5.027644e-01</td>\n",
       "      <td>4.866673e-01</td>\n",
       "      <td>4.951642e-01</td>\n",
       "      <td>0.490244</td>\n",
       "      <td>4.928415e-01</td>\n",
       "      <td>0.493536</td>\n",
       "      <td>0.006048</td>\n",
       "    </tr>\n",
       "    <tr>\n",
       "      <th>nsbm_level_2</th>\n",
       "      <td>7.112546e-01</td>\n",
       "      <td>7.157260e-01</td>\n",
       "      <td>7.303313e-01</td>\n",
       "      <td>0.702760</td>\n",
       "      <td>7.445530e-01</td>\n",
       "      <td>0.720925</td>\n",
       "      <td>0.016563</td>\n",
       "    </tr>\n",
       "    <tr>\n",
       "      <th>nsbm_level_3</th>\n",
       "      <td>8.104263e-01</td>\n",
       "      <td>8.167789e-01</td>\n",
       "      <td>7.607735e-01</td>\n",
       "      <td>0.811367</td>\n",
       "      <td>8.157510e-01</td>\n",
       "      <td>0.803019</td>\n",
       "      <td>0.023773</td>\n",
       "    </tr>\n",
       "    <tr>\n",
       "      <th>nsbm_level_4</th>\n",
       "      <td>5.620258e-01</td>\n",
       "      <td>8.101602e-01</td>\n",
       "      <td>6.863445e-01</td>\n",
       "      <td>0.810502</td>\n",
       "      <td>6.863445e-01</td>\n",
       "      <td>0.711075</td>\n",
       "      <td>0.103854</td>\n",
       "    </tr>\n",
       "    <tr>\n",
       "      <th>nsbm_level_5</th>\n",
       "      <td>1.655314e-01</td>\n",
       "      <td>4.389568e-01</td>\n",
       "      <td>4.205332e-01</td>\n",
       "      <td>0.810160</td>\n",
       "      <td>3.330700e-01</td>\n",
       "      <td>0.433650</td>\n",
       "      <td>0.236624</td>\n",
       "    </tr>\n",
       "    <tr>\n",
       "      <th>nsbm_level_6</th>\n",
       "      <td>1.663716e-01</td>\n",
       "      <td>-5.897479e-16</td>\n",
       "      <td>4.205332e-01</td>\n",
       "      <td>0.562187</td>\n",
       "      <td>-5.897479e-16</td>\n",
       "      <td>0.229818</td>\n",
       "      <td>0.253229</td>\n",
       "    </tr>\n",
       "    <tr>\n",
       "      <th>nsbm_level_7</th>\n",
       "      <td>-5.897479e-16</td>\n",
       "      <td>-5.897479e-16</td>\n",
       "      <td>-5.897479e-16</td>\n",
       "      <td>0.562187</td>\n",
       "      <td>-5.897479e-16</td>\n",
       "      <td>0.112437</td>\n",
       "      <td>0.251417</td>\n",
       "    </tr>\n",
       "    <tr>\n",
       "      <th>nsbm_level_8</th>\n",
       "      <td>-5.897479e-16</td>\n",
       "      <td>-5.897479e-16</td>\n",
       "      <td>-5.897479e-16</td>\n",
       "      <td>0.438957</td>\n",
       "      <td>-5.897479e-16</td>\n",
       "      <td>0.087791</td>\n",
       "      <td>0.196307</td>\n",
       "    </tr>\n",
       "    <tr>\n",
       "      <th>nsbm_level_9</th>\n",
       "      <td>-5.897479e-16</td>\n",
       "      <td>-5.897479e-16</td>\n",
       "      <td>-5.897479e-16</td>\n",
       "      <td>0.438957</td>\n",
       "      <td>-5.897479e-16</td>\n",
       "      <td>0.087791</td>\n",
       "      <td>0.196307</td>\n",
       "    </tr>\n",
       "  </tbody>\n",
       "</table>\n",
       "</div>"
      ],
      "text/plain": [
       "                 foobar25a     foobar25b     foobar25c  foobar25d  \\\n",
       "nsbm_level_1  5.027644e-01  4.866673e-01  4.951642e-01   0.490244   \n",
       "nsbm_level_2  7.112546e-01  7.157260e-01  7.303313e-01   0.702760   \n",
       "nsbm_level_3  8.104263e-01  8.167789e-01  7.607735e-01   0.811367   \n",
       "nsbm_level_4  5.620258e-01  8.101602e-01  6.863445e-01   0.810502   \n",
       "nsbm_level_5  1.655314e-01  4.389568e-01  4.205332e-01   0.810160   \n",
       "nsbm_level_6  1.663716e-01 -5.897479e-16  4.205332e-01   0.562187   \n",
       "nsbm_level_7 -5.897479e-16 -5.897479e-16 -5.897479e-16   0.562187   \n",
       "nsbm_level_8 -5.897479e-16 -5.897479e-16 -5.897479e-16   0.438957   \n",
       "nsbm_level_9 -5.897479e-16 -5.897479e-16 -5.897479e-16   0.438957   \n",
       "\n",
       "                 foobar25e   mean_25  standard_deviation_25  \n",
       "nsbm_level_1  4.928415e-01  0.493536               0.006048  \n",
       "nsbm_level_2  7.445530e-01  0.720925               0.016563  \n",
       "nsbm_level_3  8.157510e-01  0.803019               0.023773  \n",
       "nsbm_level_4  6.863445e-01  0.711075               0.103854  \n",
       "nsbm_level_5  3.330700e-01  0.433650               0.236624  \n",
       "nsbm_level_6 -5.897479e-16  0.229818               0.253229  \n",
       "nsbm_level_7 -5.897479e-16  0.112437               0.251417  \n",
       "nsbm_level_8 -5.897479e-16  0.087791               0.196307  \n",
       "nsbm_level_9 -5.897479e-16  0.087791               0.196307  "
      ]
     },
     "execution_count": 83,
     "metadata": {},
     "output_type": "execute_result"
    }
   ],
   "source": [
    "MI_25"
   ]
  },
  {
   "cell_type": "code",
   "execution_count": 116,
   "metadata": {},
   "outputs": [
    {
     "data": {
      "text/plain": [
       "<matplotlib.axes._subplots.AxesSubplot at 0x7fcdd6f66eb8>"
      ]
     },
     "execution_count": 116,
     "metadata": {},
     "output_type": "execute_result"
    },
    {
     "data": {
      "image/png": "[encoded data removed]",
      "text/plain": [
       "<Figure size 432x288 with 1 Axes>"
      ]
     },
     "metadata": {
      "needs_background": "light"
     },
     "output_type": "display_data"
    }
   ],
   "source": [
    "MI_25.iloc[:,0:4].T.boxplot()"
   ]
  },
  {
   "cell_type": "markdown",
   "metadata": {},
   "source": [
    "# ADATA30"
   ]
  },
  {
   "cell_type": "code",
   "execution_count": 21,
   "metadata": {},
   "outputs": [],
   "source": [
    "scnsbm.inference.nested_model(adata30,collect_marginals=False)\n",
    "adata30.write('hworkcovid_10x/adata_30a.h5ad')\n",
    "scnsbm.inference.nested_model(adata30,collect_marginals=False)\n",
    "adata30.write('hworkcovid_10x/adata_30b.h5ad')\n",
    "scnsbm.inference.nested_model(adata30,collect_marginals=False)\n",
    "adata30.write('hworkcovid_10x/adata_30c.h5ad')\n",
    "scnsbm.inference.nested_model(adata30,collect_marginals=False)\n",
    "adata30.write('hworkcovid_10x/adata_30d.h5ad')\n",
    "scnsbm.inference.nested_model(adata30,collect_marginals=False)\n",
    "adata30.write('hworkcovid_10x/adata_30e.h5ad')"
   ]
  },
  {
   "cell_type": "code",
   "execution_count": 50,
   "metadata": {},
   "outputs": [],
   "source": [
    "adata30a=sc.read('hworkcovid_10x/adata_30a.h5ad')\n",
    "adata30b=sc.read('hworkcovid_10x/adata_30b.h5ad')\n",
    "adata30c=sc.read('hworkcovid_10x/adata_30c.h5ad')\n",
    "adata30d=sc.read('hworkcovid_10x/adata_30d.h5ad')\n",
    "adata30e=sc.read('hworkcovid_10x/adata_30e.h5ad')"
   ]
  },
  {
   "cell_type": "markdown",
   "metadata": {},
   "source": [
    "### MI_30"
   ]
  },
  {
   "cell_type": "code",
   "execution_count": 51,
   "metadata": {},
   "outputs": [],
   "source": [
    "nsbm_levels = [x for x in adata30a.obs_keys() if x.startswith(\"nsbm\")]\n",
    "foobars=['foobar30a','foobar30b','foobar30c','foobar30d','foobar30e']"
   ]
  },
  {
   "cell_type": "code",
   "execution_count": 52,
   "metadata": {},
   "outputs": [
    {
     "name": "stderr",
     "output_type": "stream",
     "text": [
      "/home/morelli/anaconda3/envs/scnsbm/lib/python3.7/site-packages/sklearn/metrics/cluster/supervised.py:746: FutureWarning: The behavior of AMI will change in version 0.22. To match the behavior of 'v_measure_score', AMI will use average_method='arithmetic' by default.\n",
      "  FutureWarning)\n",
      "/home/morelli/anaconda3/envs/scnsbm/lib/python3.7/site-packages/sklearn/metrics/cluster/supervised.py:746: FutureWarning: The behavior of AMI will change in version 0.22. To match the behavior of 'v_measure_score', AMI will use average_method='arithmetic' by default.\n",
      "  FutureWarning)\n",
      "/home/morelli/anaconda3/envs/scnsbm/lib/python3.7/site-packages/sklearn/metrics/cluster/supervised.py:746: FutureWarning: The behavior of AMI will change in version 0.22. To match the behavior of 'v_measure_score', AMI will use average_method='arithmetic' by default.\n",
      "  FutureWarning)\n",
      "/home/morelli/anaconda3/envs/scnsbm/lib/python3.7/site-packages/sklearn/metrics/cluster/supervised.py:746: FutureWarning: The behavior of AMI will change in version 0.22. To match the behavior of 'v_measure_score', AMI will use average_method='arithmetic' by default.\n",
      "  FutureWarning)\n",
      "/home/morelli/anaconda3/envs/scnsbm/lib/python3.7/site-packages/sklearn/metrics/cluster/supervised.py:746: FutureWarning: The behavior of AMI will change in version 0.22. To match the behavior of 'v_measure_score', AMI will use average_method='arithmetic' by default.\n",
      "  FutureWarning)\n",
      "/home/morelli/anaconda3/envs/scnsbm/lib/python3.7/site-packages/sklearn/metrics/cluster/supervised.py:746: FutureWarning: The behavior of AMI will change in version 0.22. To match the behavior of 'v_measure_score', AMI will use average_method='arithmetic' by default.\n",
      "  FutureWarning)\n",
      "/home/morelli/anaconda3/envs/scnsbm/lib/python3.7/site-packages/sklearn/metrics/cluster/supervised.py:746: FutureWarning: The behavior of AMI will change in version 0.22. To match the behavior of 'v_measure_score', AMI will use average_method='arithmetic' by default.\n",
      "  FutureWarning)\n",
      "/home/morelli/anaconda3/envs/scnsbm/lib/python3.7/site-packages/sklearn/metrics/cluster/supervised.py:746: FutureWarning: The behavior of AMI will change in version 0.22. To match the behavior of 'v_measure_score', AMI will use average_method='arithmetic' by default.\n",
      "  FutureWarning)\n",
      "/home/morelli/anaconda3/envs/scnsbm/lib/python3.7/site-packages/sklearn/metrics/cluster/supervised.py:746: FutureWarning: The behavior of AMI will change in version 0.22. To match the behavior of 'v_measure_score', AMI will use average_method='arithmetic' by default.\n",
      "  FutureWarning)\n",
      "/home/morelli/anaconda3/envs/scnsbm/lib/python3.7/site-packages/sklearn/metrics/cluster/supervised.py:746: FutureWarning: The behavior of AMI will change in version 0.22. To match the behavior of 'v_measure_score', AMI will use average_method='arithmetic' by default.\n",
      "  FutureWarning)\n",
      "/home/morelli/anaconda3/envs/scnsbm/lib/python3.7/site-packages/sklearn/metrics/cluster/supervised.py:746: FutureWarning: The behavior of AMI will change in version 0.22. To match the behavior of 'v_measure_score', AMI will use average_method='arithmetic' by default.\n",
      "  FutureWarning)\n",
      "/home/morelli/anaconda3/envs/scnsbm/lib/python3.7/site-packages/sklearn/metrics/cluster/supervised.py:746: FutureWarning: The behavior of AMI will change in version 0.22. To match the behavior of 'v_measure_score', AMI will use average_method='arithmetic' by default.\n",
      "  FutureWarning)\n",
      "/home/morelli/anaconda3/envs/scnsbm/lib/python3.7/site-packages/sklearn/metrics/cluster/supervised.py:746: FutureWarning: The behavior of AMI will change in version 0.22. To match the behavior of 'v_measure_score', AMI will use average_method='arithmetic' by default.\n",
      "  FutureWarning)\n",
      "/home/morelli/anaconda3/envs/scnsbm/lib/python3.7/site-packages/sklearn/metrics/cluster/supervised.py:746: FutureWarning: The behavior of AMI will change in version 0.22. To match the behavior of 'v_measure_score', AMI will use average_method='arithmetic' by default.\n",
      "  FutureWarning)\n",
      "/home/morelli/anaconda3/envs/scnsbm/lib/python3.7/site-packages/sklearn/metrics/cluster/supervised.py:746: FutureWarning: The behavior of AMI will change in version 0.22. To match the behavior of 'v_measure_score', AMI will use average_method='arithmetic' by default.\n",
      "  FutureWarning)\n",
      "/home/morelli/anaconda3/envs/scnsbm/lib/python3.7/site-packages/sklearn/metrics/cluster/supervised.py:746: FutureWarning: The behavior of AMI will change in version 0.22. To match the behavior of 'v_measure_score', AMI will use average_method='arithmetic' by default.\n",
      "  FutureWarning)\n",
      "/home/morelli/anaconda3/envs/scnsbm/lib/python3.7/site-packages/sklearn/metrics/cluster/supervised.py:746: FutureWarning: The behavior of AMI will change in version 0.22. To match the behavior of 'v_measure_score', AMI will use average_method='arithmetic' by default.\n",
      "  FutureWarning)\n",
      "/home/morelli/anaconda3/envs/scnsbm/lib/python3.7/site-packages/sklearn/metrics/cluster/supervised.py:746: FutureWarning: The behavior of AMI will change in version 0.22. To match the behavior of 'v_measure_score', AMI will use average_method='arithmetic' by default.\n",
      "  FutureWarning)\n",
      "/home/morelli/anaconda3/envs/scnsbm/lib/python3.7/site-packages/sklearn/metrics/cluster/supervised.py:746: FutureWarning: The behavior of AMI will change in version 0.22. To match the behavior of 'v_measure_score', AMI will use average_method='arithmetic' by default.\n",
      "  FutureWarning)\n",
      "/home/morelli/anaconda3/envs/scnsbm/lib/python3.7/site-packages/sklearn/metrics/cluster/supervised.py:746: FutureWarning: The behavior of AMI will change in version 0.22. To match the behavior of 'v_measure_score', AMI will use average_method='arithmetic' by default.\n",
      "  FutureWarning)\n",
      "/home/morelli/anaconda3/envs/scnsbm/lib/python3.7/site-packages/sklearn/metrics/cluster/supervised.py:746: FutureWarning: The behavior of AMI will change in version 0.22. To match the behavior of 'v_measure_score', AMI will use average_method='arithmetic' by default.\n",
      "  FutureWarning)\n",
      "/home/morelli/anaconda3/envs/scnsbm/lib/python3.7/site-packages/sklearn/metrics/cluster/supervised.py:746: FutureWarning: The behavior of AMI will change in version 0.22. To match the behavior of 'v_measure_score', AMI will use average_method='arithmetic' by default.\n",
      "  FutureWarning)\n",
      "/home/morelli/anaconda3/envs/scnsbm/lib/python3.7/site-packages/sklearn/metrics/cluster/supervised.py:746: FutureWarning: The behavior of AMI will change in version 0.22. To match the behavior of 'v_measure_score', AMI will use average_method='arithmetic' by default.\n",
      "  FutureWarning)\n",
      "/home/morelli/anaconda3/envs/scnsbm/lib/python3.7/site-packages/sklearn/metrics/cluster/supervised.py:746: FutureWarning: The behavior of AMI will change in version 0.22. To match the behavior of 'v_measure_score', AMI will use average_method='arithmetic' by default.\n",
      "  FutureWarning)\n",
      "/home/morelli/anaconda3/envs/scnsbm/lib/python3.7/site-packages/sklearn/metrics/cluster/supervised.py:746: FutureWarning: The behavior of AMI will change in version 0.22. To match the behavior of 'v_measure_score', AMI will use average_method='arithmetic' by default.\n",
      "  FutureWarning)\n",
      "/home/morelli/anaconda3/envs/scnsbm/lib/python3.7/site-packages/sklearn/metrics/cluster/supervised.py:746: FutureWarning: The behavior of AMI will change in version 0.22. To match the behavior of 'v_measure_score', AMI will use average_method='arithmetic' by default.\n",
      "  FutureWarning)\n",
      "/home/morelli/anaconda3/envs/scnsbm/lib/python3.7/site-packages/sklearn/metrics/cluster/supervised.py:746: FutureWarning: The behavior of AMI will change in version 0.22. To match the behavior of 'v_measure_score', AMI will use average_method='arithmetic' by default.\n",
      "  FutureWarning)\n",
      "/home/morelli/anaconda3/envs/scnsbm/lib/python3.7/site-packages/sklearn/metrics/cluster/supervised.py:746: FutureWarning: The behavior of AMI will change in version 0.22. To match the behavior of 'v_measure_score', AMI will use average_method='arithmetic' by default.\n",
      "  FutureWarning)\n",
      "/home/morelli/anaconda3/envs/scnsbm/lib/python3.7/site-packages/sklearn/metrics/cluster/supervised.py:746: FutureWarning: The behavior of AMI will change in version 0.22. To match the behavior of 'v_measure_score', AMI will use average_method='arithmetic' by default.\n",
      "  FutureWarning)\n",
      "/home/morelli/anaconda3/envs/scnsbm/lib/python3.7/site-packages/sklearn/metrics/cluster/supervised.py:746: FutureWarning: The behavior of AMI will change in version 0.22. To match the behavior of 'v_measure_score', AMI will use average_method='arithmetic' by default.\n",
      "  FutureWarning)\n",
      "/home/morelli/anaconda3/envs/scnsbm/lib/python3.7/site-packages/sklearn/metrics/cluster/supervised.py:746: FutureWarning: The behavior of AMI will change in version 0.22. To match the behavior of 'v_measure_score', AMI will use average_method='arithmetic' by default.\n",
      "  FutureWarning)\n",
      "/home/morelli/anaconda3/envs/scnsbm/lib/python3.7/site-packages/sklearn/metrics/cluster/supervised.py:746: FutureWarning: The behavior of AMI will change in version 0.22. To match the behavior of 'v_measure_score', AMI will use average_method='arithmetic' by default.\n",
      "  FutureWarning)\n",
      "/home/morelli/anaconda3/envs/scnsbm/lib/python3.7/site-packages/sklearn/metrics/cluster/supervised.py:746: FutureWarning: The behavior of AMI will change in version 0.22. To match the behavior of 'v_measure_score', AMI will use average_method='arithmetic' by default.\n",
      "  FutureWarning)\n",
      "/home/morelli/anaconda3/envs/scnsbm/lib/python3.7/site-packages/sklearn/metrics/cluster/supervised.py:746: FutureWarning: The behavior of AMI will change in version 0.22. To match the behavior of 'v_measure_score', AMI will use average_method='arithmetic' by default.\n",
      "  FutureWarning)\n",
      "/home/morelli/anaconda3/envs/scnsbm/lib/python3.7/site-packages/sklearn/metrics/cluster/supervised.py:746: FutureWarning: The behavior of AMI will change in version 0.22. To match the behavior of 'v_measure_score', AMI will use average_method='arithmetic' by default.\n",
      "  FutureWarning)\n",
      "/home/morelli/anaconda3/envs/scnsbm/lib/python3.7/site-packages/sklearn/metrics/cluster/supervised.py:746: FutureWarning: The behavior of AMI will change in version 0.22. To match the behavior of 'v_measure_score', AMI will use average_method='arithmetic' by default.\n",
      "  FutureWarning)\n",
      "/home/morelli/anaconda3/envs/scnsbm/lib/python3.7/site-packages/sklearn/metrics/cluster/supervised.py:746: FutureWarning: The behavior of AMI will change in version 0.22. To match the behavior of 'v_measure_score', AMI will use average_method='arithmetic' by default.\n",
      "  FutureWarning)\n",
      "/home/morelli/anaconda3/envs/scnsbm/lib/python3.7/site-packages/sklearn/metrics/cluster/supervised.py:746: FutureWarning: The behavior of AMI will change in version 0.22. To match the behavior of 'v_measure_score', AMI will use average_method='arithmetic' by default.\n",
      "  FutureWarning)\n",
      "/home/morelli/anaconda3/envs/scnsbm/lib/python3.7/site-packages/sklearn/metrics/cluster/supervised.py:746: FutureWarning: The behavior of AMI will change in version 0.22. To match the behavior of 'v_measure_score', AMI will use average_method='arithmetic' by default.\n",
      "  FutureWarning)\n",
      "/home/morelli/anaconda3/envs/scnsbm/lib/python3.7/site-packages/sklearn/metrics/cluster/supervised.py:746: FutureWarning: The behavior of AMI will change in version 0.22. To match the behavior of 'v_measure_score', AMI will use average_method='arithmetic' by default.\n",
      "  FutureWarning)\n",
      "/home/morelli/anaconda3/envs/scnsbm/lib/python3.7/site-packages/sklearn/metrics/cluster/supervised.py:746: FutureWarning: The behavior of AMI will change in version 0.22. To match the behavior of 'v_measure_score', AMI will use average_method='arithmetic' by default.\n",
      "  FutureWarning)\n",
      "/home/morelli/anaconda3/envs/scnsbm/lib/python3.7/site-packages/sklearn/metrics/cluster/supervised.py:746: FutureWarning: The behavior of AMI will change in version 0.22. To match the behavior of 'v_measure_score', AMI will use average_method='arithmetic' by default.\n",
      "  FutureWarning)\n",
      "/home/morelli/anaconda3/envs/scnsbm/lib/python3.7/site-packages/sklearn/metrics/cluster/supervised.py:746: FutureWarning: The behavior of AMI will change in version 0.22. To match the behavior of 'v_measure_score', AMI will use average_method='arithmetic' by default.\n",
      "  FutureWarning)\n",
      "/home/morelli/anaconda3/envs/scnsbm/lib/python3.7/site-packages/sklearn/metrics/cluster/supervised.py:746: FutureWarning: The behavior of AMI will change in version 0.22. To match the behavior of 'v_measure_score', AMI will use average_method='arithmetic' by default.\n",
      "  FutureWarning)\n",
      "/home/morelli/anaconda3/envs/scnsbm/lib/python3.7/site-packages/sklearn/metrics/cluster/supervised.py:746: FutureWarning: The behavior of AMI will change in version 0.22. To match the behavior of 'v_measure_score', AMI will use average_method='arithmetic' by default.\n",
      "  FutureWarning)\n"
     ]
    }
   ],
   "source": [
    "foobar30a= [sklearn.metrics.adjusted_mutual_info_score(adata30a.obs.loc[:, NL], adata30a.obs.loc[:, 'cell_line'])\n",
    "                                            for NL in nsbm_levels]\n",
    "foobar30b= [sklearn.metrics.adjusted_mutual_info_score(adata30b.obs.loc[:, NL], adata30b.obs.loc[:, 'cell_line'])\n",
    "                                            for NL in nsbm_levels]\n",
    "foobar30c= [sklearn.metrics.adjusted_mutual_info_score(adata30c.obs.loc[:, NL], adata30c.obs.loc[:, 'cell_line'])\n",
    "                                            for NL in nsbm_levels]\n",
    "foobar30d= [sklearn.metrics.adjusted_mutual_info_score(adata30d.obs.loc[:, NL], adata30d.obs.loc[:, 'cell_line'])\n",
    "                                            for NL in nsbm_levels]\n",
    "foobar30e= [sklearn.metrics.adjusted_mutual_info_score(adata30e.obs.loc[:, NL], adata30e.obs.loc[:, 'cell_line'])\n",
    "                                            for NL in nsbm_levels]"
   ]
  },
  {
   "cell_type": "code",
   "execution_count": 53,
   "metadata": {},
   "outputs": [],
   "source": [
    "MI_30=pd.DataFrame(None,columns=foobars,index=nsbm_levels)\n",
    "MI_30.loc[:,'foobar30a']=foobar30a\n",
    "MI_30.loc[:,'foobar30b']=foobar30b\n",
    "MI_30.loc[:,'foobar30c']=foobar30c\n",
    "MI_30.loc[:,'foobar30d']=foobar30d\n",
    "MI_30.loc[:,'foobar30e']=foobar30e"
   ]
  },
  {
   "cell_type": "code",
   "execution_count": 87,
   "metadata": {},
   "outputs": [],
   "source": [
    "mean_30=[mean(MI_30.iloc[x,:]) for x in range(len(nsbm_levels))]\n",
    "sd_30=[statistics.stdev(MI_30.iloc[x,:]) for x in range(len(nsbm_levels))]\n",
    "MI_30['mean_30']=mean_30\n",
    "MI_30['standard_deviation_30']=sd_30"
   ]
  },
  {
   "cell_type": "code",
   "execution_count": 89,
   "metadata": {},
   "outputs": [],
   "source": [
    "pickle.dump(MI_30, open('hworkcovid_10x/mi_30.pkl','wb'),2)"
   ]
  },
  {
   "cell_type": "code",
   "execution_count": 88,
   "metadata": {
    "scrolled": true
   },
   "outputs": [
    {
     "data": {
      "text/html": [
       "<div>\n",
       "<style scoped>\n",
       "    .dataframe tbody tr th:only-of-type {\n",
       "        vertical-align: middle;\n",
       "    }\n",
       "\n",
       "    .dataframe tbody tr th {\n",
       "        vertical-align: top;\n",
       "    }\n",
       "\n",
       "    .dataframe thead th {\n",
       "        text-align: right;\n",
       "    }\n",
       "</style>\n",
       "<table border=\"1\" class=\"dataframe\">\n",
       "  <thead>\n",
       "    <tr style=\"text-align: right;\">\n",
       "      <th></th>\n",
       "      <th>foobar30a</th>\n",
       "      <th>foobar30b</th>\n",
       "      <th>foobar30c</th>\n",
       "      <th>foobar30d</th>\n",
       "      <th>foobar30e</th>\n",
       "      <th>mean_30</th>\n",
       "      <th>standard_deviation_30</th>\n",
       "    </tr>\n",
       "  </thead>\n",
       "  <tbody>\n",
       "    <tr>\n",
       "      <th>nsbm_level_1</th>\n",
       "      <td>4.911310e-01</td>\n",
       "      <td>4.950225e-01</td>\n",
       "      <td>4.948012e-01</td>\n",
       "      <td>4.783000e-01</td>\n",
       "      <td>0.515994</td>\n",
       "      <td>0.495050</td>\n",
       "      <td>0.013552</td>\n",
       "    </tr>\n",
       "    <tr>\n",
       "      <th>nsbm_level_2</th>\n",
       "      <td>8.569571e-01</td>\n",
       "      <td>9.170356e-01</td>\n",
       "      <td>9.170356e-01</td>\n",
       "      <td>9.129573e-01</td>\n",
       "      <td>0.711275</td>\n",
       "      <td>0.863052</td>\n",
       "      <td>0.088590</td>\n",
       "    </tr>\n",
       "    <tr>\n",
       "      <th>nsbm_level_3</th>\n",
       "      <td>6.885091e-01</td>\n",
       "      <td>8.013945e-01</td>\n",
       "      <td>8.157510e-01</td>\n",
       "      <td>7.083915e-01</td>\n",
       "      <td>0.815751</td>\n",
       "      <td>0.765959</td>\n",
       "      <td>0.062303</td>\n",
       "    </tr>\n",
       "    <tr>\n",
       "      <th>nsbm_level_4</th>\n",
       "      <td>4.442187e-01</td>\n",
       "      <td>6.016108e-01</td>\n",
       "      <td>6.863445e-01</td>\n",
       "      <td>4.187989e-01</td>\n",
       "      <td>0.688509</td>\n",
       "      <td>0.567896</td>\n",
       "      <td>0.129654</td>\n",
       "    </tr>\n",
       "    <tr>\n",
       "      <th>nsbm_level_5</th>\n",
       "      <td>4.442187e-01</td>\n",
       "      <td>2.469667e-01</td>\n",
       "      <td>3.330700e-01</td>\n",
       "      <td>4.187989e-01</td>\n",
       "      <td>0.688509</td>\n",
       "      <td>0.426313</td>\n",
       "      <td>0.165819</td>\n",
       "    </tr>\n",
       "    <tr>\n",
       "      <th>nsbm_level_6</th>\n",
       "      <td>-5.897479e-16</td>\n",
       "      <td>-5.897479e-16</td>\n",
       "      <td>-5.897479e-16</td>\n",
       "      <td>-5.897479e-16</td>\n",
       "      <td>0.333070</td>\n",
       "      <td>0.066614</td>\n",
       "      <td>0.148953</td>\n",
       "    </tr>\n",
       "    <tr>\n",
       "      <th>nsbm_level_7</th>\n",
       "      <td>-5.897479e-16</td>\n",
       "      <td>-5.897479e-16</td>\n",
       "      <td>-5.897479e-16</td>\n",
       "      <td>-5.897479e-16</td>\n",
       "      <td>0.333070</td>\n",
       "      <td>0.066614</td>\n",
       "      <td>0.148953</td>\n",
       "    </tr>\n",
       "    <tr>\n",
       "      <th>nsbm_level_8</th>\n",
       "      <td>-5.897479e-16</td>\n",
       "      <td>-5.897479e-16</td>\n",
       "      <td>-5.897479e-16</td>\n",
       "      <td>-5.897479e-16</td>\n",
       "      <td>0.333070</td>\n",
       "      <td>0.066614</td>\n",
       "      <td>0.148953</td>\n",
       "    </tr>\n",
       "    <tr>\n",
       "      <th>nsbm_level_9</th>\n",
       "      <td>-5.897479e-16</td>\n",
       "      <td>-5.897479e-16</td>\n",
       "      <td>-5.897479e-16</td>\n",
       "      <td>-5.897479e-16</td>\n",
       "      <td>0.333070</td>\n",
       "      <td>0.066614</td>\n",
       "      <td>0.148953</td>\n",
       "    </tr>\n",
       "  </tbody>\n",
       "</table>\n",
       "</div>"
      ],
      "text/plain": [
       "                 foobar30a     foobar30b     foobar30c     foobar30d  \\\n",
       "nsbm_level_1  4.911310e-01  4.950225e-01  4.948012e-01  4.783000e-01   \n",
       "nsbm_level_2  8.569571e-01  9.170356e-01  9.170356e-01  9.129573e-01   \n",
       "nsbm_level_3  6.885091e-01  8.013945e-01  8.157510e-01  7.083915e-01   \n",
       "nsbm_level_4  4.442187e-01  6.016108e-01  6.863445e-01  4.187989e-01   \n",
       "nsbm_level_5  4.442187e-01  2.469667e-01  3.330700e-01  4.187989e-01   \n",
       "nsbm_level_6 -5.897479e-16 -5.897479e-16 -5.897479e-16 -5.897479e-16   \n",
       "nsbm_level_7 -5.897479e-16 -5.897479e-16 -5.897479e-16 -5.897479e-16   \n",
       "nsbm_level_8 -5.897479e-16 -5.897479e-16 -5.897479e-16 -5.897479e-16   \n",
       "nsbm_level_9 -5.897479e-16 -5.897479e-16 -5.897479e-16 -5.897479e-16   \n",
       "\n",
       "              foobar30e   mean_30  standard_deviation_30  \n",
       "nsbm_level_1   0.515994  0.495050               0.013552  \n",
       "nsbm_level_2   0.711275  0.863052               0.088590  \n",
       "nsbm_level_3   0.815751  0.765959               0.062303  \n",
       "nsbm_level_4   0.688509  0.567896               0.129654  \n",
       "nsbm_level_5   0.688509  0.426313               0.165819  \n",
       "nsbm_level_6   0.333070  0.066614               0.148953  \n",
       "nsbm_level_7   0.333070  0.066614               0.148953  \n",
       "nsbm_level_8   0.333070  0.066614               0.148953  \n",
       "nsbm_level_9   0.333070  0.066614               0.148953  "
      ]
     },
     "execution_count": 88,
     "metadata": {},
     "output_type": "execute_result"
    }
   ],
   "source": [
    "MI_30"
   ]
  },
  {
   "cell_type": "code",
   "execution_count": 115,
   "metadata": {
    "scrolled": true
   },
   "outputs": [
    {
     "data": {
      "text/plain": [
       "<matplotlib.axes._subplots.AxesSubplot at 0x7fcdd6ff6dd8>"
      ]
     },
     "execution_count": 115,
     "metadata": {},
     "output_type": "execute_result"
    },
    {
     "data": {
      "image/png": "[encoded data removed]",
      "text/plain": [
       "<Figure size 432x288 with 1 Axes>"
      ]
     },
     "metadata": {
      "needs_background": "light"
     },
     "output_type": "display_data"
    }
   ],
   "source": [
    "MI_30.iloc[:,0:4].T.boxplot()"
   ]
  },
  {
   "cell_type": "code",
   "execution_count": 126,
   "metadata": {
    "scrolled": true
   },
   "outputs": [
    {
     "data": {
      "image/png": "[encoded data removed]",
      "text/plain": [
       "<Figure size 1483.92x288 with 3 Axes>"
      ]
     },
     "metadata": {},
     "output_type": "display_data"
    },
    {
     "data": {
      "image/png": "[encoded data removed]",
      "text/plain": [
       "<Figure size 1483.92x288 with 3 Axes>"
      ]
     },
     "metadata": {},
     "output_type": "display_data"
    },
    {
     "data": {
      "image/png": "[encoded data removed]",
      "text/plain": [
       "<Figure size 1483.92x288 with 3 Axes>"
      ]
     },
     "metadata": {},
     "output_type": "display_data"
    },
    {
     "data": {
      "image/png": "[encoded data removed]",
      "text/plain": [
       "<Figure size 1483.92x288 with 3 Axes>"
      ]
     },
     "metadata": {},
     "output_type": "display_data"
    }
   ],
   "source": [
    "sc.tl.leiden(adata30e, resolution=.5)\n",
    "\n",
    "sc.tl.umap(adata30e)\n",
    "sc.pl.umap(adata30e, color=[\"nsbm_level_1\", 'cell_line', 'leiden'], legend_loc='on_data')\n",
    "sc.pl.umap(adata30e, color=[\"nsbm_level_2\", 'cell_line', 'leiden'], legend_loc='on_data')\n",
    "sc.pl.umap(adata30e, color=[\"nsbm_level_3\",  'cell_line','leiden'], legend_loc='on_data')\n",
    "sc.pl.umap(adata30e, color=[\"nsbm_level_4\",  'cell_line','leiden'], legend_loc='on_data')"
   ]
  },
  {
   "cell_type": "markdown",
   "metadata": {},
   "source": [
    "# ADATA35"
   ]
  },
  {
   "cell_type": "code",
   "execution_count": 22,
   "metadata": {},
   "outputs": [],
   "source": [
    "scnsbm.inference.nested_model(adata35,collect_marginals=False)\n",
    "adata35.write('hworkcovid_10x/adata_35a.h5ad')\n",
    "scnsbm.inference.nested_model(adata35,collect_marginals=False)\n",
    "adata35.write('hworkcovid_10x/adata_35b.h5ad')\n",
    "scnsbm.inference.nested_model(adata35,collect_marginals=False)\n",
    "adata35.write('hworkcovid_10x/adata_35c.h5ad')\n",
    "scnsbm.inference.nested_model(adata35,collect_marginals=False)\n",
    "adata35.write('hworkcovid_10x/adata_35d.h5ad')\n",
    "scnsbm.inference.nested_model(adata35,collect_marginals=False)\n",
    "adata35.write('hworkcovid_10x/adata_35e.h5ad')"
   ]
  },
  {
   "cell_type": "code",
   "execution_count": 54,
   "metadata": {},
   "outputs": [],
   "source": [
    "adata35a=sc.read('hworkcovid_10x/adata_35a.h5ad')\n",
    "adata35b=sc.read('hworkcovid_10x/adata_35b.h5ad')\n",
    "adata35c=sc.read('hworkcovid_10x/adata_35c.h5ad')\n",
    "adata35d=sc.read('hworkcovid_10x/adata_35d.h5ad')\n",
    "adata35e=sc.read('hworkcovid_10x/adata_35e.h5ad')"
   ]
  },
  {
   "cell_type": "markdown",
   "metadata": {},
   "source": [
    "### MI_35"
   ]
  },
  {
   "cell_type": "code",
   "execution_count": 55,
   "metadata": {},
   "outputs": [],
   "source": [
    "nsbm_levels = [x for x in adata35a.obs_keys() if x.startswith(\"nsbm\")]\n",
    "foobars=['foobar35a','foobar35b','foobar35c','foobar35d','foobar35e']"
   ]
  },
  {
   "cell_type": "code",
   "execution_count": 56,
   "metadata": {},
   "outputs": [
    {
     "name": "stderr",
     "output_type": "stream",
     "text": [
      "/home/morelli/anaconda3/envs/scnsbm/lib/python3.7/site-packages/sklearn/metrics/cluster/supervised.py:746: FutureWarning: The behavior of AMI will change in version 0.22. To match the behavior of 'v_measure_score', AMI will use average_method='arithmetic' by default.\n",
      "  FutureWarning)\n",
      "/home/morelli/anaconda3/envs/scnsbm/lib/python3.7/site-packages/sklearn/metrics/cluster/supervised.py:746: FutureWarning: The behavior of AMI will change in version 0.22. To match the behavior of 'v_measure_score', AMI will use average_method='arithmetic' by default.\n",
      "  FutureWarning)\n",
      "/home/morelli/anaconda3/envs/scnsbm/lib/python3.7/site-packages/sklearn/metrics/cluster/supervised.py:746: FutureWarning: The behavior of AMI will change in version 0.22. To match the behavior of 'v_measure_score', AMI will use average_method='arithmetic' by default.\n",
      "  FutureWarning)\n",
      "/home/morelli/anaconda3/envs/scnsbm/lib/python3.7/site-packages/sklearn/metrics/cluster/supervised.py:746: FutureWarning: The behavior of AMI will change in version 0.22. To match the behavior of 'v_measure_score', AMI will use average_method='arithmetic' by default.\n",
      "  FutureWarning)\n",
      "/home/morelli/anaconda3/envs/scnsbm/lib/python3.7/site-packages/sklearn/metrics/cluster/supervised.py:746: FutureWarning: The behavior of AMI will change in version 0.22. To match the behavior of 'v_measure_score', AMI will use average_method='arithmetic' by default.\n",
      "  FutureWarning)\n",
      "/home/morelli/anaconda3/envs/scnsbm/lib/python3.7/site-packages/sklearn/metrics/cluster/supervised.py:746: FutureWarning: The behavior of AMI will change in version 0.22. To match the behavior of 'v_measure_score', AMI will use average_method='arithmetic' by default.\n",
      "  FutureWarning)\n",
      "/home/morelli/anaconda3/envs/scnsbm/lib/python3.7/site-packages/sklearn/metrics/cluster/supervised.py:746: FutureWarning: The behavior of AMI will change in version 0.22. To match the behavior of 'v_measure_score', AMI will use average_method='arithmetic' by default.\n",
      "  FutureWarning)\n",
      "/home/morelli/anaconda3/envs/scnsbm/lib/python3.7/site-packages/sklearn/metrics/cluster/supervised.py:746: FutureWarning: The behavior of AMI will change in version 0.22. To match the behavior of 'v_measure_score', AMI will use average_method='arithmetic' by default.\n",
      "  FutureWarning)\n",
      "/home/morelli/anaconda3/envs/scnsbm/lib/python3.7/site-packages/sklearn/metrics/cluster/supervised.py:746: FutureWarning: The behavior of AMI will change in version 0.22. To match the behavior of 'v_measure_score', AMI will use average_method='arithmetic' by default.\n",
      "  FutureWarning)\n",
      "/home/morelli/anaconda3/envs/scnsbm/lib/python3.7/site-packages/sklearn/metrics/cluster/supervised.py:746: FutureWarning: The behavior of AMI will change in version 0.22. To match the behavior of 'v_measure_score', AMI will use average_method='arithmetic' by default.\n",
      "  FutureWarning)\n",
      "/home/morelli/anaconda3/envs/scnsbm/lib/python3.7/site-packages/sklearn/metrics/cluster/supervised.py:746: FutureWarning: The behavior of AMI will change in version 0.22. To match the behavior of 'v_measure_score', AMI will use average_method='arithmetic' by default.\n",
      "  FutureWarning)\n",
      "/home/morelli/anaconda3/envs/scnsbm/lib/python3.7/site-packages/sklearn/metrics/cluster/supervised.py:746: FutureWarning: The behavior of AMI will change in version 0.22. To match the behavior of 'v_measure_score', AMI will use average_method='arithmetic' by default.\n",
      "  FutureWarning)\n",
      "/home/morelli/anaconda3/envs/scnsbm/lib/python3.7/site-packages/sklearn/metrics/cluster/supervised.py:746: FutureWarning: The behavior of AMI will change in version 0.22. To match the behavior of 'v_measure_score', AMI will use average_method='arithmetic' by default.\n",
      "  FutureWarning)\n",
      "/home/morelli/anaconda3/envs/scnsbm/lib/python3.7/site-packages/sklearn/metrics/cluster/supervised.py:746: FutureWarning: The behavior of AMI will change in version 0.22. To match the behavior of 'v_measure_score', AMI will use average_method='arithmetic' by default.\n",
      "  FutureWarning)\n",
      "/home/morelli/anaconda3/envs/scnsbm/lib/python3.7/site-packages/sklearn/metrics/cluster/supervised.py:746: FutureWarning: The behavior of AMI will change in version 0.22. To match the behavior of 'v_measure_score', AMI will use average_method='arithmetic' by default.\n",
      "  FutureWarning)\n",
      "/home/morelli/anaconda3/envs/scnsbm/lib/python3.7/site-packages/sklearn/metrics/cluster/supervised.py:746: FutureWarning: The behavior of AMI will change in version 0.22. To match the behavior of 'v_measure_score', AMI will use average_method='arithmetic' by default.\n",
      "  FutureWarning)\n",
      "/home/morelli/anaconda3/envs/scnsbm/lib/python3.7/site-packages/sklearn/metrics/cluster/supervised.py:746: FutureWarning: The behavior of AMI will change in version 0.22. To match the behavior of 'v_measure_score', AMI will use average_method='arithmetic' by default.\n",
      "  FutureWarning)\n",
      "/home/morelli/anaconda3/envs/scnsbm/lib/python3.7/site-packages/sklearn/metrics/cluster/supervised.py:746: FutureWarning: The behavior of AMI will change in version 0.22. To match the behavior of 'v_measure_score', AMI will use average_method='arithmetic' by default.\n",
      "  FutureWarning)\n",
      "/home/morelli/anaconda3/envs/scnsbm/lib/python3.7/site-packages/sklearn/metrics/cluster/supervised.py:746: FutureWarning: The behavior of AMI will change in version 0.22. To match the behavior of 'v_measure_score', AMI will use average_method='arithmetic' by default.\n",
      "  FutureWarning)\n",
      "/home/morelli/anaconda3/envs/scnsbm/lib/python3.7/site-packages/sklearn/metrics/cluster/supervised.py:746: FutureWarning: The behavior of AMI will change in version 0.22. To match the behavior of 'v_measure_score', AMI will use average_method='arithmetic' by default.\n",
      "  FutureWarning)\n",
      "/home/morelli/anaconda3/envs/scnsbm/lib/python3.7/site-packages/sklearn/metrics/cluster/supervised.py:746: FutureWarning: The behavior of AMI will change in version 0.22. To match the behavior of 'v_measure_score', AMI will use average_method='arithmetic' by default.\n",
      "  FutureWarning)\n",
      "/home/morelli/anaconda3/envs/scnsbm/lib/python3.7/site-packages/sklearn/metrics/cluster/supervised.py:746: FutureWarning: The behavior of AMI will change in version 0.22. To match the behavior of 'v_measure_score', AMI will use average_method='arithmetic' by default.\n",
      "  FutureWarning)\n",
      "/home/morelli/anaconda3/envs/scnsbm/lib/python3.7/site-packages/sklearn/metrics/cluster/supervised.py:746: FutureWarning: The behavior of AMI will change in version 0.22. To match the behavior of 'v_measure_score', AMI will use average_method='arithmetic' by default.\n",
      "  FutureWarning)\n",
      "/home/morelli/anaconda3/envs/scnsbm/lib/python3.7/site-packages/sklearn/metrics/cluster/supervised.py:746: FutureWarning: The behavior of AMI will change in version 0.22. To match the behavior of 'v_measure_score', AMI will use average_method='arithmetic' by default.\n",
      "  FutureWarning)\n",
      "/home/morelli/anaconda3/envs/scnsbm/lib/python3.7/site-packages/sklearn/metrics/cluster/supervised.py:746: FutureWarning: The behavior of AMI will change in version 0.22. To match the behavior of 'v_measure_score', AMI will use average_method='arithmetic' by default.\n",
      "  FutureWarning)\n",
      "/home/morelli/anaconda3/envs/scnsbm/lib/python3.7/site-packages/sklearn/metrics/cluster/supervised.py:746: FutureWarning: The behavior of AMI will change in version 0.22. To match the behavior of 'v_measure_score', AMI will use average_method='arithmetic' by default.\n",
      "  FutureWarning)\n",
      "/home/morelli/anaconda3/envs/scnsbm/lib/python3.7/site-packages/sklearn/metrics/cluster/supervised.py:746: FutureWarning: The behavior of AMI will change in version 0.22. To match the behavior of 'v_measure_score', AMI will use average_method='arithmetic' by default.\n",
      "  FutureWarning)\n",
      "/home/morelli/anaconda3/envs/scnsbm/lib/python3.7/site-packages/sklearn/metrics/cluster/supervised.py:746: FutureWarning: The behavior of AMI will change in version 0.22. To match the behavior of 'v_measure_score', AMI will use average_method='arithmetic' by default.\n",
      "  FutureWarning)\n",
      "/home/morelli/anaconda3/envs/scnsbm/lib/python3.7/site-packages/sklearn/metrics/cluster/supervised.py:746: FutureWarning: The behavior of AMI will change in version 0.22. To match the behavior of 'v_measure_score', AMI will use average_method='arithmetic' by default.\n",
      "  FutureWarning)\n",
      "/home/morelli/anaconda3/envs/scnsbm/lib/python3.7/site-packages/sklearn/metrics/cluster/supervised.py:746: FutureWarning: The behavior of AMI will change in version 0.22. To match the behavior of 'v_measure_score', AMI will use average_method='arithmetic' by default.\n",
      "  FutureWarning)\n",
      "/home/morelli/anaconda3/envs/scnsbm/lib/python3.7/site-packages/sklearn/metrics/cluster/supervised.py:746: FutureWarning: The behavior of AMI will change in version 0.22. To match the behavior of 'v_measure_score', AMI will use average_method='arithmetic' by default.\n",
      "  FutureWarning)\n",
      "/home/morelli/anaconda3/envs/scnsbm/lib/python3.7/site-packages/sklearn/metrics/cluster/supervised.py:746: FutureWarning: The behavior of AMI will change in version 0.22. To match the behavior of 'v_measure_score', AMI will use average_method='arithmetic' by default.\n",
      "  FutureWarning)\n",
      "/home/morelli/anaconda3/envs/scnsbm/lib/python3.7/site-packages/sklearn/metrics/cluster/supervised.py:746: FutureWarning: The behavior of AMI will change in version 0.22. To match the behavior of 'v_measure_score', AMI will use average_method='arithmetic' by default.\n",
      "  FutureWarning)\n",
      "/home/morelli/anaconda3/envs/scnsbm/lib/python3.7/site-packages/sklearn/metrics/cluster/supervised.py:746: FutureWarning: The behavior of AMI will change in version 0.22. To match the behavior of 'v_measure_score', AMI will use average_method='arithmetic' by default.\n",
      "  FutureWarning)\n",
      "/home/morelli/anaconda3/envs/scnsbm/lib/python3.7/site-packages/sklearn/metrics/cluster/supervised.py:746: FutureWarning: The behavior of AMI will change in version 0.22. To match the behavior of 'v_measure_score', AMI will use average_method='arithmetic' by default.\n",
      "  FutureWarning)\n",
      "/home/morelli/anaconda3/envs/scnsbm/lib/python3.7/site-packages/sklearn/metrics/cluster/supervised.py:746: FutureWarning: The behavior of AMI will change in version 0.22. To match the behavior of 'v_measure_score', AMI will use average_method='arithmetic' by default.\n",
      "  FutureWarning)\n",
      "/home/morelli/anaconda3/envs/scnsbm/lib/python3.7/site-packages/sklearn/metrics/cluster/supervised.py:746: FutureWarning: The behavior of AMI will change in version 0.22. To match the behavior of 'v_measure_score', AMI will use average_method='arithmetic' by default.\n",
      "  FutureWarning)\n",
      "/home/morelli/anaconda3/envs/scnsbm/lib/python3.7/site-packages/sklearn/metrics/cluster/supervised.py:746: FutureWarning: The behavior of AMI will change in version 0.22. To match the behavior of 'v_measure_score', AMI will use average_method='arithmetic' by default.\n",
      "  FutureWarning)\n",
      "/home/morelli/anaconda3/envs/scnsbm/lib/python3.7/site-packages/sklearn/metrics/cluster/supervised.py:746: FutureWarning: The behavior of AMI will change in version 0.22. To match the behavior of 'v_measure_score', AMI will use average_method='arithmetic' by default.\n",
      "  FutureWarning)\n",
      "/home/morelli/anaconda3/envs/scnsbm/lib/python3.7/site-packages/sklearn/metrics/cluster/supervised.py:746: FutureWarning: The behavior of AMI will change in version 0.22. To match the behavior of 'v_measure_score', AMI will use average_method='arithmetic' by default.\n",
      "  FutureWarning)\n",
      "/home/morelli/anaconda3/envs/scnsbm/lib/python3.7/site-packages/sklearn/metrics/cluster/supervised.py:746: FutureWarning: The behavior of AMI will change in version 0.22. To match the behavior of 'v_measure_score', AMI will use average_method='arithmetic' by default.\n",
      "  FutureWarning)\n",
      "/home/morelli/anaconda3/envs/scnsbm/lib/python3.7/site-packages/sklearn/metrics/cluster/supervised.py:746: FutureWarning: The behavior of AMI will change in version 0.22. To match the behavior of 'v_measure_score', AMI will use average_method='arithmetic' by default.\n",
      "  FutureWarning)\n",
      "/home/morelli/anaconda3/envs/scnsbm/lib/python3.7/site-packages/sklearn/metrics/cluster/supervised.py:746: FutureWarning: The behavior of AMI will change in version 0.22. To match the behavior of 'v_measure_score', AMI will use average_method='arithmetic' by default.\n",
      "  FutureWarning)\n",
      "/home/morelli/anaconda3/envs/scnsbm/lib/python3.7/site-packages/sklearn/metrics/cluster/supervised.py:746: FutureWarning: The behavior of AMI will change in version 0.22. To match the behavior of 'v_measure_score', AMI will use average_method='arithmetic' by default.\n",
      "  FutureWarning)\n",
      "/home/morelli/anaconda3/envs/scnsbm/lib/python3.7/site-packages/sklearn/metrics/cluster/supervised.py:746: FutureWarning: The behavior of AMI will change in version 0.22. To match the behavior of 'v_measure_score', AMI will use average_method='arithmetic' by default.\n",
      "  FutureWarning)\n"
     ]
    }
   ],
   "source": [
    "foobar35a= [sklearn.metrics.adjusted_mutual_info_score(adata35a.obs.loc[:, NL], adata35a.obs.loc[:, 'cell_line'])\n",
    "                                            for NL in nsbm_levels]\n",
    "foobar35b= [sklearn.metrics.adjusted_mutual_info_score(adata35b.obs.loc[:, NL], adata35b.obs.loc[:, 'cell_line'])\n",
    "                                            for NL in nsbm_levels]\n",
    "foobar35c= [sklearn.metrics.adjusted_mutual_info_score(adata35c.obs.loc[:, NL], adata35c.obs.loc[:, 'cell_line'])\n",
    "                                            for NL in nsbm_levels]\n",
    "foobar35d= [sklearn.metrics.adjusted_mutual_info_score(adata35d.obs.loc[:, NL], adata35d.obs.loc[:, 'cell_line'])\n",
    "                                            for NL in nsbm_levels]\n",
    "foobar35e= [sklearn.metrics.adjusted_mutual_info_score(adata35e.obs.loc[:, NL], adata35e.obs.loc[:, 'cell_line'])\n",
    "                                            for NL in nsbm_levels]"
   ]
  },
  {
   "cell_type": "code",
   "execution_count": 57,
   "metadata": {},
   "outputs": [],
   "source": [
    "MI_35=pd.DataFrame(None,columns=foobars,index=nsbm_levels)\n",
    "MI_35.loc[:,'foobar35a']=foobar35a\n",
    "MI_35.loc[:,'foobar35b']=foobar35b\n",
    "MI_35.loc[:,'foobar35c']=foobar35c\n",
    "MI_35.loc[:,'foobar35d']=foobar35d\n",
    "MI_35.loc[:,'foobar35e']=foobar35e"
   ]
  },
  {
   "cell_type": "code",
   "execution_count": 77,
   "metadata": {},
   "outputs": [],
   "source": [
    "mean_35=[mean(MI_35.iloc[x,:]) for x in range(len(nsbm_levels))]\n",
    "sd_35=[statistics.stdev(MI_35.iloc[x,:]) for x in range(len(nsbm_levels))]\n",
    "MI_35['mean_35']=mean_35\n",
    "MI_35['standard_deviation_35']=sd_35"
   ]
  },
  {
   "cell_type": "code",
   "execution_count": 79,
   "metadata": {},
   "outputs": [],
   "source": [
    "pickle.dump(MI_35, open('hworkcovid_10x/mi_35.pkl','wb'),2)"
   ]
  },
  {
   "cell_type": "code",
   "execution_count": 78,
   "metadata": {
    "scrolled": true
   },
   "outputs": [
    {
     "data": {
      "text/html": [
       "<div>\n",
       "<style scoped>\n",
       "    .dataframe tbody tr th:only-of-type {\n",
       "        vertical-align: middle;\n",
       "    }\n",
       "\n",
       "    .dataframe tbody tr th {\n",
       "        vertical-align: top;\n",
       "    }\n",
       "\n",
       "    .dataframe thead th {\n",
       "        text-align: right;\n",
       "    }\n",
       "</style>\n",
       "<table border=\"1\" class=\"dataframe\">\n",
       "  <thead>\n",
       "    <tr style=\"text-align: right;\">\n",
       "      <th></th>\n",
       "      <th>foobar35a</th>\n",
       "      <th>foobar35b</th>\n",
       "      <th>foobar35c</th>\n",
       "      <th>foobar35d</th>\n",
       "      <th>foobar35e</th>\n",
       "      <th>mean_35</th>\n",
       "      <th>standard_deviation_35</th>\n",
       "    </tr>\n",
       "  </thead>\n",
       "  <tbody>\n",
       "    <tr>\n",
       "      <th>nsbm_level_1</th>\n",
       "      <td>4.962861e-01</td>\n",
       "      <td>4.720062e-01</td>\n",
       "      <td>4.957939e-01</td>\n",
       "      <td>5.042317e-01</td>\n",
       "      <td>4.849696e-01</td>\n",
       "      <td>4.906575e-01</td>\n",
       "      <td>0.012475</td>\n",
       "    </tr>\n",
       "    <tr>\n",
       "      <th>nsbm_level_2</th>\n",
       "      <td>8.215706e-01</td>\n",
       "      <td>7.220322e-01</td>\n",
       "      <td>7.772081e-01</td>\n",
       "      <td>8.212796e-01</td>\n",
       "      <td>8.210414e-01</td>\n",
       "      <td>7.926264e-01</td>\n",
       "      <td>0.043839</td>\n",
       "    </tr>\n",
       "    <tr>\n",
       "      <th>nsbm_level_3</th>\n",
       "      <td>7.464202e-01</td>\n",
       "      <td>8.040193e-01</td>\n",
       "      <td>7.643524e-01</td>\n",
       "      <td>8.648626e-01</td>\n",
       "      <td>7.442123e-01</td>\n",
       "      <td>7.847733e-01</td>\n",
       "      <td>0.050788</td>\n",
       "    </tr>\n",
       "    <tr>\n",
       "      <th>nsbm_level_4</th>\n",
       "      <td>6.474843e-01</td>\n",
       "      <td>5.549338e-01</td>\n",
       "      <td>6.276560e-01</td>\n",
       "      <td>6.728850e-01</td>\n",
       "      <td>7.442123e-01</td>\n",
       "      <td>6.494343e-01</td>\n",
       "      <td>0.068814</td>\n",
       "    </tr>\n",
       "    <tr>\n",
       "      <th>nsbm_level_5</th>\n",
       "      <td>3.182820e-01</td>\n",
       "      <td>4.128250e-01</td>\n",
       "      <td>3.916898e-01</td>\n",
       "      <td>4.205332e-01</td>\n",
       "      <td>5.025491e-01</td>\n",
       "      <td>4.091758e-01</td>\n",
       "      <td>0.066008</td>\n",
       "    </tr>\n",
       "    <tr>\n",
       "      <th>nsbm_level_6</th>\n",
       "      <td>3.182820e-01</td>\n",
       "      <td>4.128250e-01</td>\n",
       "      <td>-5.897479e-16</td>\n",
       "      <td>4.205332e-01</td>\n",
       "      <td>5.025491e-01</td>\n",
       "      <td>3.308379e-01</td>\n",
       "      <td>0.196127</td>\n",
       "    </tr>\n",
       "    <tr>\n",
       "      <th>nsbm_level_7</th>\n",
       "      <td>3.182820e-01</td>\n",
       "      <td>-5.897479e-16</td>\n",
       "      <td>-5.897479e-16</td>\n",
       "      <td>-5.897479e-16</td>\n",
       "      <td>-5.897479e-16</td>\n",
       "      <td>6.365641e-02</td>\n",
       "      <td>0.142340</td>\n",
       "    </tr>\n",
       "    <tr>\n",
       "      <th>nsbm_level_8</th>\n",
       "      <td>-5.897479e-16</td>\n",
       "      <td>-5.897479e-16</td>\n",
       "      <td>-5.897479e-16</td>\n",
       "      <td>-5.897479e-16</td>\n",
       "      <td>-5.897479e-16</td>\n",
       "      <td>-5.897479e-16</td>\n",
       "      <td>0.000000</td>\n",
       "    </tr>\n",
       "    <tr>\n",
       "      <th>nsbm_level_9</th>\n",
       "      <td>-5.897479e-16</td>\n",
       "      <td>-5.897479e-16</td>\n",
       "      <td>-5.897479e-16</td>\n",
       "      <td>-5.897479e-16</td>\n",
       "      <td>-5.897479e-16</td>\n",
       "      <td>-5.897479e-16</td>\n",
       "      <td>0.000000</td>\n",
       "    </tr>\n",
       "  </tbody>\n",
       "</table>\n",
       "</div>"
      ],
      "text/plain": [
       "                 foobar35a     foobar35b     foobar35c     foobar35d  \\\n",
       "nsbm_level_1  4.962861e-01  4.720062e-01  4.957939e-01  5.042317e-01   \n",
       "nsbm_level_2  8.215706e-01  7.220322e-01  7.772081e-01  8.212796e-01   \n",
       "nsbm_level_3  7.464202e-01  8.040193e-01  7.643524e-01  8.648626e-01   \n",
       "nsbm_level_4  6.474843e-01  5.549338e-01  6.276560e-01  6.728850e-01   \n",
       "nsbm_level_5  3.182820e-01  4.128250e-01  3.916898e-01  4.205332e-01   \n",
       "nsbm_level_6  3.182820e-01  4.128250e-01 -5.897479e-16  4.205332e-01   \n",
       "nsbm_level_7  3.182820e-01 -5.897479e-16 -5.897479e-16 -5.897479e-16   \n",
       "nsbm_level_8 -5.897479e-16 -5.897479e-16 -5.897479e-16 -5.897479e-16   \n",
       "nsbm_level_9 -5.897479e-16 -5.897479e-16 -5.897479e-16 -5.897479e-16   \n",
       "\n",
       "                 foobar35e       mean_35  standard_deviation_35  \n",
       "nsbm_level_1  4.849696e-01  4.906575e-01               0.012475  \n",
       "nsbm_level_2  8.210414e-01  7.926264e-01               0.043839  \n",
       "nsbm_level_3  7.442123e-01  7.847733e-01               0.050788  \n",
       "nsbm_level_4  7.442123e-01  6.494343e-01               0.068814  \n",
       "nsbm_level_5  5.025491e-01  4.091758e-01               0.066008  \n",
       "nsbm_level_6  5.025491e-01  3.308379e-01               0.196127  \n",
       "nsbm_level_7 -5.897479e-16  6.365641e-02               0.142340  \n",
       "nsbm_level_8 -5.897479e-16 -5.897479e-16               0.000000  \n",
       "nsbm_level_9 -5.897479e-16 -5.897479e-16               0.000000  "
      ]
     },
     "execution_count": 78,
     "metadata": {},
     "output_type": "execute_result"
    }
   ],
   "source": [
    "MI_35"
   ]
  },
  {
   "cell_type": "code",
   "execution_count": 114,
   "metadata": {
    "scrolled": true
   },
   "outputs": [
    {
     "data": {
      "text/plain": [
       "<matplotlib.axes._subplots.AxesSubplot at 0x7fcdd70f55f8>"
      ]
     },
     "execution_count": 114,
     "metadata": {},
     "output_type": "execute_result"
    },
    {
     "data": {
      "image/png": "[encoded data removed]",
      "text/plain": [
       "<Figure size 432x288 with 1 Axes>"
      ]
     },
     "metadata": {
      "needs_background": "light"
     },
     "output_type": "display_data"
    }
   ],
   "source": [
    "MI_35.iloc[:,0:4].T.boxplot()"
   ]
  },
  {
   "cell_type": "markdown",
   "metadata": {},
   "source": [
    "# ADATA40"
   ]
  },
  {
   "cell_type": "code",
   "execution_count": 23,
   "metadata": {},
   "outputs": [],
   "source": [
    "scnsbm.inference.nested_model(adata40,collect_marginals=False)\n",
    "adata40.write('hworkcovid_10x/adata_40a.h5ad')\n",
    "scnsbm.inference.nested_model(adata40,collect_marginals=False)\n",
    "adata40.write('hworkcovid_10x/adata_40b.h5ad')\n",
    "scnsbm.inference.nested_model(adata40,collect_marginals=False)\n",
    "adata40.write('hworkcovid_10x/adata_40c.h5ad')\n",
    "scnsbm.inference.nested_model(adata40,collect_marginals=False)\n",
    "adata40.write('hworkcovid_10x/adata_40d.h5ad')\n",
    "scnsbm.inference.nested_model(adata40,collect_marginals=False)\n",
    "adata40.write('hworkcovid_10x/adata_40e.h5ad')"
   ]
  },
  {
   "cell_type": "code",
   "execution_count": 58,
   "metadata": {},
   "outputs": [],
   "source": [
    "adata40a=sc.read('hworkcovid_10x/adata_40a.h5ad')\n",
    "adata40b=sc.read('hworkcovid_10x/adata_40b.h5ad')\n",
    "adata40c=sc.read('hworkcovid_10x/adata_40c.h5ad')\n",
    "adata40d=sc.read('hworkcovid_10x/adata_40d.h5ad')\n",
    "adata40e=sc.read('hworkcovid_10x/adata_40e.h5ad')"
   ]
  },
  {
   "cell_type": "markdown",
   "metadata": {},
   "source": [
    "### MI_40"
   ]
  },
  {
   "cell_type": "code",
   "execution_count": 59,
   "metadata": {},
   "outputs": [],
   "source": [
    "nsbm_levels = [x for x in adata40a.obs_keys() if x.startswith(\"nsbm\")]\n",
    "foobars=['foobar40a','foobar40b','foobar40c','foobar40d','foobar40e']"
   ]
  },
  {
   "cell_type": "code",
   "execution_count": 60,
   "metadata": {},
   "outputs": [
    {
     "name": "stderr",
     "output_type": "stream",
     "text": [
      "/home/morelli/anaconda3/envs/scnsbm/lib/python3.7/site-packages/sklearn/metrics/cluster/supervised.py:746: FutureWarning: The behavior of AMI will change in version 0.22. To match the behavior of 'v_measure_score', AMI will use average_method='arithmetic' by default.\n",
      "  FutureWarning)\n",
      "/home/morelli/anaconda3/envs/scnsbm/lib/python3.7/site-packages/sklearn/metrics/cluster/supervised.py:746: FutureWarning: The behavior of AMI will change in version 0.22. To match the behavior of 'v_measure_score', AMI will use average_method='arithmetic' by default.\n",
      "  FutureWarning)\n",
      "/home/morelli/anaconda3/envs/scnsbm/lib/python3.7/site-packages/sklearn/metrics/cluster/supervised.py:746: FutureWarning: The behavior of AMI will change in version 0.22. To match the behavior of 'v_measure_score', AMI will use average_method='arithmetic' by default.\n",
      "  FutureWarning)\n",
      "/home/morelli/anaconda3/envs/scnsbm/lib/python3.7/site-packages/sklearn/metrics/cluster/supervised.py:746: FutureWarning: The behavior of AMI will change in version 0.22. To match the behavior of 'v_measure_score', AMI will use average_method='arithmetic' by default.\n",
      "  FutureWarning)\n",
      "/home/morelli/anaconda3/envs/scnsbm/lib/python3.7/site-packages/sklearn/metrics/cluster/supervised.py:746: FutureWarning: The behavior of AMI will change in version 0.22. To match the behavior of 'v_measure_score', AMI will use average_method='arithmetic' by default.\n",
      "  FutureWarning)\n",
      "/home/morelli/anaconda3/envs/scnsbm/lib/python3.7/site-packages/sklearn/metrics/cluster/supervised.py:746: FutureWarning: The behavior of AMI will change in version 0.22. To match the behavior of 'v_measure_score', AMI will use average_method='arithmetic' by default.\n",
      "  FutureWarning)\n",
      "/home/morelli/anaconda3/envs/scnsbm/lib/python3.7/site-packages/sklearn/metrics/cluster/supervised.py:746: FutureWarning: The behavior of AMI will change in version 0.22. To match the behavior of 'v_measure_score', AMI will use average_method='arithmetic' by default.\n",
      "  FutureWarning)\n",
      "/home/morelli/anaconda3/envs/scnsbm/lib/python3.7/site-packages/sklearn/metrics/cluster/supervised.py:746: FutureWarning: The behavior of AMI will change in version 0.22. To match the behavior of 'v_measure_score', AMI will use average_method='arithmetic' by default.\n",
      "  FutureWarning)\n",
      "/home/morelli/anaconda3/envs/scnsbm/lib/python3.7/site-packages/sklearn/metrics/cluster/supervised.py:746: FutureWarning: The behavior of AMI will change in version 0.22. To match the behavior of 'v_measure_score', AMI will use average_method='arithmetic' by default.\n",
      "  FutureWarning)\n",
      "/home/morelli/anaconda3/envs/scnsbm/lib/python3.7/site-packages/sklearn/metrics/cluster/supervised.py:746: FutureWarning: The behavior of AMI will change in version 0.22. To match the behavior of 'v_measure_score', AMI will use average_method='arithmetic' by default.\n",
      "  FutureWarning)\n",
      "/home/morelli/anaconda3/envs/scnsbm/lib/python3.7/site-packages/sklearn/metrics/cluster/supervised.py:746: FutureWarning: The behavior of AMI will change in version 0.22. To match the behavior of 'v_measure_score', AMI will use average_method='arithmetic' by default.\n",
      "  FutureWarning)\n",
      "/home/morelli/anaconda3/envs/scnsbm/lib/python3.7/site-packages/sklearn/metrics/cluster/supervised.py:746: FutureWarning: The behavior of AMI will change in version 0.22. To match the behavior of 'v_measure_score', AMI will use average_method='arithmetic' by default.\n",
      "  FutureWarning)\n",
      "/home/morelli/anaconda3/envs/scnsbm/lib/python3.7/site-packages/sklearn/metrics/cluster/supervised.py:746: FutureWarning: The behavior of AMI will change in version 0.22. To match the behavior of 'v_measure_score', AMI will use average_method='arithmetic' by default.\n",
      "  FutureWarning)\n",
      "/home/morelli/anaconda3/envs/scnsbm/lib/python3.7/site-packages/sklearn/metrics/cluster/supervised.py:746: FutureWarning: The behavior of AMI will change in version 0.22. To match the behavior of 'v_measure_score', AMI will use average_method='arithmetic' by default.\n",
      "  FutureWarning)\n",
      "/home/morelli/anaconda3/envs/scnsbm/lib/python3.7/site-packages/sklearn/metrics/cluster/supervised.py:746: FutureWarning: The behavior of AMI will change in version 0.22. To match the behavior of 'v_measure_score', AMI will use average_method='arithmetic' by default.\n",
      "  FutureWarning)\n",
      "/home/morelli/anaconda3/envs/scnsbm/lib/python3.7/site-packages/sklearn/metrics/cluster/supervised.py:746: FutureWarning: The behavior of AMI will change in version 0.22. To match the behavior of 'v_measure_score', AMI will use average_method='arithmetic' by default.\n",
      "  FutureWarning)\n",
      "/home/morelli/anaconda3/envs/scnsbm/lib/python3.7/site-packages/sklearn/metrics/cluster/supervised.py:746: FutureWarning: The behavior of AMI will change in version 0.22. To match the behavior of 'v_measure_score', AMI will use average_method='arithmetic' by default.\n",
      "  FutureWarning)\n",
      "/home/morelli/anaconda3/envs/scnsbm/lib/python3.7/site-packages/sklearn/metrics/cluster/supervised.py:746: FutureWarning: The behavior of AMI will change in version 0.22. To match the behavior of 'v_measure_score', AMI will use average_method='arithmetic' by default.\n",
      "  FutureWarning)\n",
      "/home/morelli/anaconda3/envs/scnsbm/lib/python3.7/site-packages/sklearn/metrics/cluster/supervised.py:746: FutureWarning: The behavior of AMI will change in version 0.22. To match the behavior of 'v_measure_score', AMI will use average_method='arithmetic' by default.\n",
      "  FutureWarning)\n",
      "/home/morelli/anaconda3/envs/scnsbm/lib/python3.7/site-packages/sklearn/metrics/cluster/supervised.py:746: FutureWarning: The behavior of AMI will change in version 0.22. To match the behavior of 'v_measure_score', AMI will use average_method='arithmetic' by default.\n",
      "  FutureWarning)\n",
      "/home/morelli/anaconda3/envs/scnsbm/lib/python3.7/site-packages/sklearn/metrics/cluster/supervised.py:746: FutureWarning: The behavior of AMI will change in version 0.22. To match the behavior of 'v_measure_score', AMI will use average_method='arithmetic' by default.\n",
      "  FutureWarning)\n",
      "/home/morelli/anaconda3/envs/scnsbm/lib/python3.7/site-packages/sklearn/metrics/cluster/supervised.py:746: FutureWarning: The behavior of AMI will change in version 0.22. To match the behavior of 'v_measure_score', AMI will use average_method='arithmetic' by default.\n",
      "  FutureWarning)\n",
      "/home/morelli/anaconda3/envs/scnsbm/lib/python3.7/site-packages/sklearn/metrics/cluster/supervised.py:746: FutureWarning: The behavior of AMI will change in version 0.22. To match the behavior of 'v_measure_score', AMI will use average_method='arithmetic' by default.\n",
      "  FutureWarning)\n",
      "/home/morelli/anaconda3/envs/scnsbm/lib/python3.7/site-packages/sklearn/metrics/cluster/supervised.py:746: FutureWarning: The behavior of AMI will change in version 0.22. To match the behavior of 'v_measure_score', AMI will use average_method='arithmetic' by default.\n",
      "  FutureWarning)\n",
      "/home/morelli/anaconda3/envs/scnsbm/lib/python3.7/site-packages/sklearn/metrics/cluster/supervised.py:746: FutureWarning: The behavior of AMI will change in version 0.22. To match the behavior of 'v_measure_score', AMI will use average_method='arithmetic' by default.\n",
      "  FutureWarning)\n",
      "/home/morelli/anaconda3/envs/scnsbm/lib/python3.7/site-packages/sklearn/metrics/cluster/supervised.py:746: FutureWarning: The behavior of AMI will change in version 0.22. To match the behavior of 'v_measure_score', AMI will use average_method='arithmetic' by default.\n",
      "  FutureWarning)\n",
      "/home/morelli/anaconda3/envs/scnsbm/lib/python3.7/site-packages/sklearn/metrics/cluster/supervised.py:746: FutureWarning: The behavior of AMI will change in version 0.22. To match the behavior of 'v_measure_score', AMI will use average_method='arithmetic' by default.\n",
      "  FutureWarning)\n",
      "/home/morelli/anaconda3/envs/scnsbm/lib/python3.7/site-packages/sklearn/metrics/cluster/supervised.py:746: FutureWarning: The behavior of AMI will change in version 0.22. To match the behavior of 'v_measure_score', AMI will use average_method='arithmetic' by default.\n",
      "  FutureWarning)\n",
      "/home/morelli/anaconda3/envs/scnsbm/lib/python3.7/site-packages/sklearn/metrics/cluster/supervised.py:746: FutureWarning: The behavior of AMI will change in version 0.22. To match the behavior of 'v_measure_score', AMI will use average_method='arithmetic' by default.\n",
      "  FutureWarning)\n",
      "/home/morelli/anaconda3/envs/scnsbm/lib/python3.7/site-packages/sklearn/metrics/cluster/supervised.py:746: FutureWarning: The behavior of AMI will change in version 0.22. To match the behavior of 'v_measure_score', AMI will use average_method='arithmetic' by default.\n",
      "  FutureWarning)\n",
      "/home/morelli/anaconda3/envs/scnsbm/lib/python3.7/site-packages/sklearn/metrics/cluster/supervised.py:746: FutureWarning: The behavior of AMI will change in version 0.22. To match the behavior of 'v_measure_score', AMI will use average_method='arithmetic' by default.\n",
      "  FutureWarning)\n",
      "/home/morelli/anaconda3/envs/scnsbm/lib/python3.7/site-packages/sklearn/metrics/cluster/supervised.py:746: FutureWarning: The behavior of AMI will change in version 0.22. To match the behavior of 'v_measure_score', AMI will use average_method='arithmetic' by default.\n",
      "  FutureWarning)\n",
      "/home/morelli/anaconda3/envs/scnsbm/lib/python3.7/site-packages/sklearn/metrics/cluster/supervised.py:746: FutureWarning: The behavior of AMI will change in version 0.22. To match the behavior of 'v_measure_score', AMI will use average_method='arithmetic' by default.\n",
      "  FutureWarning)\n",
      "/home/morelli/anaconda3/envs/scnsbm/lib/python3.7/site-packages/sklearn/metrics/cluster/supervised.py:746: FutureWarning: The behavior of AMI will change in version 0.22. To match the behavior of 'v_measure_score', AMI will use average_method='arithmetic' by default.\n",
      "  FutureWarning)\n",
      "/home/morelli/anaconda3/envs/scnsbm/lib/python3.7/site-packages/sklearn/metrics/cluster/supervised.py:746: FutureWarning: The behavior of AMI will change in version 0.22. To match the behavior of 'v_measure_score', AMI will use average_method='arithmetic' by default.\n",
      "  FutureWarning)\n",
      "/home/morelli/anaconda3/envs/scnsbm/lib/python3.7/site-packages/sklearn/metrics/cluster/supervised.py:746: FutureWarning: The behavior of AMI will change in version 0.22. To match the behavior of 'v_measure_score', AMI will use average_method='arithmetic' by default.\n",
      "  FutureWarning)\n",
      "/home/morelli/anaconda3/envs/scnsbm/lib/python3.7/site-packages/sklearn/metrics/cluster/supervised.py:746: FutureWarning: The behavior of AMI will change in version 0.22. To match the behavior of 'v_measure_score', AMI will use average_method='arithmetic' by default.\n",
      "  FutureWarning)\n",
      "/home/morelli/anaconda3/envs/scnsbm/lib/python3.7/site-packages/sklearn/metrics/cluster/supervised.py:746: FutureWarning: The behavior of AMI will change in version 0.22. To match the behavior of 'v_measure_score', AMI will use average_method='arithmetic' by default.\n",
      "  FutureWarning)\n",
      "/home/morelli/anaconda3/envs/scnsbm/lib/python3.7/site-packages/sklearn/metrics/cluster/supervised.py:746: FutureWarning: The behavior of AMI will change in version 0.22. To match the behavior of 'v_measure_score', AMI will use average_method='arithmetic' by default.\n",
      "  FutureWarning)\n",
      "/home/morelli/anaconda3/envs/scnsbm/lib/python3.7/site-packages/sklearn/metrics/cluster/supervised.py:746: FutureWarning: The behavior of AMI will change in version 0.22. To match the behavior of 'v_measure_score', AMI will use average_method='arithmetic' by default.\n",
      "  FutureWarning)\n",
      "/home/morelli/anaconda3/envs/scnsbm/lib/python3.7/site-packages/sklearn/metrics/cluster/supervised.py:746: FutureWarning: The behavior of AMI will change in version 0.22. To match the behavior of 'v_measure_score', AMI will use average_method='arithmetic' by default.\n",
      "  FutureWarning)\n",
      "/home/morelli/anaconda3/envs/scnsbm/lib/python3.7/site-packages/sklearn/metrics/cluster/supervised.py:746: FutureWarning: The behavior of AMI will change in version 0.22. To match the behavior of 'v_measure_score', AMI will use average_method='arithmetic' by default.\n",
      "  FutureWarning)\n",
      "/home/morelli/anaconda3/envs/scnsbm/lib/python3.7/site-packages/sklearn/metrics/cluster/supervised.py:746: FutureWarning: The behavior of AMI will change in version 0.22. To match the behavior of 'v_measure_score', AMI will use average_method='arithmetic' by default.\n",
      "  FutureWarning)\n",
      "/home/morelli/anaconda3/envs/scnsbm/lib/python3.7/site-packages/sklearn/metrics/cluster/supervised.py:746: FutureWarning: The behavior of AMI will change in version 0.22. To match the behavior of 'v_measure_score', AMI will use average_method='arithmetic' by default.\n",
      "  FutureWarning)\n",
      "/home/morelli/anaconda3/envs/scnsbm/lib/python3.7/site-packages/sklearn/metrics/cluster/supervised.py:746: FutureWarning: The behavior of AMI will change in version 0.22. To match the behavior of 'v_measure_score', AMI will use average_method='arithmetic' by default.\n",
      "  FutureWarning)\n"
     ]
    }
   ],
   "source": [
    "foobar40a= [sklearn.metrics.adjusted_mutual_info_score(adata40a.obs.loc[:, NL], adata40a.obs.loc[:, 'cell_line'])\n",
    "                                            for NL in nsbm_levels]\n",
    "foobar40b= [sklearn.metrics.adjusted_mutual_info_score(adata40b.obs.loc[:, NL], adata40b.obs.loc[:, 'cell_line'])\n",
    "                                            for NL in nsbm_levels]\n",
    "foobar40c= [sklearn.metrics.adjusted_mutual_info_score(adata40c.obs.loc[:, NL], adata40c.obs.loc[:, 'cell_line'])\n",
    "                                            for NL in nsbm_levels]\n",
    "foobar40d= [sklearn.metrics.adjusted_mutual_info_score(adata40d.obs.loc[:, NL], adata40d.obs.loc[:, 'cell_line'])\n",
    "                                            for NL in nsbm_levels]\n",
    "foobar40e= [sklearn.metrics.adjusted_mutual_info_score(adata40e.obs.loc[:, NL], adata40e.obs.loc[:, 'cell_line'])\n",
    "                                            for NL in nsbm_levels]"
   ]
  },
  {
   "cell_type": "code",
   "execution_count": 61,
   "metadata": {},
   "outputs": [],
   "source": [
    "MI_40=pd.DataFrame(None,columns=foobars,index=nsbm_levels)\n",
    "MI_40.loc[:,'foobar40a']=foobar40a\n",
    "MI_40.loc[:,'foobar40b']=foobar40b\n",
    "MI_40.loc[:,'foobar40c']=foobar40c\n",
    "MI_40.loc[:,'foobar40d']=foobar40d\n",
    "MI_40.loc[:,'foobar40e']=foobar40e"
   ]
  },
  {
   "cell_type": "code",
   "execution_count": 90,
   "metadata": {},
   "outputs": [],
   "source": [
    "mean_40=[mean(MI_40.iloc[x,:]) for x in range(len(nsbm_levels))]\n",
    "sd_40=[statistics.stdev(MI_40.iloc[x,:]) for x in range(len(nsbm_levels))]\n",
    "MI_40['mean_40']=mean_40\n",
    "MI_40['standard_deviation_40']=sd_40"
   ]
  },
  {
   "cell_type": "code",
   "execution_count": 92,
   "metadata": {},
   "outputs": [],
   "source": [
    "pickle.dump(MI_40, open('hworkcovid_10x/mi_40.pkl','wb'),2)"
   ]
  },
  {
   "cell_type": "code",
   "execution_count": 91,
   "metadata": {
    "scrolled": true
   },
   "outputs": [
    {
     "data": {
      "text/html": [
       "<div>\n",
       "<style scoped>\n",
       "    .dataframe tbody tr th:only-of-type {\n",
       "        vertical-align: middle;\n",
       "    }\n",
       "\n",
       "    .dataframe tbody tr th {\n",
       "        vertical-align: top;\n",
       "    }\n",
       "\n",
       "    .dataframe thead th {\n",
       "        text-align: right;\n",
       "    }\n",
       "</style>\n",
       "<table border=\"1\" class=\"dataframe\">\n",
       "  <thead>\n",
       "    <tr style=\"text-align: right;\">\n",
       "      <th></th>\n",
       "      <th>foobar40a</th>\n",
       "      <th>foobar40b</th>\n",
       "      <th>foobar40c</th>\n",
       "      <th>foobar40d</th>\n",
       "      <th>foobar40e</th>\n",
       "      <th>mean_40</th>\n",
       "      <th>standard_deviation_40</th>\n",
       "    </tr>\n",
       "  </thead>\n",
       "  <tbody>\n",
       "    <tr>\n",
       "      <th>nsbm_level_1</th>\n",
       "      <td>0.485403</td>\n",
       "      <td>4.900854e-01</td>\n",
       "      <td>5.031498e-01</td>\n",
       "      <td>4.876506e-01</td>\n",
       "      <td>5.033175e-01</td>\n",
       "      <td>0.493921</td>\n",
       "      <td>0.008661</td>\n",
       "    </tr>\n",
       "    <tr>\n",
       "      <th>nsbm_level_2</th>\n",
       "      <td>0.881060</td>\n",
       "      <td>7.782226e-01</td>\n",
       "      <td>7.468106e-01</td>\n",
       "      <td>7.732054e-01</td>\n",
       "      <td>8.459929e-01</td>\n",
       "      <td>0.805058</td>\n",
       "      <td>0.056079</td>\n",
       "    </tr>\n",
       "    <tr>\n",
       "      <th>nsbm_level_3</th>\n",
       "      <td>0.701199</td>\n",
       "      <td>8.073873e-01</td>\n",
       "      <td>8.456062e-01</td>\n",
       "      <td>8.063906e-01</td>\n",
       "      <td>8.063906e-01</td>\n",
       "      <td>0.793395</td>\n",
       "      <td>0.054221</td>\n",
       "    </tr>\n",
       "    <tr>\n",
       "      <th>nsbm_level_4</th>\n",
       "      <td>0.560588</td>\n",
       "      <td>4.400604e-01</td>\n",
       "      <td>2.469667e-01</td>\n",
       "      <td>8.063906e-01</td>\n",
       "      <td>8.063906e-01</td>\n",
       "      <td>0.572079</td>\n",
       "      <td>0.241383</td>\n",
       "    </tr>\n",
       "    <tr>\n",
       "      <th>nsbm_level_5</th>\n",
       "      <td>0.427679</td>\n",
       "      <td>2.252627e-01</td>\n",
       "      <td>2.469667e-01</td>\n",
       "      <td>6.728850e-01</td>\n",
       "      <td>5.605876e-01</td>\n",
       "      <td>0.426676</td>\n",
       "      <td>0.194560</td>\n",
       "    </tr>\n",
       "    <tr>\n",
       "      <th>nsbm_level_6</th>\n",
       "      <td>0.427679</td>\n",
       "      <td>-5.897479e-16</td>\n",
       "      <td>2.469667e-01</td>\n",
       "      <td>4.205332e-01</td>\n",
       "      <td>4.276794e-01</td>\n",
       "      <td>0.304572</td>\n",
       "      <td>0.186976</td>\n",
       "    </tr>\n",
       "    <tr>\n",
       "      <th>nsbm_level_7</th>\n",
       "      <td>0.427679</td>\n",
       "      <td>-5.897479e-16</td>\n",
       "      <td>2.469667e-01</td>\n",
       "      <td>4.205332e-01</td>\n",
       "      <td>-5.897479e-16</td>\n",
       "      <td>0.219036</td>\n",
       "      <td>0.212642</td>\n",
       "    </tr>\n",
       "    <tr>\n",
       "      <th>nsbm_level_8</th>\n",
       "      <td>0.427679</td>\n",
       "      <td>-5.897479e-16</td>\n",
       "      <td>-5.897479e-16</td>\n",
       "      <td>4.205332e-01</td>\n",
       "      <td>-5.897479e-16</td>\n",
       "      <td>0.169643</td>\n",
       "      <td>0.232306</td>\n",
       "    </tr>\n",
       "    <tr>\n",
       "      <th>nsbm_level_9</th>\n",
       "      <td>0.427679</td>\n",
       "      <td>-5.897479e-16</td>\n",
       "      <td>-5.897479e-16</td>\n",
       "      <td>-5.897479e-16</td>\n",
       "      <td>-5.897479e-16</td>\n",
       "      <td>0.085536</td>\n",
       "      <td>0.191264</td>\n",
       "    </tr>\n",
       "  </tbody>\n",
       "</table>\n",
       "</div>"
      ],
      "text/plain": [
       "              foobar40a     foobar40b     foobar40c     foobar40d  \\\n",
       "nsbm_level_1   0.485403  4.900854e-01  5.031498e-01  4.876506e-01   \n",
       "nsbm_level_2   0.881060  7.782226e-01  7.468106e-01  7.732054e-01   \n",
       "nsbm_level_3   0.701199  8.073873e-01  8.456062e-01  8.063906e-01   \n",
       "nsbm_level_4   0.560588  4.400604e-01  2.469667e-01  8.063906e-01   \n",
       "nsbm_level_5   0.427679  2.252627e-01  2.469667e-01  6.728850e-01   \n",
       "nsbm_level_6   0.427679 -5.897479e-16  2.469667e-01  4.205332e-01   \n",
       "nsbm_level_7   0.427679 -5.897479e-16  2.469667e-01  4.205332e-01   \n",
       "nsbm_level_8   0.427679 -5.897479e-16 -5.897479e-16  4.205332e-01   \n",
       "nsbm_level_9   0.427679 -5.897479e-16 -5.897479e-16 -5.897479e-16   \n",
       "\n",
       "                 foobar40e   mean_40  standard_deviation_40  \n",
       "nsbm_level_1  5.033175e-01  0.493921               0.008661  \n",
       "nsbm_level_2  8.459929e-01  0.805058               0.056079  \n",
       "nsbm_level_3  8.063906e-01  0.793395               0.054221  \n",
       "nsbm_level_4  8.063906e-01  0.572079               0.241383  \n",
       "nsbm_level_5  5.605876e-01  0.426676               0.194560  \n",
       "nsbm_level_6  4.276794e-01  0.304572               0.186976  \n",
       "nsbm_level_7 -5.897479e-16  0.219036               0.212642  \n",
       "nsbm_level_8 -5.897479e-16  0.169643               0.232306  \n",
       "nsbm_level_9 -5.897479e-16  0.085536               0.191264  "
      ]
     },
     "execution_count": 91,
     "metadata": {},
     "output_type": "execute_result"
    }
   ],
   "source": [
    "MI_40"
   ]
  },
  {
   "cell_type": "code",
   "execution_count": 111,
   "metadata": {},
   "outputs": [
    {
     "data": {
      "text/plain": [
       "<matplotlib.axes._subplots.AxesSubplot at 0x7fcdd7416cf8>"
      ]
     },
     "execution_count": 111,
     "metadata": {},
     "output_type": "execute_result"
    },
    {
     "data": {
      "image/png": "[encoded data removed]",
      "text/plain": [
       "<Figure size 432x288 with 1 Axes>"
      ]
     },
     "metadata": {
      "needs_background": "light"
     },
     "output_type": "display_data"
    }
   ],
   "source": [
    "MI_40.iloc[:,0:4].T.boxplot()"
   ]
  },
  {
   "cell_type": "markdown",
   "metadata": {},
   "source": [
    "# ADATA45"
   ]
  },
  {
   "cell_type": "code",
   "execution_count": 24,
   "metadata": {},
   "outputs": [],
   "source": [
    "scnsbm.inference.nested_model(adata45,collect_marginals=False)\n",
    "adata45.write('hworkcovid_10x/adata_45a.h5ad')\n",
    "scnsbm.inference.nested_model(adata45,collect_marginals=False)\n",
    "adata45.write('hworkcovid_10x/adata_45b.h5ad')\n",
    "scnsbm.inference.nested_model(adata45,collect_marginals=False)\n",
    "adata45.write('hworkcovid_10x/adata_45c.h5ad')\n",
    "scnsbm.inference.nested_model(adata45,collect_marginals=False)\n",
    "adata45.write('hworkcovid_10x/adata_45d.h5ad')\n",
    "scnsbm.inference.nested_model(adata45,collect_marginals=False)\n",
    "adata45.write('hworkcovid_10x/adata_45e.h5ad')"
   ]
  },
  {
   "cell_type": "code",
   "execution_count": 62,
   "metadata": {},
   "outputs": [],
   "source": [
    "adata45a=sc.read('hworkcovid_10x/adata_45a.h5ad')\n",
    "adata45b=sc.read('hworkcovid_10x/adata_45b.h5ad')\n",
    "adata45c=sc.read('hworkcovid_10x/adata_45c.h5ad')\n",
    "adata45d=sc.read('hworkcovid_10x/adata_45d.h5ad')\n",
    "adata45e=sc.read('hworkcovid_10x/adata_45e.h5ad')"
   ]
  },
  {
   "cell_type": "markdown",
   "metadata": {},
   "source": [
    "### MI_45"
   ]
  },
  {
   "cell_type": "code",
   "execution_count": 63,
   "metadata": {},
   "outputs": [],
   "source": [
    "nsbm_levels = [x for x in adata45a.obs_keys() if x.startswith(\"nsbm\")]\n",
    "foobars=['foobar45a','foobar45b','foobar45c','foobar45d','foobar45e']"
   ]
  },
  {
   "cell_type": "code",
   "execution_count": 64,
   "metadata": {},
   "outputs": [
    {
     "name": "stderr",
     "output_type": "stream",
     "text": [
      "/home/morelli/anaconda3/envs/scnsbm/lib/python3.7/site-packages/sklearn/metrics/cluster/supervised.py:746: FutureWarning: The behavior of AMI will change in version 0.22. To match the behavior of 'v_measure_score', AMI will use average_method='arithmetic' by default.\n",
      "  FutureWarning)\n",
      "/home/morelli/anaconda3/envs/scnsbm/lib/python3.7/site-packages/sklearn/metrics/cluster/supervised.py:746: FutureWarning: The behavior of AMI will change in version 0.22. To match the behavior of 'v_measure_score', AMI will use average_method='arithmetic' by default.\n",
      "  FutureWarning)\n",
      "/home/morelli/anaconda3/envs/scnsbm/lib/python3.7/site-packages/sklearn/metrics/cluster/supervised.py:746: FutureWarning: The behavior of AMI will change in version 0.22. To match the behavior of 'v_measure_score', AMI will use average_method='arithmetic' by default.\n",
      "  FutureWarning)\n",
      "/home/morelli/anaconda3/envs/scnsbm/lib/python3.7/site-packages/sklearn/metrics/cluster/supervised.py:746: FutureWarning: The behavior of AMI will change in version 0.22. To match the behavior of 'v_measure_score', AMI will use average_method='arithmetic' by default.\n",
      "  FutureWarning)\n",
      "/home/morelli/anaconda3/envs/scnsbm/lib/python3.7/site-packages/sklearn/metrics/cluster/supervised.py:746: FutureWarning: The behavior of AMI will change in version 0.22. To match the behavior of 'v_measure_score', AMI will use average_method='arithmetic' by default.\n",
      "  FutureWarning)\n",
      "/home/morelli/anaconda3/envs/scnsbm/lib/python3.7/site-packages/sklearn/metrics/cluster/supervised.py:746: FutureWarning: The behavior of AMI will change in version 0.22. To match the behavior of 'v_measure_score', AMI will use average_method='arithmetic' by default.\n",
      "  FutureWarning)\n",
      "/home/morelli/anaconda3/envs/scnsbm/lib/python3.7/site-packages/sklearn/metrics/cluster/supervised.py:746: FutureWarning: The behavior of AMI will change in version 0.22. To match the behavior of 'v_measure_score', AMI will use average_method='arithmetic' by default.\n",
      "  FutureWarning)\n",
      "/home/morelli/anaconda3/envs/scnsbm/lib/python3.7/site-packages/sklearn/metrics/cluster/supervised.py:746: FutureWarning: The behavior of AMI will change in version 0.22. To match the behavior of 'v_measure_score', AMI will use average_method='arithmetic' by default.\n",
      "  FutureWarning)\n",
      "/home/morelli/anaconda3/envs/scnsbm/lib/python3.7/site-packages/sklearn/metrics/cluster/supervised.py:746: FutureWarning: The behavior of AMI will change in version 0.22. To match the behavior of 'v_measure_score', AMI will use average_method='arithmetic' by default.\n",
      "  FutureWarning)\n",
      "/home/morelli/anaconda3/envs/scnsbm/lib/python3.7/site-packages/sklearn/metrics/cluster/supervised.py:746: FutureWarning: The behavior of AMI will change in version 0.22. To match the behavior of 'v_measure_score', AMI will use average_method='arithmetic' by default.\n",
      "  FutureWarning)\n",
      "/home/morelli/anaconda3/envs/scnsbm/lib/python3.7/site-packages/sklearn/metrics/cluster/supervised.py:746: FutureWarning: The behavior of AMI will change in version 0.22. To match the behavior of 'v_measure_score', AMI will use average_method='arithmetic' by default.\n",
      "  FutureWarning)\n",
      "/home/morelli/anaconda3/envs/scnsbm/lib/python3.7/site-packages/sklearn/metrics/cluster/supervised.py:746: FutureWarning: The behavior of AMI will change in version 0.22. To match the behavior of 'v_measure_score', AMI will use average_method='arithmetic' by default.\n",
      "  FutureWarning)\n",
      "/home/morelli/anaconda3/envs/scnsbm/lib/python3.7/site-packages/sklearn/metrics/cluster/supervised.py:746: FutureWarning: The behavior of AMI will change in version 0.22. To match the behavior of 'v_measure_score', AMI will use average_method='arithmetic' by default.\n",
      "  FutureWarning)\n",
      "/home/morelli/anaconda3/envs/scnsbm/lib/python3.7/site-packages/sklearn/metrics/cluster/supervised.py:746: FutureWarning: The behavior of AMI will change in version 0.22. To match the behavior of 'v_measure_score', AMI will use average_method='arithmetic' by default.\n",
      "  FutureWarning)\n",
      "/home/morelli/anaconda3/envs/scnsbm/lib/python3.7/site-packages/sklearn/metrics/cluster/supervised.py:746: FutureWarning: The behavior of AMI will change in version 0.22. To match the behavior of 'v_measure_score', AMI will use average_method='arithmetic' by default.\n",
      "  FutureWarning)\n",
      "/home/morelli/anaconda3/envs/scnsbm/lib/python3.7/site-packages/sklearn/metrics/cluster/supervised.py:746: FutureWarning: The behavior of AMI will change in version 0.22. To match the behavior of 'v_measure_score', AMI will use average_method='arithmetic' by default.\n",
      "  FutureWarning)\n",
      "/home/morelli/anaconda3/envs/scnsbm/lib/python3.7/site-packages/sklearn/metrics/cluster/supervised.py:746: FutureWarning: The behavior of AMI will change in version 0.22. To match the behavior of 'v_measure_score', AMI will use average_method='arithmetic' by default.\n",
      "  FutureWarning)\n",
      "/home/morelli/anaconda3/envs/scnsbm/lib/python3.7/site-packages/sklearn/metrics/cluster/supervised.py:746: FutureWarning: The behavior of AMI will change in version 0.22. To match the behavior of 'v_measure_score', AMI will use average_method='arithmetic' by default.\n",
      "  FutureWarning)\n",
      "/home/morelli/anaconda3/envs/scnsbm/lib/python3.7/site-packages/sklearn/metrics/cluster/supervised.py:746: FutureWarning: The behavior of AMI will change in version 0.22. To match the behavior of 'v_measure_score', AMI will use average_method='arithmetic' by default.\n",
      "  FutureWarning)\n",
      "/home/morelli/anaconda3/envs/scnsbm/lib/python3.7/site-packages/sklearn/metrics/cluster/supervised.py:746: FutureWarning: The behavior of AMI will change in version 0.22. To match the behavior of 'v_measure_score', AMI will use average_method='arithmetic' by default.\n",
      "  FutureWarning)\n",
      "/home/morelli/anaconda3/envs/scnsbm/lib/python3.7/site-packages/sklearn/metrics/cluster/supervised.py:746: FutureWarning: The behavior of AMI will change in version 0.22. To match the behavior of 'v_measure_score', AMI will use average_method='arithmetic' by default.\n",
      "  FutureWarning)\n",
      "/home/morelli/anaconda3/envs/scnsbm/lib/python3.7/site-packages/sklearn/metrics/cluster/supervised.py:746: FutureWarning: The behavior of AMI will change in version 0.22. To match the behavior of 'v_measure_score', AMI will use average_method='arithmetic' by default.\n",
      "  FutureWarning)\n",
      "/home/morelli/anaconda3/envs/scnsbm/lib/python3.7/site-packages/sklearn/metrics/cluster/supervised.py:746: FutureWarning: The behavior of AMI will change in version 0.22. To match the behavior of 'v_measure_score', AMI will use average_method='arithmetic' by default.\n",
      "  FutureWarning)\n",
      "/home/morelli/anaconda3/envs/scnsbm/lib/python3.7/site-packages/sklearn/metrics/cluster/supervised.py:746: FutureWarning: The behavior of AMI will change in version 0.22. To match the behavior of 'v_measure_score', AMI will use average_method='arithmetic' by default.\n",
      "  FutureWarning)\n",
      "/home/morelli/anaconda3/envs/scnsbm/lib/python3.7/site-packages/sklearn/metrics/cluster/supervised.py:746: FutureWarning: The behavior of AMI will change in version 0.22. To match the behavior of 'v_measure_score', AMI will use average_method='arithmetic' by default.\n",
      "  FutureWarning)\n",
      "/home/morelli/anaconda3/envs/scnsbm/lib/python3.7/site-packages/sklearn/metrics/cluster/supervised.py:746: FutureWarning: The behavior of AMI will change in version 0.22. To match the behavior of 'v_measure_score', AMI will use average_method='arithmetic' by default.\n",
      "  FutureWarning)\n",
      "/home/morelli/anaconda3/envs/scnsbm/lib/python3.7/site-packages/sklearn/metrics/cluster/supervised.py:746: FutureWarning: The behavior of AMI will change in version 0.22. To match the behavior of 'v_measure_score', AMI will use average_method='arithmetic' by default.\n",
      "  FutureWarning)\n",
      "/home/morelli/anaconda3/envs/scnsbm/lib/python3.7/site-packages/sklearn/metrics/cluster/supervised.py:746: FutureWarning: The behavior of AMI will change in version 0.22. To match the behavior of 'v_measure_score', AMI will use average_method='arithmetic' by default.\n",
      "  FutureWarning)\n",
      "/home/morelli/anaconda3/envs/scnsbm/lib/python3.7/site-packages/sklearn/metrics/cluster/supervised.py:746: FutureWarning: The behavior of AMI will change in version 0.22. To match the behavior of 'v_measure_score', AMI will use average_method='arithmetic' by default.\n",
      "  FutureWarning)\n",
      "/home/morelli/anaconda3/envs/scnsbm/lib/python3.7/site-packages/sklearn/metrics/cluster/supervised.py:746: FutureWarning: The behavior of AMI will change in version 0.22. To match the behavior of 'v_measure_score', AMI will use average_method='arithmetic' by default.\n",
      "  FutureWarning)\n",
      "/home/morelli/anaconda3/envs/scnsbm/lib/python3.7/site-packages/sklearn/metrics/cluster/supervised.py:746: FutureWarning: The behavior of AMI will change in version 0.22. To match the behavior of 'v_measure_score', AMI will use average_method='arithmetic' by default.\n",
      "  FutureWarning)\n",
      "/home/morelli/anaconda3/envs/scnsbm/lib/python3.7/site-packages/sklearn/metrics/cluster/supervised.py:746: FutureWarning: The behavior of AMI will change in version 0.22. To match the behavior of 'v_measure_score', AMI will use average_method='arithmetic' by default.\n",
      "  FutureWarning)\n",
      "/home/morelli/anaconda3/envs/scnsbm/lib/python3.7/site-packages/sklearn/metrics/cluster/supervised.py:746: FutureWarning: The behavior of AMI will change in version 0.22. To match the behavior of 'v_measure_score', AMI will use average_method='arithmetic' by default.\n",
      "  FutureWarning)\n",
      "/home/morelli/anaconda3/envs/scnsbm/lib/python3.7/site-packages/sklearn/metrics/cluster/supervised.py:746: FutureWarning: The behavior of AMI will change in version 0.22. To match the behavior of 'v_measure_score', AMI will use average_method='arithmetic' by default.\n",
      "  FutureWarning)\n",
      "/home/morelli/anaconda3/envs/scnsbm/lib/python3.7/site-packages/sklearn/metrics/cluster/supervised.py:746: FutureWarning: The behavior of AMI will change in version 0.22. To match the behavior of 'v_measure_score', AMI will use average_method='arithmetic' by default.\n",
      "  FutureWarning)\n",
      "/home/morelli/anaconda3/envs/scnsbm/lib/python3.7/site-packages/sklearn/metrics/cluster/supervised.py:746: FutureWarning: The behavior of AMI will change in version 0.22. To match the behavior of 'v_measure_score', AMI will use average_method='arithmetic' by default.\n",
      "  FutureWarning)\n",
      "/home/morelli/anaconda3/envs/scnsbm/lib/python3.7/site-packages/sklearn/metrics/cluster/supervised.py:746: FutureWarning: The behavior of AMI will change in version 0.22. To match the behavior of 'v_measure_score', AMI will use average_method='arithmetic' by default.\n",
      "  FutureWarning)\n",
      "/home/morelli/anaconda3/envs/scnsbm/lib/python3.7/site-packages/sklearn/metrics/cluster/supervised.py:746: FutureWarning: The behavior of AMI will change in version 0.22. To match the behavior of 'v_measure_score', AMI will use average_method='arithmetic' by default.\n",
      "  FutureWarning)\n",
      "/home/morelli/anaconda3/envs/scnsbm/lib/python3.7/site-packages/sklearn/metrics/cluster/supervised.py:746: FutureWarning: The behavior of AMI will change in version 0.22. To match the behavior of 'v_measure_score', AMI will use average_method='arithmetic' by default.\n",
      "  FutureWarning)\n",
      "/home/morelli/anaconda3/envs/scnsbm/lib/python3.7/site-packages/sklearn/metrics/cluster/supervised.py:746: FutureWarning: The behavior of AMI will change in version 0.22. To match the behavior of 'v_measure_score', AMI will use average_method='arithmetic' by default.\n",
      "  FutureWarning)\n",
      "/home/morelli/anaconda3/envs/scnsbm/lib/python3.7/site-packages/sklearn/metrics/cluster/supervised.py:746: FutureWarning: The behavior of AMI will change in version 0.22. To match the behavior of 'v_measure_score', AMI will use average_method='arithmetic' by default.\n",
      "  FutureWarning)\n",
      "/home/morelli/anaconda3/envs/scnsbm/lib/python3.7/site-packages/sklearn/metrics/cluster/supervised.py:746: FutureWarning: The behavior of AMI will change in version 0.22. To match the behavior of 'v_measure_score', AMI will use average_method='arithmetic' by default.\n",
      "  FutureWarning)\n",
      "/home/morelli/anaconda3/envs/scnsbm/lib/python3.7/site-packages/sklearn/metrics/cluster/supervised.py:746: FutureWarning: The behavior of AMI will change in version 0.22. To match the behavior of 'v_measure_score', AMI will use average_method='arithmetic' by default.\n",
      "  FutureWarning)\n",
      "/home/morelli/anaconda3/envs/scnsbm/lib/python3.7/site-packages/sklearn/metrics/cluster/supervised.py:746: FutureWarning: The behavior of AMI will change in version 0.22. To match the behavior of 'v_measure_score', AMI will use average_method='arithmetic' by default.\n",
      "  FutureWarning)\n",
      "/home/morelli/anaconda3/envs/scnsbm/lib/python3.7/site-packages/sklearn/metrics/cluster/supervised.py:746: FutureWarning: The behavior of AMI will change in version 0.22. To match the behavior of 'v_measure_score', AMI will use average_method='arithmetic' by default.\n",
      "  FutureWarning)\n"
     ]
    }
   ],
   "source": [
    "foobar45a= [sklearn.metrics.adjusted_mutual_info_score(adata45a.obs.loc[:, NL], adata45a.obs.loc[:, 'cell_line'])\n",
    "                                            for NL in nsbm_levels]\n",
    "foobar45b= [sklearn.metrics.adjusted_mutual_info_score(adata45b.obs.loc[:, NL], adata45b.obs.loc[:, 'cell_line'])\n",
    "                                            for NL in nsbm_levels]\n",
    "foobar45c= [sklearn.metrics.adjusted_mutual_info_score(adata45c.obs.loc[:, NL], adata45c.obs.loc[:, 'cell_line'])\n",
    "                                            for NL in nsbm_levels]\n",
    "foobar45d= [sklearn.metrics.adjusted_mutual_info_score(adata45d.obs.loc[:, NL], adata45d.obs.loc[:, 'cell_line'])\n",
    "                                            for NL in nsbm_levels]\n",
    "foobar45e= [sklearn.metrics.adjusted_mutual_info_score(adata45e.obs.loc[:, NL], adata45e.obs.loc[:, 'cell_line'])\n",
    "                                            for NL in nsbm_levels]"
   ]
  },
  {
   "cell_type": "code",
   "execution_count": 65,
   "metadata": {},
   "outputs": [],
   "source": [
    "MI_45=pd.DataFrame(None,columns=foobars,index=nsbm_levels)\n",
    "MI_45.loc[:,'foobar45a']=foobar45a\n",
    "MI_45.loc[:,'foobar45b']=foobar45b\n",
    "MI_45.loc[:,'foobar45c']=foobar45c\n",
    "MI_45.loc[:,'foobar45d']=foobar45d\n",
    "MI_45.loc[:,'foobar45e']=foobar45e"
   ]
  },
  {
   "cell_type": "code",
   "execution_count": 75,
   "metadata": {},
   "outputs": [],
   "source": [
    "mean_45=[mean(MI_45.iloc[x,:]) for x in range(len(nsbm_levels))]\n",
    "sd_45=[statistics.stdev(MI_45.iloc[x,:]) for x in range(len(nsbm_levels))]\n",
    "MI_45['mean_45']=mean_45\n",
    "MI_45['standard_deviation_45']=sd_45"
   ]
  },
  {
   "cell_type": "code",
   "execution_count": 80,
   "metadata": {},
   "outputs": [],
   "source": [
    "pickle.dump(MI_45, open('hworkcovid_10x/mi_45.pkl','wb'),2)"
   ]
  },
  {
   "cell_type": "code",
   "execution_count": 76,
   "metadata": {
    "scrolled": true
   },
   "outputs": [
    {
     "data": {
      "text/html": [
       "<div>\n",
       "<style scoped>\n",
       "    .dataframe tbody tr th:only-of-type {\n",
       "        vertical-align: middle;\n",
       "    }\n",
       "\n",
       "    .dataframe tbody tr th {\n",
       "        vertical-align: top;\n",
       "    }\n",
       "\n",
       "    .dataframe thead th {\n",
       "        text-align: right;\n",
       "    }\n",
       "</style>\n",
       "<table border=\"1\" class=\"dataframe\">\n",
       "  <thead>\n",
       "    <tr style=\"text-align: right;\">\n",
       "      <th></th>\n",
       "      <th>foobar45a</th>\n",
       "      <th>foobar45b</th>\n",
       "      <th>foobar45c</th>\n",
       "      <th>foobar45d</th>\n",
       "      <th>foobar45e</th>\n",
       "      <th>mean_45</th>\n",
       "      <th>standard_deviation_45</th>\n",
       "    </tr>\n",
       "  </thead>\n",
       "  <tbody>\n",
       "    <tr>\n",
       "      <th>nsbm_level_1</th>\n",
       "      <td>5.158673e-01</td>\n",
       "      <td>4.975309e-01</td>\n",
       "      <td>4.960001e-01</td>\n",
       "      <td>5.023034e-01</td>\n",
       "      <td>5.085610e-01</td>\n",
       "      <td>5.040526e-01</td>\n",
       "      <td>0.008221</td>\n",
       "    </tr>\n",
       "    <tr>\n",
       "      <th>nsbm_level_2</th>\n",
       "      <td>8.941229e-01</td>\n",
       "      <td>7.718521e-01</td>\n",
       "      <td>7.559663e-01</td>\n",
       "      <td>7.136578e-01</td>\n",
       "      <td>8.025545e-01</td>\n",
       "      <td>7.876307e-01</td>\n",
       "      <td>0.067615</td>\n",
       "    </tr>\n",
       "    <tr>\n",
       "      <th>nsbm_level_3</th>\n",
       "      <td>6.850207e-01</td>\n",
       "      <td>9.521213e-01</td>\n",
       "      <td>9.521213e-01</td>\n",
       "      <td>6.480192e-01</td>\n",
       "      <td>9.521213e-01</td>\n",
       "      <td>8.378808e-01</td>\n",
       "      <td>0.156976</td>\n",
       "    </tr>\n",
       "    <tr>\n",
       "      <th>nsbm_level_4</th>\n",
       "      <td>4.187989e-01</td>\n",
       "      <td>5.622030e-01</td>\n",
       "      <td>7.521372e-01</td>\n",
       "      <td>6.480192e-01</td>\n",
       "      <td>8.458551e-01</td>\n",
       "      <td>6.454027e-01</td>\n",
       "      <td>0.165719</td>\n",
       "    </tr>\n",
       "    <tr>\n",
       "      <th>nsbm_level_5</th>\n",
       "      <td>-5.897479e-16</td>\n",
       "      <td>4.187989e-01</td>\n",
       "      <td>6.463557e-01</td>\n",
       "      <td>6.229178e-01</td>\n",
       "      <td>4.240783e-01</td>\n",
       "      <td>4.224302e-01</td>\n",
       "      <td>0.259230</td>\n",
       "    </tr>\n",
       "    <tr>\n",
       "      <th>nsbm_level_6</th>\n",
       "      <td>-5.897479e-16</td>\n",
       "      <td>-5.897479e-16</td>\n",
       "      <td>4.240783e-01</td>\n",
       "      <td>6.229178e-01</td>\n",
       "      <td>-5.897479e-16</td>\n",
       "      <td>2.093992e-01</td>\n",
       "      <td>0.295224</td>\n",
       "    </tr>\n",
       "    <tr>\n",
       "      <th>nsbm_level_7</th>\n",
       "      <td>-5.897479e-16</td>\n",
       "      <td>-5.897479e-16</td>\n",
       "      <td>-5.897479e-16</td>\n",
       "      <td>4.205332e-01</td>\n",
       "      <td>-5.897479e-16</td>\n",
       "      <td>8.410663e-02</td>\n",
       "      <td>0.188068</td>\n",
       "    </tr>\n",
       "    <tr>\n",
       "      <th>nsbm_level_8</th>\n",
       "      <td>-5.897479e-16</td>\n",
       "      <td>-5.897479e-16</td>\n",
       "      <td>-5.897479e-16</td>\n",
       "      <td>-5.897479e-16</td>\n",
       "      <td>-5.897479e-16</td>\n",
       "      <td>-5.897479e-16</td>\n",
       "      <td>0.000000</td>\n",
       "    </tr>\n",
       "    <tr>\n",
       "      <th>nsbm_level_9</th>\n",
       "      <td>-5.897479e-16</td>\n",
       "      <td>-5.897479e-16</td>\n",
       "      <td>-5.897479e-16</td>\n",
       "      <td>-5.897479e-16</td>\n",
       "      <td>-5.897479e-16</td>\n",
       "      <td>-5.897479e-16</td>\n",
       "      <td>0.000000</td>\n",
       "    </tr>\n",
       "  </tbody>\n",
       "</table>\n",
       "</div>"
      ],
      "text/plain": [
       "                 foobar45a     foobar45b     foobar45c     foobar45d  \\\n",
       "nsbm_level_1  5.158673e-01  4.975309e-01  4.960001e-01  5.023034e-01   \n",
       "nsbm_level_2  8.941229e-01  7.718521e-01  7.559663e-01  7.136578e-01   \n",
       "nsbm_level_3  6.850207e-01  9.521213e-01  9.521213e-01  6.480192e-01   \n",
       "nsbm_level_4  4.187989e-01  5.622030e-01  7.521372e-01  6.480192e-01   \n",
       "nsbm_level_5 -5.897479e-16  4.187989e-01  6.463557e-01  6.229178e-01   \n",
       "nsbm_level_6 -5.897479e-16 -5.897479e-16  4.240783e-01  6.229178e-01   \n",
       "nsbm_level_7 -5.897479e-16 -5.897479e-16 -5.897479e-16  4.205332e-01   \n",
       "nsbm_level_8 -5.897479e-16 -5.897479e-16 -5.897479e-16 -5.897479e-16   \n",
       "nsbm_level_9 -5.897479e-16 -5.897479e-16 -5.897479e-16 -5.897479e-16   \n",
       "\n",
       "                 foobar45e       mean_45  standard_deviation_45  \n",
       "nsbm_level_1  5.085610e-01  5.040526e-01               0.008221  \n",
       "nsbm_level_2  8.025545e-01  7.876307e-01               0.067615  \n",
       "nsbm_level_3  9.521213e-01  8.378808e-01               0.156976  \n",
       "nsbm_level_4  8.458551e-01  6.454027e-01               0.165719  \n",
       "nsbm_level_5  4.240783e-01  4.224302e-01               0.259230  \n",
       "nsbm_level_6 -5.897479e-16  2.093992e-01               0.295224  \n",
       "nsbm_level_7 -5.897479e-16  8.410663e-02               0.188068  \n",
       "nsbm_level_8 -5.897479e-16 -5.897479e-16               0.000000  \n",
       "nsbm_level_9 -5.897479e-16 -5.897479e-16               0.000000  "
      ]
     },
     "execution_count": 76,
     "metadata": {},
     "output_type": "execute_result"
    }
   ],
   "source": [
    "MI_45"
   ]
  },
  {
   "cell_type": "code",
   "execution_count": 112,
   "metadata": {},
   "outputs": [
    {
     "data": {
      "text/plain": [
       "<matplotlib.axes._subplots.AxesSubplot at 0x7fcdd7310b38>"
      ]
     },
     "execution_count": 112,
     "metadata": {},
     "output_type": "execute_result"
    },
    {
     "data": {
      "image/png": "[encoded data removed]",
      "text/plain": [
       "<Figure size 432x288 with 1 Axes>"
      ]
     },
     "metadata": {
      "needs_background": "light"
     },
     "output_type": "display_data"
    }
   ],
   "source": [
    "MI_45.iloc[:,0:4].T.boxplot()"
   ]
  },
  {
   "cell_type": "markdown",
   "metadata": {},
   "source": [
    "# ADATA50"
   ]
  },
  {
   "cell_type": "code",
   "execution_count": 25,
   "metadata": {},
   "outputs": [],
   "source": [
    "scnsbm.inference.nested_model(adata50,collect_marginals=False)\n",
    "adata50.write('hworkcovid_10x/adata_50a.h5ad')\n",
    "scnsbm.inference.nested_model(adata50,collect_marginals=False)\n",
    "adata50.write('hworkcovid_10x/adata_50b.h5ad')\n",
    "scnsbm.inference.nested_model(adata50,collect_marginals=False)\n",
    "adata50.write('hworkcovid_10x/adata_50c.h5ad')\n",
    "scnsbm.inference.nested_model(adata50,collect_marginals=False)\n",
    "adata50.write('hworkcovid_10x/adata_50d.h5ad')\n",
    "scnsbm.inference.nested_model(adata50,collect_marginals=False)\n",
    "adata50.write('hworkcovid_10x/adata_50e.h5ad')"
   ]
  },
  {
   "cell_type": "code",
   "execution_count": 66,
   "metadata": {},
   "outputs": [],
   "source": [
    "adata50a=sc.read('hworkcovid_10x/adata_50a.h5ad')\n",
    "adata50b=sc.read('hworkcovid_10x/adata_50b.h5ad')\n",
    "adata50c=sc.read('hworkcovid_10x/adata_50c.h5ad')\n",
    "adata50d=sc.read('hworkcovid_10x/adata_50d.h5ad')\n",
    "adata50e=sc.read('hworkcovid_10x/adata_50e.h5ad')"
   ]
  },
  {
   "cell_type": "markdown",
   "metadata": {},
   "source": [
    "### MI_50"
   ]
  },
  {
   "cell_type": "code",
   "execution_count": 67,
   "metadata": {},
   "outputs": [],
   "source": [
    "nsbm_levels = [x for x in adata50a.obs_keys() if x.startswith(\"nsbm\")]\n",
    "foobars=['foobar50a','foobar50b','foobar50c','foobar50d','foobar50e']"
   ]
  },
  {
   "cell_type": "code",
   "execution_count": 68,
   "metadata": {},
   "outputs": [
    {
     "name": "stderr",
     "output_type": "stream",
     "text": [
      "/home/morelli/anaconda3/envs/scnsbm/lib/python3.7/site-packages/sklearn/metrics/cluster/supervised.py:746: FutureWarning: The behavior of AMI will change in version 0.22. To match the behavior of 'v_measure_score', AMI will use average_method='arithmetic' by default.\n",
      "  FutureWarning)\n",
      "/home/morelli/anaconda3/envs/scnsbm/lib/python3.7/site-packages/sklearn/metrics/cluster/supervised.py:746: FutureWarning: The behavior of AMI will change in version 0.22. To match the behavior of 'v_measure_score', AMI will use average_method='arithmetic' by default.\n",
      "  FutureWarning)\n",
      "/home/morelli/anaconda3/envs/scnsbm/lib/python3.7/site-packages/sklearn/metrics/cluster/supervised.py:746: FutureWarning: The behavior of AMI will change in version 0.22. To match the behavior of 'v_measure_score', AMI will use average_method='arithmetic' by default.\n",
      "  FutureWarning)\n",
      "/home/morelli/anaconda3/envs/scnsbm/lib/python3.7/site-packages/sklearn/metrics/cluster/supervised.py:746: FutureWarning: The behavior of AMI will change in version 0.22. To match the behavior of 'v_measure_score', AMI will use average_method='arithmetic' by default.\n",
      "  FutureWarning)\n",
      "/home/morelli/anaconda3/envs/scnsbm/lib/python3.7/site-packages/sklearn/metrics/cluster/supervised.py:746: FutureWarning: The behavior of AMI will change in version 0.22. To match the behavior of 'v_measure_score', AMI will use average_method='arithmetic' by default.\n",
      "  FutureWarning)\n",
      "/home/morelli/anaconda3/envs/scnsbm/lib/python3.7/site-packages/sklearn/metrics/cluster/supervised.py:746: FutureWarning: The behavior of AMI will change in version 0.22. To match the behavior of 'v_measure_score', AMI will use average_method='arithmetic' by default.\n",
      "  FutureWarning)\n",
      "/home/morelli/anaconda3/envs/scnsbm/lib/python3.7/site-packages/sklearn/metrics/cluster/supervised.py:746: FutureWarning: The behavior of AMI will change in version 0.22. To match the behavior of 'v_measure_score', AMI will use average_method='arithmetic' by default.\n",
      "  FutureWarning)\n",
      "/home/morelli/anaconda3/envs/scnsbm/lib/python3.7/site-packages/sklearn/metrics/cluster/supervised.py:746: FutureWarning: The behavior of AMI will change in version 0.22. To match the behavior of 'v_measure_score', AMI will use average_method='arithmetic' by default.\n",
      "  FutureWarning)\n",
      "/home/morelli/anaconda3/envs/scnsbm/lib/python3.7/site-packages/sklearn/metrics/cluster/supervised.py:746: FutureWarning: The behavior of AMI will change in version 0.22. To match the behavior of 'v_measure_score', AMI will use average_method='arithmetic' by default.\n",
      "  FutureWarning)\n",
      "/home/morelli/anaconda3/envs/scnsbm/lib/python3.7/site-packages/sklearn/metrics/cluster/supervised.py:746: FutureWarning: The behavior of AMI will change in version 0.22. To match the behavior of 'v_measure_score', AMI will use average_method='arithmetic' by default.\n",
      "  FutureWarning)\n",
      "/home/morelli/anaconda3/envs/scnsbm/lib/python3.7/site-packages/sklearn/metrics/cluster/supervised.py:746: FutureWarning: The behavior of AMI will change in version 0.22. To match the behavior of 'v_measure_score', AMI will use average_method='arithmetic' by default.\n",
      "  FutureWarning)\n",
      "/home/morelli/anaconda3/envs/scnsbm/lib/python3.7/site-packages/sklearn/metrics/cluster/supervised.py:746: FutureWarning: The behavior of AMI will change in version 0.22. To match the behavior of 'v_measure_score', AMI will use average_method='arithmetic' by default.\n",
      "  FutureWarning)\n",
      "/home/morelli/anaconda3/envs/scnsbm/lib/python3.7/site-packages/sklearn/metrics/cluster/supervised.py:746: FutureWarning: The behavior of AMI will change in version 0.22. To match the behavior of 'v_measure_score', AMI will use average_method='arithmetic' by default.\n",
      "  FutureWarning)\n",
      "/home/morelli/anaconda3/envs/scnsbm/lib/python3.7/site-packages/sklearn/metrics/cluster/supervised.py:746: FutureWarning: The behavior of AMI will change in version 0.22. To match the behavior of 'v_measure_score', AMI will use average_method='arithmetic' by default.\n",
      "  FutureWarning)\n",
      "/home/morelli/anaconda3/envs/scnsbm/lib/python3.7/site-packages/sklearn/metrics/cluster/supervised.py:746: FutureWarning: The behavior of AMI will change in version 0.22. To match the behavior of 'v_measure_score', AMI will use average_method='arithmetic' by default.\n",
      "  FutureWarning)\n",
      "/home/morelli/anaconda3/envs/scnsbm/lib/python3.7/site-packages/sklearn/metrics/cluster/supervised.py:746: FutureWarning: The behavior of AMI will change in version 0.22. To match the behavior of 'v_measure_score', AMI will use average_method='arithmetic' by default.\n",
      "  FutureWarning)\n",
      "/home/morelli/anaconda3/envs/scnsbm/lib/python3.7/site-packages/sklearn/metrics/cluster/supervised.py:746: FutureWarning: The behavior of AMI will change in version 0.22. To match the behavior of 'v_measure_score', AMI will use average_method='arithmetic' by default.\n",
      "  FutureWarning)\n",
      "/home/morelli/anaconda3/envs/scnsbm/lib/python3.7/site-packages/sklearn/metrics/cluster/supervised.py:746: FutureWarning: The behavior of AMI will change in version 0.22. To match the behavior of 'v_measure_score', AMI will use average_method='arithmetic' by default.\n",
      "  FutureWarning)\n",
      "/home/morelli/anaconda3/envs/scnsbm/lib/python3.7/site-packages/sklearn/metrics/cluster/supervised.py:746: FutureWarning: The behavior of AMI will change in version 0.22. To match the behavior of 'v_measure_score', AMI will use average_method='arithmetic' by default.\n",
      "  FutureWarning)\n",
      "/home/morelli/anaconda3/envs/scnsbm/lib/python3.7/site-packages/sklearn/metrics/cluster/supervised.py:746: FutureWarning: The behavior of AMI will change in version 0.22. To match the behavior of 'v_measure_score', AMI will use average_method='arithmetic' by default.\n",
      "  FutureWarning)\n",
      "/home/morelli/anaconda3/envs/scnsbm/lib/python3.7/site-packages/sklearn/metrics/cluster/supervised.py:746: FutureWarning: The behavior of AMI will change in version 0.22. To match the behavior of 'v_measure_score', AMI will use average_method='arithmetic' by default.\n",
      "  FutureWarning)\n",
      "/home/morelli/anaconda3/envs/scnsbm/lib/python3.7/site-packages/sklearn/metrics/cluster/supervised.py:746: FutureWarning: The behavior of AMI will change in version 0.22. To match the behavior of 'v_measure_score', AMI will use average_method='arithmetic' by default.\n",
      "  FutureWarning)\n",
      "/home/morelli/anaconda3/envs/scnsbm/lib/python3.7/site-packages/sklearn/metrics/cluster/supervised.py:746: FutureWarning: The behavior of AMI will change in version 0.22. To match the behavior of 'v_measure_score', AMI will use average_method='arithmetic' by default.\n",
      "  FutureWarning)\n",
      "/home/morelli/anaconda3/envs/scnsbm/lib/python3.7/site-packages/sklearn/metrics/cluster/supervised.py:746: FutureWarning: The behavior of AMI will change in version 0.22. To match the behavior of 'v_measure_score', AMI will use average_method='arithmetic' by default.\n",
      "  FutureWarning)\n",
      "/home/morelli/anaconda3/envs/scnsbm/lib/python3.7/site-packages/sklearn/metrics/cluster/supervised.py:746: FutureWarning: The behavior of AMI will change in version 0.22. To match the behavior of 'v_measure_score', AMI will use average_method='arithmetic' by default.\n",
      "  FutureWarning)\n",
      "/home/morelli/anaconda3/envs/scnsbm/lib/python3.7/site-packages/sklearn/metrics/cluster/supervised.py:746: FutureWarning: The behavior of AMI will change in version 0.22. To match the behavior of 'v_measure_score', AMI will use average_method='arithmetic' by default.\n",
      "  FutureWarning)\n",
      "/home/morelli/anaconda3/envs/scnsbm/lib/python3.7/site-packages/sklearn/metrics/cluster/supervised.py:746: FutureWarning: The behavior of AMI will change in version 0.22. To match the behavior of 'v_measure_score', AMI will use average_method='arithmetic' by default.\n",
      "  FutureWarning)\n",
      "/home/morelli/anaconda3/envs/scnsbm/lib/python3.7/site-packages/sklearn/metrics/cluster/supervised.py:746: FutureWarning: The behavior of AMI will change in version 0.22. To match the behavior of 'v_measure_score', AMI will use average_method='arithmetic' by default.\n",
      "  FutureWarning)\n",
      "/home/morelli/anaconda3/envs/scnsbm/lib/python3.7/site-packages/sklearn/metrics/cluster/supervised.py:746: FutureWarning: The behavior of AMI will change in version 0.22. To match the behavior of 'v_measure_score', AMI will use average_method='arithmetic' by default.\n",
      "  FutureWarning)\n",
      "/home/morelli/anaconda3/envs/scnsbm/lib/python3.7/site-packages/sklearn/metrics/cluster/supervised.py:746: FutureWarning: The behavior of AMI will change in version 0.22. To match the behavior of 'v_measure_score', AMI will use average_method='arithmetic' by default.\n",
      "  FutureWarning)\n",
      "/home/morelli/anaconda3/envs/scnsbm/lib/python3.7/site-packages/sklearn/metrics/cluster/supervised.py:746: FutureWarning: The behavior of AMI will change in version 0.22. To match the behavior of 'v_measure_score', AMI will use average_method='arithmetic' by default.\n",
      "  FutureWarning)\n",
      "/home/morelli/anaconda3/envs/scnsbm/lib/python3.7/site-packages/sklearn/metrics/cluster/supervised.py:746: FutureWarning: The behavior of AMI will change in version 0.22. To match the behavior of 'v_measure_score', AMI will use average_method='arithmetic' by default.\n",
      "  FutureWarning)\n",
      "/home/morelli/anaconda3/envs/scnsbm/lib/python3.7/site-packages/sklearn/metrics/cluster/supervised.py:746: FutureWarning: The behavior of AMI will change in version 0.22. To match the behavior of 'v_measure_score', AMI will use average_method='arithmetic' by default.\n",
      "  FutureWarning)\n",
      "/home/morelli/anaconda3/envs/scnsbm/lib/python3.7/site-packages/sklearn/metrics/cluster/supervised.py:746: FutureWarning: The behavior of AMI will change in version 0.22. To match the behavior of 'v_measure_score', AMI will use average_method='arithmetic' by default.\n",
      "  FutureWarning)\n",
      "/home/morelli/anaconda3/envs/scnsbm/lib/python3.7/site-packages/sklearn/metrics/cluster/supervised.py:746: FutureWarning: The behavior of AMI will change in version 0.22. To match the behavior of 'v_measure_score', AMI will use average_method='arithmetic' by default.\n",
      "  FutureWarning)\n",
      "/home/morelli/anaconda3/envs/scnsbm/lib/python3.7/site-packages/sklearn/metrics/cluster/supervised.py:746: FutureWarning: The behavior of AMI will change in version 0.22. To match the behavior of 'v_measure_score', AMI will use average_method='arithmetic' by default.\n",
      "  FutureWarning)\n",
      "/home/morelli/anaconda3/envs/scnsbm/lib/python3.7/site-packages/sklearn/metrics/cluster/supervised.py:746: FutureWarning: The behavior of AMI will change in version 0.22. To match the behavior of 'v_measure_score', AMI will use average_method='arithmetic' by default.\n",
      "  FutureWarning)\n",
      "/home/morelli/anaconda3/envs/scnsbm/lib/python3.7/site-packages/sklearn/metrics/cluster/supervised.py:746: FutureWarning: The behavior of AMI will change in version 0.22. To match the behavior of 'v_measure_score', AMI will use average_method='arithmetic' by default.\n",
      "  FutureWarning)\n",
      "/home/morelli/anaconda3/envs/scnsbm/lib/python3.7/site-packages/sklearn/metrics/cluster/supervised.py:746: FutureWarning: The behavior of AMI will change in version 0.22. To match the behavior of 'v_measure_score', AMI will use average_method='arithmetic' by default.\n",
      "  FutureWarning)\n",
      "/home/morelli/anaconda3/envs/scnsbm/lib/python3.7/site-packages/sklearn/metrics/cluster/supervised.py:746: FutureWarning: The behavior of AMI will change in version 0.22. To match the behavior of 'v_measure_score', AMI will use average_method='arithmetic' by default.\n",
      "  FutureWarning)\n",
      "/home/morelli/anaconda3/envs/scnsbm/lib/python3.7/site-packages/sklearn/metrics/cluster/supervised.py:746: FutureWarning: The behavior of AMI will change in version 0.22. To match the behavior of 'v_measure_score', AMI will use average_method='arithmetic' by default.\n",
      "  FutureWarning)\n",
      "/home/morelli/anaconda3/envs/scnsbm/lib/python3.7/site-packages/sklearn/metrics/cluster/supervised.py:746: FutureWarning: The behavior of AMI will change in version 0.22. To match the behavior of 'v_measure_score', AMI will use average_method='arithmetic' by default.\n",
      "  FutureWarning)\n",
      "/home/morelli/anaconda3/envs/scnsbm/lib/python3.7/site-packages/sklearn/metrics/cluster/supervised.py:746: FutureWarning: The behavior of AMI will change in version 0.22. To match the behavior of 'v_measure_score', AMI will use average_method='arithmetic' by default.\n",
      "  FutureWarning)\n",
      "/home/morelli/anaconda3/envs/scnsbm/lib/python3.7/site-packages/sklearn/metrics/cluster/supervised.py:746: FutureWarning: The behavior of AMI will change in version 0.22. To match the behavior of 'v_measure_score', AMI will use average_method='arithmetic' by default.\n",
      "  FutureWarning)\n",
      "/home/morelli/anaconda3/envs/scnsbm/lib/python3.7/site-packages/sklearn/metrics/cluster/supervised.py:746: FutureWarning: The behavior of AMI will change in version 0.22. To match the behavior of 'v_measure_score', AMI will use average_method='arithmetic' by default.\n",
      "  FutureWarning)\n"
     ]
    }
   ],
   "source": [
    "foobar50a= [sklearn.metrics.adjusted_mutual_info_score(adata50a.obs.loc[:, NL], adata50a.obs.loc[:, 'cell_line'])\n",
    "                                            for NL in nsbm_levels]\n",
    "foobar50b= [sklearn.metrics.adjusted_mutual_info_score(adata50b.obs.loc[:, NL], adata50b.obs.loc[:, 'cell_line'])\n",
    "                                            for NL in nsbm_levels]\n",
    "foobar50c= [sklearn.metrics.adjusted_mutual_info_score(adata50c.obs.loc[:, NL], adata50c.obs.loc[:, 'cell_line'])\n",
    "                                            for NL in nsbm_levels]\n",
    "foobar50d= [sklearn.metrics.adjusted_mutual_info_score(adata50d.obs.loc[:, NL], adata50d.obs.loc[:, 'cell_line'])\n",
    "                                            for NL in nsbm_levels]\n",
    "foobar50e= [sklearn.metrics.adjusted_mutual_info_score(adata50e.obs.loc[:, NL], adata50e.obs.loc[:, 'cell_line'])\n",
    "                                            for NL in nsbm_levels]"
   ]
  },
  {
   "cell_type": "code",
   "execution_count": 69,
   "metadata": {},
   "outputs": [],
   "source": [
    "MI_50=pd.DataFrame(None,columns=foobars,index=nsbm_levels)\n",
    "MI_50.loc[:,'foobar50a']=foobar50a\n",
    "MI_50.loc[:,'foobar50b']=foobar50b\n",
    "MI_50.loc[:,'foobar50c']=foobar50c\n",
    "MI_50.loc[:,'foobar50d']=foobar50d\n",
    "MI_50.loc[:,'foobar50e']=foobar50e"
   ]
  },
  {
   "cell_type": "code",
   "execution_count": 70,
   "metadata": {},
   "outputs": [],
   "source": [
    "mean_50=[mean(MI_50.iloc[x,:]) for x in range(len(nsbm_levels))]\n",
    "sd_50=[statistics.stdev(MI_50.iloc[x,:]) for x in range(len(nsbm_levels))]\n",
    "MI_50['mean_50']=mean_50\n",
    "MI_50['standard_deviation_50']=sd_50"
   ]
  },
  {
   "cell_type": "code",
   "execution_count": 72,
   "metadata": {},
   "outputs": [],
   "source": [
    "pickle.dump(MI_50, open('hworkcovid_10x/mi_50.pkl','wb'),2)"
   ]
  },
  {
   "cell_type": "code",
   "execution_count": 71,
   "metadata": {},
   "outputs": [
    {
     "data": {
      "text/html": [
       "<div>\n",
       "<style scoped>\n",
       "    .dataframe tbody tr th:only-of-type {\n",
       "        vertical-align: middle;\n",
       "    }\n",
       "\n",
       "    .dataframe tbody tr th {\n",
       "        vertical-align: top;\n",
       "    }\n",
       "\n",
       "    .dataframe thead th {\n",
       "        text-align: right;\n",
       "    }\n",
       "</style>\n",
       "<table border=\"1\" class=\"dataframe\">\n",
       "  <thead>\n",
       "    <tr style=\"text-align: right;\">\n",
       "      <th></th>\n",
       "      <th>foobar50a</th>\n",
       "      <th>foobar50b</th>\n",
       "      <th>foobar50c</th>\n",
       "      <th>foobar50d</th>\n",
       "      <th>foobar50e</th>\n",
       "      <th>mean_50</th>\n",
       "      <th>standard_deviation_50</th>\n",
       "    </tr>\n",
       "  </thead>\n",
       "  <tbody>\n",
       "    <tr>\n",
       "      <th>nsbm_level_1</th>\n",
       "      <td>5.785128e-01</td>\n",
       "      <td>5.424147e-01</td>\n",
       "      <td>0.524344</td>\n",
       "      <td>5.284625e-01</td>\n",
       "      <td>5.282036e-01</td>\n",
       "      <td>0.540387</td>\n",
       "      <td>0.022393</td>\n",
       "    </tr>\n",
       "    <tr>\n",
       "      <th>nsbm_level_2</th>\n",
       "      <td>7.717153e-01</td>\n",
       "      <td>7.760706e-01</td>\n",
       "      <td>0.718589</td>\n",
       "      <td>7.058530e-01</td>\n",
       "      <td>6.926532e-01</td>\n",
       "      <td>0.732976</td>\n",
       "      <td>0.038492</td>\n",
       "    </tr>\n",
       "    <tr>\n",
       "      <th>nsbm_level_3</th>\n",
       "      <td>9.023716e-01</td>\n",
       "      <td>8.482654e-01</td>\n",
       "      <td>0.938953</td>\n",
       "      <td>8.007043e-01</td>\n",
       "      <td>8.634843e-01</td>\n",
       "      <td>0.870756</td>\n",
       "      <td>0.052717</td>\n",
       "    </tr>\n",
       "    <tr>\n",
       "      <th>nsbm_level_4</th>\n",
       "      <td>6.015315e-01</td>\n",
       "      <td>9.521213e-01</td>\n",
       "      <td>0.420533</td>\n",
       "      <td>3.831949e-01</td>\n",
       "      <td>8.634843e-01</td>\n",
       "      <td>0.644173</td>\n",
       "      <td>0.256355</td>\n",
       "    </tr>\n",
       "    <tr>\n",
       "      <th>nsbm_level_5</th>\n",
       "      <td>4.282992e-01</td>\n",
       "      <td>7.521372e-01</td>\n",
       "      <td>0.420533</td>\n",
       "      <td>3.831949e-01</td>\n",
       "      <td>5.329082e-01</td>\n",
       "      <td>0.503415</td>\n",
       "      <td>0.149747</td>\n",
       "    </tr>\n",
       "    <tr>\n",
       "      <th>nsbm_level_6</th>\n",
       "      <td>4.282992e-01</td>\n",
       "      <td>4.868184e-01</td>\n",
       "      <td>0.420533</td>\n",
       "      <td>3.831949e-01</td>\n",
       "      <td>4.240783e-01</td>\n",
       "      <td>0.428585</td>\n",
       "      <td>0.037204</td>\n",
       "    </tr>\n",
       "    <tr>\n",
       "      <th>nsbm_level_7</th>\n",
       "      <td>-5.897479e-16</td>\n",
       "      <td>4.868184e-01</td>\n",
       "      <td>0.420533</td>\n",
       "      <td>3.831949e-01</td>\n",
       "      <td>-5.897479e-16</td>\n",
       "      <td>0.258109</td>\n",
       "      <td>0.238525</td>\n",
       "    </tr>\n",
       "    <tr>\n",
       "      <th>nsbm_level_8</th>\n",
       "      <td>-5.897479e-16</td>\n",
       "      <td>1.645890e-01</td>\n",
       "      <td>0.420533</td>\n",
       "      <td>-5.897479e-16</td>\n",
       "      <td>-5.897479e-16</td>\n",
       "      <td>0.117024</td>\n",
       "      <td>0.184027</td>\n",
       "    </tr>\n",
       "    <tr>\n",
       "      <th>nsbm_level_9</th>\n",
       "      <td>-5.897479e-16</td>\n",
       "      <td>-5.897479e-16</td>\n",
       "      <td>0.420533</td>\n",
       "      <td>-5.897479e-16</td>\n",
       "      <td>-5.897479e-16</td>\n",
       "      <td>0.084107</td>\n",
       "      <td>0.188068</td>\n",
       "    </tr>\n",
       "  </tbody>\n",
       "</table>\n",
       "</div>"
      ],
      "text/plain": [
       "                 foobar50a     foobar50b  foobar50c     foobar50d  \\\n",
       "nsbm_level_1  5.785128e-01  5.424147e-01   0.524344  5.284625e-01   \n",
       "nsbm_level_2  7.717153e-01  7.760706e-01   0.718589  7.058530e-01   \n",
       "nsbm_level_3  9.023716e-01  8.482654e-01   0.938953  8.007043e-01   \n",
       "nsbm_level_4  6.015315e-01  9.521213e-01   0.420533  3.831949e-01   \n",
       "nsbm_level_5  4.282992e-01  7.521372e-01   0.420533  3.831949e-01   \n",
       "nsbm_level_6  4.282992e-01  4.868184e-01   0.420533  3.831949e-01   \n",
       "nsbm_level_7 -5.897479e-16  4.868184e-01   0.420533  3.831949e-01   \n",
       "nsbm_level_8 -5.897479e-16  1.645890e-01   0.420533 -5.897479e-16   \n",
       "nsbm_level_9 -5.897479e-16 -5.897479e-16   0.420533 -5.897479e-16   \n",
       "\n",
       "                 foobar50e   mean_50  standard_deviation_50  \n",
       "nsbm_level_1  5.282036e-01  0.540387               0.022393  \n",
       "nsbm_level_2  6.926532e-01  0.732976               0.038492  \n",
       "nsbm_level_3  8.634843e-01  0.870756               0.052717  \n",
       "nsbm_level_4  8.634843e-01  0.644173               0.256355  \n",
       "nsbm_level_5  5.329082e-01  0.503415               0.149747  \n",
       "nsbm_level_6  4.240783e-01  0.428585               0.037204  \n",
       "nsbm_level_7 -5.897479e-16  0.258109               0.238525  \n",
       "nsbm_level_8 -5.897479e-16  0.117024               0.184027  \n",
       "nsbm_level_9 -5.897479e-16  0.084107               0.188068  "
      ]
     },
     "execution_count": 71,
     "metadata": {},
     "output_type": "execute_result"
    }
   ],
   "source": [
    "MI_50"
   ]
  },
  {
   "cell_type": "code",
   "execution_count": 113,
   "metadata": {},
   "outputs": [
    {
     "data": {
      "text/plain": [
       "<matplotlib.axes._subplots.AxesSubplot at 0x7fcdd7210748>"
      ]
     },
     "execution_count": 113,
     "metadata": {},
     "output_type": "execute_result"
    },
    {
     "data": {
      "image/png": "[encoded data removed]",
      "text/plain": [
       "<Figure size 432x288 with 1 Axes>"
      ]
     },
     "metadata": {
      "needs_background": "light"
     },
     "output_type": "display_data"
    }
   ],
   "source": [
    "MI_50.iloc[:,0:4].T.boxplot()"
   ]
  },
  {
   "cell_type": "code",
   "execution_count": null,
   "metadata": {},
   "outputs": [],
   "source": []
  }
 ],
 "metadata": {
  "kernelspec": {
   "display_name": "Python 3",
   "language": "python",
   "name": "python3"
  },
  "language_info": {
   "codemirror_mode": {
    "name": "ipython",
    "version": 3
   },
   "file_extension": ".py",
   "mimetype": "text/x-python",
   "name": "python",
   "nbconvert_exporter": "python",
   "pygments_lexer": "ipython3",
   "version": "3.7.3"
  }
 },
 "nbformat": 4,
 "nbformat_minor": 2
}
