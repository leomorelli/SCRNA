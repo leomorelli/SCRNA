{
 "cells": [
  {
   "cell_type": "code",
   "execution_count": 1,
   "metadata": {},
   "outputs": [
    {
     "name": "stderr",
     "output_type": "stream",
     "text": [
      "/home/morelli/anaconda3/envs/scrna/lib/python3.7/site-packages/anndata/_core/anndata.py:21: FutureWarning: pandas.core.index is deprecated and will be removed in a future version.  The public classes are available in the top-level namespace.\n",
      "  from pandas.core.index import RangeIndex\n",
      "/home/morelli/anaconda3/envs/scrna/lib/python3.7/site-packages/graph_tool/draw/cairo_draw.py:39: RuntimeWarning: Error importing cairo. Graph drawing will not work.\n",
      "  warnings.warn(msg, RuntimeWarning)\n",
      "/home/morelli/anaconda3/envs/scrna/lib/python3.7/site-packages/graph_tool/draw/cairo_draw.py:39: RuntimeWarning: Error importing cairo. Graph drawing will not work.\n",
      "  warnings.warn(msg, RuntimeWarning)\n",
      "/home/morelli/anaconda3/envs/scrna/lib/python3.7/site-packages/graph_tool/draw/cairo_draw.py:39: RuntimeWarning: Error importing cairo. Graph drawing will not work.\n",
      "  warnings.warn(msg, RuntimeWarning)\n",
      "/home/morelli/anaconda3/envs/scrna/lib/python3.7/site-packages/graph_tool/all.py:40: RuntimeWarning: Error importing draw module, proceeding nevertheless: /usr/lib/python3/dist-packages/cairo/_cairo.cpython-37m-x86_64-linux-gnu.so: undefined symbol: cairo_tee_surface_index\n",
      "  warnings.warn(msg, RuntimeWarning)\n"
     ]
    },
    {
     "name": "stdout",
     "output_type": "stream",
     "text": [
      "Using matplotlib backend: nbAgg\n",
      "Populating the interactive namespace from numpy and matplotlib\n"
     ]
    }
   ],
   "source": [
    "import scanpy as sc\n",
    "import pandas as pd\n",
    "import pickle\n",
    "import scnsbm\n",
    "import time\n",
    "import anndata\n",
    "import sklearn.metrics\n",
    "import statistics\n",
    "%matplotlib notebook\n",
    "%pylab"
   ]
  },
  {
   "cell_type": "code",
   "execution_count": 54,
   "metadata": {},
   "outputs": [
    {
     "name": "stderr",
     "output_type": "stream",
     "text": [
      "Trying to set attribute `.obs` of view, copying.\n"
     ]
    },
    {
     "name": "stdout",
     "output_type": "stream",
     "text": [
      "WARNING: genes are not in var_names and ignored: ['ENSG00000278787', 'ENSG00000288475']\n"
     ]
    },
    {
     "name": "stderr",
     "output_type": "stream",
     "text": [
      "/home/morelli/anaconda3/envs/scrna/lib/python3.7/site-packages/anndata/_core/anndata.py:1172: ImplicitModificationWarning: Initializing view as actual.\n",
      "  \"Initializing view as actual.\", ImplicitModificationWarning\n",
      "Trying to set attribute `.obs` of view, copying.\n",
      "... storing 'phase' as categorical\n",
      "... storing 'cell_line' as categorical\n"
     ]
    }
   ],
   "source": [
    "df = pd.read_table(\"matrix_mixology/sc_dropseq.count.csv.gz\", compression=\"gzip\", sep=\",\")\n",
    "nomi=pd.read_csv('regressed_genes/nomi_geni.txt.gz', compression= 'gzip')\n",
    "cell_cycle_genes = [x.strip() for x in open('regressed_genes/regev_lab_cell_cycle_genes.txt')]\n",
    "s_genes = cell_cycle_genes[:43]\n",
    "g2m_genes = cell_cycle_genes[43:]\n",
    "ensg_s_genes =[nomi.loc[idx, \"Gene stable ID\"] for idx in nomi.index if nomi.loc[idx, \"Gene name\"] in s_genes]\n",
    "ensg_g2m_genes =[nomi.loc[idx, \"Gene stable ID\"] for idx in nomi.index if nomi.loc[idx, \"Gene name\"] in g2m_genes]\n",
    "adata = anndata.AnnData(df.T)#.values.T, obs=df.columns, var=df.index)\n",
    "mito_genes = [nomi.loc[idx, \"Gene stable ID\"] for idx in nomi.index if nomi.loc[idx, \"Gene name\"].startswith(\"MT-\") and nomi.loc[idx, \"Gene stable ID\"] in adata.var_names]\n",
    " \n",
    "adata.obs['percent_mito'] = np.sum(adata[:, mito_genes].X, axis=1) / np.sum(adata.X, axis=1) \n",
    "adata.obs['n_counts'] = adata.X.sum(axis=1)\n",
    "np.sum(adata[:, mito_genes].X, axis=1)                                            \n",
    "                                            \n",
    "\n",
    "adata = adata[adata.obs['percent_mito'] < 0.05, :]\n",
    "sc.pp.normalize_per_cell(adata, counts_per_cell_after=1e4)\n",
    "sc.pp.log1p(adata)\n",
    "adata.raw = adata\n",
    "sc.tl.score_genes_cell_cycle(adata, s_genes=ensg_s_genes, g2m_genes=ensg_g2m_genes)\n",
    "\n",
    "sc.pp.highly_variable_genes(adata, min_mean=0.05, max_mean=3, min_disp=0.5)\n",
    "adata = adata[:, adata.var['highly_variable']]\n",
    "sc.pp.regress_out(adata, ['S_score', 'G2M_score','n_counts', 'percent_mito'])\n",
    "sc.pp.scale(adata, max_value=10)\n",
    "sc.tl.pca(adata, svd_solver='arpack')\n",
    "cell_annotation= pd.read_table('matrix_mixology/sc_dropseq.metadata.csv.gz', compression=\"gzip\", sep=\",\", index_col=0)\n",
    "adata.obs.loc[:, \"cell_line\"] = cell_annotation.loc[adata.obs_names, \"cell_line\"]\n",
    "adata.write('mi_dropseq/adata_base.h5ad')"
   ]
  },
  {
   "cell_type": "code",
   "execution_count": 2,
   "metadata": {},
   "outputs": [],
   "source": [
    "adata=sc.read('mi_dropseq/adata_base.h5ad')"
   ]
  },
  {
   "cell_type": "code",
   "execution_count": 7,
   "metadata": {},
   "outputs": [
    {
     "name": "stdout",
     "output_type": "stream",
     "text": [
      "5 5\n",
      "5 10\n",
      "5 15\n",
      "5 20\n",
      "5 25\n",
      "5 30\n",
      "5 35\n",
      "5 40\n",
      "5 45\n",
      "5 50\n",
      "10 5\n",
      "10 10\n",
      "10 15\n",
      "10 20\n",
      "10 25\n",
      "10 30\n",
      "10 35\n",
      "10 40\n",
      "10 45\n",
      "10 50\n",
      "20 5\n",
      "20 10\n",
      "20 15\n",
      "20 20\n",
      "20 25\n",
      "20 30\n",
      "20 35\n",
      "20 40\n",
      "20 45\n",
      "20 50\n",
      "30 5\n",
      "30 10\n",
      "30 15\n",
      "30 20\n",
      "30 25\n",
      "30 30\n",
      "30 35\n",
      "30 40\n",
      "30 45\n",
      "30 50\n"
     ]
    }
   ],
   "source": [
    "for n_pcs in [5, 10, 20, 30]:\n",
    "    n_neighbors = np.arange(5, 55, 5)\n",
    "    MI = dict.fromkeys(n_neighbors)\n",
    "    for n in n_neighbors:\n",
    "        print(n_pcs, n)\n",
    "        MI[n] = np.zeros((5, 10))\n",
    "        sc.pp.neighbors(adata, n_pcs=n_pcs, n_neighbors=n)\n",
    "        for x in range(5):\n",
    "            scnsbm.inference.nested_model(adata, save_state=False, \n",
    "                              collect_marginals=False,\n",
    "                              equilibrate=False)\n",
    "            for l in range(1, 10):\n",
    "                ln = f'nsbm_level_{l}'\n",
    "                v = sklearn.metrics.adjusted_mutual_info_score(adata.obs['cell_line'], adata.obs[ln])\n",
    "                MI[n][x, l] = v\n",
    "    pickle.dump(MI, open(f'mi_dropseq/mi_vs_cell_line/MI_{n_pcs}pcs_dropseq.pkl', 'wb'), 2) "
   ]
  },
  {
   "cell_type": "code",
   "execution_count": null,
   "metadata": {},
   "outputs": [],
   "source": []
  },
  {
   "cell_type": "code",
   "execution_count": null,
   "metadata": {},
   "outputs": [],
   "source": []
  },
  {
   "cell_type": "code",
   "execution_count": null,
   "metadata": {},
   "outputs": [],
   "source": []
  },
  {
   "cell_type": "code",
   "execution_count": null,
   "metadata": {},
   "outputs": [],
   "source": []
  },
  {
   "cell_type": "code",
   "execution_count": null,
   "metadata": {},
   "outputs": [],
   "source": []
  },
  {
   "cell_type": "code",
   "execution_count": null,
   "metadata": {},
   "outputs": [],
   "source": []
  },
  {
   "cell_type": "code",
   "execution_count": 56,
   "metadata": {},
   "outputs": [],
   "source": [
    "nei=[x for x in range(5,51,5)]\n",
    "adatone=[]\n",
    "for x in nei:\n",
    "    adata=sc.read('mi_dropseq/adata_base.h5ad')\n",
    "    sc.pp.neighbors(adata, n_neighbors=x, n_pcs=40)\n",
    "    adatone.append(adata)\n",
    "adatone[0].write('mi_dropseq/mi_vs_cell_line/adata_5.h5ad')\n",
    "adatone[1].write('mi_dropseq/mi_vs_cell_line/adata_10.h5ad')\n",
    "adatone[2].write('mi_dropseq/mi_vs_cell_line/adata_15.h5ad')\n",
    "adatone[3].write('mi_dropseq/mi_vs_cell_line/adata_20.h5ad')\n",
    "adatone[4].write('mi_dropseq/mi_vs_cell_line/adata_25.h5ad')\n",
    "adatone[5].write('mi_dropseq/mi_vs_cell_line/adata_30.h5ad')\n",
    "adatone[6].write('mi_dropseq/mi_vs_cell_line/adata_35.h5ad')\n",
    "adatone[7].write('mi_dropseq/mi_vs_cell_line/adata_40.h5ad')\n",
    "adatone[8].write('mi_dropseq/mi_vs_cell_line/adata_45.h5ad')\n",
    "adatone[9].write('mi_dropseq/mi_vs_cell_line/adata_50.h5ad')"
   ]
  },
  {
   "cell_type": "code",
   "execution_count": 59,
   "metadata": {},
   "outputs": [],
   "source": [
    "adata5=sc.read('mi_dropseq/mi_vs_cell_line/adata_5.h5ad')\n",
    "adata10=sc.read('mi_dropseq/mi_vs_cell_line/adata_10.h5ad')\n",
    "adata15=sc.read('mi_dropseq/mi_vs_cell_line/adata_15.h5ad')\n",
    "adata20=sc.read('mi_dropseq/mi_vs_cell_line/adata_20.h5ad')\n",
    "adata25=sc.read('mi_dropseq/mi_vs_cell_line/adata_25.h5ad')\n",
    "adata30=sc.read('mi_dropseq/mi_vs_cell_line/adata_30.h5ad')\n",
    "adata35=sc.read('mi_dropseq/mi_vs_cell_line/adata_35.h5ad')\n",
    "adata40=sc.read('mi_dropseq/mi_vs_cell_line/adata_40.h5ad')\n",
    "adata45=sc.read('mi_dropseq/mi_vs_cell_line/adata_45.h5ad')\n",
    "adata50=sc.read('mi_dropseq/mi_vs_cell_line/adata_50.h5ad')"
   ]
  },
  {
   "cell_type": "markdown",
   "metadata": {},
   "source": [
    "# ADATA5"
   ]
  },
  {
   "cell_type": "code",
   "execution_count": null,
   "metadata": {},
   "outputs": [],
   "source": [
    "scnsbm.inference.nested_model(adata5)\n",
    "adata5.write('mi_dropseq/mi_vs_cell_line/adata_5a.h5ad')\n",
    "scnsbm.inference.nested_model(adata5,collect_marginals=False)\n",
    "adata5.write('mi_dropseq/mi_vs_cell_line/adata_5b.h5ad')\n",
    "scnsbm.inference.nested_model(adata5,collect_marginals=False)\n",
    "adata5.write('mi_dropseq/mi_vs_cell_line/adata_5c.h5ad')\n",
    "scnsbm.inference.nested_model(adata5,collect_marginals=False)\n",
    "adata5.write('mi_dropseq/mi_vs_cell_line/adata_5d.h5ad')\n",
    "scnsbm.inference.nested_model(adata5,collect_marginals=False)\n",
    "adata5.write('mi_dropseq/mi_vs_cell_line/adata_5e.h5ad')"
   ]
  },
  {
   "cell_type": "code",
   "execution_count": null,
   "metadata": {},
   "outputs": [],
   "source": [
    "adata5a=sc.read('mi_dropseq/mi_vs_cell_line/adata_5a.h5ad')\n",
    "adata5b=sc.read('mi_dropseq/mi_vs_cell_line/adata_5b.h5ad')\n",
    "adata5c=sc.read('mi_dropseq/mi_vs_cell_line/adata_5c.h5ad')\n",
    "adata5d=sc.read('mi_dropseq/mi_vs_cell_line/adata_5d.h5ad')\n",
    "adata5e=sc.read('mi_dropseq/mi_vs_cell_line/adata_5e.h5ad')"
   ]
  },
  {
   "cell_type": "markdown",
   "metadata": {},
   "source": [
    "### MI5"
   ]
  },
  {
   "cell_type": "code",
   "execution_count": null,
   "metadata": {},
   "outputs": [],
   "source": [
    "nsbm_levels = [x for x in adata5a.obs_keys() if x.startswith(\"nsbm\")]\n",
    "foobars=['foobar5a','foobar5b','foobar5c','foobar5d','foobar5e']\n",
    "foobar5a= [sklearn.metrics.adjusted_mutual_info_score(adata5a.obs.loc[:, NL], adata5a.obs.loc[:, 'cell_line'])\n",
    "                                            for NL in nsbm_levels]\n",
    "foobar5b= [sklearn.metrics.adjusted_mutual_info_score(adata5b.obs.loc[:, NL], adata5b.obs.loc[:, 'cell_line'])\n",
    "                                            for NL in nsbm_levels]\n",
    "foobar5c= [sklearn.metrics.adjusted_mutual_info_score(adata5c.obs.loc[:, NL], adata5c.obs.loc[:, 'cell_line'])\n",
    "                                            for NL in nsbm_levels]\n",
    "foobar5d= [sklearn.metrics.adjusted_mutual_info_score(adata5d.obs.loc[:, NL], adata5d.obs.loc[:, 'cell_line'])\n",
    "                                            for NL in nsbm_levels]\n",
    "foobar5e= [sklearn.metrics.adjusted_mutual_info_score(adata5e.obs.loc[:, NL], adata5e.obs.loc[:, 'cell_line'])\n",
    "                                            for NL in nsbm_levels]\n",
    "MI_5=pd.DataFrame(None,columns=foobars,index=nsbm_levels)\n",
    "MI_5.loc[:,'foobar5a']=foobar5a\n",
    "MI_5.loc[:,'foobar5b']=foobar5b\n",
    "MI_5.loc[:,'foobar5c']=foobar5c\n",
    "MI_5.loc[:,'foobar5d']=foobar5d\n",
    "MI_5.loc[:,'foobar5e']=foobar5e\n",
    "mean_5=[mean(MI_5.iloc[x,:]) for x in range(len(nsbm_levels))]\n",
    "sd_5=[statistics.stdev(MI_5.iloc[x,:]) for x in range(len(nsbm_levels))]\n",
    "MI_5['mean_5']=mean_5\n",
    "MI_5['standard_deviation_5']=sd_5\n",
    "pickle.dump(MI_5, open('mi_dropseq/mi_vs_cell_line/mi_5.pkl','wb'),2)\n",
    "print(MI_5)\n",
    "MI_5.iloc[:,0:4].T.boxplot()"
   ]
  },
  {
   "cell_type": "markdown",
   "metadata": {},
   "source": [
    "# ADATA10"
   ]
  },
  {
   "cell_type": "code",
   "execution_count": null,
   "metadata": {},
   "outputs": [],
   "source": [
    "scnsbm.inference.nested_model(adata10)\n",
    "adata10.write('mi_dropseq/mi_vs_cell_line/adata_10a.h5ad')\n",
    "scnsbm.inference.nested_model(adata10,collect_marginals=False)\n",
    "adata10.write('mi_dropseq/mi_vs_cell_line/adata_10b.h5ad')\n",
    "scnsbm.inference.nested_model(adata10,collect_marginals=False)\n",
    "adata10.write('mi_dropseq/mi_vs_cell_line/adata_10c.h5ad')\n",
    "scnsbm.inference.nested_model(adata10,collect_marginals=False)\n",
    "adata10.write('mi_dropseq/mi_vs_cell_line/adata_10d.h5ad')\n",
    "scnsbm.inference.nested_model(adata10,collect_marginals=False)\n",
    "adata10.write('mi_dropseq/mi_vs_cell_line/adata_10e.h5ad')"
   ]
  },
  {
   "cell_type": "code",
   "execution_count": null,
   "metadata": {},
   "outputs": [],
   "source": [
    "adata10a=sc.read('mi_dropseq/mi_vs_cell_line/adata_10a.h5ad')\n",
    "adata10b=sc.read('mi_dropseq/mi_vs_cell_line/adata_10b.h5ad')\n",
    "adata10c=sc.read('mi_dropseq/mi_vs_cell_line/adata_10c.h5ad')\n",
    "adata10d=sc.read('mi_dropseq/mi_vs_cell_line/adata_10d.h5ad')\n",
    "adata10e=sc.read('mi_dropseq/mi_vs_cell_line/adata_10e.h5ad')"
   ]
  },
  {
   "cell_type": "markdown",
   "metadata": {},
   "source": [
    "### MI10"
   ]
  },
  {
   "cell_type": "code",
   "execution_count": null,
   "metadata": {},
   "outputs": [],
   "source": [
    "nsbm_levels = [x for x in adata10a.obs_keys() if x.startswith(\"nsbm\")]\n",
    "foobars=['foobar10a','foobar10b','foobar10c','foobar10d','foobar10e']\n",
    "foobar10a= [sklearn.metrics.adjusted_mutual_info_score(adata10a.obs.loc[:, NL], adata10a.obs.loc[:, 'cell_line'])\n",
    "                                            for NL in nsbm_levels]\n",
    "foobar10b= [sklearn.metrics.adjusted_mutual_info_score(adata10b.obs.loc[:, NL], adata10b.obs.loc[:, 'cell_line'])\n",
    "                                            for NL in nsbm_levels]\n",
    "foobar10c= [sklearn.metrics.adjusted_mutual_info_score(adata10c.obs.loc[:, NL], adata10c.obs.loc[:, 'cell_line'])\n",
    "                                            for NL in nsbm_levels]\n",
    "foobar10d= [sklearn.metrics.adjusted_mutual_info_score(adata10d.obs.loc[:, NL], adata10d.obs.loc[:, 'cell_line'])\n",
    "                                            for NL in nsbm_levels]\n",
    "foobar10e= [sklearn.metrics.adjusted_mutual_info_score(adata10e.obs.loc[:, NL], adata10e.obs.loc[:, 'cell_line'])\n",
    "                                            for NL in nsbm_levels]\n",
    "MI_10=pd.DataFrame(None,columns=foobars,index=nsbm_levels)\n",
    "MI_10.loc[:,'foobar10a']=foobar10a\n",
    "MI_10.loc[:,'foobar10b']=foobar10b\n",
    "MI_10.loc[:,'foobar10c']=foobar10c\n",
    "MI_10.loc[:,'foobar10d']=foobar10d\n",
    "MI_10.loc[:,'foobar10e']=foobar10e\n",
    "mean_10=[mean(MI_10.iloc[x,:]) for x in range(len(nsbm_levels))]\n",
    "sd_10=[statistics.stdev(MI_10.iloc[x,:]) for x in range(len(nsbm_levels))]\n",
    "MI_10['mean_10']=mean_10\n",
    "MI_10['standard_deviation_10']=sd_10\n",
    "pickle.dump(MI_10, open('mi_dropseq/mi_vs_cell_line/mi_10.pkl','wb'),2)\n",
    "print(MI_10)\n",
    "MI_10.iloc[:,0:4].T.boxplot()"
   ]
  },
  {
   "cell_type": "markdown",
   "metadata": {},
   "source": [
    "# ADATA15"
   ]
  },
  {
   "cell_type": "code",
   "execution_count": null,
   "metadata": {},
   "outputs": [],
   "source": [
    "scnsbm.inference.nested_model(adata15)\n",
    "adata15.write('mi_dropseq/mi_vs_cell_line/adata_15a.h5ad')\n",
    "scnsbm.inference.nested_model(adata15,collect_marginals=False)\n",
    "adata15.write('mi_dropseq/mi_vs_cell_line/adata_15b.h5ad')\n",
    "scnsbm.inference.nested_model(adata15,collect_marginals=False)\n",
    "adata15.write('mi_dropseq/mi_vs_cell_line/adata_15c.h5ad')\n",
    "scnsbm.inference.nested_model(adata15,collect_marginals=False)\n",
    "adata15.write('mi_dropseq/mi_vs_cell_line/adata_15d.h5ad')\n",
    "scnsbm.inference.nested_model(adata15,collect_marginals=False)\n",
    "adata15.write('mi_dropseq/mi_vs_cell_line/adata_15e.h5ad')"
   ]
  },
  {
   "cell_type": "code",
   "execution_count": null,
   "metadata": {},
   "outputs": [],
   "source": [
    "adata15a=sc.read('mi_dropseq/mi_vs_cell_line/adata_15a.h5ad')\n",
    "adata15b=sc.read('mi_dropseq/mi_vs_cell_line/adata_15b.h5ad')\n",
    "adata15c=sc.read('mi_dropseq/mi_vs_cell_line/adata_15c.h5ad')\n",
    "adata15d=sc.read('mi_dropseq/mi_vs_cell_line/adata_15d.h5ad')\n",
    "adata15e=sc.read('mi_dropseq/mi_vs_cell_line/adata_15e.h5ad')"
   ]
  },
  {
   "cell_type": "markdown",
   "metadata": {},
   "source": [
    "### MI15"
   ]
  },
  {
   "cell_type": "code",
   "execution_count": null,
   "metadata": {},
   "outputs": [],
   "source": [
    "nsbm_levels = [x for x in adata15a.obs_keys() if x.startswith(\"nsbm\")]\n",
    "foobars=['foobar15a','foobar15b','foobar15c','foobar15d','foobar15e']\n",
    "foobar15a= [sklearn.metrics.adjusted_mutual_info_score(adata15a.obs.loc[:, NL], adata15a.obs.loc[:, 'cell_line'])\n",
    "                                            for NL in nsbm_levels]\n",
    "foobar15b= [sklearn.metrics.adjusted_mutual_info_score(adata15b.obs.loc[:, NL], adata15b.obs.loc[:, 'cell_line'])\n",
    "                                            for NL in nsbm_levels]\n",
    "foobar15c= [sklearn.metrics.adjusted_mutual_info_score(adata15c.obs.loc[:, NL], adata15c.obs.loc[:, 'cell_line'])\n",
    "                                            for NL in nsbm_levels]\n",
    "foobar15d= [sklearn.metrics.adjusted_mutual_info_score(adata15d.obs.loc[:, NL], adata15d.obs.loc[:, 'cell_line'])\n",
    "                                            for NL in nsbm_levels]\n",
    "foobar15e= [sklearn.metrics.adjusted_mutual_info_score(adata15e.obs.loc[:, NL], adata15e.obs.loc[:, 'cell_line'])\n",
    "                                            for NL in nsbm_levels]\n",
    "MI_15=pd.DataFrame(None,columns=foobars,index=nsbm_levels)\n",
    "MI_15.loc[:,'foobar15a']=foobar15a\n",
    "MI_15.loc[:,'foobar15b']=foobar15b\n",
    "MI_15.loc[:,'foobar15c']=foobar15c\n",
    "MI_15.loc[:,'foobar15d']=foobar15d\n",
    "MI_15.loc[:,'foobar15e']=foobar15e\n",
    "mean_15=[mean(MI_15.iloc[x,:]) for x in range(len(nsbm_levels))]\n",
    "sd_15=[statistics.stdev(MI_15.iloc[x,:]) for x in range(len(nsbm_levels))]\n",
    "MI_15['mean_15']=mean_15\n",
    "MI_15['standard_deviation_15']=sd_15\n",
    "pickle.dump(MI_15, open('mi_dropseq/mi_vs_cell_line/mi_15.pkl','wb'),2)\n",
    "print(MI_15)\n",
    "MI_15.iloc[:,0:4].T.boxplot()"
   ]
  },
  {
   "cell_type": "markdown",
   "metadata": {},
   "source": [
    "# ADATA20"
   ]
  },
  {
   "cell_type": "code",
   "execution_count": null,
   "metadata": {},
   "outputs": [],
   "source": [
    "scnsbm.inference.nested_model(adata20)\n",
    "adata20.write('mi_dropseq/mi_vs_cell_line/adata_20a.h5ad')\n",
    "scnsbm.inference.nested_model(adata20,collect_marginals=False)\n",
    "adata20.write('mi_dropseq/mi_vs_cell_line/adata_20b.h5ad')\n",
    "scnsbm.inference.nested_model(adata20,collect_marginals=False)\n",
    "adata20.write('mi_dropseq/mi_vs_cell_line/adata_20c.h5ad')\n",
    "scnsbm.inference.nested_model(adata20,collect_marginals=False)\n",
    "adata20.write('mi_dropseq/mi_vs_cell_line/adata_20d.h5ad')\n",
    "scnsbm.inference.nested_model(adata20,collect_marginals=False)\n",
    "adata20.write('mi_dropseq/mi_vs_cell_line/adata_20e.h5ad')"
   ]
  },
  {
   "cell_type": "code",
   "execution_count": null,
   "metadata": {},
   "outputs": [],
   "source": [
    "adata20a=sc.read('mi_dropseq/mi_vs_cell_line/adata_20a.h5ad')\n",
    "adata20b=sc.read('mi_dropseq/mi_vs_cell_line/adata_20b.h5ad')\n",
    "adata20c=sc.read('mi_dropseq/mi_vs_cell_line/adata_20c.h5ad')\n",
    "adata20d=sc.read('mi_dropseq/mi_vs_cell_line/adata_20d.h5ad')\n",
    "adata20e=sc.read('mi_dropseq/mi_vs_cell_line/adata_20e.h5ad')"
   ]
  },
  {
   "cell_type": "markdown",
   "metadata": {},
   "source": [
    "### MI20"
   ]
  },
  {
   "cell_type": "code",
   "execution_count": null,
   "metadata": {},
   "outputs": [],
   "source": [
    "nsbm_levels = [x for x in adata20a.obs_keys() if x.startswith(\"nsbm\")]\n",
    "foobars=['foobar20a','foobar20b','foobar20c','foobar20d','foobar20e']\n",
    "foobar20a= [sklearn.metrics.adjusted_mutual_info_score(adata20a.obs.loc[:, NL], adata20a.obs.loc[:, 'cell_line'])\n",
    "                                            for NL in nsbm_levels]\n",
    "foobar20b= [sklearn.metrics.adjusted_mutual_info_score(adata20b.obs.loc[:, NL], adata20b.obs.loc[:, 'cell_line'])\n",
    "                                            for NL in nsbm_levels]\n",
    "foobar20c= [sklearn.metrics.adjusted_mutual_info_score(adata20c.obs.loc[:, NL], adata20c.obs.loc[:, 'cell_line'])\n",
    "                                            for NL in nsbm_levels]\n",
    "foobar20d= [sklearn.metrics.adjusted_mutual_info_score(adata20d.obs.loc[:, NL], adata20d.obs.loc[:, 'cell_line'])\n",
    "                                            for NL in nsbm_levels]\n",
    "foobar20e= [sklearn.metrics.adjusted_mutual_info_score(adata20e.obs.loc[:, NL], adata20e.obs.loc[:, 'cell_line'])\n",
    "                                            for NL in nsbm_levels]\n",
    "MI_20=pd.DataFrame(None,columns=foobars,index=nsbm_levels)\n",
    "MI_20.loc[:,'foobar20a']=foobar20a\n",
    "MI_20.loc[:,'foobar20b']=foobar20b\n",
    "MI_20.loc[:,'foobar20c']=foobar20c\n",
    "MI_20.loc[:,'foobar20d']=foobar20d\n",
    "MI_20.loc[:,'foobar20e']=foobar20e\n",
    "mean_20=[mean(MI_20.iloc[x,:]) for x in range(len(nsbm_levels))]\n",
    "sd_20=[statistics.stdev(MI_20.iloc[x,:]) for x in range(len(nsbm_levels))]\n",
    "MI_20['mean_20']=mean_20\n",
    "MI_20['standard_deviation_20']=sd_20\n",
    "pickle.dump(MI_20, open('mi_dropseq/mi_vs_cell_line/mi_20.pkl','wb'),2)\n",
    "print(MI_20)\n",
    "MI_20.iloc[:,0:4].T.boxplot()"
   ]
  },
  {
   "cell_type": "markdown",
   "metadata": {},
   "source": [
    "# ADATA25"
   ]
  },
  {
   "cell_type": "code",
   "execution_count": null,
   "metadata": {},
   "outputs": [],
   "source": [
    "scnsbm.inference.nested_model(adata25)\n",
    "adata25.write('mi_dropseq/mi_vs_cell_line/adata_25a.h5ad')\n",
    "scnsbm.inference.nested_model(adata25,collect_marginals=False)\n",
    "adata25.write('mi_dropseq/mi_vs_cell_line/adata_25b.h5ad')\n",
    "scnsbm.inference.nested_model(adata25,collect_marginals=False)\n",
    "adata25.write('mi_dropseq/mi_vs_cell_line/adata_25c.h5ad')\n",
    "scnsbm.inference.nested_model(adata25,collect_marginals=False)\n",
    "adata25.write('mi_dropseq/mi_vs_cell_line/adata_25d.h5ad')\n",
    "scnsbm.inference.nested_model(adata25,collect_marginals=False)\n",
    "adata25.write('mi_dropseq/mi_vs_cell_line/adata_25e.h5ad')"
   ]
  },
  {
   "cell_type": "code",
   "execution_count": null,
   "metadata": {},
   "outputs": [],
   "source": [
    "adata25a=sc.read('mi_dropseq/mi_vs_cell_line/adata_25a.h5ad')\n",
    "adata25b=sc.read('mi_dropseq/mi_vs_cell_line/adata_25b.h5ad')\n",
    "adata25c=sc.read('mi_dropseq/mi_vs_cell_line/adata_25c.h5ad')\n",
    "adata25d=sc.read('mi_dropseq/mi_vs_cell_line/adata_25d.h5ad')\n",
    "adata25e=sc.read('mi_dropseq/mi_vs_cell_line/adata_25e.h5ad')"
   ]
  },
  {
   "cell_type": "markdown",
   "metadata": {},
   "source": [
    "### MI25"
   ]
  },
  {
   "cell_type": "code",
   "execution_count": null,
   "metadata": {},
   "outputs": [],
   "source": [
    "nsbm_levels = [x for x in adata25a.obs_keys() if x.startswith(\"nsbm\")]\n",
    "foobars=['foobar25a','foobar25b','foobar25c','foobar25d','foobar25e']\n",
    "foobar25a= [sklearn.metrics.adjusted_mutual_info_score(adata25a.obs.loc[:, NL], adata25a.obs.loc[:, 'cell_line'])\n",
    "                                            for NL in nsbm_levels]\n",
    "foobar25b= [sklearn.metrics.adjusted_mutual_info_score(adata25b.obs.loc[:, NL], adata25b.obs.loc[:, 'cell_line'])\n",
    "                                            for NL in nsbm_levels]\n",
    "foobar25c= [sklearn.metrics.adjusted_mutual_info_score(adata25c.obs.loc[:, NL], adata25c.obs.loc[:, 'cell_line'])\n",
    "                                            for NL in nsbm_levels]\n",
    "foobar25d= [sklearn.metrics.adjusted_mutual_info_score(adata25d.obs.loc[:, NL], adata25d.obs.loc[:, 'cell_line'])\n",
    "                                            for NL in nsbm_levels]\n",
    "foobar25e= [sklearn.metrics.adjusted_mutual_info_score(adata25e.obs.loc[:, NL], adata25e.obs.loc[:, 'cell_line'])\n",
    "                                            for NL in nsbm_levels]\n",
    "MI_25=pd.DataFrame(None,columns=foobars,index=nsbm_levels)\n",
    "MI_25.loc[:,'foobar25a']=foobar25a\n",
    "MI_25.loc[:,'foobar25b']=foobar25b\n",
    "MI_25.loc[:,'foobar25c']=foobar25c\n",
    "MI_25.loc[:,'foobar25d']=foobar25d\n",
    "MI_25.loc[:,'foobar25e']=foobar25e\n",
    "mean_25=[mean(MI_25.iloc[x,:]) for x in range(len(nsbm_levels))]\n",
    "sd_25=[statistics.stdev(MI_25.iloc[x,:]) for x in range(len(nsbm_levels))]\n",
    "MI_25['mean_25']=mean_25\n",
    "MI_25['standard_deviation_25']=sd_25\n",
    "pickle.dump(MI_25, open('mi_dropseq/mi_vs_cell_line/mi_25.pkl','wb'),2)\n",
    "print(MI_25)\n",
    "MI_25.iloc[:,0:4].T.boxplot()"
   ]
  },
  {
   "cell_type": "markdown",
   "metadata": {},
   "source": [
    "# ADATA30"
   ]
  },
  {
   "cell_type": "code",
   "execution_count": null,
   "metadata": {},
   "outputs": [],
   "source": [
    "scnsbm.inference.nested_model(adata30)\n",
    "adata30.write('mi_dropseq/mi_vs_cell_line/adata_30a.h5ad')\n",
    "scnsbm.inference.nested_model(adata30,collect_marginals=False)\n",
    "adata30.write('mi_dropseq/mi_vs_cell_line/adata_30b.h5ad')\n",
    "scnsbm.inference.nested_model(adata30,collect_marginals=False)\n",
    "adata30.write('mi_dropseq/mi_vs_cell_line/adata_30c.h5ad')\n",
    "scnsbm.inference.nested_model(adata30,collect_marginals=False)\n",
    "adata30.write('mi_dropseq/mi_vs_cell_line/adata_30d.h5ad')\n",
    "scnsbm.inference.nested_model(adata30,collect_marginals=False)\n",
    "adata30.write('mi_dropseq/mi_vs_cell_line/adata_30e.h5ad')"
   ]
  },
  {
   "cell_type": "code",
   "execution_count": null,
   "metadata": {},
   "outputs": [],
   "source": [
    "adata30a=sc.read('mi_dropseq/mi_vs_cell_line/adata_30a.h5ad')\n",
    "adata30b=sc.read('mi_dropseq/mi_vs_cell_line/adata_30b.h5ad')\n",
    "adata30c=sc.read('mi_dropseq/mi_vs_cell_line/adata_30c.h5ad')\n",
    "adata30d=sc.read('mi_dropseq/mi_vs_cell_line/adata_30d.h5ad')\n",
    "adata30e=sc.read('mi_dropseq/mi_vs_cell_line/adata_30e.h5ad')"
   ]
  },
  {
   "cell_type": "markdown",
   "metadata": {},
   "source": [
    "### MI30"
   ]
  },
  {
   "cell_type": "code",
   "execution_count": null,
   "metadata": {},
   "outputs": [],
   "source": [
    "nsbm_levels = [x for x in adata30a.obs_keys() if x.startswith(\"nsbm\")]\n",
    "foobars=['foobar30a','foobar30b','foobar30c','foobar30d','foobar30e']\n",
    "foobar30a= [sklearn.metrics.adjusted_mutual_info_score(adata30a.obs.loc[:, NL], adata30a.obs.loc[:, 'cell_line'])\n",
    "                                            for NL in nsbm_levels]\n",
    "foobar30b= [sklearn.metrics.adjusted_mutual_info_score(adata30b.obs.loc[:, NL], adata30b.obs.loc[:, 'cell_line'])\n",
    "                                            for NL in nsbm_levels]\n",
    "foobar30c= [sklearn.metrics.adjusted_mutual_info_score(adata30c.obs.loc[:, NL], adata30c.obs.loc[:, 'cell_line'])\n",
    "                                            for NL in nsbm_levels]\n",
    "foobar30d= [sklearn.metrics.adjusted_mutual_info_score(adata30d.obs.loc[:, NL], adata30d.obs.loc[:, 'cell_line'])\n",
    "                                            for NL in nsbm_levels]\n",
    "foobar30e= [sklearn.metrics.adjusted_mutual_info_score(adata30e.obs.loc[:, NL], adata30e.obs.loc[:, 'cell_line'])\n",
    "                                            for NL in nsbm_levels]\n",
    "MI_30=pd.DataFrame(None,columns=foobars,index=nsbm_levels)\n",
    "MI_30.loc[:,'foobar30a']=foobar30a\n",
    "MI_30.loc[:,'foobar30b']=foobar30b\n",
    "MI_30.loc[:,'foobar30c']=foobar30c\n",
    "MI_30.loc[:,'foobar30d']=foobar30d\n",
    "MI_30.loc[:,'foobar30e']=foobar30e\n",
    "mean_30=[mean(MI_30.iloc[x,:]) for x in range(len(nsbm_levels))]\n",
    "sd_30=[statistics.stdev(MI_30.iloc[x,:]) for x in range(len(nsbm_levels))]\n",
    "MI_30['mean_30']=mean_30\n",
    "MI_30['standard_deviation_30']=sd_30\n",
    "pickle.dump(MI_30, open('mi_dropseq/mi_vs_cell_line/mi_30.pkl','wb'),2)\n",
    "print(MI_30)\n",
    "MI_30.iloc[:,0:4].T.boxplot()"
   ]
  },
  {
   "cell_type": "markdown",
   "metadata": {},
   "source": [
    "# ADATA35"
   ]
  },
  {
   "cell_type": "code",
   "execution_count": null,
   "metadata": {},
   "outputs": [],
   "source": [
    "scnsbm.inference.nested_model(adata35)\n",
    "adata35.write('mi_dropseq/mi_vs_cell_line/adata_35a.h5ad')\n",
    "scnsbm.inference.nested_model(adata35,collect_marginals=False)\n",
    "adata35.write('mi_dropseq/mi_vs_cell_line/adata_35b.h5ad')\n",
    "scnsbm.inference.nested_model(adata35,collect_marginals=False)\n",
    "adata35.write('mi_dropseq/mi_vs_cell_line/adata_35c.h5ad')\n",
    "scnsbm.inference.nested_model(adata35,collect_marginals=False)\n",
    "adata35.write('mi_dropseq/mi_vs_cell_line/adata_35d.h5ad')\n",
    "scnsbm.inference.nested_model(adata35,collect_marginals=False)\n",
    "adata35.write('mi_dropseq/mi_vs_cell_line/adata_35e.h5ad')"
   ]
  },
  {
   "cell_type": "code",
   "execution_count": null,
   "metadata": {},
   "outputs": [],
   "source": [
    "adata35a=sc.read('mi_dropseq/mi_vs_cell_line/adata_35a.h5ad')\n",
    "adata35b=sc.read('mi_dropseq/mi_vs_cell_line/adata_35b.h5ad')\n",
    "adata35c=sc.read('mi_dropseq/mi_vs_cell_line/adata_35c.h5ad')\n",
    "adata35d=sc.read('mi_dropseq/mi_vs_cell_line/adata_35d.h5ad')\n",
    "adata35e=sc.read('mi_dropseq/mi_vs_cell_line/adata_35e.h5ad')"
   ]
  },
  {
   "cell_type": "markdown",
   "metadata": {},
   "source": [
    "### MI35"
   ]
  },
  {
   "cell_type": "code",
   "execution_count": null,
   "metadata": {},
   "outputs": [],
   "source": [
    "nsbm_levels = [x for x in adata35a.obs_keys() if x.startswith(\"nsbm\")]\n",
    "foobars=['foobar35a','foobar35b','foobar35c','foobar35d','foobar35e']\n",
    "foobar35a= [sklearn.metrics.adjusted_mutual_info_score(adata35a.obs.loc[:, NL], adata35a.obs.loc[:, 'cell_line'])\n",
    "                                            for NL in nsbm_levels]\n",
    "foobar35b= [sklearn.metrics.adjusted_mutual_info_score(adata35b.obs.loc[:, NL], adata35b.obs.loc[:, 'cell_line'])\n",
    "                                            for NL in nsbm_levels]\n",
    "foobar35c= [sklearn.metrics.adjusted_mutual_info_score(adata35c.obs.loc[:, NL], adata35c.obs.loc[:, 'cell_line'])\n",
    "                                            for NL in nsbm_levels]\n",
    "foobar35d= [sklearn.metrics.adjusted_mutual_info_score(adata35d.obs.loc[:, NL], adata35d.obs.loc[:, 'cell_line'])\n",
    "                                            for NL in nsbm_levels]\n",
    "foobar35e= [sklearn.metrics.adjusted_mutual_info_score(adata35e.obs.loc[:, NL], adata35e.obs.loc[:, 'cell_line'])\n",
    "                                            for NL in nsbm_levels]\n",
    "MI_35=pd.DataFrame(None,columns=foobars,index=nsbm_levels)\n",
    "MI_35.loc[:,'foobar35a']=foobar35a\n",
    "MI_35.loc[:,'foobar35b']=foobar35b\n",
    "MI_35.loc[:,'foobar35c']=foobar35c\n",
    "MI_35.loc[:,'foobar35d']=foobar35d\n",
    "MI_35.loc[:,'foobar35e']=foobar35e\n",
    "mean_35=[mean(MI_35.iloc[x,:]) for x in range(len(nsbm_levels))]\n",
    "sd_35=[statistics.stdev(MI_35.iloc[x,:]) for x in range(len(nsbm_levels))]\n",
    "MI_35['mean_35']=mean_35\n",
    "MI_35['standard_deviation_35']=sd_35\n",
    "pickle.dump(MI_35, open('mi_dropseq/mi_vs_cell_line/mi_35.pkl','wb'),2)\n",
    "print(MI_35)\n",
    "MI_35.iloc[:,0:4].T.boxplot()"
   ]
  },
  {
   "cell_type": "markdown",
   "metadata": {},
   "source": [
    "# ADATA40"
   ]
  },
  {
   "cell_type": "code",
   "execution_count": null,
   "metadata": {},
   "outputs": [],
   "source": [
    "scnsbm.inference.nested_model(adata40)\n",
    "adata40.write('mi_dropseq/mi_vs_cell_line/adata_40a.h5ad')\n",
    "scnsbm.inference.nested_model(adata40,collect_marginals=False)\n",
    "adata40.write('mi_dropseq/mi_vs_cell_line/adata_40b.h5ad')\n",
    "scnsbm.inference.nested_model(adata40,collect_marginals=False)\n",
    "adata40.write('mi_dropseq/mi_vs_cell_line/adata_40c.h5ad')\n",
    "scnsbm.inference.nested_model(adata40,collect_marginals=False)\n",
    "adata40.write('mi_dropseq/mi_vs_cell_line/adata_40d.h5ad')\n",
    "scnsbm.inference.nested_model(adata40,collect_marginals=False)\n",
    "adata40.write('mi_dropseq/mi_vs_cell_line/adata_40e.h5ad')"
   ]
  },
  {
   "cell_type": "code",
   "execution_count": null,
   "metadata": {},
   "outputs": [],
   "source": [
    "adata40a=sc.read('mi_dropseq/mi_vs_cell_line/adata_40a.h5ad')\n",
    "adata40b=sc.read('mi_dropseq/mi_vs_cell_line/adata_40b.h5ad')\n",
    "adata40c=sc.read('mi_dropseq/mi_vs_cell_line/adata_40c.h5ad')\n",
    "adata40d=sc.read('mi_dropseq/mi_vs_cell_line/adata_40d.h5ad')\n",
    "adata40e=sc.read('mi_dropseq/mi_vs_cell_line/adata_40e.h5ad')"
   ]
  },
  {
   "cell_type": "markdown",
   "metadata": {},
   "source": [
    "### MI40"
   ]
  },
  {
   "cell_type": "code",
   "execution_count": null,
   "metadata": {},
   "outputs": [],
   "source": [
    "nsbm_levels = [x for x in adata40a.obs_keys() if x.startswith(\"nsbm\")]\n",
    "foobars=['foobar40a','foobar40b','foobar40c','foobar40d','foobar40e']\n",
    "foobar40a= [sklearn.metrics.adjusted_mutual_info_score(adata40a.obs.loc[:, NL], adata40a.obs.loc[:, 'cell_line'])\n",
    "                                            for NL in nsbm_levels]\n",
    "foobar40b= [sklearn.metrics.adjusted_mutual_info_score(adata40b.obs.loc[:, NL], adata40b.obs.loc[:, 'cell_line'])\n",
    "                                            for NL in nsbm_levels]\n",
    "foobar40c= [sklearn.metrics.adjusted_mutual_info_score(adata40c.obs.loc[:, NL], adata40c.obs.loc[:, 'cell_line'])\n",
    "                                            for NL in nsbm_levels]\n",
    "foobar40d= [sklearn.metrics.adjusted_mutual_info_score(adata40d.obs.loc[:, NL], adata40d.obs.loc[:, 'cell_line'])\n",
    "                                            for NL in nsbm_levels]\n",
    "foobar40e= [sklearn.metrics.adjusted_mutual_info_score(adata40e.obs.loc[:, NL], adata40e.obs.loc[:, 'cell_line'])\n",
    "                                            for NL in nsbm_levels]\n",
    "MI_40=pd.DataFrame(None,columns=foobars,index=nsbm_levels)\n",
    "MI_40.loc[:,'foobar40a']=foobar40a\n",
    "MI_40.loc[:,'foobar40b']=foobar40b\n",
    "MI_40.loc[:,'foobar40c']=foobar40c\n",
    "MI_40.loc[:,'foobar40d']=foobar40d\n",
    "MI_40.loc[:,'foobar40e']=foobar40e\n",
    "mean_40=[mean(MI_40.iloc[x,:]) for x in range(len(nsbm_levels))]\n",
    "sd_40=[statistics.stdev(MI_40.iloc[x,:]) for x in range(len(nsbm_levels))]\n",
    "MI_40['mean_40']=mean_40\n",
    "MI_40['standard_deviation_40']=sd_40\n",
    "pickle.dump(MI_40, open('mi_dropseq/mi_vs_cell_line/mi_40.pkl','wb'),2)\n",
    "print(MI_40)\n",
    "MI_40.iloc[:,0:4].T.boxplot()"
   ]
  },
  {
   "cell_type": "markdown",
   "metadata": {},
   "source": [
    "# ADATA45"
   ]
  },
  {
   "cell_type": "code",
   "execution_count": null,
   "metadata": {},
   "outputs": [],
   "source": [
    "scnsbm.inference.nested_model(adata45)\n",
    "adata45.write('mi_dropseq/mi_vs_cell_line/adata_45a.h5ad')\n",
    "scnsbm.inference.nested_model(adata45,collect_marginals=False)\n",
    "adata45.write('mi_dropseq/mi_vs_cell_line/adata_45b.h5ad')\n",
    "scnsbm.inference.nested_model(adata45,collect_marginals=False)\n",
    "adata45.write('mi_dropseq/mi_vs_cell_line/adata_45c.h5ad')\n",
    "scnsbm.inference.nested_model(adata45,collect_marginals=False)\n",
    "adata45.write('mi_dropseq/mi_vs_cell_line/adata_45d.h5ad')\n",
    "scnsbm.inference.nested_model(adata45,collect_marginals=False)\n",
    "adata45.write('mi_dropseq/mi_vs_cell_line/adata_45e.h5ad')"
   ]
  },
  {
   "cell_type": "code",
   "execution_count": null,
   "metadata": {},
   "outputs": [],
   "source": [
    "adata45a=sc.read('mi_dropseq/mi_vs_cell_line/adata_45a.h5ad')\n",
    "adata45b=sc.read('mi_dropseq/mi_vs_cell_line/adata_45b.h5ad')\n",
    "adata45c=sc.read('mi_dropseq/mi_vs_cell_line/adata_45c.h5ad')\n",
    "adata45d=sc.read('mi_dropseq/mi_vs_cell_line/adata_45d.h5ad')\n",
    "adata45e=sc.read('mi_dropseq/mi_vs_cell_line/adata_45e.h5ad')"
   ]
  },
  {
   "cell_type": "markdown",
   "metadata": {},
   "source": [
    "### MI45"
   ]
  },
  {
   "cell_type": "code",
   "execution_count": null,
   "metadata": {},
   "outputs": [],
   "source": [
    "nsbm_levels = [x for x in adata45a.obs_keys() if x.startswith(\"nsbm\")]\n",
    "foobars=['foobar45a','foobar45b','foobar45c','foobar45d','foobar45e']\n",
    "foobar45a= [sklearn.metrics.adjusted_mutual_info_score(adata45a.obs.loc[:, NL], adata45a.obs.loc[:, 'cell_line'])\n",
    "                                            for NL in nsbm_levels]\n",
    "foobar45b= [sklearn.metrics.adjusted_mutual_info_score(adata45b.obs.loc[:, NL], adata45b.obs.loc[:, 'cell_line'])\n",
    "                                            for NL in nsbm_levels]\n",
    "foobar45c= [sklearn.metrics.adjusted_mutual_info_score(adata45c.obs.loc[:, NL], adata45c.obs.loc[:, 'cell_line'])\n",
    "                                            for NL in nsbm_levels]\n",
    "foobar45d= [sklearn.metrics.adjusted_mutual_info_score(adata45d.obs.loc[:, NL], adata45d.obs.loc[:, 'cell_line'])\n",
    "                                            for NL in nsbm_levels]\n",
    "foobar45e= [sklearn.metrics.adjusted_mutual_info_score(adata45e.obs.loc[:, NL], adata45e.obs.loc[:, 'cell_line'])\n",
    "                                            for NL in nsbm_levels]\n",
    "MI_45=pd.DataFrame(None,columns=foobars,index=nsbm_levels)\n",
    "MI_45.loc[:,'foobar45a']=foobar45a\n",
    "MI_45.loc[:,'foobar45b']=foobar45b\n",
    "MI_45.loc[:,'foobar45c']=foobar45c\n",
    "MI_45.loc[:,'foobar45d']=foobar45d\n",
    "MI_45.loc[:,'foobar45e']=foobar45e\n",
    "mean_45=[mean(MI_45.iloc[x,:]) for x in range(len(nsbm_levels))]\n",
    "sd_45=[statistics.stdev(MI_45.iloc[x,:]) for x in range(len(nsbm_levels))]\n",
    "MI_45['mean_45']=mean_45\n",
    "MI_45['standard_deviation_45']=sd_45\n",
    "pickle.dump(MI_45, open('mi_dropseq/mi_vs_cell_line/mi_45.pkl','wb'),2)\n",
    "print(MI_45)\n",
    "MI_45.iloc[:,0:4].T.boxplot()"
   ]
  },
  {
   "cell_type": "markdown",
   "metadata": {},
   "source": [
    "# ADATA50"
   ]
  },
  {
   "cell_type": "code",
   "execution_count": null,
   "metadata": {},
   "outputs": [],
   "source": [
    "scnsbm.inference.nested_model(adata50)\n",
    "adata50.write('mi_dropseq/mi_vs_cell_line/adata_50a.h5ad')\n",
    "scnsbm.inference.nested_model(adata50,collect_marginals=False)\n",
    "adata50.write('mi_dropseq/mi_vs_cell_line/adata_50b.h5ad')\n",
    "scnsbm.inference.nested_model(adata50,collect_marginals=False)\n",
    "adata50.write('mi_dropseq/mi_vs_cell_line/adata_50c.h5ad')\n",
    "scnsbm.inference.nested_model(adata50,collect_marginals=False)\n",
    "adata50.write('mi_dropseq/mi_vs_cell_line/adata_50d.h5ad')\n",
    "scnsbm.inference.nested_model(adata50,collect_marginals=False)\n",
    "adata50.write('mi_dropseq/mi_vs_cell_line/adata_50e.h5ad')"
   ]
  },
  {
   "cell_type": "code",
   "execution_count": null,
   "metadata": {},
   "outputs": [],
   "source": [
    "adata50a=sc.read('mi_dropseq/mi_vs_cell_line/adata_50a.h5ad')\n",
    "adata50b=sc.read('mi_dropseq/mi_vs_cell_line/adata_50b.h5ad')\n",
    "adata50c=sc.read('mi_dropseq/mi_vs_cell_line/adata_50c.h5ad')\n",
    "adata50d=sc.read('mi_dropseq/mi_vs_cell_line/adata_50d.h5ad')\n",
    "adata50e=sc.read('mi_dropseq/mi_vs_cell_line/adata_50e.h5ad')"
   ]
  },
  {
   "cell_type": "markdown",
   "metadata": {},
   "source": [
    "### MI50"
   ]
  },
  {
   "cell_type": "code",
   "execution_count": null,
   "metadata": {},
   "outputs": [],
   "source": [
    "nsbm_levels = [x for x in adata50a.obs_keys() if x.startswith(\"nsbm\")]\n",
    "foobars=['foobar50a','foobar50b','foobar50c','foobar50d','foobar50e']\n",
    "foobar50a= [sklearn.metrics.adjusted_mutual_info_score(adata50a.obs.loc[:, NL], adata50a.obs.loc[:, 'cell_line'])\n",
    "                                            for NL in nsbm_levels]\n",
    "foobar50b= [sklearn.metrics.adjusted_mutual_info_score(adata50b.obs.loc[:, NL], adata50b.obs.loc[:, 'cell_line'])\n",
    "                                            for NL in nsbm_levels]\n",
    "foobar50c= [sklearn.metrics.adjusted_mutual_info_score(adata50c.obs.loc[:, NL], adata50c.obs.loc[:, 'cell_line'])\n",
    "                                            for NL in nsbm_levels]\n",
    "foobar50d= [sklearn.metrics.adjusted_mutual_info_score(adata50d.obs.loc[:, NL], adata50d.obs.loc[:, 'cell_line'])\n",
    "                                            for NL in nsbm_levels]\n",
    "foobar50e= [sklearn.metrics.adjusted_mutual_info_score(adata50e.obs.loc[:, NL], adata50e.obs.loc[:, 'cell_line'])\n",
    "                                            for NL in nsbm_levels]\n",
    "MI_50=pd.DataFrame(None,columns=foobars,index=nsbm_levels)\n",
    "MI_50.loc[:,'foobar50a']=foobar50a\n",
    "MI_50.loc[:,'foobar50b']=foobar50b\n",
    "MI_50.loc[:,'foobar50c']=foobar50c\n",
    "MI_50.loc[:,'foobar50d']=foobar50d\n",
    "MI_50.loc[:,'foobar50e']=foobar50e\n",
    "mean_50=[mean(MI_50.iloc[x,:]) for x in range(len(nsbm_levels))]\n",
    "sd_50=[statistics.stdev(MI_50.iloc[x,:]) for x in range(len(nsbm_levels))]\n",
    "MI_50['mean_50']=mean_50\n",
    "MI_50['standard_deviation_50']=sd_50\n",
    "pickle.dump(MI_50, open('mi_dropseq/mi_vs_cell_line/mi_50.pkl','wb'),2)\n",
    "print(MI_50)\n",
    "MI_50.iloc[:,0:4].T.boxplot()"
   ]
  }
 ],
 "metadata": {
  "kernelspec": {
   "display_name": "Python 3",
   "language": "python",
   "name": "python3"
  },
  "language_info": {
   "codemirror_mode": {
    "name": "ipython",
    "version": 3
   },
   "file_extension": ".py",
   "mimetype": "text/x-python",
   "name": "python",
   "nbconvert_exporter": "python",
   "pygments_lexer": "ipython3",
   "version": "3.7.7"
  }
 },
 "nbformat": 4,
 "nbformat_minor": 4
}
