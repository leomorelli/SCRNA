{
 "cells": [
  {
   "cell_type": "code",
   "execution_count": 1,
   "metadata": {},
   "outputs": [
    {
     "name": "stdout",
     "output_type": "stream",
     "text": [
      "Using matplotlib backend: nbAgg\n",
      "Populating the interactive namespace from numpy and matplotlib\n"
     ]
    }
   ],
   "source": [
    "import scanpy as sc\n",
    "import pandas as pd\n",
    "import pickle\n",
    "import time\n",
    "import anndata\n",
    "import sklearn.metrics\n",
    "%matplotlib notebook\n",
    "%pylab"
   ]
  },
  {
   "cell_type": "code",
   "execution_count": 2,
   "metadata": {},
   "outputs": [],
   "source": [
    "adata10=sc.read('mi_10x/adata_10.h5ad')"
   ]
  },
  {
   "cell_type": "code",
   "execution_count": 9,
   "metadata": {},
   "outputs": [],
   "source": [
    "sc.tl.nsbm(adata10)"
   ]
  },
  {
   "cell_type": "code",
   "execution_count": 10,
   "metadata": {},
   "outputs": [
    {
     "data": {
      "text/plain": [
       "OrderedDict([('neighbors',\n",
       "              {'connectivities': <860x860 sparse matrix of type '<class 'numpy.float64'>'\n",
       "               \twith 11980 stored elements in Compressed Sparse Row format>,\n",
       "               'distances': <860x860 sparse matrix of type '<class 'numpy.float64'>'\n",
       "               \twith 7740 stored elements in Compressed Sparse Row format>,\n",
       "               'params': {'method': 'umap',\n",
       "                'metric': 'euclidean',\n",
       "                'n_neighbors': 10,\n",
       "                'n_pcs': 40}}),\n",
       "             ('pca',\n",
       "              {'params': {'use_highly_variable': True, 'zero_center': True},\n",
       "               'variance': array([187.1901   , 121.42925  ,  56.157215 ,  50.995983 ,  21.52586  ,\n",
       "                       19.574287 ,  15.658022 ,  13.419519 ,  10.4826765,   9.956555 ,\n",
       "                        9.303964 ,   8.007872 ,   7.3588667,   6.9105797,   6.738018 ,\n",
       "                        6.591603 ,   6.5070024,   6.4017315,   6.2246294,   5.936545 ,\n",
       "                        5.827578 ,   5.6155105,   5.5736294,   5.541636 ,   5.4070315,\n",
       "                        5.346763 ,   5.2034826,   5.0449657,   5.0065546,   4.941267 ,\n",
       "                        4.8871517,   4.8310804,   4.747761 ,   4.690639 ,   4.6640506,\n",
       "                        4.6570687,   4.586952 ,   4.520134 ,   4.4712386,   4.4141836,\n",
       "                        4.367388 ,   4.3505974,   4.2840333,   4.2472177,   4.22238  ,\n",
       "                        4.158576 ,   4.1480694,   4.118328 ,   4.0894527,   4.0462203],\n",
       "                     dtype=float32),\n",
       "               'variance_ratio': array([0.11745619, 0.07619323, 0.03523697, 0.03199846, 0.01350683,\n",
       "                      0.01228228, 0.00982494, 0.00842035, 0.00657757, 0.00624744,\n",
       "                      0.00583796, 0.0050247 , 0.00461747, 0.00433618, 0.00422791,\n",
       "                      0.00413603, 0.00408295, 0.0040169 , 0.00390577, 0.003725  ,\n",
       "                      0.00365663, 0.00352356, 0.00349729, 0.00347721, 0.00339275,\n",
       "                      0.00335493, 0.00326503, 0.00316557, 0.00314146, 0.0031005 ,\n",
       "                      0.00306654, 0.00303136, 0.00297908, 0.00294324, 0.00292655,\n",
       "                      0.00292217, 0.00287818, 0.00283625, 0.00280557, 0.00276977,\n",
       "                      0.00274041, 0.00272987, 0.0026881 , 0.002665  , 0.00264942,\n",
       "                      0.00260938, 0.00260279, 0.00258413, 0.00256601, 0.00253888],\n",
       "                     dtype=float32)}),\n",
       "             ('nsbm',\n",
       "              {'stats': {'sweep_dS': 37.689865063565705,\n",
       "                'sweep_nattempts': 9389678,\n",
       "                'sweep_nmoves': 3488143,\n",
       "                'equlibrate_dS': 20012.84976732714,\n",
       "                'equlibrate_nattempts': 56387579,\n",
       "                'equlibrate_nmoves': 21343250,\n",
       "                'level_entropy': array([1.84475342e+04, 1.20733448e+03, 2.23202697e+02, 4.20729161e+01,\n",
       "                       2.42491040e+01, 2.21034935e+01, 2.89037176e+00, 2.89037176e+00,\n",
       "                       2.89037176e+00, 3.76817541e+01])},\n",
       "               'state': <NestedBlockState object, with base <BlockState object with 58 blocks (57 nonempty), degree-corrected, for graph <Graph object, undirected, with 860 vertices and 5990 edges at 0x7f175ba734d0>, at 0x7f175ba7e8d0>, and 10 levels of sizes [(860, 57), (57, 16), (16, 7), (7, 5), (5, 4), (4, 3), (3, 3), (3, 3), (3, 3), (3, 2)] at 0x7f175bb8e090>,\n",
       "               'cell_marginals': {'level_0': array([[5750,    0,   27, ...,    0,    0,    0],\n",
       "                       [   0, 5805,    0, ...,    0,    0,    0],\n",
       "                       [   0, 5877,    0, ...,    0,    0,    0],\n",
       "                       ...,\n",
       "                       [   0,    0,    0, ...,    0,    0,    0],\n",
       "                       [   0,    0,    0, ...,    0,    0,    0],\n",
       "                       [   0,    0,    0, ...,    0,    0,    0]], dtype=int32),\n",
       "                'level_1': array([[  41,    0,    0, ...,    0,    0, 5860],\n",
       "                       [   0,    0,    0, ...,    0,    0,    0],\n",
       "                       [   0,    0,    0, ...,    0,    0,    0],\n",
       "                       ...,\n",
       "                       [   0,    0,    0, ...,    0,    0,    0],\n",
       "                       [   0,    0,    0, ...,    0,    0,    0],\n",
       "                       [   0,    0,    0, ...,    0,    0,    0]], dtype=int32),\n",
       "                'level_2': array([[   0,    0,    0, ...,    0,   41,    0],\n",
       "                       [   0,    0,    0, ...,    0,    0, 5901],\n",
       "                       [   0,    0,    0, ...,    0,    0, 5901],\n",
       "                       ...,\n",
       "                       [   0,    0, 5901, ...,    0,    0,    0],\n",
       "                       [   0,    0,    0, ..., 5901,    0,    0],\n",
       "                       [   0, 5901,    0, ...,    0,    0,    0]], dtype=int32),\n",
       "                'level_3': array([[   0,    0,    0,    0, 5901],\n",
       "                       [   0,    0,    0, 5901,    0],\n",
       "                       [   0,    0,    0, 5901,    0],\n",
       "                       ...,\n",
       "                       [5901,    0,    0,    0,    0],\n",
       "                       [   0,    0, 5901,    0,    0],\n",
       "                       [   0, 5901,    0,    0,    0]], dtype=int32),\n",
       "                'level_4': array([[   0, 5901,    0,    0],\n",
       "                       [   0,    0,    0, 5901],\n",
       "                       [   0,    0,    0, 5901],\n",
       "                       ...,\n",
       "                       [   0,    0, 5901,    0],\n",
       "                       [5901,    0,    0,    0],\n",
       "                       [   0,    0,    0, 5901]], dtype=int32),\n",
       "                'level_5': array([[   0, 5901,    0],\n",
       "                       [5901,    0,    0],\n",
       "                       [5901,    0,    0],\n",
       "                       ...,\n",
       "                       [   0,    0, 5901],\n",
       "                       [   0, 5901,    0],\n",
       "                       [5901,    0,    0]], dtype=int32),\n",
       "                'level_6': array([[   0, 5901,    0],\n",
       "                       [   0,    0, 5901],\n",
       "                       [   0,    0, 5901],\n",
       "                       ...,\n",
       "                       [5901,    0,    0],\n",
       "                       [   0, 5901,    0],\n",
       "                       [   0,    0, 5901]], dtype=int32),\n",
       "                'level_7': array([[5901,    0,    0],\n",
       "                       [   0,    0, 5901],\n",
       "                       [   0,    0, 5901],\n",
       "                       ...,\n",
       "                       [   0, 5901,    0],\n",
       "                       [5901,    0,    0],\n",
       "                       [   0,    0, 5901]], dtype=int32),\n",
       "                'level_8': array([[5901,    0,    0],\n",
       "                       [   0, 5901,    0],\n",
       "                       [   0, 5901,    0],\n",
       "                       ...,\n",
       "                       [   0,    0, 5901],\n",
       "                       [5901,    0,    0],\n",
       "                       [   0, 5901,    0]], dtype=int32),\n",
       "                'level_9': array([[5901,    0],\n",
       "                       [   0, 5901],\n",
       "                       [   0, 5901],\n",
       "                       ...,\n",
       "                       [   0, 5901],\n",
       "                       [5901,    0],\n",
       "                       [   0, 5901]], dtype=int32)},\n",
       "               'params': {'sweep_iterations': 10000,\n",
       "                'epsilon': 0.001,\n",
       "                'wait': 1000,\n",
       "                'nbreaks': 2,\n",
       "                'equilibrate': True,\n",
       "                'collect_marginals': True,\n",
       "                'hierarchy_length': 10}})])"
      ]
     },
     "execution_count": 10,
     "metadata": {},
     "output_type": "execute_result"
    }
   ],
   "source": [
    "adata10.uns"
   ]
  },
  {
   "cell_type": "code",
   "execution_count": 11,
   "metadata": {},
   "outputs": [],
   "source": [
    "adata10.write('mi_10x/adata_10_test1.h5ad')"
   ]
  },
  {
   "cell_type": "code",
   "execution_count": 14,
   "metadata": {},
   "outputs": [],
   "source": [
    "adata10=sc.read('mi_10x/adata_10.h5ad')"
   ]
  },
  {
   "cell_type": "code",
   "execution_count": 13,
   "metadata": {},
   "outputs": [
    {
     "ename": "ValueError",
     "evalue": "Received property map for graph <Graph object, undirected, with 860 vertices and 5990 edges at 0x7f175bc8ba50> (base: <Graph object, undirected, with 860 vertices and 5990 edges at 0x7f175bc8ba50>), expected: <Graph object, undirected, with 860 vertices and 5990 edges at 0x7f175ba734d0> (base: <Graph object, undirected, with 860 vertices and 5990 edges at 0x7f175ba734d0>)",
     "output_type": "error",
     "traceback": [
      "\u001b[0;31m---------------------------------------------------------------------------\u001b[0m",
      "\u001b[0;31mValueError\u001b[0m                                Traceback (most recent call last)",
      "\u001b[0;32m<ipython-input-13-6ef0846fab80>\u001b[0m in \u001b[0;36m<module>\u001b[0;34m\u001b[0m\n\u001b[0;32m----> 1\u001b[0;31m \u001b[0msc\u001b[0m\u001b[0;34m.\u001b[0m\u001b[0mtl\u001b[0m\u001b[0;34m.\u001b[0m\u001b[0mnsbm\u001b[0m\u001b[0;34m(\u001b[0m\u001b[0madata10\u001b[0m\u001b[0;34m)\u001b[0m\u001b[0;34m\u001b[0m\u001b[0;34m\u001b[0m\u001b[0m\n\u001b[0m",
      "\u001b[0;32m~/anaconda3/envs/scrna_bis/lib/python3.7/site-packages/scanpy/tools/_nsbm.py\u001b[0m in \u001b[0;36mnsbm\u001b[0;34m(adata, sweep_iterations, max_iterations, epsilon, equilibrate, wait, nbreaks, collect_marginals, hierarchy_length, restrict_to, random_seed, key_added, adjacency, directed, use_weights, save_state, copy, **mcmc_equilibrate_kwargs)\u001b[0m\n\u001b[1;32m    211\u001b[0m                                                             \u001b[0mmax_niter\u001b[0m\u001b[0;34m=\u001b[0m\u001b[0mmax_iterations\u001b[0m\u001b[0;34m,\u001b[0m\u001b[0;34m\u001b[0m\u001b[0;34m\u001b[0m\u001b[0m\n\u001b[1;32m    212\u001b[0m                                                             \u001b[0mmcmc_args\u001b[0m\u001b[0;34m=\u001b[0m\u001b[0mdict\u001b[0m\u001b[0;34m(\u001b[0m\u001b[0mniter\u001b[0m\u001b[0;34m=\u001b[0m\u001b[0;36m10\u001b[0m\u001b[0;34m)\u001b[0m\u001b[0;34m,\u001b[0m\u001b[0;34m\u001b[0m\u001b[0;34m\u001b[0m\u001b[0m\n\u001b[0;32m--> 213\u001b[0;31m                                                             \u001b[0mcallback\u001b[0m\u001b[0;34m=\u001b[0m\u001b[0m_collect_marginals\u001b[0m\u001b[0;34m\u001b[0m\u001b[0;34m\u001b[0m\u001b[0m\n\u001b[0m\u001b[1;32m    214\u001b[0m                                                             )\n\u001b[1;32m    215\u001b[0m \u001b[0;34m\u001b[0m\u001b[0m\n",
      "\u001b[0;32m/usr/lib/python3/dist-packages/graph_tool/inference/mcmc.py\u001b[0m in \u001b[0;36mmcmc_equilibrate\u001b[0;34m(state, wait, nbreaks, max_niter, force_niter, epsilon, gibbs, multiflip, mcmc_args, entropy_args, history, callback, verbose)\u001b[0m\n\u001b[1;32m    159\u001b[0m         \u001b[0mextra\u001b[0m \u001b[0;34m=\u001b[0m \u001b[0;34m[\u001b[0m\u001b[0;34m]\u001b[0m\u001b[0;34m\u001b[0m\u001b[0;34m\u001b[0m\u001b[0m\n\u001b[1;32m    160\u001b[0m         \u001b[0;32mif\u001b[0m \u001b[0mcallback\u001b[0m \u001b[0;32mis\u001b[0m \u001b[0;32mnot\u001b[0m \u001b[0;32mNone\u001b[0m\u001b[0;34m:\u001b[0m\u001b[0;34m\u001b[0m\u001b[0;34m\u001b[0m\u001b[0m\n\u001b[0;32m--> 161\u001b[0;31m             \u001b[0mextra\u001b[0m \u001b[0;34m=\u001b[0m \u001b[0mcallback\u001b[0m\u001b[0;34m(\u001b[0m\u001b[0mstate\u001b[0m\u001b[0;34m)\u001b[0m\u001b[0;34m\u001b[0m\u001b[0;34m\u001b[0m\u001b[0m\n\u001b[0m\u001b[1;32m    162\u001b[0m             \u001b[0;32mif\u001b[0m \u001b[0mextra\u001b[0m \u001b[0;32mis\u001b[0m \u001b[0;32mNone\u001b[0m\u001b[0;34m:\u001b[0m\u001b[0;34m\u001b[0m\u001b[0;34m\u001b[0m\u001b[0m\n\u001b[1;32m    163\u001b[0m                 \u001b[0mextra\u001b[0m \u001b[0;34m=\u001b[0m \u001b[0;34m[\u001b[0m\u001b[0;34m]\u001b[0m\u001b[0;34m\u001b[0m\u001b[0;34m\u001b[0m\u001b[0m\n",
      "\u001b[0;32m~/anaconda3/envs/scrna_bis/lib/python3.7/site-packages/scanpy/tools/_nsbm.py\u001b[0m in \u001b[0;36m_collect_marginals\u001b[0;34m(s)\u001b[0m\n\u001b[1;32m    202\u001b[0m                 \u001b[0;32mglobal\u001b[0m \u001b[0mcell_marginals\u001b[0m\u001b[0;34m\u001b[0m\u001b[0;34m\u001b[0m\u001b[0m\n\u001b[1;32m    203\u001b[0m                 \u001b[0;32mtry\u001b[0m\u001b[0;34m:\u001b[0m\u001b[0;34m\u001b[0m\u001b[0;34m\u001b[0m\u001b[0m\n\u001b[0;32m--> 204\u001b[0;31m                     \u001b[0mcell_marginals\u001b[0m \u001b[0;34m=\u001b[0m \u001b[0;34m[\u001b[0m\u001b[0msl\u001b[0m\u001b[0;34m.\u001b[0m\u001b[0mcollect_vertex_marginals\u001b[0m\u001b[0;34m(\u001b[0m\u001b[0mcell_marginals\u001b[0m\u001b[0;34m[\u001b[0m\u001b[0ml\u001b[0m\u001b[0;34m]\u001b[0m\u001b[0;34m)\u001b[0m \u001b[0;32mfor\u001b[0m \u001b[0ml\u001b[0m\u001b[0;34m,\u001b[0m \u001b[0msl\u001b[0m \u001b[0;32min\u001b[0m \u001b[0menumerate\u001b[0m\u001b[0;34m(\u001b[0m\u001b[0mlevels\u001b[0m\u001b[0;34m)\u001b[0m\u001b[0;34m]\u001b[0m\u001b[0;34m\u001b[0m\u001b[0;34m\u001b[0m\u001b[0m\n\u001b[0m\u001b[1;32m    205\u001b[0m                 \u001b[0;32mexcept\u001b[0m \u001b[0mNameError\u001b[0m\u001b[0;34m:\u001b[0m\u001b[0;34m\u001b[0m\u001b[0;34m\u001b[0m\u001b[0m\n\u001b[1;32m    206\u001b[0m                     \u001b[0mcell_marginals\u001b[0m \u001b[0;34m=\u001b[0m \u001b[0;34m[\u001b[0m\u001b[0;32mNone\u001b[0m\u001b[0;34m]\u001b[0m \u001b[0;34m*\u001b[0m \u001b[0mlen\u001b[0m\u001b[0;34m(\u001b[0m\u001b[0mstate\u001b[0m\u001b[0;34m.\u001b[0m\u001b[0mget_levels\u001b[0m\u001b[0;34m(\u001b[0m\u001b[0;34m)\u001b[0m\u001b[0;34m)\u001b[0m\u001b[0;34m\u001b[0m\u001b[0;34m\u001b[0m\u001b[0m\n",
      "\u001b[0;32m~/anaconda3/envs/scrna_bis/lib/python3.7/site-packages/scanpy/tools/_nsbm.py\u001b[0m in \u001b[0;36m<listcomp>\u001b[0;34m(.0)\u001b[0m\n\u001b[1;32m    202\u001b[0m                 \u001b[0;32mglobal\u001b[0m \u001b[0mcell_marginals\u001b[0m\u001b[0;34m\u001b[0m\u001b[0;34m\u001b[0m\u001b[0m\n\u001b[1;32m    203\u001b[0m                 \u001b[0;32mtry\u001b[0m\u001b[0;34m:\u001b[0m\u001b[0;34m\u001b[0m\u001b[0;34m\u001b[0m\u001b[0m\n\u001b[0;32m--> 204\u001b[0;31m                     \u001b[0mcell_marginals\u001b[0m \u001b[0;34m=\u001b[0m \u001b[0;34m[\u001b[0m\u001b[0msl\u001b[0m\u001b[0;34m.\u001b[0m\u001b[0mcollect_vertex_marginals\u001b[0m\u001b[0;34m(\u001b[0m\u001b[0mcell_marginals\u001b[0m\u001b[0;34m[\u001b[0m\u001b[0ml\u001b[0m\u001b[0;34m]\u001b[0m\u001b[0;34m)\u001b[0m \u001b[0;32mfor\u001b[0m \u001b[0ml\u001b[0m\u001b[0;34m,\u001b[0m \u001b[0msl\u001b[0m \u001b[0;32min\u001b[0m \u001b[0menumerate\u001b[0m\u001b[0;34m(\u001b[0m\u001b[0mlevels\u001b[0m\u001b[0;34m)\u001b[0m\u001b[0;34m]\u001b[0m\u001b[0;34m\u001b[0m\u001b[0;34m\u001b[0m\u001b[0m\n\u001b[0m\u001b[1;32m    205\u001b[0m                 \u001b[0;32mexcept\u001b[0m \u001b[0mNameError\u001b[0m\u001b[0;34m:\u001b[0m\u001b[0;34m\u001b[0m\u001b[0;34m\u001b[0m\u001b[0m\n\u001b[1;32m    206\u001b[0m                     \u001b[0mcell_marginals\u001b[0m \u001b[0;34m=\u001b[0m \u001b[0;34m[\u001b[0m\u001b[0;32mNone\u001b[0m\u001b[0;34m]\u001b[0m \u001b[0;34m*\u001b[0m \u001b[0mlen\u001b[0m\u001b[0;34m(\u001b[0m\u001b[0mstate\u001b[0m\u001b[0;34m.\u001b[0m\u001b[0mget_levels\u001b[0m\u001b[0;34m(\u001b[0m\u001b[0;34m)\u001b[0m\u001b[0;34m)\u001b[0m\u001b[0;34m\u001b[0m\u001b[0;34m\u001b[0m\u001b[0m\n",
      "\u001b[0;32m/usr/lib/python3/dist-packages/graph_tool/inference/blockmodel.py\u001b[0m in \u001b[0;36mcollect_vertex_marginals\u001b[0;34m(self, p, b, unlabel, update)\u001b[0m\n\u001b[1;32m   2165\u001b[0m         libinference.vertex_marginals(self.g._Graph__graph,\n\u001b[1;32m   2166\u001b[0m                                       \u001b[0m_prop\u001b[0m\u001b[0;34m(\u001b[0m\u001b[0;34m\"v\"\u001b[0m\u001b[0;34m,\u001b[0m \u001b[0mself\u001b[0m\u001b[0;34m.\u001b[0m\u001b[0mg\u001b[0m\u001b[0;34m,\u001b[0m \u001b[0mb\u001b[0m\u001b[0;34m)\u001b[0m\u001b[0;34m,\u001b[0m\u001b[0;34m\u001b[0m\u001b[0;34m\u001b[0m\u001b[0m\n\u001b[0;32m-> 2167\u001b[0;31m                                       \u001b[0m_prop\u001b[0m\u001b[0;34m(\u001b[0m\u001b[0;34m\"v\"\u001b[0m\u001b[0;34m,\u001b[0m \u001b[0mself\u001b[0m\u001b[0;34m.\u001b[0m\u001b[0mg\u001b[0m\u001b[0;34m,\u001b[0m \u001b[0mp\u001b[0m\u001b[0;34m)\u001b[0m\u001b[0;34m,\u001b[0m\u001b[0;34m\u001b[0m\u001b[0;34m\u001b[0m\u001b[0m\n\u001b[0m\u001b[1;32m   2168\u001b[0m                                       update)\n\u001b[1;32m   2169\u001b[0m         \u001b[0;32mreturn\u001b[0m \u001b[0mp\u001b[0m\u001b[0;34m\u001b[0m\u001b[0;34m\u001b[0m\u001b[0m\n",
      "\u001b[0;32m/usr/lib/python3/dist-packages/graph_tool/__init__.py\u001b[0m in \u001b[0;36m_prop\u001b[0;34m(t, g, prop)\u001b[0m\n\u001b[1;32m    192\u001b[0m     \u001b[0;32mif\u001b[0m \u001b[0mg\u001b[0m\u001b[0;34m.\u001b[0m\u001b[0mbase\u001b[0m \u001b[0;32mis\u001b[0m \u001b[0;32mnot\u001b[0m \u001b[0mu\u001b[0m\u001b[0;34m.\u001b[0m\u001b[0mbase\u001b[0m\u001b[0;34m:\u001b[0m\u001b[0;34m\u001b[0m\u001b[0;34m\u001b[0m\u001b[0m\n\u001b[1;32m    193\u001b[0m         raise ValueError(\"Received property map for graph %s (base: %s), expected: %s (base: %s)\" %\n\u001b[0;32m--> 194\u001b[0;31m                          (str(g), str(g.base), str(u), str(u.base)))\n\u001b[0m\u001b[1;32m    195\u001b[0m     \u001b[0;32mreturn\u001b[0m \u001b[0mpmap\u001b[0m\u001b[0;34m.\u001b[0m\u001b[0m_get_any\u001b[0m\u001b[0;34m(\u001b[0m\u001b[0;34m)\u001b[0m\u001b[0;34m\u001b[0m\u001b[0;34m\u001b[0m\u001b[0m\n\u001b[1;32m    196\u001b[0m \u001b[0;34m\u001b[0m\u001b[0m\n",
      "\u001b[0;31mValueError\u001b[0m: Received property map for graph <Graph object, undirected, with 860 vertices and 5990 edges at 0x7f175bc8ba50> (base: <Graph object, undirected, with 860 vertices and 5990 edges at 0x7f175bc8ba50>), expected: <Graph object, undirected, with 860 vertices and 5990 edges at 0x7f175ba734d0> (base: <Graph object, undirected, with 860 vertices and 5990 edges at 0x7f175ba734d0>)"
     ]
    }
   ],
   "source": [
    "sc.tl.nsbm(adata10)"
   ]
  },
  {
   "cell_type": "code",
   "execution_count": 15,
   "metadata": {},
   "outputs": [],
   "source": [
    "adata10=sc.read('mi_10x/adata_10.h5ad')"
   ]
  },
  {
   "cell_type": "code",
   "execution_count": 16,
   "metadata": {},
   "outputs": [
    {
     "ename": "ValueError",
     "evalue": "Received property map for graph <Graph object, undirected, with 860 vertices and 5990 edges at 0x7f175a3a2450> (base: <Graph object, undirected, with 860 vertices and 5990 edges at 0x7f175a3a2450>), expected: <Graph object, undirected, with 860 vertices and 5990 edges at 0x7f175ba734d0> (base: <Graph object, undirected, with 860 vertices and 5990 edges at 0x7f175ba734d0>)",
     "output_type": "error",
     "traceback": [
      "\u001b[0;31m---------------------------------------------------------------------------\u001b[0m",
      "\u001b[0;31mValueError\u001b[0m                                Traceback (most recent call last)",
      "\u001b[0;32m<ipython-input-16-6ef0846fab80>\u001b[0m in \u001b[0;36m<module>\u001b[0;34m\u001b[0m\n\u001b[0;32m----> 1\u001b[0;31m \u001b[0msc\u001b[0m\u001b[0;34m.\u001b[0m\u001b[0mtl\u001b[0m\u001b[0;34m.\u001b[0m\u001b[0mnsbm\u001b[0m\u001b[0;34m(\u001b[0m\u001b[0madata10\u001b[0m\u001b[0;34m)\u001b[0m\u001b[0;34m\u001b[0m\u001b[0;34m\u001b[0m\u001b[0m\n\u001b[0m",
      "\u001b[0;32m~/anaconda3/envs/scrna_bis/lib/python3.7/site-packages/scanpy/tools/_nsbm.py\u001b[0m in \u001b[0;36mnsbm\u001b[0;34m(adata, sweep_iterations, max_iterations, epsilon, equilibrate, wait, nbreaks, collect_marginals, hierarchy_length, restrict_to, random_seed, key_added, adjacency, directed, use_weights, save_state, copy, **mcmc_equilibrate_kwargs)\u001b[0m\n\u001b[1;32m    211\u001b[0m                                                             \u001b[0mmax_niter\u001b[0m\u001b[0;34m=\u001b[0m\u001b[0mmax_iterations\u001b[0m\u001b[0;34m,\u001b[0m\u001b[0;34m\u001b[0m\u001b[0;34m\u001b[0m\u001b[0m\n\u001b[1;32m    212\u001b[0m                                                             \u001b[0mmcmc_args\u001b[0m\u001b[0;34m=\u001b[0m\u001b[0mdict\u001b[0m\u001b[0;34m(\u001b[0m\u001b[0mniter\u001b[0m\u001b[0;34m=\u001b[0m\u001b[0;36m10\u001b[0m\u001b[0;34m)\u001b[0m\u001b[0;34m,\u001b[0m\u001b[0;34m\u001b[0m\u001b[0;34m\u001b[0m\u001b[0m\n\u001b[0;32m--> 213\u001b[0;31m                                                             \u001b[0mcallback\u001b[0m\u001b[0;34m=\u001b[0m\u001b[0m_collect_marginals\u001b[0m\u001b[0;34m\u001b[0m\u001b[0;34m\u001b[0m\u001b[0m\n\u001b[0m\u001b[1;32m    214\u001b[0m                                                             )\n\u001b[1;32m    215\u001b[0m \u001b[0;34m\u001b[0m\u001b[0m\n",
      "\u001b[0;32m/usr/lib/python3/dist-packages/graph_tool/inference/mcmc.py\u001b[0m in \u001b[0;36mmcmc_equilibrate\u001b[0;34m(state, wait, nbreaks, max_niter, force_niter, epsilon, gibbs, multiflip, mcmc_args, entropy_args, history, callback, verbose)\u001b[0m\n\u001b[1;32m    159\u001b[0m         \u001b[0mextra\u001b[0m \u001b[0;34m=\u001b[0m \u001b[0;34m[\u001b[0m\u001b[0;34m]\u001b[0m\u001b[0;34m\u001b[0m\u001b[0;34m\u001b[0m\u001b[0m\n\u001b[1;32m    160\u001b[0m         \u001b[0;32mif\u001b[0m \u001b[0mcallback\u001b[0m \u001b[0;32mis\u001b[0m \u001b[0;32mnot\u001b[0m \u001b[0;32mNone\u001b[0m\u001b[0;34m:\u001b[0m\u001b[0;34m\u001b[0m\u001b[0;34m\u001b[0m\u001b[0m\n\u001b[0;32m--> 161\u001b[0;31m             \u001b[0mextra\u001b[0m \u001b[0;34m=\u001b[0m \u001b[0mcallback\u001b[0m\u001b[0;34m(\u001b[0m\u001b[0mstate\u001b[0m\u001b[0;34m)\u001b[0m\u001b[0;34m\u001b[0m\u001b[0;34m\u001b[0m\u001b[0m\n\u001b[0m\u001b[1;32m    162\u001b[0m             \u001b[0;32mif\u001b[0m \u001b[0mextra\u001b[0m \u001b[0;32mis\u001b[0m \u001b[0;32mNone\u001b[0m\u001b[0;34m:\u001b[0m\u001b[0;34m\u001b[0m\u001b[0;34m\u001b[0m\u001b[0m\n\u001b[1;32m    163\u001b[0m                 \u001b[0mextra\u001b[0m \u001b[0;34m=\u001b[0m \u001b[0;34m[\u001b[0m\u001b[0;34m]\u001b[0m\u001b[0;34m\u001b[0m\u001b[0;34m\u001b[0m\u001b[0m\n",
      "\u001b[0;32m~/anaconda3/envs/scrna_bis/lib/python3.7/site-packages/scanpy/tools/_nsbm.py\u001b[0m in \u001b[0;36m_collect_marginals\u001b[0;34m(s)\u001b[0m\n\u001b[1;32m    202\u001b[0m                 \u001b[0;32mglobal\u001b[0m \u001b[0mcell_marginals\u001b[0m\u001b[0;34m\u001b[0m\u001b[0;34m\u001b[0m\u001b[0m\n\u001b[1;32m    203\u001b[0m                 \u001b[0;32mtry\u001b[0m\u001b[0;34m:\u001b[0m\u001b[0;34m\u001b[0m\u001b[0;34m\u001b[0m\u001b[0m\n\u001b[0;32m--> 204\u001b[0;31m                     \u001b[0mcell_marginals\u001b[0m \u001b[0;34m=\u001b[0m \u001b[0;34m[\u001b[0m\u001b[0msl\u001b[0m\u001b[0;34m.\u001b[0m\u001b[0mcollect_vertex_marginals\u001b[0m\u001b[0;34m(\u001b[0m\u001b[0mcell_marginals\u001b[0m\u001b[0;34m[\u001b[0m\u001b[0ml\u001b[0m\u001b[0;34m]\u001b[0m\u001b[0;34m)\u001b[0m \u001b[0;32mfor\u001b[0m \u001b[0ml\u001b[0m\u001b[0;34m,\u001b[0m \u001b[0msl\u001b[0m \u001b[0;32min\u001b[0m \u001b[0menumerate\u001b[0m\u001b[0;34m(\u001b[0m\u001b[0mlevels\u001b[0m\u001b[0;34m)\u001b[0m\u001b[0;34m]\u001b[0m\u001b[0;34m\u001b[0m\u001b[0;34m\u001b[0m\u001b[0m\n\u001b[0m\u001b[1;32m    205\u001b[0m                 \u001b[0;32mexcept\u001b[0m \u001b[0mNameError\u001b[0m\u001b[0;34m:\u001b[0m\u001b[0;34m\u001b[0m\u001b[0;34m\u001b[0m\u001b[0m\n\u001b[1;32m    206\u001b[0m                     \u001b[0mcell_marginals\u001b[0m \u001b[0;34m=\u001b[0m \u001b[0;34m[\u001b[0m\u001b[0;32mNone\u001b[0m\u001b[0;34m]\u001b[0m \u001b[0;34m*\u001b[0m \u001b[0mlen\u001b[0m\u001b[0;34m(\u001b[0m\u001b[0mstate\u001b[0m\u001b[0;34m.\u001b[0m\u001b[0mget_levels\u001b[0m\u001b[0;34m(\u001b[0m\u001b[0;34m)\u001b[0m\u001b[0;34m)\u001b[0m\u001b[0;34m\u001b[0m\u001b[0;34m\u001b[0m\u001b[0m\n",
      "\u001b[0;32m~/anaconda3/envs/scrna_bis/lib/python3.7/site-packages/scanpy/tools/_nsbm.py\u001b[0m in \u001b[0;36m<listcomp>\u001b[0;34m(.0)\u001b[0m\n\u001b[1;32m    202\u001b[0m                 \u001b[0;32mglobal\u001b[0m \u001b[0mcell_marginals\u001b[0m\u001b[0;34m\u001b[0m\u001b[0;34m\u001b[0m\u001b[0m\n\u001b[1;32m    203\u001b[0m                 \u001b[0;32mtry\u001b[0m\u001b[0;34m:\u001b[0m\u001b[0;34m\u001b[0m\u001b[0;34m\u001b[0m\u001b[0m\n\u001b[0;32m--> 204\u001b[0;31m                     \u001b[0mcell_marginals\u001b[0m \u001b[0;34m=\u001b[0m \u001b[0;34m[\u001b[0m\u001b[0msl\u001b[0m\u001b[0;34m.\u001b[0m\u001b[0mcollect_vertex_marginals\u001b[0m\u001b[0;34m(\u001b[0m\u001b[0mcell_marginals\u001b[0m\u001b[0;34m[\u001b[0m\u001b[0ml\u001b[0m\u001b[0;34m]\u001b[0m\u001b[0;34m)\u001b[0m \u001b[0;32mfor\u001b[0m \u001b[0ml\u001b[0m\u001b[0;34m,\u001b[0m \u001b[0msl\u001b[0m \u001b[0;32min\u001b[0m \u001b[0menumerate\u001b[0m\u001b[0;34m(\u001b[0m\u001b[0mlevels\u001b[0m\u001b[0;34m)\u001b[0m\u001b[0;34m]\u001b[0m\u001b[0;34m\u001b[0m\u001b[0;34m\u001b[0m\u001b[0m\n\u001b[0m\u001b[1;32m    205\u001b[0m                 \u001b[0;32mexcept\u001b[0m \u001b[0mNameError\u001b[0m\u001b[0;34m:\u001b[0m\u001b[0;34m\u001b[0m\u001b[0;34m\u001b[0m\u001b[0m\n\u001b[1;32m    206\u001b[0m                     \u001b[0mcell_marginals\u001b[0m \u001b[0;34m=\u001b[0m \u001b[0;34m[\u001b[0m\u001b[0;32mNone\u001b[0m\u001b[0;34m]\u001b[0m \u001b[0;34m*\u001b[0m \u001b[0mlen\u001b[0m\u001b[0;34m(\u001b[0m\u001b[0mstate\u001b[0m\u001b[0;34m.\u001b[0m\u001b[0mget_levels\u001b[0m\u001b[0;34m(\u001b[0m\u001b[0;34m)\u001b[0m\u001b[0;34m)\u001b[0m\u001b[0;34m\u001b[0m\u001b[0;34m\u001b[0m\u001b[0m\n",
      "\u001b[0;32m/usr/lib/python3/dist-packages/graph_tool/inference/blockmodel.py\u001b[0m in \u001b[0;36mcollect_vertex_marginals\u001b[0;34m(self, p, b, unlabel, update)\u001b[0m\n\u001b[1;32m   2165\u001b[0m         libinference.vertex_marginals(self.g._Graph__graph,\n\u001b[1;32m   2166\u001b[0m                                       \u001b[0m_prop\u001b[0m\u001b[0;34m(\u001b[0m\u001b[0;34m\"v\"\u001b[0m\u001b[0;34m,\u001b[0m \u001b[0mself\u001b[0m\u001b[0;34m.\u001b[0m\u001b[0mg\u001b[0m\u001b[0;34m,\u001b[0m \u001b[0mb\u001b[0m\u001b[0;34m)\u001b[0m\u001b[0;34m,\u001b[0m\u001b[0;34m\u001b[0m\u001b[0;34m\u001b[0m\u001b[0m\n\u001b[0;32m-> 2167\u001b[0;31m                                       \u001b[0m_prop\u001b[0m\u001b[0;34m(\u001b[0m\u001b[0;34m\"v\"\u001b[0m\u001b[0;34m,\u001b[0m \u001b[0mself\u001b[0m\u001b[0;34m.\u001b[0m\u001b[0mg\u001b[0m\u001b[0;34m,\u001b[0m \u001b[0mp\u001b[0m\u001b[0;34m)\u001b[0m\u001b[0;34m,\u001b[0m\u001b[0;34m\u001b[0m\u001b[0;34m\u001b[0m\u001b[0m\n\u001b[0m\u001b[1;32m   2168\u001b[0m                                       update)\n\u001b[1;32m   2169\u001b[0m         \u001b[0;32mreturn\u001b[0m \u001b[0mp\u001b[0m\u001b[0;34m\u001b[0m\u001b[0;34m\u001b[0m\u001b[0m\n",
      "\u001b[0;32m/usr/lib/python3/dist-packages/graph_tool/__init__.py\u001b[0m in \u001b[0;36m_prop\u001b[0;34m(t, g, prop)\u001b[0m\n\u001b[1;32m    192\u001b[0m     \u001b[0;32mif\u001b[0m \u001b[0mg\u001b[0m\u001b[0;34m.\u001b[0m\u001b[0mbase\u001b[0m \u001b[0;32mis\u001b[0m \u001b[0;32mnot\u001b[0m \u001b[0mu\u001b[0m\u001b[0;34m.\u001b[0m\u001b[0mbase\u001b[0m\u001b[0;34m:\u001b[0m\u001b[0;34m\u001b[0m\u001b[0;34m\u001b[0m\u001b[0m\n\u001b[1;32m    193\u001b[0m         raise ValueError(\"Received property map for graph %s (base: %s), expected: %s (base: %s)\" %\n\u001b[0;32m--> 194\u001b[0;31m                          (str(g), str(g.base), str(u), str(u.base)))\n\u001b[0m\u001b[1;32m    195\u001b[0m     \u001b[0;32mreturn\u001b[0m \u001b[0mpmap\u001b[0m\u001b[0;34m.\u001b[0m\u001b[0m_get_any\u001b[0m\u001b[0;34m(\u001b[0m\u001b[0;34m)\u001b[0m\u001b[0;34m\u001b[0m\u001b[0;34m\u001b[0m\u001b[0m\n\u001b[1;32m    196\u001b[0m \u001b[0;34m\u001b[0m\u001b[0m\n",
      "\u001b[0;31mValueError\u001b[0m: Received property map for graph <Graph object, undirected, with 860 vertices and 5990 edges at 0x7f175a3a2450> (base: <Graph object, undirected, with 860 vertices and 5990 edges at 0x7f175a3a2450>), expected: <Graph object, undirected, with 860 vertices and 5990 edges at 0x7f175ba734d0> (base: <Graph object, undirected, with 860 vertices and 5990 edges at 0x7f175ba734d0>)"
     ]
    }
   ],
   "source": [
    "sc.tl.nsbm(adata10)"
   ]
  },
  {
   "cell_type": "markdown",
   "metadata": {},
   "source": [
    "### a volte viene a volte no\n",
    "# provo a fare tutto il codice passo passo"
   ]
  },
  {
   "cell_type": "code",
   "execution_count": 5,
   "metadata": {},
   "outputs": [
    {
     "ename": "SyntaxError",
     "evalue": "invalid syntax (<ipython-input-5-129c579eb949>, line 20)",
     "output_type": "error",
     "traceback": [
      "\u001b[0;36m  File \u001b[0;32m\"<ipython-input-5-129c579eb949>\"\u001b[0;36m, line \u001b[0;32m20\u001b[0m\n\u001b[0;31m    **mcmc_equilibrate_kwargs,)\u001b[0m\n\u001b[0m                               ^\u001b[0m\n\u001b[0;31mSyntaxError\u001b[0m\u001b[0;31m:\u001b[0m invalid syntax\n"
     ]
    }
   ],
   "source": [
    "def nsbm(\n",
    "    adata: AnnData,\n",
    "    sweep_iterations: int = 10000,\n",
    "    max_iterations: int = 1000000,\n",
    "    epsilon: float = 1e-3,\n",
    "    equilibrate: bool = True,\n",
    "    wait: int = 1000,\n",
    "    nbreaks: int = 2,\n",
    "    collect_marginals: bool = True,\n",
    "    hierarchy_length: int = 10,\n",
    "    *,\n",
    "    restrict_to: Optional[Tuple[str, Sequence[str]]] = None,\n",
    "    random_seed: Optional[int] = None,\n",
    "    key_added: str = 'nsbm',\n",
    "    adjacency: Optional[sparse.spmatrix] = None,\n",
    "    directed: bool = False,\n",
    "    use_weights: bool = False,\n",
    "    save_state: bool = True,\n",
    "    copy: bool = False,\n",
    "    **mcmc_equilibrate_kwargs,)"
   ]
  },
  {
   "cell_type": "code",
   "execution_count": 3,
   "metadata": {},
   "outputs": [
    {
     "name": "stderr",
     "output_type": "stream",
     "text": [
      "/usr/lib/python3/dist-packages/graph_tool/draw/cairo_draw.py:39: RuntimeWarning: Error importing cairo. Graph drawing will not work.\n",
      "  warnings.warn(msg, RuntimeWarning)\n",
      "/usr/lib/python3/dist-packages/graph_tool/draw/cairo_draw.py:39: RuntimeWarning: Error importing cairo. Graph drawing will not work.\n",
      "  warnings.warn(msg, RuntimeWarning)\n",
      "/usr/lib/python3/dist-packages/graph_tool/draw/cairo_draw.py:39: RuntimeWarning: Error importing cairo. Graph drawing will not work.\n",
      "  warnings.warn(msg, RuntimeWarning)\n",
      "/usr/lib/python3/dist-packages/graph_tool/all.py:40: RuntimeWarning: Error importing draw module, proceeding nevertheless: /usr/lib/python3/dist-packages/cairo/_cairo.cpython-37m-x86_64-linux-gnu.so: undefined symbol: cairo_tee_surface_index\n",
      "  warnings.warn(msg, RuntimeWarning)\n"
     ]
    }
   ],
   "source": [
    "import graph_tool.all as gt"
   ]
  },
  {
   "cell_type": "code",
   "execution_count": null,
   "metadata": {},
   "outputs": [],
   "source": []
  }
 ],
 "metadata": {
  "kernelspec": {
   "display_name": "Python 3",
   "language": "python",
   "name": "python3"
  },
  "language_info": {
   "codemirror_mode": {
    "name": "ipython",
    "version": 3
   },
   "file_extension": ".py",
   "mimetype": "text/x-python",
   "name": "python",
   "nbconvert_exporter": "python",
   "pygments_lexer": "ipython3",
   "version": "3.7.4"
  }
 },
 "nbformat": 4,
 "nbformat_minor": 2
}
