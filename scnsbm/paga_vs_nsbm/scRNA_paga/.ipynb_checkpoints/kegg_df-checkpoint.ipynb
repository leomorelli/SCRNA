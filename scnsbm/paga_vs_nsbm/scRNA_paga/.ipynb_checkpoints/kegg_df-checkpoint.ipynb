{
 "cells": [
  {
   "cell_type": "code",
   "execution_count": 69,
   "metadata": {},
   "outputs": [
    {
     "name": "stdout",
     "output_type": "stream",
     "text": [
      "Using matplotlib backend: TkAgg\n",
      "Populating the interactive namespace from numpy and matplotlib\n"
     ]
    },
    {
     "name": "stderr",
     "output_type": "stream",
     "text": [
      "/home/morelli/anaconda3/envs/keggpy/lib/python3.8/site-packages/IPython/core/magics/pylab.py:159: UserWarning: pylab import has clobbered these variables: ['e']\n",
      "`%matplotlib` prevents importing * from pylab and numpy\n",
      "  warn(\"pylab import has clobbered these variables: %s\"  % clobbered +\n"
     ]
    }
   ],
   "source": [
    "import scanpy as sc\n",
    "import graph_tool.all as gt\n",
    "import schist\n",
    "import pandas as pd\n",
    "import anndata\n",
    "import mygene\n",
    "import pickle\n",
    "import seaborn as sns\n",
    "import re\n",
    "import scipy.stats\n",
    "%pylab\n",
    "%matplotlib inline"
   ]
  },
  {
   "cell_type": "code",
   "execution_count": 2,
   "metadata": {},
   "outputs": [],
   "source": [
    "from IPython.display import Image\n",
    "\n",
    "# Standard library packages\n",
    "import io\n",
    "import os\n",
    "\n",
    "# Import Biopython modules to interact with KEGG\n",
    "from Bio import SeqIO\n",
    "from Bio.KEGG import REST\n",
    "from Bio.KEGG.KGML import KGML_parser\n",
    "from Bio.Graphics.KGML_vis import KGMLCanvas"
   ]
  },
  {
   "cell_type": "code",
   "execution_count": 3,
   "metadata": {},
   "outputs": [],
   "source": [
    "general_dict=pickle.load(open('kegg/general_dictionary.pkl','rb'))"
   ]
  },
  {
   "cell_type": "code",
   "execution_count": 73,
   "metadata": {},
   "outputs": [],
   "source": [
    "tdata = pd.read_table(\"../benchmarking_data/GSE133535_10X2x5Kcell250Kreads_human_exp_mat.tsv.gz\", compression='gzip')\n",
    "edata = anndata.AnnData(tdata.T)"
   ]
  },
  {
   "cell_type": "code",
   "execution_count": 6,
   "metadata": {},
   "outputs": [],
   "source": [
    "mg = mygene.MyGeneInfo()"
   ]
  },
  {
   "cell_type": "code",
   "execution_count": null,
   "metadata": {},
   "outputs": [],
   "source": []
  },
  {
   "cell_type": "code",
   "execution_count": 7,
   "metadata": {},
   "outputs": [
    {
     "name": "stdout",
     "output_type": "stream",
     "text": [
      "querying 1-1000...done.\n",
      "querying 1001-2000...done.\n",
      "querying 2001-3000...done.\n",
      "querying 3001-4000...done.\n",
      "querying 4001-5000...done.\n",
      "querying 5001-6000...done.\n",
      "querying 6001-7000...done.\n",
      "querying 7001-8000...done.\n",
      "querying 8001-9000...done.\n",
      "querying 9001-10000...done.\n",
      "querying 10001-11000...done.\n",
      "querying 11001-12000...done.\n",
      "querying 12001-13000...done.\n",
      "querying 13001-14000...done.\n",
      "querying 14001-15000...done.\n",
      "querying 15001-16000...done.\n",
      "querying 16001-17000...done.\n",
      "querying 17001-18000...done.\n",
      "querying 18001-19000...done.\n",
      "querying 19001-20000...done.\n",
      "querying 20001-21000...done.\n",
      "querying 21001-22000...done.\n",
      "querying 22001-23000...done.\n",
      "querying 23001-24000...done.\n",
      "querying 24001-25000...done.\n",
      "querying 25001-26000...done.\n",
      "querying 26001-27000...done.\n",
      "querying 27001-28000...done.\n",
      "querying 28001-29000...done.\n",
      "querying 29001-30000...done.\n",
      "querying 30001-31000...done.\n",
      "querying 31001-32000...done.\n",
      "querying 32001-33000...done.\n",
      "querying 33001-34000...done.\n",
      "querying 34001-35000...done.\n",
      "querying 35001-36000...done.\n",
      "querying 36001-37000...done.\n",
      "querying 37001-38000...done.\n",
      "querying 38001-38418...done.\n",
      "Finished.\n"
     ]
    },
    {
     "name": "stderr",
     "output_type": "stream",
     "text": [
      "/home/morelli/anaconda3/envs/keggpy/lib/python3.8/site-packages/biothings_client/base.py:143: FutureWarning: pandas.io.json.json_normalize is deprecated, use pandas.json_normalize instead\n",
      "  df = json_normalize(obj)\n"
     ]
    },
    {
     "name": "stdout",
     "output_type": "stream",
     "text": [
      "35 input query terms found dup hits:\n",
      "\t[('ENSG00000002586', 2), ('ENSG00000124333', 2), ('ENSG00000124334', 2), ('ENSG00000167393', 2), ('E\n",
      "216 input query terms found no hit:\n",
      "\t['ENSG00000116883', 'ENSG00000154537', 'ENSG00000163009', 'ENSG00000167945', 'ENSG00000168078', 'ENS\n",
      "Pass \"returnall=True\" to return complete lists of duplicate or missing query terms.\n"
     ]
    }
   ],
   "source": [
    "\n",
    "ensgenes = [x.split('.')[0] for x in adata.var_names]\n",
    "conversion = mg.querymany(ensgenes, scopes='ensemblgene', fields='symbol', species='human', as_dataframe=True)"
   ]
  },
  {
   "cell_type": "code",
   "execution_count": 14,
   "metadata": {},
   "outputs": [],
   "source": [
    "nv = []\n",
    "for e in tdata.index:\n",
    "    k = e.split('.')[0]\n",
    "    symbol = conversion.loc[k, 'symbol']\n",
    "    if type(symbol) == str:\n",
    "        nv.append(symbol)\n",
    "    else:\n",
    "        nv.append(e)\n",
    "tdata.index = nv"
   ]
  },
  {
   "cell_type": "code",
   "execution_count": 11,
   "metadata": {},
   "outputs": [
    {
     "name": "stdout",
     "output_type": "stream",
     "text": [
      "AnnData object with n_obs × n_vars = 10000 × 38418 \n"
     ]
    }
   ],
   "source": [
    "print(adata)"
   ]
  },
  {
   "cell_type": "code",
   "execution_count": 15,
   "metadata": {},
   "outputs": [
    {
     "data": {
      "text/plain": [
       "Index(['TSPAN6', 'TNMD', 'DPM1', 'SCYL3', 'C1orf112', 'FGR', 'CFH', 'FUCA2',\n",
       "       'GCLC', 'NFYA',\n",
       "       ...\n",
       "       'Z98259.3', 'AC087269.2', 'AC093323.4', 'AC015908.6', 'AL160272.1',\n",
       "       'AL358117.1', 'AC093154.1', 'AC139834.1', 'AL513128.2', 'LINC02792'],\n",
       "      dtype='object', length=38418)"
      ]
     },
     "execution_count": 15,
     "metadata": {},
     "output_type": "execute_result"
    }
   ],
   "source": [
    "tdata.index"
   ]
  },
  {
   "cell_type": "code",
   "execution_count": 16,
   "metadata": {},
   "outputs": [
    {
     "data": {
      "text/html": [
       "<div>\n",
       "<style scoped>\n",
       "    .dataframe tbody tr th:only-of-type {\n",
       "        vertical-align: middle;\n",
       "    }\n",
       "\n",
       "    .dataframe tbody tr th {\n",
       "        vertical-align: top;\n",
       "    }\n",
       "\n",
       "    .dataframe thead th {\n",
       "        text-align: right;\n",
       "    }\n",
       "</style>\n",
       "<table border=\"1\" class=\"dataframe\">\n",
       "  <thead>\n",
       "    <tr style=\"text-align: right;\">\n",
       "      <th></th>\n",
       "      <th>10X2x5K_64220_AAACCTGAGACGCACA</th>\n",
       "      <th>10X2x5K_64220_AAACCTGAGCCACCTG</th>\n",
       "      <th>10X2x5K_64220_AAACCTGAGTGCGTGA</th>\n",
       "      <th>10X2x5K_64220_AAACCTGCACTGTGTA</th>\n",
       "      <th>10X2x5K_64220_AAACCTGCAGACTCGC</th>\n",
       "      <th>10X2x5K_64220_AAACCTGCAGATCTGT</th>\n",
       "      <th>10X2x5K_64220_AAACCTGGTCAAGCGA</th>\n",
       "      <th>10X2x5K_64220_AAACCTGGTCACACGC</th>\n",
       "      <th>10X2x5K_64220_AAACCTGGTCTCCCTA</th>\n",
       "      <th>10X2x5K_64220_AAACCTGGTTGGACCC</th>\n",
       "      <th>...</th>\n",
       "      <th>10X2x5K_64221_TTTGGTTGTTTGGCGC</th>\n",
       "      <th>10X2x5K_64221_TTTGGTTTCTTGCATT</th>\n",
       "      <th>10X2x5K_64221_TTTGTCACACCTCGGA</th>\n",
       "      <th>10X2x5K_64221_TTTGTCACACGGACAA</th>\n",
       "      <th>10X2x5K_64221_TTTGTCACAGGAATGC</th>\n",
       "      <th>10X2x5K_64221_TTTGTCACATCCCACT</th>\n",
       "      <th>10X2x5K_64221_TTTGTCACATTCTCAT</th>\n",
       "      <th>10X2x5K_64221_TTTGTCAGTCTAGGTT</th>\n",
       "      <th>10X2x5K_64221_TTTGTCAGTTGAGTTC</th>\n",
       "      <th>10X2x5K_64221_TTTGTCATCTATCGCC</th>\n",
       "    </tr>\n",
       "  </thead>\n",
       "  <tbody>\n",
       "    <tr>\n",
       "      <th>TSPAN6</th>\n",
       "      <td>0</td>\n",
       "      <td>0</td>\n",
       "      <td>0</td>\n",
       "      <td>0</td>\n",
       "      <td>0</td>\n",
       "      <td>0</td>\n",
       "      <td>0</td>\n",
       "      <td>0</td>\n",
       "      <td>0</td>\n",
       "      <td>0</td>\n",
       "      <td>...</td>\n",
       "      <td>1</td>\n",
       "      <td>0</td>\n",
       "      <td>0</td>\n",
       "      <td>4</td>\n",
       "      <td>0</td>\n",
       "      <td>2</td>\n",
       "      <td>0</td>\n",
       "      <td>0</td>\n",
       "      <td>1</td>\n",
       "      <td>1</td>\n",
       "    </tr>\n",
       "    <tr>\n",
       "      <th>TNMD</th>\n",
       "      <td>0</td>\n",
       "      <td>0</td>\n",
       "      <td>0</td>\n",
       "      <td>0</td>\n",
       "      <td>0</td>\n",
       "      <td>0</td>\n",
       "      <td>0</td>\n",
       "      <td>0</td>\n",
       "      <td>0</td>\n",
       "      <td>0</td>\n",
       "      <td>...</td>\n",
       "      <td>0</td>\n",
       "      <td>0</td>\n",
       "      <td>0</td>\n",
       "      <td>0</td>\n",
       "      <td>0</td>\n",
       "      <td>0</td>\n",
       "      <td>0</td>\n",
       "      <td>0</td>\n",
       "      <td>0</td>\n",
       "      <td>0</td>\n",
       "    </tr>\n",
       "    <tr>\n",
       "      <th>DPM1</th>\n",
       "      <td>0</td>\n",
       "      <td>0</td>\n",
       "      <td>1</td>\n",
       "      <td>0</td>\n",
       "      <td>0</td>\n",
       "      <td>0</td>\n",
       "      <td>0</td>\n",
       "      <td>0</td>\n",
       "      <td>0</td>\n",
       "      <td>0</td>\n",
       "      <td>...</td>\n",
       "      <td>0</td>\n",
       "      <td>0</td>\n",
       "      <td>0</td>\n",
       "      <td>1</td>\n",
       "      <td>0</td>\n",
       "      <td>2</td>\n",
       "      <td>0</td>\n",
       "      <td>1</td>\n",
       "      <td>0</td>\n",
       "      <td>0</td>\n",
       "    </tr>\n",
       "    <tr>\n",
       "      <th>SCYL3</th>\n",
       "      <td>0</td>\n",
       "      <td>0</td>\n",
       "      <td>1</td>\n",
       "      <td>0</td>\n",
       "      <td>0</td>\n",
       "      <td>0</td>\n",
       "      <td>0</td>\n",
       "      <td>0</td>\n",
       "      <td>0</td>\n",
       "      <td>0</td>\n",
       "      <td>...</td>\n",
       "      <td>0</td>\n",
       "      <td>0</td>\n",
       "      <td>0</td>\n",
       "      <td>2</td>\n",
       "      <td>0</td>\n",
       "      <td>0</td>\n",
       "      <td>0</td>\n",
       "      <td>0</td>\n",
       "      <td>0</td>\n",
       "      <td>0</td>\n",
       "    </tr>\n",
       "    <tr>\n",
       "      <th>C1orf112</th>\n",
       "      <td>0</td>\n",
       "      <td>1</td>\n",
       "      <td>1</td>\n",
       "      <td>0</td>\n",
       "      <td>0</td>\n",
       "      <td>0</td>\n",
       "      <td>0</td>\n",
       "      <td>1</td>\n",
       "      <td>0</td>\n",
       "      <td>0</td>\n",
       "      <td>...</td>\n",
       "      <td>0</td>\n",
       "      <td>0</td>\n",
       "      <td>0</td>\n",
       "      <td>1</td>\n",
       "      <td>0</td>\n",
       "      <td>0</td>\n",
       "      <td>1</td>\n",
       "      <td>0</td>\n",
       "      <td>0</td>\n",
       "      <td>0</td>\n",
       "    </tr>\n",
       "    <tr>\n",
       "      <th>...</th>\n",
       "      <td>...</td>\n",
       "      <td>...</td>\n",
       "      <td>...</td>\n",
       "      <td>...</td>\n",
       "      <td>...</td>\n",
       "      <td>...</td>\n",
       "      <td>...</td>\n",
       "      <td>...</td>\n",
       "      <td>...</td>\n",
       "      <td>...</td>\n",
       "      <td>...</td>\n",
       "      <td>...</td>\n",
       "      <td>...</td>\n",
       "      <td>...</td>\n",
       "      <td>...</td>\n",
       "      <td>...</td>\n",
       "      <td>...</td>\n",
       "      <td>...</td>\n",
       "      <td>...</td>\n",
       "      <td>...</td>\n",
       "      <td>...</td>\n",
       "    </tr>\n",
       "    <tr>\n",
       "      <th>AL358117.1</th>\n",
       "      <td>0</td>\n",
       "      <td>0</td>\n",
       "      <td>0</td>\n",
       "      <td>0</td>\n",
       "      <td>0</td>\n",
       "      <td>0</td>\n",
       "      <td>0</td>\n",
       "      <td>0</td>\n",
       "      <td>0</td>\n",
       "      <td>0</td>\n",
       "      <td>...</td>\n",
       "      <td>0</td>\n",
       "      <td>0</td>\n",
       "      <td>0</td>\n",
       "      <td>0</td>\n",
       "      <td>0</td>\n",
       "      <td>0</td>\n",
       "      <td>0</td>\n",
       "      <td>0</td>\n",
       "      <td>0</td>\n",
       "      <td>0</td>\n",
       "    </tr>\n",
       "    <tr>\n",
       "      <th>AC093154.1</th>\n",
       "      <td>0</td>\n",
       "      <td>0</td>\n",
       "      <td>0</td>\n",
       "      <td>0</td>\n",
       "      <td>0</td>\n",
       "      <td>0</td>\n",
       "      <td>0</td>\n",
       "      <td>0</td>\n",
       "      <td>0</td>\n",
       "      <td>0</td>\n",
       "      <td>...</td>\n",
       "      <td>0</td>\n",
       "      <td>0</td>\n",
       "      <td>0</td>\n",
       "      <td>0</td>\n",
       "      <td>0</td>\n",
       "      <td>0</td>\n",
       "      <td>0</td>\n",
       "      <td>0</td>\n",
       "      <td>0</td>\n",
       "      <td>0</td>\n",
       "    </tr>\n",
       "    <tr>\n",
       "      <th>AC139834.1</th>\n",
       "      <td>0</td>\n",
       "      <td>0</td>\n",
       "      <td>0</td>\n",
       "      <td>0</td>\n",
       "      <td>0</td>\n",
       "      <td>0</td>\n",
       "      <td>0</td>\n",
       "      <td>0</td>\n",
       "      <td>0</td>\n",
       "      <td>0</td>\n",
       "      <td>...</td>\n",
       "      <td>0</td>\n",
       "      <td>0</td>\n",
       "      <td>0</td>\n",
       "      <td>0</td>\n",
       "      <td>0</td>\n",
       "      <td>0</td>\n",
       "      <td>0</td>\n",
       "      <td>0</td>\n",
       "      <td>0</td>\n",
       "      <td>0</td>\n",
       "    </tr>\n",
       "    <tr>\n",
       "      <th>AL513128.2</th>\n",
       "      <td>0</td>\n",
       "      <td>0</td>\n",
       "      <td>0</td>\n",
       "      <td>0</td>\n",
       "      <td>0</td>\n",
       "      <td>0</td>\n",
       "      <td>0</td>\n",
       "      <td>0</td>\n",
       "      <td>0</td>\n",
       "      <td>0</td>\n",
       "      <td>...</td>\n",
       "      <td>0</td>\n",
       "      <td>0</td>\n",
       "      <td>0</td>\n",
       "      <td>0</td>\n",
       "      <td>0</td>\n",
       "      <td>0</td>\n",
       "      <td>0</td>\n",
       "      <td>0</td>\n",
       "      <td>0</td>\n",
       "      <td>0</td>\n",
       "    </tr>\n",
       "    <tr>\n",
       "      <th>LINC02792</th>\n",
       "      <td>0</td>\n",
       "      <td>0</td>\n",
       "      <td>0</td>\n",
       "      <td>0</td>\n",
       "      <td>0</td>\n",
       "      <td>0</td>\n",
       "      <td>0</td>\n",
       "      <td>0</td>\n",
       "      <td>0</td>\n",
       "      <td>0</td>\n",
       "      <td>...</td>\n",
       "      <td>0</td>\n",
       "      <td>0</td>\n",
       "      <td>0</td>\n",
       "      <td>0</td>\n",
       "      <td>0</td>\n",
       "      <td>0</td>\n",
       "      <td>0</td>\n",
       "      <td>0</td>\n",
       "      <td>0</td>\n",
       "      <td>0</td>\n",
       "    </tr>\n",
       "  </tbody>\n",
       "</table>\n",
       "<p>38418 rows × 10000 columns</p>\n",
       "</div>"
      ],
      "text/plain": [
       "            10X2x5K_64220_AAACCTGAGACGCACA  10X2x5K_64220_AAACCTGAGCCACCTG  \\\n",
       "TSPAN6                                   0                               0   \n",
       "TNMD                                     0                               0   \n",
       "DPM1                                     0                               0   \n",
       "SCYL3                                    0                               0   \n",
       "C1orf112                                 0                               1   \n",
       "...                                    ...                             ...   \n",
       "AL358117.1                               0                               0   \n",
       "AC093154.1                               0                               0   \n",
       "AC139834.1                               0                               0   \n",
       "AL513128.2                               0                               0   \n",
       "LINC02792                                0                               0   \n",
       "\n",
       "            10X2x5K_64220_AAACCTGAGTGCGTGA  10X2x5K_64220_AAACCTGCACTGTGTA  \\\n",
       "TSPAN6                                   0                               0   \n",
       "TNMD                                     0                               0   \n",
       "DPM1                                     1                               0   \n",
       "SCYL3                                    1                               0   \n",
       "C1orf112                                 1                               0   \n",
       "...                                    ...                             ...   \n",
       "AL358117.1                               0                               0   \n",
       "AC093154.1                               0                               0   \n",
       "AC139834.1                               0                               0   \n",
       "AL513128.2                               0                               0   \n",
       "LINC02792                                0                               0   \n",
       "\n",
       "            10X2x5K_64220_AAACCTGCAGACTCGC  10X2x5K_64220_AAACCTGCAGATCTGT  \\\n",
       "TSPAN6                                   0                               0   \n",
       "TNMD                                     0                               0   \n",
       "DPM1                                     0                               0   \n",
       "SCYL3                                    0                               0   \n",
       "C1orf112                                 0                               0   \n",
       "...                                    ...                             ...   \n",
       "AL358117.1                               0                               0   \n",
       "AC093154.1                               0                               0   \n",
       "AC139834.1                               0                               0   \n",
       "AL513128.2                               0                               0   \n",
       "LINC02792                                0                               0   \n",
       "\n",
       "            10X2x5K_64220_AAACCTGGTCAAGCGA  10X2x5K_64220_AAACCTGGTCACACGC  \\\n",
       "TSPAN6                                   0                               0   \n",
       "TNMD                                     0                               0   \n",
       "DPM1                                     0                               0   \n",
       "SCYL3                                    0                               0   \n",
       "C1orf112                                 0                               1   \n",
       "...                                    ...                             ...   \n",
       "AL358117.1                               0                               0   \n",
       "AC093154.1                               0                               0   \n",
       "AC139834.1                               0                               0   \n",
       "AL513128.2                               0                               0   \n",
       "LINC02792                                0                               0   \n",
       "\n",
       "            10X2x5K_64220_AAACCTGGTCTCCCTA  10X2x5K_64220_AAACCTGGTTGGACCC  \\\n",
       "TSPAN6                                   0                               0   \n",
       "TNMD                                     0                               0   \n",
       "DPM1                                     0                               0   \n",
       "SCYL3                                    0                               0   \n",
       "C1orf112                                 0                               0   \n",
       "...                                    ...                             ...   \n",
       "AL358117.1                               0                               0   \n",
       "AC093154.1                               0                               0   \n",
       "AC139834.1                               0                               0   \n",
       "AL513128.2                               0                               0   \n",
       "LINC02792                                0                               0   \n",
       "\n",
       "            ...  10X2x5K_64221_TTTGGTTGTTTGGCGC  \\\n",
       "TSPAN6      ...                               1   \n",
       "TNMD        ...                               0   \n",
       "DPM1        ...                               0   \n",
       "SCYL3       ...                               0   \n",
       "C1orf112    ...                               0   \n",
       "...         ...                             ...   \n",
       "AL358117.1  ...                               0   \n",
       "AC093154.1  ...                               0   \n",
       "AC139834.1  ...                               0   \n",
       "AL513128.2  ...                               0   \n",
       "LINC02792   ...                               0   \n",
       "\n",
       "            10X2x5K_64221_TTTGGTTTCTTGCATT  10X2x5K_64221_TTTGTCACACCTCGGA  \\\n",
       "TSPAN6                                   0                               0   \n",
       "TNMD                                     0                               0   \n",
       "DPM1                                     0                               0   \n",
       "SCYL3                                    0                               0   \n",
       "C1orf112                                 0                               0   \n",
       "...                                    ...                             ...   \n",
       "AL358117.1                               0                               0   \n",
       "AC093154.1                               0                               0   \n",
       "AC139834.1                               0                               0   \n",
       "AL513128.2                               0                               0   \n",
       "LINC02792                                0                               0   \n",
       "\n",
       "            10X2x5K_64221_TTTGTCACACGGACAA  10X2x5K_64221_TTTGTCACAGGAATGC  \\\n",
       "TSPAN6                                   4                               0   \n",
       "TNMD                                     0                               0   \n",
       "DPM1                                     1                               0   \n",
       "SCYL3                                    2                               0   \n",
       "C1orf112                                 1                               0   \n",
       "...                                    ...                             ...   \n",
       "AL358117.1                               0                               0   \n",
       "AC093154.1                               0                               0   \n",
       "AC139834.1                               0                               0   \n",
       "AL513128.2                               0                               0   \n",
       "LINC02792                                0                               0   \n",
       "\n",
       "            10X2x5K_64221_TTTGTCACATCCCACT  10X2x5K_64221_TTTGTCACATTCTCAT  \\\n",
       "TSPAN6                                   2                               0   \n",
       "TNMD                                     0                               0   \n",
       "DPM1                                     2                               0   \n",
       "SCYL3                                    0                               0   \n",
       "C1orf112                                 0                               1   \n",
       "...                                    ...                             ...   \n",
       "AL358117.1                               0                               0   \n",
       "AC093154.1                               0                               0   \n",
       "AC139834.1                               0                               0   \n",
       "AL513128.2                               0                               0   \n",
       "LINC02792                                0                               0   \n",
       "\n",
       "            10X2x5K_64221_TTTGTCAGTCTAGGTT  10X2x5K_64221_TTTGTCAGTTGAGTTC  \\\n",
       "TSPAN6                                   0                               1   \n",
       "TNMD                                     0                               0   \n",
       "DPM1                                     1                               0   \n",
       "SCYL3                                    0                               0   \n",
       "C1orf112                                 0                               0   \n",
       "...                                    ...                             ...   \n",
       "AL358117.1                               0                               0   \n",
       "AC093154.1                               0                               0   \n",
       "AC139834.1                               0                               0   \n",
       "AL513128.2                               0                               0   \n",
       "LINC02792                                0                               0   \n",
       "\n",
       "            10X2x5K_64221_TTTGTCATCTATCGCC  \n",
       "TSPAN6                                   1  \n",
       "TNMD                                     0  \n",
       "DPM1                                     0  \n",
       "SCYL3                                    0  \n",
       "C1orf112                                 0  \n",
       "...                                    ...  \n",
       "AL358117.1                               0  \n",
       "AC093154.1                               0  \n",
       "AC139834.1                               0  \n",
       "AL513128.2                               0  \n",
       "LINC02792                                0  \n",
       "\n",
       "[38418 rows x 10000 columns]"
      ]
     },
     "execution_count": 16,
     "metadata": {},
     "output_type": "execute_result"
    }
   ],
   "source": [
    "tdata"
   ]
  },
  {
   "cell_type": "code",
   "execution_count": 76,
   "metadata": {
    "scrolled": true
   },
   "outputs": [
    {
     "name": "stdout",
     "output_type": "stream",
     "text": [
      "querying 1-1000...done.\n",
      "querying 1001-2000...done.\n",
      "querying 2001-3000...done.\n",
      "querying 3001-4000...done.\n",
      "querying 4001-5000...done.\n",
      "querying 5001-6000...done.\n",
      "querying 6001-7000...done.\n",
      "querying 7001-8000...done.\n",
      "querying 8001-9000...done.\n",
      "querying 9001-10000...done.\n",
      "querying 10001-11000...done.\n",
      "querying 11001-12000...done.\n",
      "querying 12001-13000...done.\n",
      "querying 13001-14000...done.\n",
      "querying 14001-15000...done.\n",
      "querying 15001-16000...done.\n",
      "querying 16001-17000...done.\n",
      "querying 17001-18000...done.\n",
      "querying 18001-19000...done.\n",
      "querying 19001-20000...done.\n",
      "querying 20001-21000...done.\n",
      "querying 21001-22000...done.\n",
      "querying 22001-23000...done.\n",
      "querying 23001-24000...done.\n",
      "querying 24001-25000...done.\n",
      "querying 25001-26000...done.\n",
      "querying 26001-27000...done.\n",
      "querying 27001-28000...done.\n",
      "querying 28001-29000...done.\n",
      "querying 29001-30000...done.\n",
      "querying 30001-31000...done.\n",
      "querying 31001-32000...done.\n",
      "querying 32001-33000...done.\n",
      "querying 33001-34000...done.\n",
      "querying 34001-35000...done.\n",
      "querying 35001-36000...done.\n",
      "querying 36001-37000...done.\n",
      "querying 37001-38000...done.\n",
      "querying 38001-38418...done.\n",
      "Finished.\n",
      "35 input query terms found dup hits:\n",
      "\t[('ENSG00000002586', 2), ('ENSG00000124333', 2), ('ENSG00000124334', 2), ('ENSG00000167393', 2), ('E\n",
      "216 input query terms found no hit:\n",
      "\t['ENSG00000116883', 'ENSG00000154537', 'ENSG00000163009', 'ENSG00000167945', 'ENSG00000168078', 'ENS\n",
      "Pass \"returnall=True\" to return complete lists of duplicate or missing query terms.\n"
     ]
    },
    {
     "ename": "ValueError",
     "evalue": "operands could not be broadcast together with shapes (10000,) (1604,) ",
     "output_type": "error",
     "traceback": [
      "\u001b[0;31m---------------------------------------------------------------------------\u001b[0m",
      "\u001b[0;31mValueError\u001b[0m                                Traceback (most recent call last)",
      "\u001b[0;32m<ipython-input-76-8a36d1fa3377>\u001b[0m in \u001b[0;36m<module>\u001b[0;34m\u001b[0m\n\u001b[1;32m     16\u001b[0m \u001b[0;34m\u001b[0m\u001b[0m\n\u001b[1;32m     17\u001b[0m \u001b[0mmito_genes\u001b[0m \u001b[0;34m=\u001b[0m \u001b[0medata\u001b[0m\u001b[0;34m.\u001b[0m\u001b[0mvar_names\u001b[0m\u001b[0;34m.\u001b[0m\u001b[0mstr\u001b[0m\u001b[0;34m.\u001b[0m\u001b[0mstartswith\u001b[0m\u001b[0;34m(\u001b[0m\u001b[0;34m'MT-'\u001b[0m\u001b[0;34m)\u001b[0m\u001b[0;34m\u001b[0m\u001b[0;34m\u001b[0m\u001b[0m\n\u001b[0;32m---> 18\u001b[0;31m \u001b[0medata\u001b[0m\u001b[0;34m.\u001b[0m\u001b[0mobs\u001b[0m\u001b[0;34m[\u001b[0m\u001b[0;34m'percent_mito'\u001b[0m\u001b[0;34m]\u001b[0m \u001b[0;34m=\u001b[0m \u001b[0mnp\u001b[0m\u001b[0;34m.\u001b[0m\u001b[0msum\u001b[0m\u001b[0;34m(\u001b[0m\u001b[0medata\u001b[0m\u001b[0;34m[\u001b[0m\u001b[0;34m:\u001b[0m\u001b[0;34m,\u001b[0m \u001b[0mmito_genes\u001b[0m\u001b[0;34m]\u001b[0m\u001b[0;34m.\u001b[0m\u001b[0mX\u001b[0m\u001b[0;34m,\u001b[0m \u001b[0maxis\u001b[0m\u001b[0;34m=\u001b[0m\u001b[0;36m1\u001b[0m\u001b[0;34m)\u001b[0m \u001b[0;34m/\u001b[0m \u001b[0mnp\u001b[0m\u001b[0;34m.\u001b[0m\u001b[0msum\u001b[0m\u001b[0;34m(\u001b[0m\u001b[0madata\u001b[0m\u001b[0;34m.\u001b[0m\u001b[0mX\u001b[0m\u001b[0;34m,\u001b[0m \u001b[0maxis\u001b[0m\u001b[0;34m=\u001b[0m\u001b[0;36m1\u001b[0m\u001b[0;34m)\u001b[0m\u001b[0;34m\u001b[0m\u001b[0;34m\u001b[0m\u001b[0m\n\u001b[0m\u001b[1;32m     19\u001b[0m \u001b[0medata\u001b[0m\u001b[0;34m.\u001b[0m\u001b[0mobs\u001b[0m\u001b[0;34m[\u001b[0m\u001b[0;34m'n_counts'\u001b[0m\u001b[0;34m]\u001b[0m \u001b[0;34m=\u001b[0m \u001b[0medata\u001b[0m\u001b[0;34m.\u001b[0m\u001b[0mX\u001b[0m\u001b[0;34m.\u001b[0m\u001b[0msum\u001b[0m\u001b[0;34m(\u001b[0m\u001b[0maxis\u001b[0m\u001b[0;34m=\u001b[0m\u001b[0;36m1\u001b[0m\u001b[0;34m)\u001b[0m\u001b[0;34m\u001b[0m\u001b[0;34m\u001b[0m\u001b[0m\n\u001b[1;32m     20\u001b[0m \u001b[0medata\u001b[0m \u001b[0;34m=\u001b[0m \u001b[0medata\u001b[0m\u001b[0;34m[\u001b[0m\u001b[0medata\u001b[0m\u001b[0;34m.\u001b[0m\u001b[0mobs\u001b[0m\u001b[0;34m[\u001b[0m\u001b[0;34m'percent_mito'\u001b[0m\u001b[0;34m]\u001b[0m \u001b[0;34m<\u001b[0m \u001b[0;36m0.25\u001b[0m\u001b[0;34m,\u001b[0m \u001b[0;34m:\u001b[0m\u001b[0;34m]\u001b[0m\u001b[0;34m\u001b[0m\u001b[0;34m\u001b[0m\u001b[0m\n",
      "\u001b[0;31mValueError\u001b[0m: operands could not be broadcast together with shapes (10000,) (1604,) "
     ]
    }
   ],
   "source": [
    "mg = mygene.MyGeneInfo()\n",
    "\n",
    "ensgenes = [x.split('.')[0] for x in edata.var_names]\n",
    "conversion = mg.querymany(ensgenes, scopes='ensemblgene', fields='symbol', species='human', as_dataframe=True)\n",
    "\n",
    "nv = []\n",
    "for e in edata.var_names:\n",
    "    k = e.split('.')[0]\n",
    "    symbol = conversion.loc[k, 'symbol']\n",
    "    if type(symbol) == str:\n",
    "        nv.append(symbol)\n",
    "    else:\n",
    "        nv.append(e)\n",
    "edata.var_names = nv\n",
    "edata.var_names_make_unique()        "
   ]
  },
  {
   "cell_type": "code",
   "execution_count": 82,
   "metadata": {},
   "outputs": [
    {
     "name": "stderr",
     "output_type": "stream",
     "text": [
      "Trying to set attribute `.obs` of view, copying.\n"
     ]
    },
    {
     "name": "stdout",
     "output_type": "stream",
     "text": [
      "WARNING: adata.X seems to be already log-transformed.\n"
     ]
    },
    {
     "name": "stderr",
     "output_type": "stream",
     "text": [
      "/home/morelli/anaconda3/envs/keggpy/lib/python3.8/site-packages/scanpy/preprocessing/_simple.py:297: UserWarning: Revieved a view of an AnnData. Making a copy.\n",
      "  view_to_actual(data)\n"
     ]
    }
   ],
   "source": [
    "mito_genes = edata.var_names.str.startswith('MT-') \n",
    "edata.obs['percent_mito'] = np.sum(edata[:, mito_genes].X, axis=1) / np.sum(edata.X, axis=1) \n",
    "edata.obs['n_counts'] = edata.X.sum(axis=1)\n",
    "edata = edata[edata.obs['percent_mito'] < 0.25, :]\n",
    "sc.pp.filter_cells(edata, min_genes=0)\n",
    "count_thr = scipy.stats.scoreatpercentile(edata.obs['n_genes'], 95)\n",
    "edata = edata[edata.obs.n_genes < count_thr, :]\n",
    "\n",
    "sc.pp.normalize_total(edata, target_sum=1e4)\n",
    "sc.pp.log1p(edata)\n",
    "sc.pp.highly_variable_genes(edata)\n",
    "edata = edata[:, edata.var.highly_variable]\n",
    "sc.pp.regress_out(edata, ['n_counts', 'percent_mito'])\n",
    "sc.pp.scale(edata, max_value=10)\n",
    "sc.settings.verbosity=2"
   ]
  },
  {
   "cell_type": "code",
   "execution_count": 93,
   "metadata": {},
   "outputs": [
    {
     "data": {
      "text/plain": [
       "9024"
      ]
     },
     "execution_count": 93,
     "metadata": {},
     "output_type": "execute_result"
    }
   ],
   "source": [
    "edata.n_obs"
   ]
  },
  {
   "cell_type": "code",
   "execution_count": 17,
   "metadata": {},
   "outputs": [],
   "source": [
    "gdata=pd.DataFrame(columns=tdata.columns,index=general_dict.keys())"
   ]
  },
  {
   "cell_type": "code",
   "execution_count": 61,
   "metadata": {},
   "outputs": [
    {
     "data": {
      "text/html": [
       "<div>\n",
       "<style scoped>\n",
       "    .dataframe tbody tr th:only-of-type {\n",
       "        vertical-align: middle;\n",
       "    }\n",
       "\n",
       "    .dataframe tbody tr th {\n",
       "        vertical-align: top;\n",
       "    }\n",
       "\n",
       "    .dataframe thead th {\n",
       "        text-align: right;\n",
       "    }\n",
       "</style>\n",
       "<table border=\"1\" class=\"dataframe\">\n",
       "  <thead>\n",
       "    <tr style=\"text-align: right;\">\n",
       "      <th></th>\n",
       "      <th>10X2x5K_64220_AAACCTGAGACGCACA</th>\n",
       "      <th>10X2x5K_64220_AAACCTGAGCCACCTG</th>\n",
       "      <th>10X2x5K_64220_AAACCTGAGTGCGTGA</th>\n",
       "      <th>10X2x5K_64220_AAACCTGCACTGTGTA</th>\n",
       "      <th>10X2x5K_64220_AAACCTGCAGACTCGC</th>\n",
       "      <th>10X2x5K_64220_AAACCTGCAGATCTGT</th>\n",
       "      <th>10X2x5K_64220_AAACCTGGTCAAGCGA</th>\n",
       "      <th>10X2x5K_64220_AAACCTGGTCACACGC</th>\n",
       "      <th>10X2x5K_64220_AAACCTGGTCTCCCTA</th>\n",
       "      <th>10X2x5K_64220_AAACCTGGTTGGACCC</th>\n",
       "      <th>...</th>\n",
       "      <th>10X2x5K_64221_TTTGGTTGTTTGGCGC</th>\n",
       "      <th>10X2x5K_64221_TTTGGTTTCTTGCATT</th>\n",
       "      <th>10X2x5K_64221_TTTGTCACACCTCGGA</th>\n",
       "      <th>10X2x5K_64221_TTTGTCACACGGACAA</th>\n",
       "      <th>10X2x5K_64221_TTTGTCACAGGAATGC</th>\n",
       "      <th>10X2x5K_64221_TTTGTCACATCCCACT</th>\n",
       "      <th>10X2x5K_64221_TTTGTCACATTCTCAT</th>\n",
       "      <th>10X2x5K_64221_TTTGTCAGTCTAGGTT</th>\n",
       "      <th>10X2x5K_64221_TTTGTCAGTTGAGTTC</th>\n",
       "      <th>10X2x5K_64221_TTTGTCATCTATCGCC</th>\n",
       "    </tr>\n",
       "  </thead>\n",
       "  <tbody>\n",
       "    <tr>\n",
       "      <th>hsa00010</th>\n",
       "      <td>4</td>\n",
       "      <td>4</td>\n",
       "      <td>206</td>\n",
       "      <td>1</td>\n",
       "      <td>14</td>\n",
       "      <td>6</td>\n",
       "      <td>1</td>\n",
       "      <td>1</td>\n",
       "      <td>4</td>\n",
       "      <td>6</td>\n",
       "      <td>...</td>\n",
       "      <td>33</td>\n",
       "      <td>3</td>\n",
       "      <td>0</td>\n",
       "      <td>474</td>\n",
       "      <td>0</td>\n",
       "      <td>119</td>\n",
       "      <td>8</td>\n",
       "      <td>10</td>\n",
       "      <td>50</td>\n",
       "      <td>0</td>\n",
       "    </tr>\n",
       "    <tr>\n",
       "      <th>hsa00020</th>\n",
       "      <td>3</td>\n",
       "      <td>3</td>\n",
       "      <td>47</td>\n",
       "      <td>0</td>\n",
       "      <td>9</td>\n",
       "      <td>0</td>\n",
       "      <td>2</td>\n",
       "      <td>3</td>\n",
       "      <td>1</td>\n",
       "      <td>2</td>\n",
       "      <td>...</td>\n",
       "      <td>32</td>\n",
       "      <td>1</td>\n",
       "      <td>2</td>\n",
       "      <td>161</td>\n",
       "      <td>0</td>\n",
       "      <td>71</td>\n",
       "      <td>3</td>\n",
       "      <td>2</td>\n",
       "      <td>15</td>\n",
       "      <td>0</td>\n",
       "    </tr>\n",
       "    <tr>\n",
       "      <th>hsa00030</th>\n",
       "      <td>3</td>\n",
       "      <td>3</td>\n",
       "      <td>43</td>\n",
       "      <td>0</td>\n",
       "      <td>6</td>\n",
       "      <td>0</td>\n",
       "      <td>0</td>\n",
       "      <td>0</td>\n",
       "      <td>2</td>\n",
       "      <td>1</td>\n",
       "      <td>...</td>\n",
       "      <td>18</td>\n",
       "      <td>0</td>\n",
       "      <td>0</td>\n",
       "      <td>67</td>\n",
       "      <td>0</td>\n",
       "      <td>20</td>\n",
       "      <td>3</td>\n",
       "      <td>2</td>\n",
       "      <td>8</td>\n",
       "      <td>0</td>\n",
       "    </tr>\n",
       "    <tr>\n",
       "      <th>hsa00040</th>\n",
       "      <td>1</td>\n",
       "      <td>1</td>\n",
       "      <td>22</td>\n",
       "      <td>0</td>\n",
       "      <td>2</td>\n",
       "      <td>2</td>\n",
       "      <td>0</td>\n",
       "      <td>0</td>\n",
       "      <td>0</td>\n",
       "      <td>0</td>\n",
       "      <td>...</td>\n",
       "      <td>13</td>\n",
       "      <td>1</td>\n",
       "      <td>1</td>\n",
       "      <td>47</td>\n",
       "      <td>0</td>\n",
       "      <td>46</td>\n",
       "      <td>1</td>\n",
       "      <td>2</td>\n",
       "      <td>26</td>\n",
       "      <td>1</td>\n",
       "    </tr>\n",
       "    <tr>\n",
       "      <th>hsa00051</th>\n",
       "      <td>0</td>\n",
       "      <td>2</td>\n",
       "      <td>114</td>\n",
       "      <td>1</td>\n",
       "      <td>4</td>\n",
       "      <td>1</td>\n",
       "      <td>0</td>\n",
       "      <td>1</td>\n",
       "      <td>3</td>\n",
       "      <td>4</td>\n",
       "      <td>...</td>\n",
       "      <td>18</td>\n",
       "      <td>0</td>\n",
       "      <td>0</td>\n",
       "      <td>127</td>\n",
       "      <td>0</td>\n",
       "      <td>21</td>\n",
       "      <td>6</td>\n",
       "      <td>2</td>\n",
       "      <td>6</td>\n",
       "      <td>0</td>\n",
       "    </tr>\n",
       "    <tr>\n",
       "      <th>...</th>\n",
       "      <td>...</td>\n",
       "      <td>...</td>\n",
       "      <td>...</td>\n",
       "      <td>...</td>\n",
       "      <td>...</td>\n",
       "      <td>...</td>\n",
       "      <td>...</td>\n",
       "      <td>...</td>\n",
       "      <td>...</td>\n",
       "      <td>...</td>\n",
       "      <td>...</td>\n",
       "      <td>...</td>\n",
       "      <td>...</td>\n",
       "      <td>...</td>\n",
       "      <td>...</td>\n",
       "      <td>...</td>\n",
       "      <td>...</td>\n",
       "      <td>...</td>\n",
       "      <td>...</td>\n",
       "      <td>...</td>\n",
       "      <td>...</td>\n",
       "    </tr>\n",
       "    <tr>\n",
       "      <th>hsa05410</th>\n",
       "      <td>4</td>\n",
       "      <td>8</td>\n",
       "      <td>218</td>\n",
       "      <td>8</td>\n",
       "      <td>35</td>\n",
       "      <td>9</td>\n",
       "      <td>3</td>\n",
       "      <td>6</td>\n",
       "      <td>8</td>\n",
       "      <td>5</td>\n",
       "      <td>...</td>\n",
       "      <td>200</td>\n",
       "      <td>3</td>\n",
       "      <td>5</td>\n",
       "      <td>385</td>\n",
       "      <td>2</td>\n",
       "      <td>874</td>\n",
       "      <td>13</td>\n",
       "      <td>16</td>\n",
       "      <td>376</td>\n",
       "      <td>1</td>\n",
       "    </tr>\n",
       "    <tr>\n",
       "      <th>hsa05412</th>\n",
       "      <td>7</td>\n",
       "      <td>15</td>\n",
       "      <td>253</td>\n",
       "      <td>5</td>\n",
       "      <td>45</td>\n",
       "      <td>8</td>\n",
       "      <td>9</td>\n",
       "      <td>6</td>\n",
       "      <td>10</td>\n",
       "      <td>4</td>\n",
       "      <td>...</td>\n",
       "      <td>246</td>\n",
       "      <td>5</td>\n",
       "      <td>12</td>\n",
       "      <td>448</td>\n",
       "      <td>6</td>\n",
       "      <td>966</td>\n",
       "      <td>17</td>\n",
       "      <td>29</td>\n",
       "      <td>450</td>\n",
       "      <td>7</td>\n",
       "    </tr>\n",
       "    <tr>\n",
       "      <th>hsa05414</th>\n",
       "      <td>4</td>\n",
       "      <td>9</td>\n",
       "      <td>256</td>\n",
       "      <td>3</td>\n",
       "      <td>39</td>\n",
       "      <td>9</td>\n",
       "      <td>3</td>\n",
       "      <td>9</td>\n",
       "      <td>10</td>\n",
       "      <td>6</td>\n",
       "      <td>...</td>\n",
       "      <td>194</td>\n",
       "      <td>3</td>\n",
       "      <td>5</td>\n",
       "      <td>395</td>\n",
       "      <td>2</td>\n",
       "      <td>930</td>\n",
       "      <td>15</td>\n",
       "      <td>14</td>\n",
       "      <td>411</td>\n",
       "      <td>1</td>\n",
       "    </tr>\n",
       "    <tr>\n",
       "      <th>hsa05416</th>\n",
       "      <td>17</td>\n",
       "      <td>17</td>\n",
       "      <td>237</td>\n",
       "      <td>0</td>\n",
       "      <td>110</td>\n",
       "      <td>10</td>\n",
       "      <td>1</td>\n",
       "      <td>18</td>\n",
       "      <td>31</td>\n",
       "      <td>9</td>\n",
       "      <td>...</td>\n",
       "      <td>196</td>\n",
       "      <td>6</td>\n",
       "      <td>5</td>\n",
       "      <td>467</td>\n",
       "      <td>1</td>\n",
       "      <td>745</td>\n",
       "      <td>24</td>\n",
       "      <td>33</td>\n",
       "      <td>168</td>\n",
       "      <td>1</td>\n",
       "    </tr>\n",
       "    <tr>\n",
       "      <th>hsa05418</th>\n",
       "      <td>17</td>\n",
       "      <td>17</td>\n",
       "      <td>304</td>\n",
       "      <td>18</td>\n",
       "      <td>104</td>\n",
       "      <td>33</td>\n",
       "      <td>11</td>\n",
       "      <td>30</td>\n",
       "      <td>28</td>\n",
       "      <td>32</td>\n",
       "      <td>...</td>\n",
       "      <td>389</td>\n",
       "      <td>6</td>\n",
       "      <td>7</td>\n",
       "      <td>999</td>\n",
       "      <td>3</td>\n",
       "      <td>1234</td>\n",
       "      <td>29</td>\n",
       "      <td>37</td>\n",
       "      <td>295</td>\n",
       "      <td>3</td>\n",
       "    </tr>\n",
       "  </tbody>\n",
       "</table>\n",
       "<p>337 rows × 10000 columns</p>\n",
       "</div>"
      ],
      "text/plain": [
       "         10X2x5K_64220_AAACCTGAGACGCACA 10X2x5K_64220_AAACCTGAGCCACCTG  \\\n",
       "hsa00010                              4                              4   \n",
       "hsa00020                              3                              3   \n",
       "hsa00030                              3                              3   \n",
       "hsa00040                              1                              1   \n",
       "hsa00051                              0                              2   \n",
       "...                                 ...                            ...   \n",
       "hsa05410                              4                              8   \n",
       "hsa05412                              7                             15   \n",
       "hsa05414                              4                              9   \n",
       "hsa05416                             17                             17   \n",
       "hsa05418                             17                             17   \n",
       "\n",
       "         10X2x5K_64220_AAACCTGAGTGCGTGA 10X2x5K_64220_AAACCTGCACTGTGTA  \\\n",
       "hsa00010                            206                              1   \n",
       "hsa00020                             47                              0   \n",
       "hsa00030                             43                              0   \n",
       "hsa00040                             22                              0   \n",
       "hsa00051                            114                              1   \n",
       "...                                 ...                            ...   \n",
       "hsa05410                            218                              8   \n",
       "hsa05412                            253                              5   \n",
       "hsa05414                            256                              3   \n",
       "hsa05416                            237                              0   \n",
       "hsa05418                            304                             18   \n",
       "\n",
       "         10X2x5K_64220_AAACCTGCAGACTCGC 10X2x5K_64220_AAACCTGCAGATCTGT  \\\n",
       "hsa00010                             14                              6   \n",
       "hsa00020                              9                              0   \n",
       "hsa00030                              6                              0   \n",
       "hsa00040                              2                              2   \n",
       "hsa00051                              4                              1   \n",
       "...                                 ...                            ...   \n",
       "hsa05410                             35                              9   \n",
       "hsa05412                             45                              8   \n",
       "hsa05414                             39                              9   \n",
       "hsa05416                            110                             10   \n",
       "hsa05418                            104                             33   \n",
       "\n",
       "         10X2x5K_64220_AAACCTGGTCAAGCGA 10X2x5K_64220_AAACCTGGTCACACGC  \\\n",
       "hsa00010                              1                              1   \n",
       "hsa00020                              2                              3   \n",
       "hsa00030                              0                              0   \n",
       "hsa00040                              0                              0   \n",
       "hsa00051                              0                              1   \n",
       "...                                 ...                            ...   \n",
       "hsa05410                              3                              6   \n",
       "hsa05412                              9                              6   \n",
       "hsa05414                              3                              9   \n",
       "hsa05416                              1                             18   \n",
       "hsa05418                             11                             30   \n",
       "\n",
       "         10X2x5K_64220_AAACCTGGTCTCCCTA 10X2x5K_64220_AAACCTGGTTGGACCC  ...  \\\n",
       "hsa00010                              4                              6  ...   \n",
       "hsa00020                              1                              2  ...   \n",
       "hsa00030                              2                              1  ...   \n",
       "hsa00040                              0                              0  ...   \n",
       "hsa00051                              3                              4  ...   \n",
       "...                                 ...                            ...  ...   \n",
       "hsa05410                              8                              5  ...   \n",
       "hsa05412                             10                              4  ...   \n",
       "hsa05414                             10                              6  ...   \n",
       "hsa05416                             31                              9  ...   \n",
       "hsa05418                             28                             32  ...   \n",
       "\n",
       "         10X2x5K_64221_TTTGGTTGTTTGGCGC 10X2x5K_64221_TTTGGTTTCTTGCATT  \\\n",
       "hsa00010                             33                              3   \n",
       "hsa00020                             32                              1   \n",
       "hsa00030                             18                              0   \n",
       "hsa00040                             13                              1   \n",
       "hsa00051                             18                              0   \n",
       "...                                 ...                            ...   \n",
       "hsa05410                            200                              3   \n",
       "hsa05412                            246                              5   \n",
       "hsa05414                            194                              3   \n",
       "hsa05416                            196                              6   \n",
       "hsa05418                            389                              6   \n",
       "\n",
       "         10X2x5K_64221_TTTGTCACACCTCGGA 10X2x5K_64221_TTTGTCACACGGACAA  \\\n",
       "hsa00010                              0                            474   \n",
       "hsa00020                              2                            161   \n",
       "hsa00030                              0                             67   \n",
       "hsa00040                              1                             47   \n",
       "hsa00051                              0                            127   \n",
       "...                                 ...                            ...   \n",
       "hsa05410                              5                            385   \n",
       "hsa05412                             12                            448   \n",
       "hsa05414                              5                            395   \n",
       "hsa05416                              5                            467   \n",
       "hsa05418                              7                            999   \n",
       "\n",
       "         10X2x5K_64221_TTTGTCACAGGAATGC 10X2x5K_64221_TTTGTCACATCCCACT  \\\n",
       "hsa00010                              0                            119   \n",
       "hsa00020                              0                             71   \n",
       "hsa00030                              0                             20   \n",
       "hsa00040                              0                             46   \n",
       "hsa00051                              0                             21   \n",
       "...                                 ...                            ...   \n",
       "hsa05410                              2                            874   \n",
       "hsa05412                              6                            966   \n",
       "hsa05414                              2                            930   \n",
       "hsa05416                              1                            745   \n",
       "hsa05418                              3                           1234   \n",
       "\n",
       "         10X2x5K_64221_TTTGTCACATTCTCAT 10X2x5K_64221_TTTGTCAGTCTAGGTT  \\\n",
       "hsa00010                              8                             10   \n",
       "hsa00020                              3                              2   \n",
       "hsa00030                              3                              2   \n",
       "hsa00040                              1                              2   \n",
       "hsa00051                              6                              2   \n",
       "...                                 ...                            ...   \n",
       "hsa05410                             13                             16   \n",
       "hsa05412                             17                             29   \n",
       "hsa05414                             15                             14   \n",
       "hsa05416                             24                             33   \n",
       "hsa05418                             29                             37   \n",
       "\n",
       "         10X2x5K_64221_TTTGTCAGTTGAGTTC 10X2x5K_64221_TTTGTCATCTATCGCC  \n",
       "hsa00010                             50                              0  \n",
       "hsa00020                             15                              0  \n",
       "hsa00030                              8                              0  \n",
       "hsa00040                             26                              1  \n",
       "hsa00051                              6                              0  \n",
       "...                                 ...                            ...  \n",
       "hsa05410                            376                              1  \n",
       "hsa05412                            450                              7  \n",
       "hsa05414                            411                              1  \n",
       "hsa05416                            168                              1  \n",
       "hsa05418                            295                              3  \n",
       "\n",
       "[337 rows x 10000 columns]"
      ]
     },
     "execution_count": 61,
     "metadata": {},
     "output_type": "execute_result"
    }
   ],
   "source": [
    "gdata"
   ]
  },
  {
   "cell_type": "code",
   "execution_count": null,
   "metadata": {},
   "outputs": [],
   "source": []
  },
  {
   "cell_type": "code",
   "execution_count": 60,
   "metadata": {},
   "outputs": [],
   "source": [
    "for i in gdata.index:\n",
    "    count=np.array([0]*len(gdata.columns))\n",
    "    for j in tdata.index:\n",
    "        if j in general_dict[i]:\n",
    "            count=count+np.array(tdata.loc[j,:])\n",
    "    try:\n",
    "        gdata.loc[i,:]=count\n",
    "    except ValueError:\n",
    "        gdata.loc[i,:]=count[0]"
   ]
  },
  {
   "cell_type": "code",
   "execution_count": 40,
   "metadata": {},
   "outputs": [],
   "source": [
    "count=np.array([0]*len(gdata.columns))"
   ]
  },
  {
   "cell_type": "code",
   "execution_count": 56,
   "metadata": {},
   "outputs": [],
   "source": [
    "count=count+np.array(tdata.iloc[0,:])"
   ]
  },
  {
   "cell_type": "code",
   "execution_count": 59,
   "metadata": {},
   "outputs": [
    {
     "data": {
      "text/plain": [
       "array([0, 0, 0, ..., 0, 6, 6])"
      ]
     },
     "execution_count": 59,
     "metadata": {},
     "output_type": "execute_result"
    }
   ],
   "source": [
    "count"
   ]
  },
  {
   "cell_type": "code",
   "execution_count": 24,
   "metadata": {},
   "outputs": [
    {
     "data": {
      "text/plain": [
       "array([0, 0, 0, ..., 0, 1, 1])"
      ]
     },
     "execution_count": 24,
     "metadata": {},
     "output_type": "execute_result"
    }
   ],
   "source": [
    "np.array(tdata.iloc[0,:])"
   ]
  },
  {
   "cell_type": "code",
   "execution_count": 28,
   "metadata": {},
   "outputs": [],
   "source": [
    "gdata.iloc[0,:]=count"
   ]
  },
  {
   "cell_type": "code",
   "execution_count": 38,
   "metadata": {},
   "outputs": [
    {
     "data": {
      "text/plain": [
       "array([ 17,  17, 304, ...,  37, 295,   3])"
      ]
     },
     "execution_count": 38,
     "metadata": {},
     "output_type": "execute_result"
    }
   ],
   "source": [
    "count"
   ]
  },
  {
   "cell_type": "code",
   "execution_count": 35,
   "metadata": {},
   "outputs": [
    {
     "data": {
      "text/plain": [
       "10000"
      ]
     },
     "execution_count": 35,
     "metadata": {},
     "output_type": "execute_result"
    }
   ],
   "source": [
    "len(count[0])"
   ]
  },
  {
   "cell_type": "code",
   "execution_count": 84,
   "metadata": {},
   "outputs": [],
   "source": [
    "adata = anndata.AnnData(gdata.T)"
   ]
  },
  {
   "cell_type": "code",
   "execution_count": 85,
   "metadata": {},
   "outputs": [],
   "source": [
    "metadata = pd.read_table(\"../benchmarking_data/GSE133535_10X2x5Kcell250Kreads_human_metada.tsv.gz\", compression='gzip')"
   ]
  },
  {
   "cell_type": "code",
   "execution_count": 86,
   "metadata": {},
   "outputs": [
    {
     "name": "stderr",
     "output_type": "stream",
     "text": [
      "Trying to set attribute `.obs` of view, copying.\n"
     ]
    },
    {
     "name": "stdout",
     "output_type": "stream",
     "text": [
      "filtered out 7 genes that are detected in less than 5 cells\n"
     ]
    }
   ],
   "source": [
    "hca_annot = pd.read_table(\"../benchmarking_data/HCA_annotations.txt\")\n",
    "\n",
    "cells = [x for x in hca_annot.query('batch == \"Chromium\"').index if x in adata.obs_names]\n",
    "\n",
    "adata = adata[cells]\n",
    "\n",
    "adata.obs['nnet2'] = hca_annot.loc[cells, 'nnet2']\n",
    "sc.pp.filter_genes(adata, min_cells=5)\n",
    "\n"
   ]
  },
  {
   "cell_type": "code",
   "execution_count": 87,
   "metadata": {},
   "outputs": [
    {
     "name": "stdout",
     "output_type": "stream",
     "text": [
      "normalizing counts per cell\n",
      "    finished (0:00:00)\n",
      "extracting highly variable genes\n",
      "    finished (0:00:00)\n"
     ]
    },
    {
     "name": "stderr",
     "output_type": "stream",
     "text": [
      "/home/morelli/anaconda3/envs/keggpy/lib/python3.8/site-packages/scanpy/preprocessing/_simple.py:912: UserWarning: Revieved a view of an AnnData. Making a copy.\n",
      "  view_to_actual(adata)\n"
     ]
    }
   ],
   "source": [
    "sc.pp.normalize_total(adata, target_sum=1e4)\n",
    "sc.pp.log1p(adata)\n",
    "sc.pp.highly_variable_genes(adata)\n",
    "adata = adata[:, adata.var.highly_variable]\n",
    "sc.pp.scale(adata, max_value=10)\n",
    "sc.settings.verbosity=2"
   ]
  },
  {
   "cell_type": "code",
   "execution_count": 88,
   "metadata": {},
   "outputs": [
    {
     "name": "stdout",
     "output_type": "stream",
     "text": [
      "    on highly variable genes\n",
      "computing PCA with n_comps = 41\n",
      "    finished (0:00:00)\n",
      "computing neighbors\n",
      "    using data matrix X directly\n",
      "    finished (0:00:00)\n",
      "computing UMAP\n",
      "    finished (0:00:03)\n"
     ]
    }
   ],
   "source": [
    "sc.tl.pca(adata)\n",
    "sc.pp.neighbors(adata, n_pcs=30, n_neighbors=30)\n",
    "sc.tl.umap(adata)"
   ]
  },
  {
   "cell_type": "code",
   "execution_count": 89,
   "metadata": {},
   "outputs": [
    {
     "name": "stdout",
     "output_type": "stream",
     "text": [
      "running Leiden clustering\n",
      "    finished (0:00:00)\n"
     ]
    }
   ],
   "source": [
    "sc.tl.leiden(adata)"
   ]
  },
  {
   "cell_type": "code",
   "execution_count": 90,
   "metadata": {},
   "outputs": [
    {
     "name": "stderr",
     "output_type": "stream",
     "text": [
      "... storing 'nnet2' as categorical\n"
     ]
    },
    {
     "data": {
      "image/png": "[encoded data removed]",
      "text/plain": [
       "<Figure size 989.28x288 with 2 Axes>"
      ]
     },
     "metadata": {},
     "output_type": "display_data"
    }
   ],
   "source": [
    "sc.pl.umap(adata,color=['leiden','nnet2'])"
   ]
  },
  {
   "cell_type": "code",
   "execution_count": 91,
   "metadata": {},
   "outputs": [
    {
     "name": "stdout",
     "output_type": "stream",
     "text": [
      "minimizing the nested Stochastic Block Model\n",
      "    done (0:03:04)\n",
      "    calculating cell affinity to groups\n",
      "    finished (0:03:07)\n"
     ]
    }
   ],
   "source": [
    "schist.inference.nested_model(adata, equilibrate=False,deg_corr=True, steps_anneal=3,n_init=3)"
   ]
  },
  {
   "cell_type": "code",
   "execution_count": 97,
   "metadata": {},
   "outputs": [
    {
     "data": {
      "image/png": "[encoded data removed]",
      "text/plain": [
       "<Figure size 989.28x288 with 2 Axes>"
      ]
     },
     "metadata": {},
     "output_type": "display_data"
    }
   ],
   "source": [
    "sc.pl.umap(adata,color=['nsbm_level_2','nnet2'])"
   ]
  },
  {
   "cell_type": "code",
   "execution_count": 99,
   "metadata": {},
   "outputs": [
    {
     "name": "stderr",
     "output_type": "stream",
     "text": [
      "<ipython-input-99-a8ff4d383f77>:17: DeprecationWarning: The default dtype for empty Series will be 'object' instead of 'float64' in a future version. Specify a dtype explicitly to silence this warning.\n",
      "  flat=pd.Series()\n",
      "posx and posy should be finite values\n",
      "posx and posy should be finite values\n",
      "posx and posy should be finite values\n",
      "posx and posy should be finite values\n"
     ]
    },
    {
     "name": "stdout",
     "output_type": "stream",
     "text": [
      "0\n",
      "1\n",
      "2\n"
     ]
    },
    {
     "data": {
      "image/png": "[encoded data removed]",
      "text/plain": [
       "<Figure size 1483.92x288 with 3 Axes>"
      ]
     },
     "metadata": {},
     "output_type": "display_data"
    },
    {
     "name": "stdout",
     "output_type": "stream",
     "text": [
      "[0.0026246719160104987, 0.02490421455938697, 0.009615384615384616, 0.05084745762711865, 0.08856088560885608]\n"
     ]
    },
    {
     "data": {
      "text/plain": [
       "<matplotlib.axes._subplots.AxesSubplot at 0x7ff11491a790>"
      ]
     },
     "execution_count": 99,
     "metadata": {},
     "output_type": "execute_result"
    },
    {
     "data": {
      "image/png": "[encoded data removed]",
      "text/plain": [
       "<Figure size 432x288 with 1 Axes>"
      ]
     },
     "metadata": {
      "needs_background": "light"
     },
     "output_type": "display_data"
    }
   ],
   "source": [
    "level=str(2)\n",
    "marginals = adata.uns['nsbm']['cell_affinity'][level] \n",
    "adata.obs['max_P'] = -np.log10(np.max(marginals, axis=1))\n",
    "#adata.obs['max_P'] = np.max(marginals,axis=1)\n",
    "group_sig=[]\n",
    "group_names = adata.obs[f'nsbm_level_{level}'].cat.categories\n",
    "for group in group_names:\n",
    "    adata0=adata[adata.obs[f'nsbm_level_{level}']==group]\n",
    "    c=0\n",
    "    for i in adata0.obs['max_P']:\n",
    "        if i>0.05:\n",
    "#        if i>0.95:\n",
    "            c=c+1\n",
    "    c=c/(len(adata0.obs['max_P']))\n",
    "    group_sig.append(c)\n",
    "cdata=adata\n",
    "flat=pd.Series()\n",
    "for i in range(len(group_sig)):\n",
    "    if group_sig[i]<0.05:\n",
    "#    if group_sig[i]>0.95:\n",
    "        a=pd.Series(cdata.obs[f'nsbm_level_{level}'][cdata.obs[f'nsbm_level_{level}']==str(i)], index=cdata.obs[f'nsbm_level_{level}'].index[cdata.obs[f'nsbm_level_{level}']==str(i)])\n",
    "        flat=pd.Series.append(flat,a, ignore_index=False, verify_integrity=True)\n",
    "        print(i)\n",
    "cdata.obs['flat']=flat\n",
    "sc.pl.umap(cdata, color=['flat','nnet2',f'nsbm_level_{level}'],legend_loc='on data')\n",
    "print(group_sig)\n",
    "\n",
    "sns.violinplot(x=f'nsbm_level_{level}', y='max_P', data = adata.obs, scale='width')"
   ]
  },
  {
   "cell_type": "code",
   "execution_count": null,
   "metadata": {},
   "outputs": [],
   "source": []
  }
 ],
 "metadata": {
  "kernelspec": {
   "display_name": "Python 3",
   "language": "python",
   "name": "python3"
  },
  "language_info": {
   "codemirror_mode": {
    "name": "ipython",
    "version": 3
   },
   "file_extension": ".py",
   "mimetype": "text/x-python",
   "name": "python",
   "nbconvert_exporter": "python",
   "pygments_lexer": "ipython3",
   "version": "3.8.2"
  }
 },
 "nbformat": 4,
 "nbformat_minor": 4
}
