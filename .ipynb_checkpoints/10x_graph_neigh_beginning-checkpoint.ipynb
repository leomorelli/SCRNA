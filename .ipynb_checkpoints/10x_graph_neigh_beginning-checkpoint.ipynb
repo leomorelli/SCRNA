{
 "cells": [
  {
   "cell_type": "code",
   "execution_count": 1,
   "metadata": {},
   "outputs": [
    {
     "name": "stderr",
     "output_type": "stream",
     "text": [
      "/usr/lib/python3/dist-packages/graph_tool/draw/cairo_draw.py:39: RuntimeWarning: Error importing cairo. Graph drawing will not work.\n",
      "  warnings.warn(msg, RuntimeWarning)\n",
      "/usr/lib/python3/dist-packages/graph_tool/draw/cairo_draw.py:39: RuntimeWarning: Error importing cairo. Graph drawing will not work.\n",
      "  warnings.warn(msg, RuntimeWarning)\n",
      "/usr/lib/python3/dist-packages/graph_tool/draw/cairo_draw.py:39: RuntimeWarning: Error importing cairo. Graph drawing will not work.\n",
      "  warnings.warn(msg, RuntimeWarning)\n",
      "/usr/lib/python3/dist-packages/graph_tool/all.py:40: RuntimeWarning: Error importing draw module, proceeding nevertheless: /usr/lib/python3/dist-packages/cairo/_cairo.cpython-37m-x86_64-linux-gnu.so: undefined symbol: cairo_tee_surface_index\n",
      "  warnings.warn(msg, RuntimeWarning)\n"
     ]
    },
    {
     "name": "stdout",
     "output_type": "stream",
     "text": [
      "Using matplotlib backend: TkAgg\n",
      "Populating the interactive namespace from numpy and matplotlib\n"
     ]
    }
   ],
   "source": [
    "import scanpy as sc\n",
    "import pandas as pd\n",
    "import pickle\n",
    "import numpy as np\n",
    "import graph_tool.all as gt\n",
    "%matplotlib inline\n",
    "%pylab"
   ]
  },
  {
   "cell_type": "code",
   "execution_count": 2,
   "metadata": {},
   "outputs": [],
   "source": [
    "import anndata\n",
    "adata=sc.read('adata_10x/adata_sc_10x.h5ad')\n",
    "sc.tl.rank_genes_groups(adata, 'leiden', method='t-test')\n",
    "df_significativo= pd.DataFrame(adata.uns['rank_genes_groups']['names']).head(20) #### df con i 20 geni significativi per gruppo\n",
    "cell_annotation= pd.read_table('../sc_mixology/data/csv/sc_10x_5cl.metadata.csv.gz', compression=\"gzip\", sep=\",\", index_col=0)\n",
    "adata.obs.loc[:, \"cell_line\"] = cell_annotation.loc[adata.obs_names, \"cell_line\"]"
   ]
  },
  {
   "cell_type": "code",
   "execution_count": 22,
   "metadata": {},
   "outputs": [
    {
     "data": {
      "text/plain": [
       "<Graph object, undirected, with 0 vertices and 0 edges at 0x7fa388a85d10>"
      ]
     },
     "execution_count": 22,
     "metadata": {},
     "output_type": "execute_result"
    }
   ],
   "source": [
    "g = gt.Graph(directed=False)\n",
    "g"
   ]
  },
  {
   "cell_type": "code",
   "execution_count": 4,
   "metadata": {},
   "outputs": [
    {
     "data": {
      "text/plain": [
       "{'connectivities': <860x860 sparse matrix of type '<class 'numpy.float64'>'\n",
       " \twith 12014 stored elements in Compressed Sparse Row format>,\n",
       " 'distances': <860x860 sparse matrix of type '<class 'numpy.float64'>'\n",
       " \twith 7740 stored elements in Compressed Sparse Row format>,\n",
       " 'params': {'method': 'umap',\n",
       "  'metric': 'euclidean',\n",
       "  'n_neighbors': 10,\n",
       "  'n_pcs': 40}}"
      ]
     },
     "execution_count": 4,
     "metadata": {},
     "output_type": "execute_result"
    }
   ],
   "source": [
    "adata.uns['neighbors']"
   ]
  },
  {
   "cell_type": "code",
   "execution_count": 28,
   "metadata": {},
   "outputs": [
    {
     "name": "stdout",
     "output_type": "stream",
     "text": [
      "  (0, 3)\t1.0\n",
      "  (0, 4)\t0.08516783496033718\n",
      "  (0, 5)\t0.5324798114295779\n",
      "  (0, 6)\t0.6472797497416668\n",
      "  (0, 10)\t0.32859563442624135\n",
      "  (0, 18)\t0.19712161308736198\n",
      "  (0, 24)\t0.25255344699539767\n",
      "  (0, 30)\t0.2108877608071739\n",
      "  (0, 31)\t0.4172287095915445\n",
      "  (0, 88)\t0.21980422215900267\n",
      "  (0, 839)\t0.25499938506173925\n",
      "  (1, 2)\t1.0\n",
      "  (1, 28)\t0.27979636077006603\n",
      "  (1, 51)\t0.250020200318358\n",
      "  (1, 62)\t0.2911784049363471\n",
      "  (1, 65)\t0.2347224583334965\n",
      "  (1, 93)\t0.2003520159061067\n",
      "  (1, 103)\t0.25655547806096646\n",
      "  (1, 123)\t0.5658598576361251\n",
      "  (1, 302)\t0.2434392405319874\n",
      "  (1, 632)\t0.23886128081422467\n",
      "  (2, 1)\t1.0\n",
      "  (2, 12)\t0.2048727199869503\n",
      "  (2, 23)\t0.21191042038173014\n",
      "  (2, 28)\t0.5715436807634252\n",
      "  :\t:\n",
      "  (857, 375)\t0.34751240159787944\n",
      "  (857, 391)\t0.21046271295236876\n",
      "  (857, 455)\t0.2668507409909808\n",
      "  (857, 464)\t0.1883283268858911\n",
      "  (857, 500)\t1.0\n",
      "  (857, 548)\t0.3412814799232153\n",
      "  (857, 568)\t0.40197208983827093\n",
      "  (858, 421)\t0.24239385367230148\n",
      "  (858, 456)\t0.35709284809259373\n",
      "  (858, 616)\t0.2912755513966977\n",
      "  (858, 636)\t0.37563043686370035\n",
      "  (858, 639)\t0.26197980856562253\n",
      "  (858, 658)\t0.2457824550156138\n",
      "  (858, 710)\t0.2873310724959773\n",
      "  (858, 757)\t0.26045073322165535\n",
      "  (858, 856)\t1.0\n",
      "  (859, 134)\t0.2742710542317914\n",
      "  (859, 230)\t0.42749069742408896\n",
      "  (859, 247)\t0.3159083398128853\n",
      "  (859, 297)\t0.23968454153040641\n",
      "  (859, 394)\t0.24285964738481153\n",
      "  (859, 527)\t0.26911797744903254\n",
      "  (859, 580)\t0.27302569981484276\n",
      "  (859, 656)\t0.2795616369385101\n",
      "  (859, 848)\t1.0\n"
     ]
    }
   ],
   "source": [
    "adj=adata.uns['neighbors']['connectivities']\n",
    "print(adj)"
   ]
  },
  {
   "cell_type": "code",
   "execution_count": 29,
   "metadata": {},
   "outputs": [
    {
     "name": "stdout",
     "output_type": "stream",
     "text": [
      "<EdgePropertyMap object with value type 'double', for Graph 0x7fa388a85d10, at 0x7fa384a91790>\n"
     ]
    }
   ],
   "source": [
    "edge_weights = g.new_edge_property('double')\n",
    "print(edge_weights)"
   ]
  },
  {
   "cell_type": "code",
   "execution_count": 17,
   "metadata": {},
   "outputs": [
    {
     "data": {
      "text/plain": [
       "{'weight': <EdgePropertyMap object with value type 'double', for Graph 0x7fa3db36e050, at 0x7fa38b6b8e90>}"
      ]
     },
     "execution_count": 17,
     "metadata": {},
     "output_type": "execute_result"
    }
   ],
   "source": [
    "g.edge_properties['weight'] = edge_weights\n",
    "g.edge_properties"
   ]
  },
  {
   "cell_type": "code",
   "execution_count": 18,
   "metadata": {},
   "outputs": [
    {
     "data": {
      "text/plain": [
       "(array([  0,   0,   0, ..., 842, 848, 856]),\n",
       " array([  3,   4,   5, ..., 855, 859, 858]))"
      ]
     },
     "execution_count": 18,
     "metadata": {},
     "output_type": "execute_result"
    }
   ],
   "source": [
    "nnz = np.nonzero(np.triu(adj.todense(),1))\n",
    "nnz"
   ]
  },
  {
   "cell_type": "code",
   "execution_count": 19,
   "metadata": {},
   "outputs": [
    {
     "data": {
      "text/plain": [
       "6007"
      ]
     },
     "execution_count": 19,
     "metadata": {},
     "output_type": "execute_result"
    }
   ],
   "source": [
    "nedges = len(nnz[0])\n",
    "nedges"
   ]
  },
  {
   "cell_type": "code",
   "execution_count": 20,
   "metadata": {},
   "outputs": [],
   "source": [
    "g.add_edge_list(np.hstack([np.transpose(nnz),np.reshape(adj[nnz],(nedges,1))]),eprops=[edge_weights])"
   ]
  },
  {
   "cell_type": "code",
   "execution_count": 31,
   "metadata": {},
   "outputs": [
    {
     "data": {
      "text/plain": [
       "<Graph object, undirected, with 0 vertices and 0 edges at 0x7fa388a85d10>"
      ]
     },
     "execution_count": 31,
     "metadata": {},
     "output_type": "execute_result"
    }
   ],
   "source": [
    "g"
   ]
  },
  {
   "cell_type": "code",
   "execution_count": null,
   "metadata": {},
   "outputs": [],
   "source": []
  }
 ],
 "metadata": {
  "kernelspec": {
   "display_name": "Python 3",
   "language": "python",
   "name": "python3"
  },
  "language_info": {
   "codemirror_mode": {
    "name": "ipython",
    "version": 3
   },
   "file_extension": ".py",
   "mimetype": "text/x-python",
   "name": "python",
   "nbconvert_exporter": "python",
   "pygments_lexer": "ipython3",
   "version": "3.7.4"
  }
 },
 "nbformat": 4,
 "nbformat_minor": 2
}
