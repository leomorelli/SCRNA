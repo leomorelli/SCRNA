{
 "cells": [
  {
   "cell_type": "code",
   "execution_count": 1,
   "metadata": {},
   "outputs": [
    {
     "name": "stderr",
     "output_type": "stream",
     "text": [
      "/usr/lib/python3/dist-packages/graph_tool/draw/cairo_draw.py:39: RuntimeWarning: Error importing cairo. Graph drawing will not work.\n",
      "  warnings.warn(msg, RuntimeWarning)\n",
      "/usr/lib/python3/dist-packages/graph_tool/draw/cairo_draw.py:39: RuntimeWarning: Error importing cairo. Graph drawing will not work.\n",
      "  warnings.warn(msg, RuntimeWarning)\n",
      "/usr/lib/python3/dist-packages/graph_tool/draw/cairo_draw.py:39: RuntimeWarning: Error importing cairo. Graph drawing will not work.\n",
      "  warnings.warn(msg, RuntimeWarning)\n",
      "/usr/lib/python3/dist-packages/graph_tool/all.py:40: RuntimeWarning: Error importing draw module, proceeding nevertheless: /usr/lib/python3/dist-packages/cairo/_cairo.cpython-37m-x86_64-linux-gnu.so: undefined symbol: cairo_tee_surface_index\n",
      "  warnings.warn(msg, RuntimeWarning)\n"
     ]
    },
    {
     "name": "stdout",
     "output_type": "stream",
     "text": [
      "Using matplotlib backend: TkAgg\n",
      "Populating the interactive namespace from numpy and matplotlib\n"
     ]
    }
   ],
   "source": [
    "import scanpy as sc\n",
    "import pandas as pd\n",
    "import pickle\n",
    "import numpy as np\n",
    "import graph_tool.all as gt\n",
    "import anndata\n",
    "%matplotlib inline\n",
    "%pylab"
   ]
  },
  {
   "cell_type": "code",
   "execution_count": 2,
   "metadata": {},
   "outputs": [],
   "source": [
    "state4=pickle.load(open('adata_10x/10x_equilibrate_final_test/10x_state4.pkl','rb'))"
   ]
  },
  {
   "cell_type": "code",
   "execution_count": 4,
   "metadata": {},
   "outputs": [
    {
     "data": {
      "text/plain": [
       "<NestedBlockState object, with base <BlockState object with 61 blocks (61 nonempty), for graph <Graph object, undirected, with 860 vertices and 5976 edges at 0x7fb75bb33610>, at 0x7fb70c6adf10>, and 5 levels of sizes [(860, 61), (61, 13), (13, 4), (4, 2), (2, 1)] at 0x7fb75bb33e50>"
      ]
     },
     "execution_count": 4,
     "metadata": {},
     "output_type": "execute_result"
    }
   ],
   "source": [
    "state4"
   ]
  },
  {
   "cell_type": "code",
   "execution_count": 14,
   "metadata": {},
   "outputs": [
    {
     "data": {
      "text/plain": [
       "(31.156620850214846, 946922, 280080)"
      ]
     },
     "execution_count": 14,
     "metadata": {},
     "output_type": "execute_result"
    }
   ],
   "source": [
    "bs = state4.get_bs()                   \n",
    "bs += [np.zeros(1)] * (10 - len(bs))\n",
    "state = state4.copy(bs=bs, sampling=True)\n",
    "\n",
    "state.mcmc_sweep(d=0.1,niter=1000)"
   ]
  },
  {
   "cell_type": "code",
   "execution_count": 18,
   "metadata": {},
   "outputs": [
    {
     "data": {
      "text/plain": [
       "<NestedBlockState object, with base <BlockState object with 62 blocks (61 nonempty), for graph <Graph object, undirected, with 860 vertices and 5976 edges at 0x7fb75bb33610>, at 0x7fb7080cca10>, and 10 levels of sizes [(860, 61), (61, 14), (14, 4), (4, 2), (2, 2), (2, 2), (2, 1), (1, 1), (1, 1), (1, 1)] at 0x7fb7080ccc10>"
      ]
     },
     "execution_count": 18,
     "metadata": {},
     "output_type": "execute_result"
    }
   ],
   "source": [
    "state"
   ]
  },
  {
   "cell_type": "code",
   "execution_count": 19,
   "metadata": {},
   "outputs": [
    {
     "data": {
      "text/plain": [
       "<BlockState object with 7 blocks (4 nonempty), for graph <Graph object, undirected, with 16 vertices and 35 edges at 0x7fb7080ef310>, at 0x7fb703be1a10>"
      ]
     },
     "execution_count": 19,
     "metadata": {},
     "output_type": "execute_result"
    }
   ],
   "source": [
    "state.get_levels()[2]"
   ]
  },
  {
   "cell_type": "code",
   "execution_count": 24,
   "metadata": {},
   "outputs": [],
   "source": [
    "pv = None\n",
    "for i in range(100):\n",
    "    state.mcmc_sweep(d=0.1, niter=10)\n",
    "    pv = state.get_levels()[2].collect_vertex_marginals(pv)"
   ]
  },
  {
   "cell_type": "code",
   "execution_count": 25,
   "metadata": {},
   "outputs": [
    {
     "data": {
      "text/plain": [
       "[array([ 9,  0,  6, 14,  3, 28,  4, 12,  8, 16], dtype=int32),\n",
       " array([19,  7, 16,  6,  6, 11,  9,  1, 12,  1,  5,  7], dtype=int32),\n",
       " array([ 0, 51,  0,  0,  0,  0,  0, 29,  0, 15,  5], dtype=int32),\n",
       " array([17,  6,  4,  9,  5, 10,  7, 11, 12,  5,  4, 10], dtype=int32),\n",
       " array([ 0,  1,  6, 14, 18,  0,  7, 16,  4, 16, 18], dtype=int32),\n",
       " array([14,  0, 12, 20,  1, 17,  6,  5,  8, 16,  0,  1], dtype=int32),\n",
       " array([ 3, 11,  4,  6, 14,  8,  3, 34,  5,  8,  2,  2], dtype=int32),\n",
       " array([ 0, 53,  0,  0,  0,  0,  0, 30,  0, 12,  5], dtype=int32),\n",
       " array([ 8,  6,  6, 20,  4, 15,  4, 15,  2, 16,  2,  2], dtype=int32),\n",
       " array([12, 25, 10,  5,  6,  8,  3, 12,  8,  5,  3,  3], dtype=int32),\n",
       " array([12, 12,  6,  4, 12, 10,  6, 12,  8, 12,  5,  1], dtype=int32),\n",
       " array([ 7,  0,  7, 18,  4, 23,  1, 21,  7, 12], dtype=int32),\n",
       " array([ 6,  7, 10, 14,  8,  1,  9, 18,  9,  5, 10,  3], dtype=int32),\n",
       " array([13,  0, 11, 17,  8, 16,  4,  3,  9, 17,  0,  2], dtype=int32),\n",
       " array([15,  0, 13, 17,  3, 19,  5,  1,  9, 16,  0,  2], dtype=int32),\n",
       " array([ 3,  6,  6, 14,  8,  0,  8,  9,  4, 21, 20,  1], dtype=int32),\n",
       " array([ 0, 51,  1,  1,  0,  1,  1, 29,  0, 10,  5,  1], dtype=int32),\n",
       " array([29, 15,  1,  5, 12, 11,  2,  1, 12,  7,  2,  3], dtype=int32),\n",
       " array([7, 9, 1, 6, 5, 1, 2, 2, 3, 5, 5], dtype=int32)]"
      ]
     },
     "execution_count": 25,
     "metadata": {},
     "output_type": "execute_result"
    }
   ],
   "source": [
    "[x for x in pv]"
   ]
  },
  {
   "cell_type": "code",
   "execution_count": 27,
   "metadata": {},
   "outputs": [
    {
     "data": {
      "text/plain": [
       "[array([0, 0, 0, 6, 0, 1, 0, 0, 3], dtype=int32),\n",
       " array([0, 0, 1, 6, 0, 0, 0, 0, 3], dtype=int32),\n",
       " array([0, 1, 1, 2, 0, 0, 1, 0, 4, 0, 0, 1], dtype=int32),\n",
       " array([2, 0, 1, 5, 0, 0, 1, 0, 0, 0, 1], dtype=int32),\n",
       " array([2, 0, 0, 1, 0, 0, 1, 0, 0, 4, 0, 2], dtype=int32),\n",
       " array([3, 0, 0, 1, 0, 0, 1, 1, 1, 1, 1, 1], dtype=int32),\n",
       " array([0, 0, 0, 0, 2, 0, 1, 1, 0, 6], dtype=int32),\n",
       " array([0, 1, 0, 0, 2, 0, 1, 1, 1, 4], dtype=int32),\n",
       " array([4, 0, 0, 0, 1, 1, 4], dtype=int32),\n",
       " array([0, 1, 0, 0, 0, 1, 1, 0, 2, 4, 0, 1], dtype=int32),\n",
       " array([0, 0, 0, 0, 1, 1, 2, 2, 1, 0, 1, 2], dtype=int32),\n",
       " array([0, 0, 0, 6, 0, 0, 0, 1, 3], dtype=int32),\n",
       " array([0, 0, 0, 3, 0, 0, 3, 0, 2, 0, 1, 1], dtype=int32),\n",
       " array([0, 0, 0, 5, 0, 1, 0, 0, 4], dtype=int32),\n",
       " array([0, 1, 1, 3, 0, 0, 0, 2, 3], dtype=int32),\n",
       " array([2, 1, 0, 1, 0, 0, 3, 0, 1, 0, 1, 1], dtype=int32),\n",
       " array([1, 0, 0, 1, 2, 0, 3, 2, 0, 1], dtype=int32),\n",
       " array([3, 1, 2, 0, 0, 0, 0, 0, 1, 0, 2, 1], dtype=int32),\n",
       " array([2, 0, 0, 2, 0, 0, 0, 1, 0, 3, 1, 1], dtype=int32),\n",
       " array([0, 0, 2, 2, 1, 0, 0, 0, 1, 3, 0, 1], dtype=int32)]"
      ]
     },
     "execution_count": 27,
     "metadata": {},
     "output_type": "execute_result"
    }
   ],
   "source": [
    "pv = None\n",
    "for i in range(10):\n",
    "    state.mcmc_sweep(d=0.1, niter=1000)\n",
    "    pv = state.get_levels()[2].collect_vertex_marginals(pv)\n",
    "[x for x in pv]"
   ]
  },
  {
   "cell_type": "code",
   "execution_count": null,
   "metadata": {},
   "outputs": [],
   "source": []
  }
 ],
 "metadata": {
  "kernelspec": {
   "display_name": "Python 3",
   "language": "python",
   "name": "python3"
  },
  "language_info": {
   "codemirror_mode": {
    "name": "ipython",
    "version": 3
   },
   "file_extension": ".py",
   "mimetype": "text/x-python",
   "name": "python",
   "nbconvert_exporter": "python",
   "pygments_lexer": "ipython3",
   "version": "3.7.4"
  }
 },
 "nbformat": 4,
 "nbformat_minor": 2
}
